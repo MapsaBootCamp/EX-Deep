{
 "cells": [
  {
   "cell_type": "markdown",
   "metadata": {},
   "source": [
    "1. You have been given a partially implemented code for a feed-forward neural network using PyTorch. Your task is to complete the missing parts of the code to make it functional."
   ]
  },
  {
   "cell_type": "code",
   "execution_count": 1,
   "metadata": {},
   "outputs": [
    {
     "name": "stdout",
     "output_type": "stream",
     "text": [
      "Epoch: 100/1000, Loss: 1.5867146253585815\n",
      "Epoch: 100/1000, Loss: 1.6222254037857056\n",
      "Epoch: 100/1000, Loss: 1.6302237510681152\n",
      "Epoch: 100/1000, Loss: 1.6449151039123535\n",
      "Epoch: 100/1000, Loss: 1.559964895248413\n",
      "Epoch: 100/1000, Loss: 1.6261682510375977\n",
      "Epoch: 100/1000, Loss: 1.612883448600769\n",
      "Epoch: 100/1000, Loss: 1.595059871673584\n",
      "Epoch: 100/1000, Loss: 1.660547137260437\n",
      "Epoch: 100/1000, Loss: 1.5427895784378052\n",
      "Epoch: 100/1000, Loss: 1.565189242362976\n",
      "Epoch: 100/1000, Loss: 1.6271344423294067\n",
      "Epoch: 100/1000, Loss: 1.552393913269043\n",
      "Epoch: 200/1000, Loss: 1.5915626287460327\n",
      "Epoch: 200/1000, Loss: 1.599044680595398\n",
      "Epoch: 200/1000, Loss: 1.630333662033081\n",
      "Epoch: 200/1000, Loss: 1.6451247930526733\n",
      "Epoch: 200/1000, Loss: 1.549209713935852\n",
      "Epoch: 200/1000, Loss: 1.6121277809143066\n",
      "Epoch: 200/1000, Loss: 1.5983821153640747\n",
      "Epoch: 200/1000, Loss: 1.582897424697876\n",
      "Epoch: 200/1000, Loss: 1.6544421911239624\n",
      "Epoch: 200/1000, Loss: 1.5279253721237183\n",
      "Epoch: 200/1000, Loss: 1.5589934587478638\n",
      "Epoch: 200/1000, Loss: 1.6184663772583008\n",
      "Epoch: 200/1000, Loss: 1.5160753726959229\n",
      "Epoch: 300/1000, Loss: 1.5937297344207764\n",
      "Epoch: 300/1000, Loss: 1.5815315246582031\n",
      "Epoch: 300/1000, Loss: 1.629495620727539\n",
      "Epoch: 300/1000, Loss: 1.6436808109283447\n",
      "Epoch: 300/1000, Loss: 1.542334794998169\n",
      "Epoch: 300/1000, Loss: 1.5993019342422485\n",
      "Epoch: 300/1000, Loss: 1.5880542993545532\n",
      "Epoch: 300/1000, Loss: 1.5725542306900024\n",
      "Epoch: 300/1000, Loss: 1.6525263786315918\n",
      "Epoch: 300/1000, Loss: 1.516478180885315\n",
      "Epoch: 300/1000, Loss: 1.5521178245544434\n",
      "Epoch: 300/1000, Loss: 1.6107584238052368\n",
      "Epoch: 300/1000, Loss: 1.4911600351333618\n",
      "Epoch: 400/1000, Loss: 1.5936018228530884\n",
      "Epoch: 400/1000, Loss: 1.5696436166763306\n",
      "Epoch: 400/1000, Loss: 1.6286890506744385\n",
      "Epoch: 400/1000, Loss: 1.6412135362625122\n",
      "Epoch: 400/1000, Loss: 1.5333155393600464\n",
      "Epoch: 400/1000, Loss: 1.5881742238998413\n",
      "Epoch: 400/1000, Loss: 1.5778191089630127\n",
      "Epoch: 400/1000, Loss: 1.5654890537261963\n",
      "Epoch: 400/1000, Loss: 1.6531696319580078\n",
      "Epoch: 400/1000, Loss: 1.5056788921356201\n",
      "Epoch: 400/1000, Loss: 1.5442862510681152\n",
      "Epoch: 400/1000, Loss: 1.6055588722229004\n",
      "Epoch: 400/1000, Loss: 1.4704238176345825\n",
      "Epoch: 500/1000, Loss: 1.591963529586792\n",
      "Epoch: 500/1000, Loss: 1.560246229171753\n",
      "Epoch: 500/1000, Loss: 1.6250474452972412\n",
      "Epoch: 500/1000, Loss: 1.6378674507141113\n",
      "Epoch: 500/1000, Loss: 1.526545763015747\n",
      "Epoch: 500/1000, Loss: 1.5767064094543457\n",
      "Epoch: 500/1000, Loss: 1.5686649084091187\n",
      "Epoch: 500/1000, Loss: 1.5560781955718994\n",
      "Epoch: 500/1000, Loss: 1.6538745164871216\n",
      "Epoch: 500/1000, Loss: 1.4931485652923584\n",
      "Epoch: 500/1000, Loss: 1.5366522073745728\n",
      "Epoch: 500/1000, Loss: 1.5957961082458496\n",
      "Epoch: 500/1000, Loss: 1.4534815549850464\n",
      "Epoch: 600/1000, Loss: 1.590924859046936\n",
      "Epoch: 600/1000, Loss: 1.549749493598938\n",
      "Epoch: 600/1000, Loss: 1.6231791973114014\n",
      "Epoch: 600/1000, Loss: 1.6371468305587769\n",
      "Epoch: 600/1000, Loss: 1.5127108097076416\n",
      "Epoch: 600/1000, Loss: 1.5676090717315674\n",
      "Epoch: 600/1000, Loss: 1.559732437133789\n",
      "Epoch: 600/1000, Loss: 1.5479183197021484\n",
      "Epoch: 600/1000, Loss: 1.6559678316116333\n",
      "Epoch: 600/1000, Loss: 1.4756250381469727\n",
      "Epoch: 600/1000, Loss: 1.5291242599487305\n",
      "Epoch: 600/1000, Loss: 1.5784050226211548\n",
      "Epoch: 600/1000, Loss: 1.43963623046875\n",
      "Epoch: 700/1000, Loss: 1.588805079460144\n",
      "Epoch: 700/1000, Loss: 1.5412756204605103\n",
      "Epoch: 700/1000, Loss: 1.6200597286224365\n",
      "Epoch: 700/1000, Loss: 1.6362252235412598\n",
      "Epoch: 700/1000, Loss: 1.4967830181121826\n",
      "Epoch: 700/1000, Loss: 1.5616859197616577\n",
      "Epoch: 700/1000, Loss: 1.5507242679595947\n",
      "Epoch: 700/1000, Loss: 1.5408473014831543\n",
      "Epoch: 700/1000, Loss: 1.6579818725585938\n",
      "Epoch: 700/1000, Loss: 1.4610720872879028\n",
      "Epoch: 700/1000, Loss: 1.5210641622543335\n",
      "Epoch: 700/1000, Loss: 1.5634739398956299\n",
      "Epoch: 700/1000, Loss: 1.4251357316970825\n",
      "Epoch: 800/1000, Loss: 1.5869625806808472\n",
      "Epoch: 800/1000, Loss: 1.5348563194274902\n",
      "Epoch: 800/1000, Loss: 1.6170557737350464\n",
      "Epoch: 800/1000, Loss: 1.6360609531402588\n",
      "Epoch: 800/1000, Loss: 1.480648159980774\n",
      "Epoch: 800/1000, Loss: 1.55515456199646\n",
      "Epoch: 800/1000, Loss: 1.537588357925415\n",
      "Epoch: 800/1000, Loss: 1.530798077583313\n",
      "Epoch: 800/1000, Loss: 1.6580142974853516\n",
      "Epoch: 800/1000, Loss: 1.4450799226760864\n",
      "Epoch: 800/1000, Loss: 1.5148546695709229\n",
      "Epoch: 800/1000, Loss: 1.5454312562942505\n",
      "Epoch: 800/1000, Loss: 1.4155313968658447\n",
      "Epoch: 900/1000, Loss: 1.5898499488830566\n",
      "Epoch: 900/1000, Loss: 1.5332918167114258\n",
      "Epoch: 900/1000, Loss: 1.6015037298202515\n",
      "Epoch: 900/1000, Loss: 1.6410980224609375\n",
      "Epoch: 900/1000, Loss: 1.463241696357727\n",
      "Epoch: 900/1000, Loss: 1.5526925325393677\n",
      "Epoch: 900/1000, Loss: 1.5126737356185913\n",
      "Epoch: 900/1000, Loss: 1.5222997665405273\n",
      "Epoch: 900/1000, Loss: 1.6448122262954712\n",
      "Epoch: 900/1000, Loss: 1.4288965463638306\n",
      "Epoch: 900/1000, Loss: 1.5112372636795044\n",
      "Epoch: 900/1000, Loss: 1.5264250040054321\n",
      "Epoch: 900/1000, Loss: 1.3794786930084229\n",
      "Epoch: 1000/1000, Loss: 1.5921423435211182\n",
      "Epoch: 1000/1000, Loss: 1.5374964475631714\n",
      "Epoch: 1000/1000, Loss: 1.5693936347961426\n",
      "Epoch: 1000/1000, Loss: 1.6472338438034058\n",
      "Epoch: 1000/1000, Loss: 1.4379428625106812\n",
      "Epoch: 1000/1000, Loss: 1.5504454374313354\n",
      "Epoch: 1000/1000, Loss: 1.4887034893035889\n",
      "Epoch: 1000/1000, Loss: 1.5158660411834717\n",
      "Epoch: 1000/1000, Loss: 1.6312001943588257\n",
      "Epoch: 1000/1000, Loss: 1.4125057458877563\n",
      "Epoch: 1000/1000, Loss: 1.5005992650985718\n",
      "Epoch: 1000/1000, Loss: 1.5111416578292847\n",
      "Epoch: 1000/1000, Loss: 1.3472343683242798\n",
      "Predictions: tensor([4, 2, 2, 3, 2, 2, 4, 2, 4, 4])\n"
     ]
    }
   ],
   "source": [
    "import torch\n",
    "import torch.nn as nn\n",
    "import torch.optim as optim\n",
    "\n",
    "# Define the neural network architecture\n",
    "class NeuralNetwork(nn.Module):\n",
    "    def __init__(self, input_size, hidden_size, output_size):\n",
    "        super(NeuralNetwork, self).__init__()\n",
    "        self.fc1 = nn.Linear(input_size, hidden_size)\n",
    "        self.relu = nn.ReLU()\n",
    "        self.fc2 = nn.Linear(hidden_size, output_size)\n",
    "\n",
    "    def forward(self, x):\n",
    "        x = self.fc1(x)\n",
    "        x = self.relu(x)\n",
    "        x = self.fc2(x)\n",
    "        x = self.relu(x)\n",
    "        return x\n",
    "\n",
    "# Define the hyperparameters\n",
    "input_size = 10\n",
    "hidden_size = 20\n",
    "label_size = 5\n",
    "learning_rate = 0.001\n",
    "num_epochs = 1000\n",
    "\n",
    "batch_size = 8\n",
    "# Create the neural network object\n",
    "model = NeuralNetwork(input_size, hidden_size, label_size)\n",
    "\n",
    "# Define the loss function and optimizer\n",
    "criterion = nn.CrossEntropyLoss()\n",
    "optimizer = optim.SGD(model.parameters(), lr=learning_rate)\n",
    "\n",
    "# Generate some dummy data for training\n",
    "train_data = torch.randn(100, input_size)\n",
    "train_labels = torch.randint(label_size, (100,))\n",
    "\n",
    "# Training loop\n",
    "for epoch in range(num_epochs):\n",
    "    # Forward pass\n",
    "    for batch in range(0, len(train_data), batch_size):\n",
    "    # Complete this line to pass the training data through the model and obtain the predictions\n",
    "        x_batch = train_data[batch : batch + batch_size]\n",
    "        y_batch = train_labels[batch : batch + batch_size]\n",
    "        outputs = model(x_batch)\n",
    "\n",
    "    # Compute the loss\n",
    "        loss = criterion(outputs, y_batch)\n",
    "\n",
    "    # Backward and optimize\n",
    "        optimizer.zero_grad()\n",
    "        loss.backward()\n",
    "        optimizer.step()\n",
    "\n",
    "        if (epoch+1) % 100 == 0:\n",
    "            print(f'Epoch: {epoch+1}/{num_epochs}, Loss: {loss.item()}')\n",
    "\n",
    "# Test the trained model\n",
    "test_data = torch.randn(10, input_size)\n",
    "with torch.no_grad():\n",
    "    # Complete this line to pass the test data through the model and obtain the predictions\n",
    "    test_outputs = model(test_data)\n",
    "\n",
    "    # Print the predictions\n",
    "    _, predicted = torch.max(test_outputs.data, 1)\n",
    "    print(\"Predictions:\", predicted)"
   ]
  },
  {
   "cell_type": "markdown",
   "metadata": {},
   "source": [
    "2. In this coding exercise, you need to implement the training of a deep MLP on the MNIST dataset using PyTorch and manually tune the hyperparameters. Follow the steps below to proceed:"
   ]
  },
  {
   "cell_type": "markdown",
   "metadata": {},
   "source": [
    "* Load the MNIST dataset using torchvision.datasets.MNIST. The dataset contains handwritten digit images, and it can be easily accessed through PyTorch's torchvision module."
   ]
  },
  {
   "cell_type": "markdown",
   "metadata": {},
   "source": [
    "## Import the necessary libraries"
   ]
  },
  {
   "cell_type": "code",
   "execution_count": 2,
   "metadata": {},
   "outputs": [
    {
     "data": {
      "text/plain": [
       "<torch._C.Generator at 0x7fe55837ebb0>"
      ]
     },
     "execution_count": 2,
     "metadata": {},
     "output_type": "execute_result"
    }
   ],
   "source": [
    "import torch\n",
    "import torch.nn as nn\n",
    "import torch.optim as optim\n",
    "from torch.utils.data import DataLoader\n",
    "from torchvision import datasets\n",
    "from torchvision.transforms import ToTensor\n",
    "from torch.utils.data import random_split\n",
    "import matplotlib.pyplot as plt\n",
    "import numpy as np\n",
    "torch.random.manual_seed(42)"
   ]
  },
  {
   "cell_type": "markdown",
   "metadata": {},
   "source": [
    "## Load the MNIST dataset"
   ]
  },
  {
   "cell_type": "code",
   "execution_count": 3,
   "metadata": {},
   "outputs": [],
   "source": [
    "# Load the MNIST dataset\n",
    "train_data = datasets.MNIST(root=\".\", train=True, download=True, transform=ToTensor())\n",
    "test_data = datasets.MNIST(root=\".\", train=False, download=True, transform=ToTensor())"
   ]
  },
  {
   "cell_type": "markdown",
   "metadata": {},
   "source": [
    "## Dataset Batching"
   ]
  },
  {
   "cell_type": "code",
   "execution_count": 4,
   "metadata": {},
   "outputs": [],
   "source": [
    "batch_size = 256\n",
    "#  Create data loaders\n",
    "train_loader = DataLoader(train_data, batch_size=batch_size, shuffle=True)\n",
    "test_loader = DataLoader(test_data, batch_size=batch_size, shuffle=True)"
   ]
  },
  {
   "cell_type": "markdown",
   "metadata": {},
   "source": [
    "* Define your deep MLP model. Specify the number of hidden layers, the number of neurons in each layer, and the activation function to be used. You can use the nn.Sequential container to stack the layers."
   ]
  },
  {
   "cell_type": "markdown",
   "metadata": {},
   "source": [
    "## Create the model architecture"
   ]
  },
  {
   "cell_type": "code",
   "execution_count": 5,
   "metadata": {},
   "outputs": [],
   "source": [
    "class MLP(nn.Module):\n",
    "    def __init__(self, features_num: int, labels_num: int):\n",
    "        super().__init__()\n",
    "        # TODO\n",
    "        self.flatten = nn.Flatten()\n",
    "        self.act = nn.ReLU()\n",
    "        self.act_output = nn.Softmax()\n",
    "        # nn.LogSoftmax(dim=1)\n",
    "        self.bn_H1 = nn.BatchNorm1d(30)\n",
    "        self.bn_H2 = nn.BatchNorm1d(20)\n",
    "        self.bn_input = nn.BatchNorm1d(features_num)\n",
    "        self.bn_output = nn.BatchNorm1d(10)\n",
    "        self.layer_H1 = nn.Linear(features_num, 30) \n",
    "        self.layer_H2 = nn.Linear(30, 20)\n",
    "        self.layer_output = nn.Linear(20, labels_num)\n",
    "        \n",
    "    def forward(self, x):\n",
    "        x = self.flatten(x)\n",
    "        x = self.bn_input(x)\n",
    "        x = self.act(self.bn_H1(self.layer_H1(x)))\n",
    "        x = self.act(self.bn_H2(self.layer_H2(x)))\n",
    "        x = self.act_output(self.bn_output(self.layer_output(x)))\n",
    "        return x"
   ]
  },
  {
   "cell_type": "markdown",
   "metadata": {},
   "source": [
    "* Set up the training loop and the hyperparameters. You can use the CrossEntropyLoss as the loss function and the Stochastic Gradient Descent (SGD) optimizer."
   ]
  },
  {
   "cell_type": "markdown",
   "metadata": {},
   "source": [
    "## Set the hyperparameters"
   ]
  },
  {
   "cell_type": "code",
   "execution_count": 6,
   "metadata": {},
   "outputs": [],
   "source": [
    "learning_rate = 4.86E-03    # Note: The LR suggestion\n",
    "epochs = 100"
   ]
  },
  {
   "cell_type": "markdown",
   "metadata": {},
   "source": [
    "## Create an instance of the model"
   ]
  },
  {
   "cell_type": "code",
   "execution_count": 7,
   "metadata": {},
   "outputs": [],
   "source": [
    "# Create an instance of the model\n",
    "model_MNIST = MLP(784, 10)"
   ]
  },
  {
   "cell_type": "markdown",
   "metadata": {},
   "source": [
    "## Set the loss function and optimizer"
   ]
  },
  {
   "cell_type": "code",
   "execution_count": 76,
   "metadata": {},
   "outputs": [],
   "source": [
    "criterion = nn.CrossEntropyLoss()  \n",
    "optimizer = optim.SGD(model_MNIST.parameters(), lr = learning_rate, momentum=0.5)"
   ]
  },
  {
   "cell_type": "markdown",
   "metadata": {},
   "source": [
    "* Train the model by iterating over the training dataset for the specified number of epochs. Compute the loss, perform backpropagation, and update the model's parameters. "
   ]
  },
  {
   "cell_type": "markdown",
   "metadata": {},
   "source": [
    "## Training loop"
   ]
  },
  {
   "cell_type": "code",
   "execution_count": 60,
   "metadata": {},
   "outputs": [],
   "source": [
    "# Training loop\n",
    "for epoch in range(epochs):\n",
    "    # print(f'EPOCH {epoch + 1}:')\n",
    "    for images, labels in train_loader:\n",
    "#         # Flatten the images\n",
    "        images = images.view(-1, 784)\n",
    "        predic_labels = model_MNIST(images)\n",
    "#         # Zero the gradients\n",
    "        optimizer.zero_grad()\n",
    "#         # Forward pass\n",
    "        loss = criterion(predic_labels, labels)\n",
    "#         # Backward pass and optimization\n",
    "        loss.backward()\n",
    "        optimizer.step()\n",
    "    # print(f'loss: {loss}')"
   ]
  },
  {
   "cell_type": "markdown",
   "metadata": {},
   "source": [
    "* Evaluate the trained model on the test dataset and calculate the accuracy (Please take a moment to consider the code below!)"
   ]
  },
  {
   "cell_type": "markdown",
   "metadata": {},
   "source": [
    "## Evaluation the model"
   ]
  },
  {
   "cell_type": "code",
   "execution_count": 61,
   "metadata": {},
   "outputs": [
    {
     "name": "stdout",
     "output_type": "stream",
     "text": [
      "Accuracy: 96.14%\n"
     ]
    }
   ],
   "source": [
    "# Evaluation\n",
    "correct = 0\n",
    "total = 0\n",
    "with torch.no_grad():\n",
    "    for images, labels in test_loader:\n",
    "        images = images.view(-1, 784)\n",
    "        outputs = model_MNIST(images)\n",
    "        _, predicted = torch.max(outputs.data, 1)\n",
    "        total += labels.size(0)\n",
    "        correct += (predicted == labels).sum().item()\n",
    "\n",
    "accuracy = 100 * correct / total\n",
    "print(\"Accuracy: {:.2f}%\".format(accuracy))"
   ]
  },
  {
   "cell_type": "markdown",
   "metadata": {},
   "source": [
    "* Manually tune the hyperparameters, such as the learning rate, by experimenting with different values and observing the performance. You can also search for the optimal learning rate by using techniques like learning rate range test, where you gradually increase the learning rate and monitor the loss."
   ]
  },
  {
   "cell_type": "markdown",
   "metadata": {},
   "source": [
    "## Identify an appropriate learning rate (LRFinder approach)"
   ]
  },
  {
   "cell_type": "code",
   "execution_count": 45,
   "metadata": {},
   "outputs": [
    {
     "name": "stderr",
     "output_type": "stream",
     "text": [
      "/home/ubuntu/Machine Learning Bootcamp/ML Advanced/DL_venv/lib/python3.10/site-packages/torch_lr_finder/lr_finder.py:5: TqdmWarning: IProgress not found. Please update jupyter and ipywidgets. See https://ipywidgets.readthedocs.io/en/stable/user_install.html\n",
      "  from tqdm.autonotebook import tqdm\n"
     ]
    }
   ],
   "source": [
    "try:\n",
    "    from torch_lr_finder import LRFinder\n",
    "except ImportError:\n",
    "    # Run from source\n",
    "    import sys\n",
    "    sys.path.insert(0, '..')\n",
    "    from torch_lr_finder import LRFinder"
   ]
  },
  {
   "cell_type": "code",
   "execution_count": 58,
   "metadata": {},
   "outputs": [
    {
     "name": "stderr",
     "output_type": "stream",
     "text": [
      "100%|█████████████████████████████████████████| 100/100 [00:01<00:00, 81.62it/s]\n"
     ]
    },
    {
     "name": "stdout",
     "output_type": "stream",
     "text": [
      "Learning rate search finished. See the graph with {finder_name}.plot()\n",
      "LR suggestion: steepest gradient\n",
      "Suggested LR: 4.86E-03\n"
     ]
    },
    {
     "data": {
      "image/png": "[encoded data removed]",
      "text/plain": [
       "<Figure size 640x480 with 1 Axes>"
      ]
     },
     "metadata": {},
     "output_type": "display_data"
    }
   ],
   "source": [
    "lr_finder = LRFinder(model_MNIST, optimizer, criterion)\n",
    "lr_finder.range_test(train_loader, end_lr=10, num_iter=100, step_mode=\"exp\")\n",
    "lr_finder.plot()\n",
    "lr_finder.reset()"
   ]
  },
  {
   "cell_type": "markdown",
   "metadata": {},
   "source": [
    "3. In this coding exercise, you'll have an opportunity to explore the behavior of a deep neural network trained on the CIFAR10 image dataset. Follow the steps below:\n",
    "\n",
    "* a. Construct a deep neural network (DNN) using 20 hidden layers, each comprising 100 neurons. To facilitate this exploration, employ the Swish activation function for each layer. Utilize nn.ModuleList to manage the layers effectively.\n",
    "\n",
    "* b. Load the CIFAR10 dataset for training your network. Utilize the appropriate function, such as torchvision.datasets.CIFAR10. The dataset consists of 60,000 color images, with dimensions of 32×32 pixels. It is divided into 50,000 training samples and 10,000 testing samples. With 10 classes in the dataset, ensure that your network has a softmax output layer comprising 10 neurons. When modifying the model's architecture or hyperparameters, conduct a search to identify an appropriate learning rate. Implement early stopping during training and employ the Nadam optimization algorithm.\n",
    "\n",
    "* c. Experiment by adding batch normalization to your network. Compare the learning curves obtained with and without batch normalization. Analyze whether the model converges faster with batch normalization and observe any improvements in its performance. Additionally, assess the impact of batch normalization on training speed.\n",
    "\n",
    "* d. As an additional experiment, substitute batch normalization with SELU (Scaled Exponential Linear Units). Make the necessary adjustments to ensure the network self-normalizes. This involves standardizing the input features, initializing the network's weights using LeCun normal initialization (nn.init.kaiming_normal_), and ensuring that the DNN consists solely of dense layers. Observe the effects of utilizing SELU activation and self-normalization on the network's training stability and performance."
   ]
  },
  {
   "cell_type": "markdown",
   "metadata": {},
   "source": [
    "## Load the CIFAR10 dataset\n",
    "  ###  Splitting dataset to the train, validation, and test subsets"
   ]
  },
  {
   "cell_type": "code",
   "execution_count": 31,
   "metadata": {},
   "outputs": [
    {
     "name": "stdout",
     "output_type": "stream",
     "text": [
      "Files already downloaded and verified\n",
      "Files already downloaded and verified\n"
     ]
    }
   ],
   "source": [
    "from torchvision import transforms\n",
    "\n",
    "transform = transforms.Compose([transforms.ToTensor(), transforms.Normalize(mean=(0.1307), std=(0.3081,))])\n",
    "\n",
    "train_val_CIFAR10 = datasets.CIFAR10(root=\".\", train=True, download=True, transform=transform)\n",
    "test_CIFAR10 = datasets.CIFAR10(root=\".\", train=False, download=True, transform=transform)\n",
    "\n",
    "train_CIFAR10, val_CIFAR10= random_split(train_val_CIFAR10, [40000, 10000])"
   ]
  },
  {
   "cell_type": "markdown",
   "metadata": {},
   "source": [
    "## Dataset Batching"
   ]
  },
  {
   "cell_type": "code",
   "execution_count": 32,
   "metadata": {},
   "outputs": [],
   "source": [
    "# Create data loaders\n",
    "batch_size_ = 256\n",
    "\n",
    "train_loader_ = DataLoader(train_CIFAR10, batch_size=batch_size_, shuffle=True)\n",
    "val_loader_ = DataLoader(val_CIFAR10, batch_size=batch_size_, shuffle=True)\n",
    "test_loader_ = DataLoader(test_CIFAR10, batch_size=batch_size_, shuffle=True)"
   ]
  },
  {
   "cell_type": "markdown",
   "metadata": {},
   "source": [
    "## Define the Swish Function"
   ]
  },
  {
   "cell_type": "code",
   "execution_count": 33,
   "metadata": {},
   "outputs": [],
   "source": [
    " class Swish(nn.Module):\n",
    "    def forward(self, x):\n",
    "        return x * torch.sigmoid(x)"
   ]
  },
  {
   "cell_type": "markdown",
   "metadata": {},
   "source": [
    "# Create the model architecture (with batch normalization)"
   ]
  },
  {
   "cell_type": "code",
   "execution_count": 34,
   "metadata": {},
   "outputs": [],
   "source": [
    "# Creating the network architecture with batch normalization\n",
    "class CIFAR10_NN_bn(nn.Module):\n",
    "    def __init__(self, features_num: int, labels_num: int, hidden_num: int, hidden_width: int, *args, **kwargs) -> None:\n",
    "        super().__init__(*args, **kwargs)\n",
    "        \n",
    "        self.flatten = nn.Flatten()\n",
    "        self.inputLayer = nn.Linear(features_num, hidden_width)\n",
    "        self.swish = Swish()\n",
    "        \n",
    "        self.hiddenLayers = []\n",
    "        for i in range(hidden_num):\n",
    "            self.hiddenLayers.append(nn.Linear(hidden_width, hidden_width))\n",
    "            \n",
    "        self.hiddenLayers = nn.ModuleList(self.hiddenLayers)  # <--- causes DRAMATIC slowdown!\n",
    "        self.bn_hiddenLayers = nn.BatchNorm1d(hidden_width)\n",
    "        \n",
    "        self.outputLayer = nn.Linear(hidden_width, labels_num)\n",
    "        self.soft = nn.Softmax(dim = 1)\n",
    "        \n",
    "    def forward(self, x):\n",
    "        x = self.flatten(x)\n",
    "        x = self.swish(self.inputLayer(x))\n",
    "            \n",
    "        for layer in self.hiddenLayers:\n",
    "            x = self.swish(self.bn_hiddenLayers(layer(x)))\n",
    "\n",
    "        return self.soft(self.outputLayer(x))"
   ]
  },
  {
   "cell_type": "markdown",
   "metadata": {},
   "source": [
    "## Set the hyperparameters"
   ]
  },
  {
   "cell_type": "code",
   "execution_count": null,
   "metadata": {},
   "outputs": [],
   "source": [
    "learning_rate_ = 0.001\n",
    "epochs_ = 100"
   ]
  },
  {
   "cell_type": "markdown",
   "metadata": {},
   "source": [
    "## Create an instance of the model"
   ]
  },
  {
   "cell_type": "code",
   "execution_count": 39,
   "metadata": {},
   "outputs": [],
   "source": [
    "\n",
    "model_CIFAR10_bn = CIFAR10_NN_bn(32 * 32 * 3, 10, 20, 100)"
   ]
  },
  {
   "cell_type": "markdown",
   "metadata": {},
   "source": [
    "## Set the loss function and optimizer"
   ]
  },
  {
   "cell_type": "code",
   "execution_count": 40,
   "metadata": {},
   "outputs": [],
   "source": [
    "criterion = nn.CrossEntropyLoss()  \n",
    "optimizer_ = optim.NAdam(model_CIFAR10_bn.parameters(), lr = learning_rate_)"
   ]
  },
  {
   "cell_type": "markdown",
   "metadata": {},
   "source": []
  },
  {
   "cell_type": "markdown",
   "metadata": {},
   "source": [
    "## Training loop with batch normalization"
   ]
  },
  {
   "cell_type": "code",
   "execution_count": 41,
   "metadata": {},
   "outputs": [],
   "source": [
    "# to track the training loss as the model trains\n",
    "train_losses_bn = []\n",
    "# to track the average training loss per epoch as the model trains\n",
    "avg_train_losses_bn = []\n",
    "\n",
    "# training loop\n",
    "for epoch_ in range(epochs_):\n",
    "    # print(f'EPOCH {epoch + 1}:')\n",
    "    for images, labels in train_loader_:\n",
    "        # Flatten the images\n",
    "        images = images.view(-1, 32 * 32 * 3)\n",
    "        predic_labels = model_CIFAR10_bn(images)\n",
    "        # Zero the gradients\n",
    "        optimizer_.zero_grad()\n",
    "        # Forward pass\n",
    "        loss_bn = criterion(predic_labels, labels)\n",
    "        # Backward pass and optimization\n",
    "        loss_bn.backward()\n",
    "        optimizer_.step()\n",
    "        # record training loss\n",
    "        train_losses_bn.append(loss_bn.item())\n",
    "    # print(f'loss: {loss}')\n",
    "        \n",
    "# calculate average loss over an epoch\n",
    "    train_loss_bn = np.average(train_losses_bn)\n",
    "    avg_train_losses_bn.append(train_loss_bn)"
   ]
  },
  {
   "cell_type": "markdown",
   "metadata": {},
   "source": [
    "## Evaluation the model"
   ]
  },
  {
   "cell_type": "code",
   "execution_count": 43,
   "metadata": {},
   "outputs": [
    {
     "name": "stdout",
     "output_type": "stream",
     "text": [
      "Accuracy: 48.48%\n"
     ]
    }
   ],
   "source": [
    "# Evaluation the model with batch normalization\n",
    "correct = 0\n",
    "total = 0\n",
    "with torch.no_grad():\n",
    "    for images, labels in test_loader_:\n",
    "        images = images.view(-1, 32*32*3)\n",
    "        outputs = model_CIFAR10_bn(images)\n",
    "        _, predicted = torch.max(outputs.data, 1)\n",
    "        total += labels.size(0)\n",
    "        correct += (predicted == labels).sum().item()\n",
    "\n",
    "accuracy = 100 * correct / total\n",
    "print(\"Accuracy: {:.2f}%\".format(accuracy))"
   ]
  },
  {
   "cell_type": "markdown",
   "metadata": {},
   "source": [
    "## Identify an appropriate learning rate (LRFinder approach)"
   ]
  },
  {
   "cell_type": "code",
   "execution_count": 46,
   "metadata": {},
   "outputs": [
    {
     "name": "stderr",
     "output_type": "stream",
     "text": [
      "  0%|          | 0/100 [00:00<?, ?it/s]"
     ]
    },
    {
     "name": "stderr",
     "output_type": "stream",
     "text": [
      "100%|██████████| 100/100 [00:04<00:00, 24.56it/s]\n"
     ]
    },
    {
     "name": "stdout",
     "output_type": "stream",
     "text": [
      "Learning rate search finished. See the graph with {finder_name}.plot()\n",
      "LR suggestion: steepest gradient\n",
      "Suggested LR: 2.54E-04\n"
     ]
    },
    {
     "data": {
      "image/png": "[encoded data removed]",
      "text/plain": [
       "<Figure size 640x480 with 1 Axes>"
      ]
     },
     "metadata": {},
     "output_type": "display_data"
    }
   ],
   "source": [
    "lr_finder_ = LRFinder(model_CIFAR10_bn, optimizer_, criterion)\n",
    "lr_finder_.range_test(train_loader_, end_lr = 1, num_iter = 100, step_mode=\"exp\")\n",
    "lr_finder_.plot()\n",
    "lr_finder_.reset()"
   ]
  },
  {
   "cell_type": "markdown",
   "metadata": {},
   "source": [
    "# Create the model architecture (without batch normalization)"
   ]
  },
  {
   "cell_type": "code",
   "execution_count": 96,
   "metadata": {},
   "outputs": [],
   "source": [
    "# Creating the network architecture without batch normalization\n",
    "class CIFAR10_NN_no_bn(nn.Module):\n",
    "    def __init__(self, features_num: int, labels_num: int, hidden_num: int, hidden_width: int, *args, **kwargs) -> None:\n",
    "        super().__init__(*args, **kwargs)\n",
    "        \n",
    "        self.flatten = nn.Flatten()\n",
    "        self.inputLayer = nn.Linear(features_num, hidden_width)\n",
    "        self.swish = Swish()\n",
    "        \n",
    "        self.hiddenLayers = []\n",
    "        for i in range(hidden_num):\n",
    "            self.hiddenLayers.append(nn.Linear(hidden_width, hidden_width))\n",
    "            \n",
    "        self.hiddenLayers = nn.ModuleList(self.hiddenLayers)  # <--- causes DRAMATIC slowdown!\n",
    "        \n",
    "        self.outputLayer = nn.Linear(hidden_width, labels_num)\n",
    "        self.soft = nn.Softmax(dim = 1)\n",
    "        \n",
    "    def forward(self, x):\n",
    "        x = self.flatten(x)\n",
    "        x = self.swish(self.inputLayer(x))\n",
    "            \n",
    "        for layer in self.hiddenLayers:\n",
    "            x = self.swish(layer(x))\n",
    "\n",
    "        return self.soft(self.outputLayer(x))"
   ]
  },
  {
   "cell_type": "markdown",
   "metadata": {},
   "source": [
    "## Create an instance of the model"
   ]
  },
  {
   "cell_type": "code",
   "execution_count": 97,
   "metadata": {},
   "outputs": [],
   "source": [
    "\n",
    "model_CIFAR10_no_bn = CIFAR10_NN_no_bn(32 * 32 * 3, 10, 20, 100)"
   ]
  },
  {
   "cell_type": "markdown",
   "metadata": {},
   "source": [
    "## Training loop without batch normalization"
   ]
  },
  {
   "cell_type": "code",
   "execution_count": 98,
   "metadata": {},
   "outputs": [],
   "source": [
    "# to track the training loss as the model trains\n",
    "train_losses_no_bn = []\n",
    "# to track the average training loss per epoch as the model trains\n",
    "avg_train_losses_no_bn = []\n",
    "\n",
    "# training loop\n",
    "for epoch_ in range(epochs_):\n",
    "    # print(f'EPOCH {epoch + 1}:')\n",
    "    for images, labels in train_loader_:\n",
    "        # Flatten the images\n",
    "        images = images.view(-1, 32 * 32 * 3)\n",
    "        predic_labels_ = model_CIFAR10_no_bn(images)\n",
    "        # Zero the gradients\n",
    "        optimizer_.zero_grad()\n",
    "        # Forward pass\n",
    "        loss_no_bn = criterion(predic_labels_, labels)\n",
    "        # Backward pass and optimization\n",
    "        loss_no_bn.backward()\n",
    "        optimizer_.step()\n",
    "        # record training loss\n",
    "        train_losses_no_bn.append(loss_no_bn.item())\n",
    "    # print(f'loss: {loss}')\n",
    "        \n",
    "# calculate average loss over an epoch\n",
    "    train_loss_no_bn = np.average(train_losses_no_bn)\n",
    "    avg_train_losses_no_bn.append(train_loss_no_bn)"
   ]
  },
  {
   "cell_type": "markdown",
   "metadata": {},
   "source": [
    "## Evaluation the model"
   ]
  },
  {
   "cell_type": "code",
   "execution_count": 99,
   "metadata": {},
   "outputs": [
    {
     "name": "stdout",
     "output_type": "stream",
     "text": [
      "Accuracy: 10.00%\n"
     ]
    }
   ],
   "source": [
    "# Evaluation the model without batch normalization \n",
    "correct = 0\n",
    "total = 0\n",
    "with torch.no_grad():\n",
    "    for images, labels in test_loader_:\n",
    "        images = images.view(-1, 32*32*3)\n",
    "        outputs = model_CIFAR10_no_bn(images)\n",
    "        _, predicted = torch.max(outputs.data, 1)\n",
    "        total += labels.size(0)\n",
    "        correct += (predicted == labels).sum().item()\n",
    "\n",
    "accuracy = 100 * correct / total\n",
    "print(\"Accuracy: {:.2f}%\".format(accuracy))"
   ]
  },
  {
   "cell_type": "markdown",
   "metadata": {},
   "source": [
    "## Identify an appropriate learning rate (LRFinder approach and without batch normalization)"
   ]
  },
  {
   "cell_type": "code",
   "execution_count": 100,
   "metadata": {},
   "outputs": [
    {
     "name": "stderr",
     "output_type": "stream",
     "text": [
      "  0%|          | 0/100 [00:00<?, ?it/s]"
     ]
    },
    {
     "name": "stderr",
     "output_type": "stream",
     "text": [
      "100%|██████████| 100/100 [00:03<00:00, 30.43it/s]\n"
     ]
    },
    {
     "name": "stdout",
     "output_type": "stream",
     "text": [
      "Learning rate search finished. See the graph with {finder_name}.plot()\n",
      "LR suggestion: steepest gradient\n",
      "Suggested LR: 7.05E-04\n"
     ]
    },
    {
     "data": {
      "image/png": "[encoded data removed]",
      "text/plain": [
       "<Figure size 640x480 with 1 Axes>"
      ]
     },
     "metadata": {},
     "output_type": "display_data"
    }
   ],
   "source": [
    "lr_finder_no_bn = LRFinder(model_CIFAR10_no_bn, optimizer_, criterion)\n",
    "lr_finder_no_bn.range_test(train_loader_, end_lr = 1, num_iter = 100, step_mode=\"exp\")\n",
    "lr_finder_no_bn.plot()\n",
    "lr_finder_no_bn.reset()"
   ]
  },
  {
   "cell_type": "markdown",
   "metadata": {},
   "source": [
    "## Comparing the performance of the model with and without batch normalization"
   ]
  },
  {
   "cell_type": "code",
   "execution_count": 106,
   "metadata": {},
   "outputs": [],
   "source": [
    "def plot_losses(losses, labels, title=None, figsize=(10, 5)):\n",
    "\n",
    "    fig, ax = plt.subplots(figsize=figsize)\n",
    "    for loss, label in zip(losses, labels):\n",
    "        ax.plot(loss, label=label)\n",
    "    ax.set_title(title)\n",
    "    ax.set_ylabel('Loss')\n",
    "    ax.set_xlabel('epoch')\n",
    "    ax.grid()"
   ]
  },
  {
   "cell_type": "code",
   "execution_count": 102,
   "metadata": {},
   "outputs": [
    {
     "data": {
      "image/png": "[encoded data removed]",
      "text/plain": [
       "<Figure size 1000x500 with 1 Axes>"
      ]
     },
     "metadata": {},
     "output_type": "display_data"
    }
   ],
   "source": [
    "losses = [avg_train_losses_bn, avg_train_losses_no_bn]\n",
    "labels = ['with batch normalization', 'without batch normalization']\n",
    "\n",
    "plot_losses(losses, labels)"
   ]
  },
  {
   "cell_type": "markdown",
   "metadata": {},
   "source": [
    "# Implementation early stopping (regularization technique)"
   ]
  },
  {
   "cell_type": "code",
   "execution_count": 75,
   "metadata": {},
   "outputs": [],
   "source": [
    "# import EarlyStopping\n",
    "from pytorchtools import EarlyStopping"
   ]
  },
  {
   "cell_type": "code",
   "execution_count": 76,
   "metadata": {},
   "outputs": [],
   "source": [
    "# train the model\n",
    "def model_earlystopping_tech(model, batch_size_, patience, epochs_):\n",
    "    \n",
    "    # to track the training loss as the model trains\n",
    "    train_losses = []\n",
    "    # to track the validation loss as the model trains\n",
    "    valid_losses = []\n",
    "    # to track the average training loss per epoch as the model trains\n",
    "    avg_train_losses = []\n",
    "    # to track the average validation loss per epoch as the model trains\n",
    "    avg_valid_losses = [] \n",
    "    \n",
    "    # initialize the early_stopping object\n",
    "    early_stopping = EarlyStopping(patience=patience, verbose=True)\n",
    "    \n",
    "    for epoch in range(1, epochs_ + 1):\n",
    "        # prep model for training\n",
    "        model.train() \n",
    "        for batch, (images, labels) in enumerate(train_loader_, 1):\n",
    "            images = images.view(-1, 32 * 32 * 3)\n",
    "            # clear the gradients of all optimized variables\n",
    "            optimizer_.zero_grad()\n",
    "            # forward pass: compute predicted outputs by passing inputs to the model\n",
    "            predic_labels = model(images)\n",
    "            # calculate the loss\n",
    "            loss_train = criterion(predic_labels, labels)\n",
    "            # backward pass: compute gradient of the loss with respect to model parameters\n",
    "            loss_train.backward()\n",
    "            # perform a single optimization step (parameter update)\n",
    "            optimizer_.step()\n",
    "            # record training loss\n",
    "            train_losses.append(loss_train.item())\n",
    "\n",
    "        # calculate average loss over an epoch\n",
    "        train_loss = np.average(train_losses)\n",
    "        avg_train_losses.append(train_loss)\n",
    "\n",
    "    \n",
    "        # validate the model \n",
    "        model.eval() # prep model for evaluation\n",
    "        for data, target in val_loader_:\n",
    "            # forward pass: compute predicted outputs by passing inputs to the model\n",
    "            output = model(data)\n",
    "            # calculate the loss\n",
    "            loss_val = criterion(output, target)\n",
    "            # record validation loss\n",
    "            valid_losses.append(loss_val.item())\n",
    "\n",
    "        # print training/validation statistics \n",
    "        # calculate average loss over an epoch\n",
    "        \n",
    "        valid_loss = np.average(valid_losses)\n",
    "        avg_valid_losses.append(valid_loss)\n",
    "        \n",
    "        epoch_len = len(str(epochs_))\n",
    "        \n",
    "        print_msg = (f'[{epoch:>{epoch_len}}/{epochs_:>{epoch_len}}] ' +\n",
    "                     f'train_loss: {train_loss:.5f} ' +\n",
    "                     f'valid_loss: {valid_loss:.5f}')\n",
    "        \n",
    "        print(print_msg)\n",
    "        \n",
    "        # clear lists to track next epoch\n",
    "        train_losses = []\n",
    "        valid_losses = []\n",
    "        \n",
    "        # early_stopping needs the validation loss to check if it has decresed, \n",
    "        # and if it has, it will make a checkpoint of the current model\n",
    "        early_stopping(valid_loss, model)\n",
    "        \n",
    "        if early_stopping.early_stop:\n",
    "            print(\"Early stopping\")\n",
    "            break\n",
    "            \n",
    "    # load the last checkpoint with the best model\n",
    "    model.load_state_dict(torch.load('checkpoint.pt'))\n",
    "    \n",
    "    return model, avg_train_losses, avg_valid_losses"
   ]
  },
  {
   "cell_type": "code",
   "execution_count": 77,
   "metadata": {},
   "outputs": [
    {
     "name": "stdout",
     "output_type": "stream",
     "text": [
      "[  1/100] train_loss: 1.74206 valid_loss: 2.26692\n",
      "Validation loss decreased (inf --> 2.266917).  Saving model ...\n",
      "[  2/100] train_loss: 1.74191 valid_loss: 2.26955\n",
      "EarlyStopping counter: 1 out of 50\n",
      "[  3/100] train_loss: 1.74040 valid_loss: 2.27142\n",
      "EarlyStopping counter: 2 out of 50\n",
      "[  4/100] train_loss: 1.74349 valid_loss: 2.26508\n",
      "Validation loss decreased (2.266917 --> 2.265078).  Saving model ...\n",
      "[  5/100] train_loss: 1.74063 valid_loss: 2.26561\n",
      "EarlyStopping counter: 1 out of 50\n",
      "[  6/100] train_loss: 1.73820 valid_loss: 2.27243\n",
      "EarlyStopping counter: 2 out of 50\n",
      "[  7/100] train_loss: 1.74041 valid_loss: 2.27260\n",
      "EarlyStopping counter: 3 out of 50\n",
      "[  8/100] train_loss: 1.73545 valid_loss: 2.26936\n",
      "EarlyStopping counter: 4 out of 50\n",
      "[  9/100] train_loss: 1.73398 valid_loss: 2.26932\n",
      "EarlyStopping counter: 5 out of 50\n",
      "[ 10/100] train_loss: 1.73618 valid_loss: 2.27193\n",
      "EarlyStopping counter: 6 out of 50\n",
      "[ 11/100] train_loss: 1.73541 valid_loss: 2.28010\n",
      "EarlyStopping counter: 7 out of 50\n",
      "[ 12/100] train_loss: 1.73712 valid_loss: 2.27806\n",
      "EarlyStopping counter: 8 out of 50\n",
      "[ 13/100] train_loss: 1.73660 valid_loss: 2.27267\n",
      "EarlyStopping counter: 9 out of 50\n",
      "[ 14/100] train_loss: 1.72842 valid_loss: 2.27063\n",
      "EarlyStopping counter: 10 out of 50\n",
      "[ 15/100] train_loss: 1.73303 valid_loss: 2.28235\n",
      "EarlyStopping counter: 11 out of 50\n",
      "[ 16/100] train_loss: 1.73168 valid_loss: 2.27420\n",
      "EarlyStopping counter: 12 out of 50\n",
      "[ 17/100] train_loss: 1.72960 valid_loss: 2.27603\n",
      "EarlyStopping counter: 13 out of 50\n",
      "[ 18/100] train_loss: 1.72877 valid_loss: 2.28411\n",
      "EarlyStopping counter: 14 out of 50\n",
      "[ 19/100] train_loss: 1.73061 valid_loss: 2.27423\n",
      "EarlyStopping counter: 15 out of 50\n",
      "[ 20/100] train_loss: 1.72464 valid_loss: 2.27888\n",
      "EarlyStopping counter: 16 out of 50\n",
      "[ 21/100] train_loss: 1.72913 valid_loss: 2.27950\n",
      "EarlyStopping counter: 17 out of 50\n",
      "[ 22/100] train_loss: 1.72480 valid_loss: 2.27617\n",
      "EarlyStopping counter: 18 out of 50\n",
      "[ 23/100] train_loss: 1.72562 valid_loss: 2.27203\n",
      "EarlyStopping counter: 19 out of 50\n",
      "[ 24/100] train_loss: 1.72112 valid_loss: 2.27864\n",
      "EarlyStopping counter: 20 out of 50\n",
      "[ 25/100] train_loss: 1.71978 valid_loss: 2.27925\n",
      "EarlyStopping counter: 21 out of 50\n",
      "[ 26/100] train_loss: 1.72299 valid_loss: 2.28040\n",
      "EarlyStopping counter: 22 out of 50\n",
      "[ 27/100] train_loss: 1.72147 valid_loss: 2.27682\n",
      "EarlyStopping counter: 23 out of 50\n",
      "[ 28/100] train_loss: 1.72141 valid_loss: 2.27930\n",
      "EarlyStopping counter: 24 out of 50\n",
      "[ 29/100] train_loss: 1.72295 valid_loss: 2.27841\n",
      "EarlyStopping counter: 25 out of 50\n",
      "[ 30/100] train_loss: 1.71949 valid_loss: 2.27712\n",
      "EarlyStopping counter: 26 out of 50\n",
      "[ 31/100] train_loss: 1.72082 valid_loss: 2.27896\n",
      "EarlyStopping counter: 27 out of 50\n",
      "[ 32/100] train_loss: 1.72354 valid_loss: 2.27673\n",
      "EarlyStopping counter: 28 out of 50\n",
      "[ 33/100] train_loss: 1.72220 valid_loss: 2.27859\n",
      "EarlyStopping counter: 29 out of 50\n",
      "[ 34/100] train_loss: 1.71850 valid_loss: 2.27794\n",
      "EarlyStopping counter: 30 out of 50\n",
      "[ 35/100] train_loss: 1.71845 valid_loss: 2.27580\n",
      "EarlyStopping counter: 31 out of 50\n",
      "[ 36/100] train_loss: 1.71785 valid_loss: 2.27739\n",
      "EarlyStopping counter: 32 out of 50\n",
      "[ 37/100] train_loss: 1.71994 valid_loss: 2.27483\n",
      "EarlyStopping counter: 33 out of 50\n",
      "[ 38/100] train_loss: 1.71778 valid_loss: 2.27509\n",
      "EarlyStopping counter: 34 out of 50\n",
      "[ 39/100] train_loss: 1.71688 valid_loss: 2.27820\n",
      "EarlyStopping counter: 35 out of 50\n",
      "[ 40/100] train_loss: 1.71498 valid_loss: 2.28172\n",
      "EarlyStopping counter: 36 out of 50\n",
      "[ 41/100] train_loss: 1.71582 valid_loss: 2.27952\n",
      "EarlyStopping counter: 37 out of 50\n",
      "[ 42/100] train_loss: 1.71375 valid_loss: 2.27886\n",
      "EarlyStopping counter: 38 out of 50\n",
      "[ 43/100] train_loss: 1.71042 valid_loss: 2.28026\n",
      "EarlyStopping counter: 39 out of 50\n",
      "[ 44/100] train_loss: 1.71075 valid_loss: 2.27728\n",
      "EarlyStopping counter: 40 out of 50\n",
      "[ 45/100] train_loss: 1.71454 valid_loss: 2.28021\n",
      "EarlyStopping counter: 41 out of 50\n",
      "[ 46/100] train_loss: 1.71474 valid_loss: 2.27966\n",
      "EarlyStopping counter: 42 out of 50\n",
      "[ 47/100] train_loss: 1.71160 valid_loss: 2.27749\n",
      "EarlyStopping counter: 43 out of 50\n",
      "[ 48/100] train_loss: 1.71231 valid_loss: 2.27875\n",
      "EarlyStopping counter: 44 out of 50\n",
      "[ 49/100] train_loss: 1.71108 valid_loss: 2.28419\n",
      "EarlyStopping counter: 45 out of 50\n",
      "[ 50/100] train_loss: 1.71380 valid_loss: 2.27437\n",
      "EarlyStopping counter: 46 out of 50\n",
      "[ 51/100] train_loss: 1.71378 valid_loss: 2.27730\n",
      "EarlyStopping counter: 47 out of 50\n",
      "[ 52/100] train_loss: 1.70966 valid_loss: 2.27555\n",
      "EarlyStopping counter: 48 out of 50\n",
      "[ 53/100] train_loss: 1.71220 valid_loss: 2.28123\n",
      "EarlyStopping counter: 49 out of 50\n",
      "[ 54/100] train_loss: 1.70532 valid_loss: 2.28247\n",
      "EarlyStopping counter: 50 out of 50\n",
      "Early stopping\n"
     ]
    }
   ],
   "source": [
    "patience = 50\n",
    "\n",
    "model, train_loss, valid_loss = model_earlystopping_tech(model_CIFAR10_bn, batch_size_, patience, epochs_)"
   ]
  },
  {
   "cell_type": "code",
   "execution_count": 105,
   "metadata": {},
   "outputs": [
    {
     "data": {
      "image/png": "[encoded data removed]",
      "text/plain": [
       "<Figure size 600x400 with 1 Axes>"
      ]
     },
     "metadata": {},
     "output_type": "display_data"
    }
   ],
   "source": [
    "# visualize the loss as the network trained\n",
    "fig = plt.figure(figsize=(6, 4))\n",
    "plt.plot(range(1,len(train_loss)+1),train_loss, label='Training Loss')\n",
    "plt.plot(range(1,len(valid_loss)+1),valid_loss,label='Validation Loss')\n",
    "\n",
    "# find position of lowest validation loss\n",
    "minposs = valid_loss.index(min(valid_loss))+1 \n",
    "plt.axvline(minposs, linestyle='--', color='r',label='Early Stopping Checkpoint')\n",
    "\n",
    "plt.xlabel('epochs')\n",
    "plt.ylabel('loss')\n",
    "plt.ylim(1.7, 2.3) # consistent scale\n",
    "plt.xlim(0, len(train_loss)+1) # consistent scale\n",
    "plt.grid(True)\n",
    "plt.legend()\n",
    "plt.tight_layout()\n",
    "plt.show()"
   ]
  },
  {
   "cell_type": "markdown",
   "metadata": {},
   "source": [
    "# Implementation self normalization approach"
   ]
  },
  {
   "cell_type": "code",
   "execution_count": 114,
   "metadata": {},
   "outputs": [],
   "source": [
    "class CIFAR10_NN_self_norm(nn.Module):\n",
    "\n",
    "    def __init__(self, features_num: int, labels_num: int, hidden_num: int, hidden_width: int, *args, **kwargs) -> None:\n",
    "        super(*args, **kwargs).__init__()\n",
    "\n",
    "        self.flatten = nn.Flatten()\n",
    "        self.inputLayer = nn.Linear(features_num, hidden_width)    # <--- The input layer is dense.\n",
    "        self.selu = nn.SELU()   # <--- The activation function of SNNs are SELUs.\n",
    "        \n",
    "        self.hiddenLayers = []\n",
    "        for i in range(hidden_num):\n",
    "            self.hiddenLayers.append(nn.Linear(hidden_width, hidden_width))   # <--- The hidden layers are dense.\n",
    "            \n",
    "        self.hiddenLayers = nn.ModuleList(self.hiddenLayers)  \n",
    "        self.bn_hiddenLayers = nn.BatchNorm1d(hidden_width)\n",
    "        \n",
    "        self.outputLayer = nn.Linear(hidden_width, labels_num)\n",
    "        self.soft = nn.Softmax(dim = 1)\n",
    " \n",
    "        for param in self.parameters():   # <--- Initializing the network's parameters\n",
    "            # biases zero\n",
    "            if len(param.shape) == 1:   # if self.bias:\n",
    "                nn.init.constant_(param, 0)\n",
    "            # weights using lecun-normal initialization\n",
    "            else:\n",
    "                nn.init.kaiming_normal_(param, mode='fan_in', nonlinearity='linear')\n",
    "\n",
    "    def forward(self, x):\n",
    "        x = self.flatten(x)\n",
    "        x = self.selu(self.inputLayer(x))\n",
    "            \n",
    "        for layer in self.hiddenLayers:\n",
    "            x = self.selu(self.bn_hiddenLayers(layer(x)))\n",
    "        \n",
    "        return self.soft(self.outputLayer(x))"
   ]
  },
  {
   "cell_type": "code",
   "execution_count": 115,
   "metadata": {},
   "outputs": [],
   "source": [
    "model_self_norm = CIFAR10_NN_self_norm(32 * 32 * 3, 10, 20, 100)"
   ]
  },
  {
   "cell_type": "markdown",
   "metadata": {},
   "source": [
    "## Training Loop (SNN approach)"
   ]
  },
  {
   "cell_type": "code",
   "execution_count": 116,
   "metadata": {},
   "outputs": [],
   "source": [
    "# training loop\n",
    "for epoch_ in range(epochs_):\n",
    "    # print(f'EPOCH {epoch + 1}:')\n",
    "    for images, labels in train_loader_:\n",
    "        # Flatten the images\n",
    "        images = images.view(-1, 32 * 32 * 3)\n",
    "        predic_labels_snn = model_self_norm(images)\n",
    "        # Zero the gradients\n",
    "        optimizer_.zero_grad()\n",
    "        # Forward pass\n",
    "        loss_snn = criterion(predic_labels_snn, labels)\n",
    "        # Backward pass and optimization\n",
    "        loss_snn.backward()\n",
    "        optimizer_.step()\n",
    "    # print(f'loss: {loss}')"
   ]
  },
  {
   "cell_type": "markdown",
   "metadata": {},
   "source": [
    "## Evaluation the model"
   ]
  },
  {
   "cell_type": "code",
   "execution_count": 124,
   "metadata": {},
   "outputs": [
    {
     "name": "stdout",
     "output_type": "stream",
     "text": [
      "Accuracy: 10.00%\n"
     ]
    }
   ],
   "source": [
    "correct = 0\n",
    "total = 0\n",
    "with torch.no_grad():\n",
    "    for images_, labels_ in test_loader_:\n",
    "        images_ = images_.view(-1, 32*32*3)\n",
    "        outputs_ = model_self_norm(images_)\n",
    "        _, predicted_ = torch.max(outputs_.data, 1)\n",
    "        total += labels_.size(0)\n",
    "        correct += (predicted_ == labels_).sum().item()\n",
    "\n",
    "accuracy_ = 100 * correct / total\n",
    "print(\"Accuracy: {:.2f}%\".format(accuracy_))"
   ]
  },
  {
   "cell_type": "code",
   "execution_count": null,
   "metadata": {},
   "outputs": [],
   "source": []
  }
 ],
 "metadata": {
  "kernelspec": {
   "display_name": "Python 3 (ipykernel)",
   "language": "python",
   "name": "python3"
  },
  "language_info": {
   "codemirror_mode": {
    "name": "ipython",
    "version": 3
   },
   "file_extension": ".py",
   "mimetype": "text/x-python",
   "name": "python",
   "nbconvert_exporter": "python",
   "pygments_lexer": "ipython3",
   "version": "3.10.12"
  }
 },
 "nbformat": 4,
 "nbformat_minor": 4
}
