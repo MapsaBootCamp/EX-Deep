{
  "cells": [
    {
      "cell_type": "markdown",
      "id": "20a2316e",
      "metadata": {
        "id": "20a2316e"
      },
      "source": [
        "## Import all dependencies"
      ]
    },
    {
      "cell_type": "code",
      "execution_count": 1,
      "id": "bb4cc996-c721-46a2-8530-333b2d9fb386",
      "metadata": {
        "id": "bb4cc996-c721-46a2-8530-333b2d9fb386"
      },
      "outputs": [],
      "source": [
        "import torch\n",
        "import torch.nn as nn\n",
        "import torchvision\n",
        "import torchvision.transforms as transforms\n",
        "import torchvision.transforms as ToTensor\n",
        "import torchvision.transforms as Lambda\n",
        "import torchvision.datasets as ImageFolder\n",
        "import torch.utils.data as DataLoader\n",
        "import torch.utils.data as Dataset\n",
        "import torch.optim as optim\n",
        "from torchvision import models\n",
        "import numpy as np\n",
        "import matplotlib.pyplot as plt\n",
        "import os\n",
        "import random\n",
        "from torchsummary import summary\n",
        "from PIL import Image"
      ]
    },
    {
      "cell_type": "markdown",
      "source": [],
      "metadata": {
        "id": "r9DMV7X1Ik4X"
      },
      "id": "r9DMV7X1Ik4X"
    },
    {
      "cell_type": "markdown",
      "source": [
        "## Clear Cache"
      ],
      "metadata": {
        "id": "ZPvCtEPCwUwK"
      },
      "id": "ZPvCtEPCwUwK"
    },
    {
      "cell_type": "code",
      "source": [
        "torch.cuda.empty_cache()"
      ],
      "metadata": {
        "id": "5-N2_vucwXOf"
      },
      "id": "5-N2_vucwXOf",
      "execution_count": 2,
      "outputs": []
    },
    {
      "cell_type": "markdown",
      "source": [
        "## Download Stanford dog images"
      ],
      "metadata": {
        "id": "1lUqn9CNIkR8"
      },
      "id": "1lUqn9CNIkR8"
    },
    {
      "cell_type": "code",
      "execution_count": 3,
      "id": "2c2b78a3",
      "metadata": {
        "colab": {
          "base_uri": "https://localhost:8080/"
        },
        "id": "2c2b78a3",
        "outputId": "901ad5d9-11ae-48c8-ff08-b1d578ff55ed"
      },
      "outputs": [
        {
          "output_type": "stream",
          "name": "stdout",
          "text": [
            "--2024-02-13 12:23:14--  http://vision.stanford.edu/aditya86/ImageNetDogs/images.tar\n",
            "Resolving vision.stanford.edu (vision.stanford.edu)... 171.64.68.10\n",
            "Connecting to vision.stanford.edu (vision.stanford.edu)|171.64.68.10|:80... connected.\n",
            "HTTP request sent, awaiting response... 200 OK\n",
            "Length: 793579520 (757M) [application/x-tar]\n",
            "Saving to: ‘images.tar’\n",
            "\n",
            "images.tar          100%[===================>] 756.82M  18.1MB/s    in 45s     \n",
            "\n",
            "2024-02-13 12:23:59 (16.8 MB/s) - ‘images.tar’ saved [793579520/793579520]\n",
            "\n"
          ]
        }
      ],
      "source": [
        "!wget http://vision.stanford.edu/aditya86/ImageNetDogs/images.tar"
      ]
    },
    {
      "cell_type": "code",
      "execution_count": 4,
      "id": "c8c556a5",
      "metadata": {
        "colab": {
          "base_uri": "https://localhost:8080/"
        },
        "id": "c8c556a5",
        "outputId": "2e66b231-af2e-49de-c093-a2d3a15c5658"
      },
      "outputs": [
        {
          "output_type": "stream",
          "name": "stdout",
          "text": [
            "rm: cannot remove 'dataset': No such file or directory\n",
            "['n02109525-Saint_Bernard', 'n02098105-soft-coated_wheaten_terrier', 'n02090622-borzoi', 'n02086079-Pekinese', 'n02097130-giant_schnauzer'] ...\n",
            "--2024-02-13 12:25:30--  https://raw.githubusercontent.com/HoldenCaulfieldRye/caffe/master/data/ilsvrc12/synset_words.txt\n",
            "Resolving raw.githubusercontent.com (raw.githubusercontent.com)... 185.199.108.133, 185.199.109.133, 185.199.110.133, ...\n",
            "Connecting to raw.githubusercontent.com (raw.githubusercontent.com)|185.199.108.133|:443... connected.\n",
            "HTTP request sent, awaiting response... 200 OK\n",
            "Length: 31675 (31K) [text/plain]\n",
            "Saving to: ‘synset_words.txt’\n",
            "\n",
            "synset_words.txt    100%[===================>]  30.93K  --.-KB/s    in 0.003s  \n",
            "\n",
            "2024-02-13 12:25:30 (11.1 MB/s) - ‘synset_words.txt’ saved [31675/31675]\n",
            "\n"
          ]
        }
      ],
      "source": [
        "!rm -r dataset\n",
        "!mkdir dataset\n",
        "!tar -xf images.tar -C ./dataset\n",
        "!mv ./dataset/Images ./dataset/dogs\n",
        "dog_list = os.listdir('dataset/dogs')\n",
        "print(dog_list[:5],'...')\n",
        "!wget https://raw.githubusercontent.com/HoldenCaulfieldRye/caffe/master/data/ilsvrc12/synset_words.txt"
      ]
    },
    {
      "cell_type": "markdown",
      "id": "01f02b9c",
      "metadata": {
        "id": "01f02b9c"
      },
      "source": [
        "## Setting"
      ]
    },
    {
      "cell_type": "code",
      "execution_count": 5,
      "id": "083f0fed",
      "metadata": {
        "id": "083f0fed"
      },
      "outputs": [],
      "source": [
        "# Path Name\n",
        "image_dir = \"./dataset/dogs/\"\n",
        "\n",
        "# Device\n",
        "device = torch.device(\"cuda\" if torch.cuda.is_available() else \"cpu\") # use gpu or cpu\n",
        "\n",
        "# Hyperparameters (Set some contants...)\n",
        "RANDOM_SEED = 0\n",
        "LEARNING_RATE = 0.001\n",
        "NUM_EPOCHS = 40\n",
        "NUM_EPOCHS_ft = 25\n",
        "BATCH_SIZE = 64\n",
        "IMAGE_SIZE = (224, 224)\n",
        "\n",
        "# Set random seeds for reproducibility\n",
        "torch.manual_seed(RANDOM_SEED)\n",
        "\n",
        "# Fixed Parameters\n",
        "N_CHANNELS = 3\n",
        "NUMBER_CLASSES = 120"
      ]
    },
    {
      "cell_type": "markdown",
      "id": "2a81d73a",
      "metadata": {
        "id": "2a81d73a"
      },
      "source": [
        "## Creating Custom Dataset\n",
        "Note: Passing the modification on the datasets"
      ]
    },
    {
      "cell_type": "code",
      "execution_count": 6,
      "id": "a875cdfb",
      "metadata": {
        "id": "a875cdfb"
      },
      "outputs": [],
      "source": [
        "class CustomDataset(torch.utils.data.Dataset):\n",
        "    def __init__(self, file_path, image_transform = None, label_transform = None, train: bool = True):\n",
        "        self.image_transform = image_transform\n",
        "        self.label_transform = label_transform\n",
        "        self.train = train\n",
        "        self.images, self.labels = self.creatdataset(file_path)\n",
        "        # self.class_names = {}\n",
        "\n",
        "\n",
        "    def creatdataset(self, file_path):\n",
        "        list_images = []\n",
        "        list_labels = []\n",
        "        num_sample_train = 12000\n",
        "        for index, subfolder in enumerate(os.listdir(image_dir)):\n",
        "            dogname = subfolder[subfolder.index('-') + 1:]\n",
        "            ID = subfolder.split('-')[0]\n",
        "            # self.class_names[index] = dogname\n",
        "            for image in os.listdir(os.path.join(file_path, subfolder)):\n",
        "                if ((Image.open(os.path.join(file_path, subfolder, image)).getbands() == (\"R\", \"G\", \"B\")) and (image.endswith('.jpg'))):\n",
        "                   list_images.append((os.path.join(file_path, subfolder, image)))\n",
        "                   list_labels.append(index)\n",
        "\n",
        "        random.seed(0)\n",
        "        indexes_train = random.sample(range(len(list_images)), num_sample_train)\n",
        "\n",
        "        if self.train:\n",
        "           list_images = [list_images[i] for i in indexes_train]\n",
        "           list_labels = [list_labels[i] for i in indexes_train]\n",
        "        else:\n",
        "            list_images = [list_images[i] for i in range(len(list_images)) if i not in indexes_train]\n",
        "            list_labels = [list_labels[i] for i in range(len(list_labels)) if i not in indexes_train]\n",
        "\n",
        "        return list_images, list_labels\n",
        "\n",
        "\n",
        "    def __len__(self):\n",
        "        return len(self.images)\n",
        "\n",
        "\n",
        "    def __getitem__(self, index):\n",
        "        image = Image.open(self.images[index])\n",
        "        label = self.labels[index]\n",
        "\n",
        "        if self.image_transform:\n",
        "            image = self.image_transform(image)\n",
        "        if self.label_transform:\n",
        "            label = self.label_transform(label)\n",
        "        return image, label"
      ]
    },
    {
      "cell_type": "markdown",
      "id": "0b650c64",
      "metadata": {
        "id": "0b650c64"
      },
      "source": [
        "## Calculate mean and std values of train dataset"
      ]
    },
    {
      "cell_type": "code",
      "execution_count": 7,
      "id": "03226dc3",
      "metadata": {
        "id": "03226dc3"
      },
      "outputs": [],
      "source": [
        "transform = transforms.Compose([transforms.Resize(IMAGE_SIZE), transforms.ToTensor()])\n",
        "train_ds = CustomDataset(image_dir, image_transform = transform, label_transform = None, train=True)\n",
        "train_ldr = torch.utils.data.DataLoader(dataset = train_ds, batch_size = BATCH_SIZE, shuffle = True)"
      ]
    },
    {
      "cell_type": "code",
      "execution_count": 8,
      "id": "414d8158",
      "metadata": {
        "colab": {
          "base_uri": "https://localhost:8080/"
        },
        "id": "414d8158",
        "outputId": "4d77d2c1-74ea-4a23-ae3d-cb37180af804"
      },
      "outputs": [
        {
          "output_type": "stream",
          "name": "stdout",
          "text": [
            "mean:  tensor([0.4759, 0.4511, 0.3904]) \n",
            " std:  tensor([0.2581, 0.2528, 0.2570])\n"
          ]
        }
      ],
      "source": [
        "mean = torch.zeros(3)\n",
        "std = torch.zeros(3)\n",
        "\n",
        "for inputs, _labels in train_ldr:\n",
        "    for i in range(N_CHANNELS):\n",
        "        mean[i] += inputs[:, i, :, :].mean()\n",
        "        std[i] += inputs[:, i, :, :].std()\n",
        "mean.div_(len(train_ldr))\n",
        "std.div_(len(train_ldr))\n",
        "\n",
        "print('mean: ', mean, '\\n', 'std: ', std)"
      ]
    },
    {
      "cell_type": "markdown",
      "id": "bb830b43",
      "metadata": {
        "id": "bb830b43"
      },
      "source": [
        "## Passing the transforms to the train and test datasets\n",
        "Note: Data augmentation and normalization for training dataset and just normalization for test dataset"
      ]
    },
    {
      "cell_type": "code",
      "execution_count": 9,
      "id": "e446e533",
      "metadata": {
        "id": "e446e533"
      },
      "outputs": [],
      "source": [
        "train_transform = transforms.Compose([transforms.Resize(IMAGE_SIZE),\n",
        "                                      transforms.ToTensor(),\n",
        "                                      transforms.RandomRotation(degrees=15),\n",
        "                                      transforms.RandomHorizontalFlip(p=0.5),\n",
        "                                      transforms.RandomVerticalFlip(p=0.005),\n",
        "                                      transforms.Normalize(mean.tolist(), std.tolist())]) # train transform\n",
        "\n",
        "test_transform = transforms.Compose([\n",
        "    transforms.Resize((180, 180)), transforms.ToTensor(), transforms.Normalize(mean.tolist(), std.tolist())]) # test transform\n",
        "\n",
        "label_transform = transforms.Lambda(lambda label: torch.zeros(NUMBER_CLASSES, dtype=torch.float).scatter_(0, torch.tensor(label), value=1)) # label transform\n",
        "\n",
        "train_dataset = CustomDataset(image_dir, train_transform, label_transform, train=True)\n",
        "\n",
        "test_dataset = CustomDataset(image_dir, test_transform, label_transform, train=False)"
      ]
    },
    {
      "cell_type": "markdown",
      "id": "ab982762",
      "metadata": {
        "id": "ab982762"
      },
      "source": [
        "## Dataloaders\n",
        "Note: Combines a dataset and a sampler, and provides an iterable over the given dataset."
      ]
    },
    {
      "cell_type": "code",
      "execution_count": 10,
      "id": "bfb05881",
      "metadata": {
        "id": "bfb05881"
      },
      "outputs": [],
      "source": [
        "train_loader = torch.utils.data.DataLoader(dataset = train_dataset, batch_size = BATCH_SIZE, shuffle = True)\n",
        "test_loader = torch.utils.data.DataLoader(dataset = test_dataset, batch_size = BATCH_SIZE, shuffle = False)"
      ]
    },
    {
      "cell_type": "markdown",
      "id": "db13be57",
      "metadata": {
        "id": "db13be57"
      },
      "source": [
        "## Training a model from scratch\n",
        "### Creating an instance model"
      ]
    },
    {
      "cell_type": "code",
      "execution_count": null,
      "id": "12b612b9",
      "metadata": {
        "id": "12b612b9"
      },
      "outputs": [],
      "source": [
        "scratch_model = models.efficientnet_b0().to(device)\n",
        "scratch_model.classifier[1] = nn.Linear(in_features=1280, out_features=NUMBER_CLASSES, bias=True)\n",
        "scratch_model.to(device)"
      ]
    },
    {
      "cell_type": "markdown",
      "id": "64747e0b",
      "metadata": {
        "id": "64747e0b"
      },
      "source": [
        "## Setting the loss function and optimizer"
      ]
    },
    {
      "cell_type": "code",
      "execution_count": 12,
      "id": "81449c11",
      "metadata": {
        "id": "81449c11"
      },
      "outputs": [],
      "source": [
        "optimizer = optim.Adam(params = scratch_model.parameters(), lr = LEARNING_RATE)\n",
        "criterion = nn.CrossEntropyLoss()"
      ]
    },
    {
      "cell_type": "markdown",
      "id": "f7cb136d",
      "metadata": {
        "id": "f7cb136d"
      },
      "source": [
        "## Visualizing the model\n",
        "Note: Torchview provides visualization of models in the form of visual graphs."
      ]
    },
    {
      "cell_type": "code",
      "execution_count": null,
      "id": "c4270db7",
      "metadata": {
        "id": "c4270db7"
      },
      "outputs": [],
      "source": [
        "summary(scratch_model, (3, 224, 224))"
      ]
    },
    {
      "cell_type": "markdown",
      "id": "063c3dd0",
      "metadata": {
        "id": "063c3dd0"
      },
      "source": [
        "## Training loop"
      ]
    },
    {
      "cell_type": "code",
      "execution_count": null,
      "id": "6c17ee1b",
      "metadata": {
        "id": "6c17ee1b",
        "colab": {
          "base_uri": "https://localhost:8080/"
        },
        "outputId": "ea0eb918-a201-453a-d610-4cd11c1e9494"
      },
      "outputs": [
        {
          "output_type": "stream",
          "name": "stdout",
          "text": [
            "Epoch 1: , train accuracy: 0.01520944107323885, train loss: 4.758644583377432, test_accuracy: 0.02638888917863369, test_loss: 4.557369493555139\n",
            "Epoch 2: , train accuracy: 0.02360372245311737, train loss: 4.612247740968745, test_accuracy: 0.024768518283963203, test_loss: 4.567222340901693\n",
            "Epoch 3: , train accuracy: 0.03158244490623474, train loss: 4.485703052358424, test_accuracy: 0.03726851940155029, test_loss: 4.425024126194142\n",
            "Epoch 4: , train accuracy: 0.041888296604156494, train loss: 4.341973360548628, test_accuracy: 0.046296294778585434, test_loss: 4.297106875313653\n",
            "Epoch 5: , train accuracy: 0.05435505136847496, train loss: 4.197729052381312, test_accuracy: 0.04606481269001961, test_loss: 4.32726048540186\n",
            "Epoch 6: , train accuracy: 0.06432845443487167, train loss: 4.073495346180936, test_accuracy: 0.06122685223817825, test_loss: 4.147343836890327\n",
            "Epoch 7: , train accuracy: 0.07205784320831299, train loss: 3.987050561194724, test_accuracy: 0.06666666269302368, test_loss: 4.040315124723646\n",
            "Epoch 8: , train accuracy: 0.08577127754688263, train loss: 3.897945244261559, test_accuracy: 0.07835648208856583, test_loss: 4.000579650313766\n",
            "Epoch 9: , train accuracy: 0.09632646292448044, train loss: 3.8266629449864653, test_accuracy: 0.0876157358288765, test_loss: 3.9370453004483825\n",
            "Epoch 10: , train accuracy: 0.11078789830207825, train loss: 3.71403872205856, test_accuracy: 0.09351851791143417, test_loss: 3.967263440732603\n",
            "Epoch 11: , train accuracy: 0.11685504764318466, train loss: 3.653520902420612, test_accuracy: 0.1049768477678299, test_loss: 3.8166495941303396\n",
            "Epoch 12: , train accuracy: 0.13198137283325195, train loss: 3.570570295161389, test_accuracy: 0.116319440305233, test_loss: 3.824413189181575\n",
            "Epoch 13: , train accuracy: 0.14918549358844757, train loss: 3.4888083313373808, test_accuracy: 0.11435184627771378, test_loss: 3.815037144554986\n",
            "Epoch 14: , train accuracy: 0.16373005509376526, train loss: 3.399594306945801, test_accuracy: 0.13310185074806213, test_loss: 3.7540764022756505\n",
            "Epoch 15: , train accuracy: 0.17835770547389984, train loss: 3.2971227105627667, test_accuracy: 0.1344907432794571, test_loss: 3.6912366456455654\n",
            "Epoch 16: , train accuracy: 0.19622671604156494, train loss: 3.192738893184256, test_accuracy: 0.14548610150814056, test_loss: 3.6111683156755237\n",
            "Epoch 17: , train accuracy: 0.21891622245311737, train loss: 3.092383902123634, test_accuracy: 0.15289351344108582, test_loss: 3.736090384589301\n",
            "Epoch 18: , train accuracy: 0.23030251264572144, train loss: 2.9968871068447194, test_accuracy: 0.16006943583488464, test_loss: 3.7207928383791886\n",
            "Epoch 19: , train accuracy: 0.25299200415611267, train loss: 2.8769205821321364, test_accuracy: 0.16967591643333435, test_loss: 3.5753286555961328\n",
            "Epoch 20: , train accuracy: 0.281665563583374, train loss: 2.778556637307431, test_accuracy: 0.16724537312984467, test_loss: 3.805782190958659\n",
            "Epoch 21: , train accuracy: 0.29778921604156494, train loss: 2.677044850714663, test_accuracy: 0.19155092537403107, test_loss: 3.4607434034347535\n",
            "Epoch 22: , train accuracy: 0.318151593208313, train loss: 2.5685446579405604, test_accuracy: 0.19560185074806213, test_loss: 3.5548761623877065\n",
            "Epoch 23: , train accuracy: 0.34898602962493896, train loss: 2.4515573972083153, test_accuracy: 0.1952546238899231, test_loss: 3.552979846353884\n",
            "Epoch 24: , train accuracy: 0.36203455924987793, train loss: 2.3589871132627445, test_accuracy: 0.20729166269302368, test_loss: 3.6103919753321896\n",
            "Epoch 25: , train accuracy: 0.3991854786872864, train loss: 2.2184322882205882, test_accuracy: 0.22349536418914795, test_loss: 3.4933214991180983\n",
            "Epoch 26: , train accuracy: 0.4142287075519562, train loss: 2.1229519311417926, test_accuracy: 0.23229166865348816, test_loss: 3.5300306178905347\n",
            "Epoch 27: , train accuracy: 0.43675199151039124, train loss: 2.0305871969841895, test_accuracy: 0.23368054628372192, test_loss: 3.4603315494678637\n",
            "Epoch 28: , train accuracy: 0.4547872245311737, train loss: 1.9511448240026514, test_accuracy: 0.2415894865989685, test_loss: 3.5967955651106656\n",
            "Epoch 29: , train accuracy: 0.49484705924987793, train loss: 1.811644377860617, test_accuracy: 0.24618054926395416, test_loss: 3.538521024915907\n",
            "Epoch 30: , train accuracy: 0.5128822922706604, train loss: 1.7056753502247182, test_accuracy: 0.250964492559433, test_loss: 3.4644985216635247\n",
            "Epoch 31: , train accuracy: 0.5261801481246948, train loss: 1.6424989915908652, test_accuracy: 0.23996911942958832, test_loss: 3.8576173782348633\n",
            "Epoch 32: , train accuracy: 0.5508643388748169, train loss: 1.557484619477962, test_accuracy: 0.25744596123695374, test_loss: 3.5705501212014092\n",
            "Epoch 33: , train accuracy: 0.5778756737709045, train loss: 1.4564084318724084, test_accuracy: 0.25231480598449707, test_loss: 3.808628225326538\n",
            "Epoch 34: , train accuracy: 0.599401593208313, train loss: 1.3668072077822178, test_accuracy: 0.24942129850387573, test_loss: 4.021993986765543\n",
            "Epoch 35: , train accuracy: 0.6199301481246948, train loss: 1.2746946615107515, test_accuracy: 0.2511959671974182, test_loss: 4.002048404128463\n",
            "Epoch 36: , train accuracy: 0.6421210169792175, train loss: 1.2050927801335112, test_accuracy: 0.2591820955276489, test_loss: 3.860806660298948\n",
            "Epoch 37: , train accuracy: 0.6645611524581909, train loss: 1.1361586996849546, test_accuracy: 0.24837961792945862, test_loss: 4.241145409478081\n",
            "Epoch 38: , train accuracy: 0.6745345592498779, train loss: 1.087209997659034, test_accuracy: 0.24861110746860504, test_loss: 4.057700842398185\n",
            "Epoch 39: , train accuracy: 0.7043716311454773, train loss: 0.9660356311087913, test_accuracy: 0.2751157283782959, test_loss: 4.308752987119886\n",
            "Epoch 40: , train accuracy: 0.720910906791687, train loss: 0.9382634887352903, test_accuracy: 0.2608024477958679, test_loss: 4.3411054310975254\n"
          ]
        }
      ],
      "source": [
        "# Training loop\n",
        "train_loss_list = []\n",
        "test_loss_list = []\n",
        "scratch_model.train()\n",
        "for epoch in range(NUM_EPOCHS):\n",
        "    losses = 0\n",
        "    epoch_loss = 0.0\n",
        "    epoch_accuracy = 0.0\n",
        "\n",
        "    for images, labels in train_loader:\n",
        "        # push images and labels to device to get CPU support\n",
        "        images = images.to(device)\n",
        "        labels = labels.to(device)\n",
        "        predic_labels = scratch_model(images).to(device)\n",
        "        # Zero the gradients\n",
        "        optimizer.zero_grad()\n",
        "        # Forward pass\n",
        "        loss = criterion(predic_labels, labels)\n",
        "        # Backward pass and optimization\n",
        "        loss.backward()\n",
        "        optimizer.step()\n",
        "        losses += loss.item()\n",
        "\n",
        "        epoch_accuracy += ((predic_labels.argmax(dim=1) == labels.argmax(dim=1)).float().mean())\n",
        "    epoch_loss = losses / len(train_loader)\n",
        "\n",
        "    # Test the model\n",
        "    scratch_model.eval()\n",
        "    with torch.no_grad():\n",
        "      test_losses = 0\n",
        "      epoch_test_accuracy = 0.0\n",
        "      epoch_test_loss = 0.0\n",
        "\n",
        "      for data,label in test_loader:\n",
        "        data = data.to(device)\n",
        "        label = label.to(device)\n",
        "        predic_testlabel = scratch_model(data).to(device)\n",
        "        test_loss = criterion(predic_testlabel, label)\n",
        "        test_losses += test_loss.item()\n",
        "\n",
        "        epoch_test_accuracy += ((predic_testlabel.argmax(dim=1) == label.argmax(dim=1)).float().mean())\n",
        "    epoch_test_loss += test_losses/len(test_loader)\n",
        "    ## loss data for Plot\n",
        "    train_loss_list.append(epoch_loss)\n",
        "    test_loss_list.append(epoch_test_loss)\n",
        "\n",
        "    print('Epoch {}: , train accuracy: {}, train loss: {}, test_accuracy: {}, test_loss: {}'.format(epoch+1, epoch_accuracy / len(train_loader), epoch_loss, epoch_test_accuracy / len(test_loader), epoch_test_loss))\n"
      ]
    },
    {
      "cell_type": "markdown",
      "source": [
        "## Plot Losses of train and test data"
      ],
      "metadata": {
        "id": "GAhncrOyVmis"
      },
      "id": "GAhncrOyVmis"
    },
    {
      "cell_type": "code",
      "source": [
        "plt.figure(figsize=(10,5))\n",
        "plt.title(\"Training and test Loss\")\n",
        "plt.plot(test_loss_list, label=\"Test\")\n",
        "plt.plot(train_loss_list, label=\"Train\")\n",
        "plt.xlabel(\"Epoch\")\n",
        "plt.ylabel(\"Loss\")\n",
        "plt.legend()\n",
        "plt.show()"
      ],
      "metadata": {
        "id": "0zvy-ooqVytb",
        "colab": {
          "base_uri": "https://localhost:8080/",
          "height": 487
        },
        "outputId": "31d4b0b7-2f63-49cd-8556-b100ba8cdeaf"
      },
      "id": "0zvy-ooqVytb",
      "execution_count": null,
      "outputs": [
        {
          "output_type": "display_data",
          "data": {
            "text/plain": [
              "<Figure size 1000x500 with 1 Axes>"
            ],
            "image/png": "[encoded data removed]"
          },
          "metadata": {}
        }
      ]
    },
    {
      "cell_type": "markdown",
      "source": [
        "## Transfer learning from pre-trained weights"
      ],
      "metadata": {
        "id": "Jj8DW_rEVCto"
      },
      "id": "Jj8DW_rEVCto"
    },
    {
      "cell_type": "code",
      "source": [
        "pip install efficientnet_pytorch"
      ],
      "metadata": {
        "id": "dbJb8w-kAkD2"
      },
      "id": "dbJb8w-kAkD2",
      "execution_count": null,
      "outputs": []
    },
    {
      "cell_type": "markdown",
      "source": [
        "## Import dependency for EfficientNet model"
      ],
      "metadata": {
        "id": "0VLrs-k-USCl"
      },
      "id": "0VLrs-k-USCl"
    },
    {
      "cell_type": "code",
      "source": [
        "from efficientnet_pytorch import EfficientNet"
      ],
      "metadata": {
        "id": "G45ctZIyAbqh"
      },
      "id": "G45ctZIyAbqh",
      "execution_count": 14,
      "outputs": []
    },
    {
      "cell_type": "markdown",
      "source": [
        "## Declare model\n",
        "Note: The first step to transfer learning is to freeze all layers and later unfreeze the desired blocks (Only desired blocks will train)."
      ],
      "metadata": {
        "id": "PJbXDTCvhNqQ"
      },
      "id": "PJbXDTCvhNqQ"
    },
    {
      "cell_type": "code",
      "source": [
        "#using efficientnet model based transfer learning\n",
        "class Classifier(nn.Module):\n",
        "    def __init__(self):\n",
        "        super(Classifier, self).__init__()\n",
        "        self.efficientnet =  EfficientNet.from_pretrained('efficientnet-b0')\n",
        "        # freeze all layers\n",
        "        for p in self.efficientnet.parameters():\n",
        "          p.requires_grad = False\n",
        "        # Unfreeze last layer\n",
        "        for param in self.efficientnet._fc.parameters():\n",
        "          param.requires_grad = True\n",
        "        for param in self.efficientnet._dropout.parameters():\n",
        "          param.requires_grad = True\n",
        "\n",
        "        self.efficientnet._dropout = nn.Sequential(nn.BatchNorm1d(1280), nn.Dropout(p=0.2, inplace=True))\n",
        "        self.efficientnet._fc = nn.Linear(in_features=1280, out_features=120, bias=True)\n",
        "        self.efficientnet._swish = nn.Identity()\n",
        "    def forward(self, x):\n",
        "        x = self.efficientnet(x)\n",
        "        return x"
      ],
      "metadata": {
        "id": "JEWINRMNLUnv"
      },
      "id": "JEWINRMNLUnv",
      "execution_count": 15,
      "outputs": []
    },
    {
      "cell_type": "markdown",
      "source": [
        "## Creating an instance model"
      ],
      "metadata": {
        "id": "klGteAmfhIrC"
      },
      "id": "klGteAmfhIrC"
    },
    {
      "cell_type": "code",
      "source": [
        "efficientnet_model = Classifier().to(device)"
      ],
      "metadata": {
        "colab": {
          "base_uri": "https://localhost:8080/"
        },
        "id": "jPBKAFLCOWz0",
        "outputId": "48383dba-0682-4e77-e824-3275a1a55bed"
      },
      "id": "jPBKAFLCOWz0",
      "execution_count": 16,
      "outputs": [
        {
          "output_type": "stream",
          "name": "stderr",
          "text": [
            "Downloading: \"https://github.com/lukemelas/EfficientNet-PyTorch/releases/download/1.0/efficientnet-b0-355c32eb.pth\" to /root/.cache/torch/hub/checkpoints/efficientnet-b0-355c32eb.pth\n",
            "100%|██████████| 20.4M/20.4M [00:00<00:00, 95.3MB/s]\n"
          ]
        },
        {
          "output_type": "stream",
          "name": "stdout",
          "text": [
            "Loaded pretrained weights for efficientnet-b0\n"
          ]
        }
      ]
    },
    {
      "cell_type": "code",
      "source": [
        "print(efficientnet_model)"
      ],
      "metadata": {
        "id": "MmiYRFQnOg82"
      },
      "id": "MmiYRFQnOg82",
      "execution_count": null,
      "outputs": []
    },
    {
      "cell_type": "markdown",
      "source": [
        "## Setting the loss function and optimizer"
      ],
      "metadata": {
        "id": "5uRNzqmzxvIa"
      },
      "id": "5uRNzqmzxvIa"
    },
    {
      "cell_type": "code",
      "source": [
        "_optimizer = optim.Adam(params = efficientnet_model.parameters(), lr = LEARNING_RATE)\n",
        "_criterion = nn.CrossEntropyLoss()"
      ],
      "metadata": {
        "id": "4gOIeZZ5XlTE"
      },
      "id": "4gOIeZZ5XlTE",
      "execution_count": 17,
      "outputs": []
    },
    {
      "cell_type": "markdown",
      "source": [
        "## Training Loop"
      ],
      "metadata": {
        "id": "9uh2mqgHXDhK"
      },
      "id": "9uh2mqgHXDhK"
    },
    {
      "cell_type": "code",
      "source": [
        "# Training loop\n",
        "train_loss_list_ft = []\n",
        "test_loss_list_ft = []\n",
        "NUM_EPOCHS_ft = 25\n",
        "efficientnet_model.train()\n",
        "for epoch in range(NUM_EPOCHS_ft):\n",
        "    losses = 0\n",
        "    epoch_loss = 0.0\n",
        "    epoch_accuracy = 0.0\n",
        "\n",
        "    for images, labels in train_loader:\n",
        "        # push images and labels to device to get CPU support\n",
        "        images = images.to(device)\n",
        "        labels = labels.to(device)\n",
        "        predic_labels = efficientnet_model(images).to(device)\n",
        "        # Zero the gradients\n",
        "        _optimizer.zero_grad()\n",
        "        # Forward pass\n",
        "        loss = _criterion(predic_labels, labels)\n",
        "        # Backward pass and optimization\n",
        "        loss.backward()\n",
        "        _optimizer.step()\n",
        "        losses += loss.item()\n",
        "\n",
        "        epoch_accuracy += ((predic_labels.argmax(dim=1) == labels.argmax(dim=1)).float().mean())\n",
        "    epoch_loss = losses / len(train_loader)\n",
        "\n",
        "    # Test the model\n",
        "    efficientnet_model.eval()\n",
        "    with torch.no_grad():\n",
        "      test_losses = 0\n",
        "      epoch_test_accuracy = 0.0\n",
        "      epoch_test_loss = 0.0\n",
        "\n",
        "      for data,label in test_loader:\n",
        "        data = data.to(device)\n",
        "        label = label.to(device)\n",
        "        predic_testlabel = efficientnet_model(data).to(device)\n",
        "        test_loss = _criterion(predic_testlabel, label)\n",
        "        test_losses += test_loss.item()\n",
        "\n",
        "        epoch_test_accuracy += ((predic_testlabel.argmax(dim=1) == label.argmax(dim=1)).float().mean())\n",
        "    epoch_test_loss += test_losses/len(test_loader)\n",
        "    ## loss data for Plot\n",
        "    train_loss_list_ft.append(epoch_loss)\n",
        "    test_loss_list_ft.append(epoch_test_loss)\n",
        "\n",
        "    print('Epoch {}: , train accuracy: {}, train loss: {}, test_accuracy: {}, test_loss: {}'.format(epoch+1, epoch_accuracy / len(train_loader), epoch_loss, epoch_test_accuracy / len(test_loader), epoch_test_loss))\n"
      ],
      "metadata": {
        "id": "n2Fug4GKhcpl",
        "colab": {
          "base_uri": "https://localhost:8080/"
        },
        "outputId": "aab1302f-83e3-40b2-fcf5-62051de606f9"
      },
      "id": "n2Fug4GKhcpl",
      "execution_count": null,
      "outputs": [
        {
          "output_type": "stream",
          "name": "stdout",
          "text": [
            "Epoch 1: , train accuracy: 0.3967752456665039, train loss: 2.492424502651742, test_accuracy: 0.5819058418273926, test_loss: 1.516169810515863\n",
            "Epoch 2: , train accuracy: 0.708776593208313, train loss: 1.0270256197198908, test_accuracy: 0.5989969372749329, test_loss: 1.4829787810643513\n",
            "Epoch 3: , train accuracy: 0.7633809447288513, train loss: 0.8108951241729108, test_accuracy: 0.6009644865989685, test_loss: 1.5264102013022811\n",
            "Epoch 4: , train accuracy: 0.7928025126457214, train loss: 0.7029359077519559, test_accuracy: 0.598881185054779, test_loss: 1.580191883334407\n",
            "Epoch 5: , train accuracy: 0.8171542286872864, train loss: 0.615190705165584, test_accuracy: 0.597993791103363, test_loss: 1.6458593236075507\n",
            "Epoch 6: , train accuracy: 0.8296209573745728, train loss: 0.5596915298002831, test_accuracy: 0.6018132567405701, test_loss: 1.7005670777073614\n",
            "Epoch 7: , train accuracy: 0.842004656791687, train loss: 0.5101690503193977, test_accuracy: 0.5886573791503906, test_loss: 1.8000531249576144\n",
            "Epoch 8: , train accuracy: 0.8523935675621033, train loss: 0.4772391475420049, test_accuracy: 0.5999614000320435, test_loss: 1.8322448909282685\n",
            "Epoch 9: , train accuracy: 0.8630318641662598, train loss: 0.43849383350065413, test_accuracy: 0.5894289612770081, test_loss: 1.9310338413273846\n",
            "Epoch 10: , train accuracy: 0.8646941184997559, train loss: 0.4239210562503084, test_accuracy: 0.5937113761901855, test_loss: 1.9655221501986186\n",
            "Epoch 11: , train accuracy: 0.8678523898124695, train loss: 0.4161763323589842, test_accuracy: 0.5861882567405701, test_loss: 2.02596080855087\n",
            "Epoch 12: , train accuracy: 0.8730884194374084, train loss: 0.3915235467572161, test_accuracy: 0.5900462865829468, test_loss: 2.0893158237139384\n",
            "Epoch 13: , train accuracy: 0.8778257966041565, train loss: 0.3770837219471627, test_accuracy: 0.5817900896072388, test_loss: 2.1734097922289815\n",
            "Epoch 14: , train accuracy: 0.8853889107704163, train loss: 0.35797979643053196, test_accuracy: 0.5835261940956116, test_loss: 2.2261626848468072\n",
            "Epoch 15: , train accuracy: 0.8882147073745728, train loss: 0.34934704826074714, test_accuracy: 0.5812885761260986, test_loss: 2.272340555985769\n",
            "Epoch 16: , train accuracy: 0.894115686416626, train loss: 0.33794832316801904, test_accuracy: 0.581674337387085, test_loss: 2.3123017068262453\n",
            "Epoch 17: , train accuracy: 0.8913729786872864, train loss: 0.33014348799243887, test_accuracy: 0.5731867551803589, test_loss: 2.3832201251277216\n",
            "Epoch 18: , train accuracy: 0.8966920971870422, train loss: 0.31918329468115847, test_accuracy: 0.5762345194816589, test_loss: 2.423374178453728\n",
            "Epoch 19: , train accuracy: 0.8960272073745728, train loss: 0.3166557995879904, test_accuracy: 0.5771604776382446, test_loss: 2.4664578327426203\n"
          ]
        }
      ]
    },
    {
      "cell_type": "markdown",
      "source": [
        "## Plot Loss of train and test data\n",
        "Note: The test accuracy and loss will usually be better than training accuracy. This is because the regularization is strong, which only suppresses training-time metrics.\n"
      ],
      "metadata": {
        "id": "oQZgxrPKS0Ef"
      },
      "id": "oQZgxrPKS0Ef"
    },
    {
      "cell_type": "code",
      "source": [
        "plt.figure(figsize=(10,5))\n",
        "plt.title(\"Training and test Loss\")\n",
        "plt.plot(test_loss_list_ft, label=\"Test\")\n",
        "plt.plot(train_loss_list_ft, label=\"Train\")\n",
        "plt.xlabel(\"Epoch\")\n",
        "plt.ylabel(\"Loss\")\n",
        "plt.legend()\n",
        "plt.show()"
      ],
      "metadata": {
        "id": "dFoEg1Tzh5iw"
      },
      "id": "dFoEg1Tzh5iw",
      "execution_count": null,
      "outputs": []
    },
    {
      "cell_type": "code",
      "source": [],
      "metadata": {
        "id": "HDo7Blq0XMG0"
      },
      "id": "HDo7Blq0XMG0",
      "execution_count": null,
      "outputs": []
    }
  ],
  "metadata": {
    "kernelspec": {
      "display_name": "Python 3",
      "name": "python3"
    },
    "language_info": {
      "codemirror_mode": {
        "name": "ipython",
        "version": 3
      },
      "file_extension": ".py",
      "mimetype": "text/x-python",
      "name": "python",
      "nbconvert_exporter": "python",
      "pygments_lexer": "ipython3",
      "version": "3.10.12"
    },
    "colab": {
      "provenance": [],
      "gpuType": "T4"
    },
    "accelerator": "GPU"
  },
  "nbformat": 4,
  "nbformat_minor": 5
}