{
 "cells": [
  {
   "cell_type": "code",
   "execution_count": 1,
   "metadata": {},
   "outputs": [],
   "source": [
    "import numpy as np\n",
    "import torch"
   ]
  },
  {
   "cell_type": "markdown",
   "metadata": {},
   "source": [
    "1. Create two random tensors with shapes (6, 5) and (1, 5), and perform a matrix multiplication on these tensors."
   ]
  },
  {
   "cell_type": "code",
   "execution_count": 2,
   "metadata": {},
   "outputs": [
    {
     "name": "stdout",
     "output_type": "stream",
     "text": [
      "Tensor 1: \n",
      " tensor([[ 1.9269,  1.4873,  0.9007, -2.1055,  0.6784],\n",
      "        [-1.2345, -0.0431, -1.6047, -0.7521,  1.6487],\n",
      "        [-0.3925, -1.4036, -0.7279, -0.5594, -2.3169],\n",
      "        [-0.2168, -1.3847, -0.8712, -0.2234,  1.7174],\n",
      "        [ 0.3189, -0.4245, -0.8286,  0.3309, -1.5576],\n",
      "        [ 0.9956, -0.8798, -0.6011, -1.2742,  2.1228]])\n",
      "\n",
      "Tensor 2: \n",
      " tensor([[-0.0915,  0.2352,  2.2440,  0.5817,  0.4528]])\n",
      "\n",
      "Matrix Multiplication: \n",
      " tensor([[ 1.2771],\n",
      "        [-3.1890],\n",
      "        [-3.3020],\n",
      "        [-1.6132],\n",
      "        [-2.5010],\n",
      "        [-1.4270]])\n"
     ]
    }
   ],
   "source": [
    "# Set the random seed so things are predictable\n",
    "torch.random.manual_seed(42)\n",
    "# Create random tensor\n",
    "matrix1=torch.randn(6,5)\n",
    "matrix2=torch.randn(1,5)\n",
    "# Perform matrix multiplication \n",
    "matrix_multi=torch.mm(matrix1, matrix2.t())  \n",
    "\n",
    "print(f\"Tensor 1: \\n {matrix1}\\n\")\n",
    "print(f\"Tensor 2: \\n {matrix2}\\n\")\n",
    "print(f\"Matrix Multiplication: \\n {matrix_multi}\")"
   ]
  },
  {
   "cell_type": "markdown",
   "metadata": {},
   "source": [
    "2. Given the provided code for generating data, create a simple Python function or class that multiplies the generated features tensor by the corresponding weights tensor and adds the bias term. Assume that the function/class takes the features, weights, and bias tensors as inputs and returns the result of the linear operation. Provide an example of using this function/class with the generated data."
   ]
  },
  {
   "cell_type": "code",
   "execution_count": 3,
   "metadata": {},
   "outputs": [
    {
     "name": "stdout",
     "output_type": "stream",
     "text": [
      "tensor([[-1.6619]])\n"
     ]
    }
   ],
   "source": [
    "def multiplies(features,weight,bias):\n",
    "    return torch.mm(features,weight.t())+ bias\n",
    "### Generate some data\n",
    "torch.manual_seed(7) # Set the random seed so things are predictable\n",
    "\n",
    "# Features are 3 random normal variables\n",
    "features = torch.randn((1, 5))\n",
    "# True weights for our data, random normal variables again\n",
    "weights = torch.randn_like(features)\n",
    "# and a true bias term\n",
    "bias = torch.randn((1, 1))\n",
    "\n",
    "result=multiplies(features,weights,bias)\n",
    "print(result)"
   ]
  },
  {
   "cell_type": "markdown",
   "metadata": {},
   "source": [
    "3. Find the maximum and minimum values as well as the corresponding index values in the output of task 1."
   ]
  },
  {
   "cell_type": "code",
   "execution_count": 6,
   "metadata": {},
   "outputs": [
    {
     "name": "stdout",
     "output_type": "stream",
     "text": [
      "MAX: 1.2770949602127075\n",
      "MIN: -3.3019661903381348\n",
      "ARG MAX: 0\n",
      "ARG MIN: 2\n"
     ]
    }
   ],
   "source": [
    "# Find max\n",
    "print(f\"MAX: {torch.max(matrix_multi)}\")\n",
    "# Find min\n",
    "print(f\"MIN: {torch.min(matrix_multi)}\")\n",
    "# Find arg max\n",
    "print(f\"ARG MAX: {torch.argmax(matrix_multi)}\")\n",
    "# Find arg min\n",
    "print(f\"ARG MIN: {torch.argmin(matrix_multi)}\")"
   ]
  },
  {
   "cell_type": "markdown",
   "metadata": {},
   "source": [
    "4. Generate a unique tensor with dimensions (1, 1, 1, 25), and subsequently transform it into a new tensor by removing all singleton dimensions, resulting in a tensor with shape (25).\n"
   ]
  },
  {
   "cell_type": "code",
   "execution_count": 8,
   "metadata": {},
   "outputs": [
    {
     "name": "stdout",
     "output_type": "stream",
     "text": [
      "First Tensor Shape: torch.Size([1, 1, 25])\n",
      "\n",
      "First Tensor :\n",
      " tensor([[[ 1.9269,  1.4873,  0.9007, -2.1055,  0.6784, -1.2345, -0.0431,\n",
      "          -1.6047, -0.7521, -0.6866, -0.4934,  0.2415, -1.1109,  0.0915,\n",
      "          -2.3169, -0.2168, -1.3847, -0.3957,  0.8034, -0.6216, -0.5920,\n",
      "          -0.0631, -0.8286,  0.3309, -1.5576]]])\n",
      "\n",
      "Reshape Tensor Shape: torch.Size([25])\n",
      "\n",
      "Reshape Tensor :\n",
      " tensor([ 1.9269,  1.4873,  0.9007, -2.1055,  0.6784, -1.2345, -0.0431, -1.6047,\n",
      "        -0.7521, -0.6866, -0.4934,  0.2415, -1.1109,  0.0915, -2.3169, -0.2168,\n",
      "        -1.3847, -0.3957,  0.8034, -0.6216, -0.5920, -0.0631, -0.8286,  0.3309,\n",
      "        -1.5576])\n"
     ]
    }
   ],
   "source": [
    "# Initialize the random seed\n",
    "torch.random.manual_seed(42)\n",
    "# Generate a tensor with random values\n",
    "first_tensor=torch.randn(1,1,25)\n",
    "# Eliminate singleton dimensions\n",
    "reshape_tensor=torch.squeeze(first_tensor)\n",
    "# Display the tensors along with their shapes\n",
    "print(f\"First Tensor Shape: {first_tensor.shape}\\n\")\n",
    "print(f\"First Tensor :\\n {first_tensor}\\n\")\n",
    "print(f\"Reshape Tensor Shape: {reshape_tensor.shape}\\n\")\n",
    "print(f\"Reshape Tensor :\\n {reshape_tensor}\")"
   ]
  },
  {
   "cell_type": "markdown",
   "metadata": {},
   "source": [
    "5. Create a 1D tensor of size 5 with value ranging from 1 to 5. Reshape the 1D tensor into a 2D tensor of shape (1, 5)\n"
   ]
  },
  {
   "cell_type": "code",
   "execution_count": 9,
   "metadata": {},
   "outputs": [
    {
     "name": "stdout",
     "output_type": "stream",
     "text": [
      "First Tensor:\n",
      " tensor([1, 2, 3, 4, 5])\n",
      "Reshape Tensor:\n",
      " tensor([[1, 2, 3, 4, 5]])\n"
     ]
    }
   ],
   "source": [
    "first_tensor=torch.arange(1,6)\n",
    "reshape_tensor=first_tensor.view(1,5)\n",
    "print(f\"First Tensor:\\n {first_tensor}\")\n",
    "print(f\"Reshape Tensor:\\n {reshape_tensor}\")"
   ]
  },
  {
   "cell_type": "markdown",
   "metadata": {},
   "source": [
    "6. Create two 2D tensors of shape (2, 3) and perform element-wise addition."
   ]
  },
  {
   "cell_type": "code",
   "execution_count": 10,
   "metadata": {},
   "outputs": [
    {
     "name": "stdout",
     "output_type": "stream",
     "text": [
      "Tensor1:\n",
      " tensor([[ 0.3367,  0.1288,  0.2345],\n",
      "        [ 0.2303, -1.1229, -0.1863]])\n",
      "\n",
      "Tensor2:\n",
      " tensor([[ 2.2082, -0.6380,  0.4617],\n",
      "        [ 0.2674,  0.5349,  0.8094]])\n",
      "\n",
      "Result:\n",
      " tensor([[ 2.5449, -0.5092,  0.6961],\n",
      "        [ 0.4977, -0.5880,  0.6230]])\n",
      "\n"
     ]
    }
   ],
   "source": [
    "torch.random.manual_seed(42)\n",
    "tensor1=torch.randn(2,3)\n",
    "tensor2=torch.randn(2,3)\n",
    "result=tensor1+tensor2\n",
    "print(f\"Tensor1:\\n {tensor1}\\n\")\n",
    "print(f\"Tensor2:\\n {tensor2}\\n\")\n",
    "print(f\"Result:\\n {result}\\n\")"
   ]
  },
  {
   "cell_type": "markdown",
   "metadata": {},
   "source": [
    "7. Create a 2D tensor of shape (4, 4) filled with random values. Extract the first row and the last column as seperate tensors."
   ]
  },
  {
   "cell_type": "code",
   "execution_count": 11,
   "metadata": {},
   "outputs": [
    {
     "name": "stdout",
     "output_type": "stream",
     "text": [
      "First Tensor:\n",
      " tensor([[ 1.9269,  1.4873,  0.9007, -2.1055],\n",
      "        [ 0.6784, -1.2345, -0.0431, -1.6047],\n",
      "        [-0.7521,  1.6487, -0.3925, -1.4036],\n",
      "        [-0.7279, -0.5594, -0.7688,  0.7624]])\n",
      "\n",
      "First Row:\n",
      " tensor([ 1.9269,  1.4873,  0.9007, -2.1055])\n",
      "\n",
      "Last Column:\n",
      " tensor([-2.1055, -1.6047, -1.4036,  0.7624])\n",
      "\n"
     ]
    }
   ],
   "source": [
    "torch.random.manual_seed(42)\n",
    "first_tensor=torch.randn(4,4)\n",
    "first_row=first_tensor[0, :]\n",
    "last_column=first_tensor[:, -1]\n",
    "print(f\"First Tensor:\\n {first_tensor}\\n\")\n",
    "print(f\"First Row:\\n {first_row}\\n\")\n",
    "print(f\"Last Column:\\n {last_column}\\n\")"
   ]
  },
  {
   "cell_type": "markdown",
   "metadata": {},
   "source": [
    "8. Create a 2D tensor of shape (3, 3) and a 1D tensor of shape (3,). Add the 1D tensor to each row of the 2D tensor using broadcasting."
   ]
  },
  {
   "cell_type": "code",
   "execution_count": 12,
   "metadata": {},
   "outputs": [
    {
     "name": "stdout",
     "output_type": "stream",
     "text": [
      "Tensor 2D:\n",
      " tensor([[ 0.3367,  0.1288,  0.2345],\n",
      "        [ 0.2303, -1.1229, -0.1863],\n",
      "        [ 2.2082, -0.6380,  0.4617]])\n",
      "\n",
      "Tensor_1D:\n",
      " tensor([0.2674, 0.5349, 0.8094])\n",
      "\n",
      "Result:\n",
      " tensor([[ 0.6040,  0.6637,  1.0438],\n",
      "        [ 0.4977, -0.5880,  0.6230],\n",
      "        [ 2.4756, -0.1031,  1.2710]])\n",
      "\n"
     ]
    }
   ],
   "source": [
    "torch.random.manual_seed(42)\n",
    "tensor_2d = torch.randn(3,3)\n",
    "tensor_1d = torch.randn(3)\n",
    "result=tensor_2d+tensor_1d\n",
    "print(f\"Tensor 2D:\\n {tensor_2d}\\n\")\n",
    "print(f\"Tensor_1D:\\n {tensor_1d}\\n\")\n",
    "print(f\"Result:\\n {result}\\n\")"
   ]
  },
  {
   "cell_type": "markdown",
   "metadata": {},
   "source": [
    "9. Create a 2D tensor of shape (3, 4) filled with random values and compute the sum of all elements."
   ]
  },
  {
   "cell_type": "code",
   "execution_count": 13,
   "metadata": {},
   "outputs": [
    {
     "name": "stdout",
     "output_type": "stream",
     "text": [
      "Tensor 2D:\n",
      " tensor([[ 0.3367,  0.1288,  0.2345,  0.2303],\n",
      "        [-1.1229, -0.1863,  2.2082, -0.6380],\n",
      "        [ 0.4617,  0.2674,  0.5349,  0.8094]])\n",
      "\n",
      "Sum Tensor:\n",
      " 3.264584541320801\n",
      "\n"
     ]
    }
   ],
   "source": [
    "torch.random.manual_seed(42)\n",
    "tensor_2d = torch.randn(3,4)\n",
    "sum_tensor=torch.sum(tensor_2d)\n",
    "print(f\"Tensor 2D:\\n {tensor_2d}\\n\")\n",
    "print(f\"Sum Tensor:\\n {sum_tensor}\\n\")"
   ]
  },
  {
   "cell_type": "markdown",
   "metadata": {},
   "source": [
    "10. Create a 2D tensor of shape (3, 4) filled with random values and compute the mean along each row."
   ]
  },
  {
   "cell_type": "code",
   "execution_count": 15,
   "metadata": {},
   "outputs": [
    {
     "name": "stdout",
     "output_type": "stream",
     "text": [
      "Tensor 2D:\n",
      " tensor([[ 0.3367,  0.1288,  0.2345,  0.2303],\n",
      "        [-1.1229, -0.1863,  2.2082, -0.6380],\n",
      "        [ 0.4617,  0.2674,  0.5349,  0.8094]])\n",
      "\n",
      "Mean Row:\n",
      " tensor([0.2326, 0.0653, 0.5183])\n",
      "\n"
     ]
    }
   ],
   "source": [
    "torch.random.manual_seed(42)\n",
    "tensor_2d = torch.randn(3,4)\n",
    "mean_row=torch.mean(tensor_2d,dim=1)\n",
    "print(f\"Tensor 2D:\\n {tensor_2d}\\n\")\n",
    "print(f\"Mean Row:\\n {mean_row}\\n\")"
   ]
  }
 ],
 "metadata": {
  "kernelspec": {
   "display_name": "Python 3 (ipykernel)",
   "language": "python",
   "name": "python3"
  },
  "language_info": {
   "codemirror_mode": {
    "name": "ipython",
    "version": 3
   },
   "file_extension": ".py",
   "mimetype": "text/x-python",
   "name": "python",
   "nbconvert_exporter": "python",
   "pygments_lexer": "ipython3",
   "version": "3.10.12"
  }
 },
 "nbformat": 4,
 "nbformat_minor": 4
}
