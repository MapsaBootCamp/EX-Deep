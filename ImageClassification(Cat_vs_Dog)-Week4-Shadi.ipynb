{
  "cells": [
    {
      "cell_type": "markdown",
      "id": "65d69707",
      "metadata": {
        "id": "65d69707"
      },
      "source": [
        "## Import all dependencies"
      ]
    },
    {
      "cell_type": "code",
      "execution_count": 2,
      "id": "8655591e-1738-41c4-bf48-ac6c47585f44",
      "metadata": {
        "id": "8655591e-1738-41c4-bf48-ac6c47585f44"
      },
      "outputs": [],
      "source": [
        "import torch\n",
        "import torch.nn as nn\n",
        "import torch.optim as optim\n",
        "import torch.utils.data as DataLoader\n",
        "import torchvision\n",
        "import torchvision.transforms as ToTensor\n",
        "import matplotlib.pyplot as plt\n",
        "from torch.utils.data import Dataset\n",
        "import torchvision.transforms as transforms\n",
        "import torch.utils.data\n",
        "from torchsummary import summary\n",
        "from torchvision.datasets import ImageFolder\n",
        "import numpy as np\n",
        "import os\n",
        "from PIL import Image\n",
        "import graphviz\n",
        "from tqdm import tqdm\n",
        "# from torchview import draw_graph\n",
        "from sklearn.model_selection import train_test_split"
      ]
    },
    {
      "cell_type": "markdown",
      "id": "xC1FM-N4AjV9",
      "metadata": {
        "id": "xC1FM-N4AjV9"
      },
      "source": [
        "## Fetch cat & dog images"
      ]
    },
    {
      "cell_type": "code",
      "execution_count": 3,
      "id": "lXOAZSOByyhF",
      "metadata": {
        "colab": {
          "base_uri": "https://localhost:8080/"
        },
        "id": "lXOAZSOByyhF",
        "outputId": "734ebadd-1b0f-4964-8bd7-c587c44dfcd1"
      },
      "outputs": [
        {
          "name": "stdout",
          "output_type": "stream",
          "text": [
            "  % Total    % Received % Xferd  Average Speed   Time    Time     Time  Current\n",
            "                                 Dload  Upload   Total   Spent    Left  Speed\n",
            "100  786M  100  786M    0     0   143M      0  0:00:05  0:00:05 --:--:--  156M\n"
          ]
        }
      ],
      "source": [
        "!curl -O https://download.microsoft.com/download/3/E/1/3E1C3F21-ECDB-4869-8368-6DEBA77B919F/kagglecatsanddogs_5340.zip"
      ]
    },
    {
      "cell_type": "markdown",
      "id": "1efe7563",
      "metadata": {},
      "source": [
        "## Extract images folder"
      ]
    },
    {
      "cell_type": "code",
      "execution_count": 4,
      "id": "bWM10U2gy6uu",
      "metadata": {
        "colab": {
          "base_uri": "https://localhost:8080/"
        },
        "id": "bWM10U2gy6uu",
        "outputId": "e0035a45-7a87-497c-857b-cee30be9cb82"
      },
      "outputs": [
        {
          "name": "stdout",
          "output_type": "stream",
          "text": [
            "replace PetImages/Cat/0.jpg? [y]es, [n]o, [A]ll, [N]one, [r]ename:  CDLA-Permissive-2.0.pdf   kagglecatsanddogs_5340.zip   PetImages  'readme[1].txt'   sample_data\n"
          ]
        }
      ],
      "source": [
        "!unzip -q kagglecatsanddogs_5340.zip"
      ]
    },
    {
      "cell_type": "code",
      "execution_count": 5,
      "id": "1NE44Xz2zDyQ",
      "metadata": {
        "colab": {
          "base_uri": "https://localhost:8080/"
        },
        "id": "1NE44Xz2zDyQ",
        "outputId": "8ad222ba-67a0-4de0-8d6d-3f34b88be2ad"
      },
      "outputs": [
        {
          "name": "stdout",
          "output_type": "stream",
          "text": [
            "Cat  Dog\n"
          ]
        }
      ],
      "source": [
        "!ls PetImages"
      ]
    },
    {
      "cell_type": "markdown",
      "id": "g8eLdp08AY7_",
      "metadata": {
        "id": "g8eLdp08AY7_"
      },
      "source": [
        "## Setting"
      ]
    },
    {
      "cell_type": "code",
      "execution_count": 6,
      "id": "55a6561e",
      "metadata": {
        "colab": {
          "base_uri": "https://localhost:8080/"
        },
        "id": "55a6561e",
        "outputId": "d2bdecb8-6ad1-4085-d905-3433ea1fe944"
      },
      "outputs": [
        {
          "data": {
            "text/plain": [
              "<torch._C.Generator at 0x7bd724151b90>"
            ]
          },
          "execution_count": 6,
          "metadata": {},
          "output_type": "execute_result"
        }
      ],
      "source": [
        "# Device\n",
        "device = torch.device(\"cuda\" if torch.cuda.is_available() else \"cpu\") # use gpu or cpu\n",
        "\n",
        "# Hyperparameters (Set some contants...)\n",
        "RANDOM_SEED = 42\n",
        "LEARNING_RATE = 0.001\n",
        "NUM_EPOCHS = 25\n",
        "BATCH_SIZE = 64\n",
        "IMAGE_SIZE = (180, 180)\n",
        "\n",
        "# Set random seeds for reproducibility\n",
        "torch.manual_seed(RANDOM_SEED)\n",
        "\n",
        "# Directory path\n",
        "image_dir = \"./PetImages\""
      ]
    },
    {
      "cell_type": "markdown",
      "id": "874eb737",
      "metadata": {
        "id": "874eb737"
      },
      "source": [
        "## Cats vs Dogs Dataset\n",
        "Note: converting subfolders to the dataset by ImageFoldwer Function"
      ]
    },
    {
      "cell_type": "code",
      "execution_count": 7,
      "id": "b2aa83bf",
      "metadata": {
        "id": "b2aa83bf"
      },
      "outputs": [],
      "source": [
        "full_dataset = ImageFolder(image_dir)"
      ]
    },
    {
      "cell_type": "code",
      "execution_count": 8,
      "id": "wztnWEq1zTMg",
      "metadata": {
        "colab": {
          "base_uri": "https://localhost:8080/"
        },
        "id": "wztnWEq1zTMg",
        "outputId": "73b3fd92-6d74-4974-c6e4-e1fe27be92a3"
      },
      "outputs": [
        {
          "data": {
            "text/plain": [
              "Dataset ImageFolder\n",
              "    Number of datapoints: 25000\n",
              "    Root location: ./PetImages"
            ]
          },
          "execution_count": 8,
          "metadata": {},
          "output_type": "execute_result"
        }
      ],
      "source": [
        "full_dataset"
      ]
    },
    {
      "cell_type": "markdown",
      "id": "3b21b7f9",
      "metadata": {
        "id": "3b21b7f9"
      },
      "source": [
        "## Show custom image"
      ]
    },
    {
      "cell_type": "code",
      "execution_count": null,
      "id": "84898a41",
      "metadata": {
        "id": "84898a41"
      },
      "outputs": [],
      "source": [
        "with Image.open(full_dataset.imgs[667][0]) as img:\n",
        "    img.show()"
      ]
    },
    {
      "cell_type": "markdown",
      "id": "ac35ecae",
      "metadata": {
        "id": "ac35ecae"
      },
      "source": [
        "## Creating Custom Dataset\n",
        "Note: Passing the modification on the datasets"
      ]
    },
    {
      "cell_type": "code",
      "execution_count": 9,
      "id": "4d052f82",
      "metadata": {
        "id": "4d052f82"
      },
      "outputs": [],
      "source": [
        "class CustomDataset(Dataset):\n",
        "    def __init__(self, dataset, transform = None):\n",
        "        self.transform = transform\n",
        "        self.dataset = self.checkChannel(dataset) # some images are CMYK, Grayscale, check only RGB\n",
        "\n",
        "    def __len__(self):\n",
        "        return len(self.dataset)\n",
        "\n",
        "    def __getitem__(self, index):\n",
        "        image = Image.open(self.dataset[index][0])\n",
        "\n",
        "        if self.transform:\n",
        "            images = self.transform(image)\n",
        "\n",
        "        label = self.dataset[index][1]\n",
        "        return images, label\n",
        "\n",
        "    def checkChannel(self, dataset):\n",
        "        datasetRGB = []\n",
        "        for index in range(len(dataset)):\n",
        "            if (os.path.getsize(dataset[index][0]) > 0):\n",
        "                if ((dataset[index][0].endswith('.jpg')) and (Image.open(dataset[index][0]).getbands() == (\"R\", \"G\", \"B\"))):\n",
        "                    datasetRGB.append(dataset[index])\n",
        "        return datasetRGB"
      ]
    },
    {
      "cell_type": "markdown",
      "id": "567027bb",
      "metadata": {
        "id": "567027bb"
      },
      "source": [
        "## Creating train and Test Subsets"
      ]
    },
    {
      "cell_type": "code",
      "execution_count": 10,
      "id": "04037e64",
      "metadata": {
        "id": "04037e64"
      },
      "outputs": [],
      "source": [
        "raw_train_dataset, raw_test_dataset, train_label, test_label = train_test_split(full_dataset.imgs, full_dataset.targets, test_size=0.2, random_state=42)"
      ]
    },
    {
      "cell_type": "markdown",
      "id": "c4a89475",
      "metadata": {
        "id": "c4a89475"
      },
      "source": [
        "## Passing the transforms to the train and test datasets\n",
        "Note: Data augmentation and normalization for training dataset and just normalization for test dataset"
      ]
    },
    {
      "cell_type": "code",
      "execution_count": 11,
      "id": "4338f3f7",
      "metadata": {
        "colab": {
          "base_uri": "https://localhost:8080/"
        },
        "id": "4338f3f7",
        "outputId": "ddd0c184-ff69-48fd-a9d4-79c2287cdf6a"
      },
      "outputs": [
        {
          "name": "stderr",
          "output_type": "stream",
          "text": [
            "/usr/local/lib/python3.10/dist-packages/PIL/TiffImagePlugin.py:858: UserWarning: Truncated File Read\n",
            "  warnings.warn(str(msg))\n"
          ]
        }
      ],
      "source": [
        "train_transform = transforms.Compose([transforms.Resize(IMAGE_SIZE),\n",
        "                                      transforms.ToTensor(),\n",
        "                                      transforms.RandomRotation(degrees=20),\n",
        "                                      transforms.RandomHorizontalFlip(p=0.5),\n",
        "                                      transforms.RandomVerticalFlip(p=0.005),\n",
        "                                      transforms.Normalize([0.485, 0.456, 0.406], [0.229, 0.224, 0.225])]) # train transform\n",
        "\n",
        "test_transform = transforms.Compose([\n",
        "    transforms.Resize((180, 180)), transforms.ToTensor(), transforms.Normalize([0.485, 0.456, 0.406], [0.229, 0.224, 0.225])]) # test transform\n",
        "\n",
        "train_dataset = CustomDataset(raw_train_dataset, train_transform)\n",
        "test_dataset = CustomDataset(raw_test_dataset, test_transform)"
      ]
    },
    {
      "cell_type": "markdown",
      "id": "a73ad6c8",
      "metadata": {
        "id": "a73ad6c8"
      },
      "source": [
        "## Dataloaders\n",
        "Note: Combines a dataset and a sampler, and provides an iterable over the given dataset."
      ]
    },
    {
      "cell_type": "code",
      "execution_count": 12,
      "id": "1aa9664f",
      "metadata": {
        "id": "1aa9664f"
      },
      "outputs": [],
      "source": [
        "train_loader = torch.utils.data.DataLoader(dataset = train_dataset, batch_size = BATCH_SIZE, shuffle = True)\n",
        "test_loader = torch.utils.data.DataLoader(dataset = test_dataset, batch_size = BATCH_SIZE, shuffle = False)"
      ]
    },
    {
      "cell_type": "code",
      "execution_count": null,
      "id": "f43e923b",
      "metadata": {
        "id": "f43e923b"
      },
      "outputs": [],
      "source": [
        "def show_batch(dl, invert=False):\n",
        "    for images, labels in dl:\n",
        "        fig, ax = plt.subplots(figsize=(16, 8))\n",
        "        ax.set_xticks([]); ax.set_yticks([])\n",
        "        data = 1-images if invert else images\n",
        "        ax.imshow((data).permute(0, 2, 3, 1))\n",
        "        break\n",
        "\n",
        "show_batch(train_loader)"
      ]
    },
    {
      "cell_type": "markdown",
      "id": "6340b58c",
      "metadata": {
        "id": "6340b58c"
      },
      "source": [
        "## Building a custom model"
      ]
    },
    {
      "cell_type": "code",
      "execution_count": 14,
      "id": "a48cccb8",
      "metadata": {
        "id": "a48cccb8"
      },
      "outputs": [],
      "source": [
        "class SeperableConv2d(nn.Module):\n",
        "\n",
        "    def __init__(self, in_channels: int, out_channels: int, *args, **kwargs):\n",
        "        super().__init__()\n",
        "        self.depthwise = nn.Conv2d(\n",
        "            in_channels, in_channels, *args,  groups=in_channels, **kwargs)\n",
        "\n",
        "        self.pointwise = nn.Conv2d(\n",
        "            in_channels, out_channels, kernel_size = 1)\n",
        "\n",
        "    def forward(self, x: torch.Tensor) -> torch.Tensor:\n",
        "        x = self.depthwise(x)\n",
        "        x = self.pointwise(x)\n",
        "        return x"
      ]
    },
    {
      "cell_type": "code",
      "execution_count": 15,
      "id": "621a1d83",
      "metadata": {
        "id": "621a1d83"
      },
      "outputs": [],
      "source": [
        "class MinorBlock(nn.Module):\n",
        "    def __init__(self, in_channel: int, out_channel: int, *args, **kwargs):\n",
        "        super().__init__()\n",
        "\n",
        "        self.bypasslayer = nn.Conv2d(in_channel, out_channel, kernel_size = 1, padding = 0, stride = 2)\n",
        "        self.seperableconv1 = nn.Sequential(nn.ReLU(), SeperableConv2d(in_channel, out_channel, *args, **kwargs), nn.BatchNorm2d(out_channel), nn.ReLU())\n",
        "        self.seperableconv2 = nn.Sequential(SeperableConv2d(out_channel, out_channel, *args, **kwargs), nn.BatchNorm2d(out_channel), nn.MaxPool2d(3, stride=2, padding = 1))\n",
        "\n",
        "    def forward(self, x: torch.Tensor) -> torch.Tensor:\n",
        "        out1 = self.bypasslayer(x)\n",
        "        out2 = self.seperableconv1(x)\n",
        "        out2 = self.seperableconv2(out2)\n",
        "        return out1 + out2"
      ]
    },
    {
      "cell_type": "code",
      "execution_count": 16,
      "id": "1f23c536",
      "metadata": {
        "id": "1f23c536"
      },
      "outputs": [],
      "source": [
        "class buildingmodel(nn.Module):\n",
        "    def __init__(self,num_planes: int, out_channel_firstlayer: int, num_classes: int, *args, **kwargs):\n",
        "        super().__init__()\n",
        "\n",
        "        self.first_layer = nn.Sequential(nn.Conv2d(num_planes, out_channel_firstlayer, *args, padding = 1, stride = 2), nn.BatchNorm2d(out_channel_firstlayer), nn.ReLU())\n",
        "        self.minorblock_layer = []\n",
        "\n",
        "        for input, output in zip([128, 256, 512, 728], [256, 512, 728, 1024]):\n",
        "            if output !=1024:\n",
        "              self.minorblock_layer.append(MinorBlock(input, output, *args, **kwargs))\n",
        "\n",
        "        self.minorblock_layer = nn.ModuleList(self.minorblock_layer)\n",
        "        self.last_layer = nn.Sequential(SeperableConv2d(728, 1024, *args, **kwargs), nn.BatchNorm2d(output), nn.ReLU(), nn.AdaptiveAvgPool2d(1))\n",
        "        self.dropout = nn.Dropout(p=0.25)\n",
        "        self.fullyconnected_layer = nn.Linear(output, num_classes)\n",
        "\n",
        "    def forward(self, x: torch.Tensor) -> torch.Tensor:\n",
        "        x = self.first_layer(x)\n",
        "        for layer in self.minorblock_layer:\n",
        "            x = layer(x)\n",
        "        x = self.last_layer(x)\n",
        "        x = x.view(x.size(0),-1)\n",
        "        x = self.dropout(x)\n",
        "        x = self.fullyconnected_layer(x)\n",
        "        return x\n"
      ]
    },
    {
      "cell_type": "markdown",
      "id": "5837531e",
      "metadata": {
        "id": "5837531e"
      },
      "source": [
        "## Creating an instance model"
      ]
    },
    {
      "cell_type": "code",
      "execution_count": 17,
      "id": "dc6ad664",
      "metadata": {
        "id": "dc6ad664"
      },
      "outputs": [],
      "source": [
        "model = buildingmodel(3, 128, 2, 3, padding = 1, stride = 1).to(device)"
      ]
    },
    {
      "cell_type": "markdown",
      "id": "a8a95578",
      "metadata": {
        "id": "a8a95578"
      },
      "source": [
        "## Setting the loss function and optimizer"
      ]
    },
    {
      "cell_type": "code",
      "execution_count": 18,
      "id": "3fa536ab",
      "metadata": {
        "id": "3fa536ab"
      },
      "outputs": [],
      "source": [
        "optimizer = optim.Adam(params = model.parameters(), lr = LEARNING_RATE)\n",
        "criterion = nn.CrossEntropyLoss()"
      ]
    },
    {
      "cell_type": "markdown",
      "id": "o0sdBDzaDHF_",
      "metadata": {
        "id": "o0sdBDzaDHF_"
      },
      "source": [
        "## Visualizing the model\n",
        "Note: Torchview provides visualization of models in the form of visual graphs."
      ]
    },
    {
      "cell_type": "code",
      "execution_count": null,
      "id": "de008d6a",
      "metadata": {
        "id": "de008d6a",
        "outputId": "906a1fca-2d94-49f0-c548-eae9b52508d0"
      },
      "outputs": [
        {
          "data": {
            "image/svg+xml": [
              "<?xml version=\"1.0\" encoding=\"UTF-8\" standalone=\"no\"?>\n",
              "<!DOCTYPE svg PUBLIC \"-//W3C//DTD SVG 1.1//EN\"\n",
              " \"http://www.w3.org/Graphics/SVG/1.1/DTD/svg11.dtd\">\n",
              "<!-- Generated by graphviz version 2.43.0 (0)\n",
              " -->\n",
              "<!-- Title: model Pages: 1 -->\n",
              "<svg width=\"498pt\" height=\"2549pt\"\n",
              " viewBox=\"0.00 0.00 498.31 2549.00\" xmlns=\"http://www.w3.org/2000/svg\" xmlns:xlink=\"http://www.w3.org/1999/xlink\">\n",
              "<g id=\"graph0\" class=\"graph\" transform=\"scale(1.18 1.18) rotate(0) translate(4 3014)\">\n",
              "<title>model</title>\n",
              "<polygon fill=\"white\" stroke=\"transparent\" points=\"-4,4 -4,-3014 586,-3014 586,4 -4,4\"/>\n",
              "<g id=\"clust1\" class=\"cluster\">\n",
              "<title>cluster_2</title>\n",
              "<polygon fill=\"none\" stroke=\"black\" stroke-dasharray=\"5,2\" points=\"253,-2735 253,-2970 487,-2970 487,-2735 253,-2735\"/>\n",
              "<text text-anchor=\"middle\" x=\"293\" y=\"-2956.4\" font-family=\"Times,serif\" font-size=\"12.00\">Sequential</text>\n",
              "</g>\n",
              "<g id=\"clust2\" class=\"cluster\">\n",
              "<title>cluster_3</title>\n",
              "<polygon fill=\"none\" stroke=\"black\" stroke-dasharray=\"5,2\" points=\"108,-2064 108,-2727 574,-2727 574,-2064 108,-2064\"/>\n",
              "<text text-anchor=\"middle\" x=\"152\" y=\"-2713.4\" font-family=\"Times,serif\" font-size=\"12.00\">MinorBlock</text>\n",
              "</g>\n",
              "<g id=\"clust3\" class=\"cluster\">\n",
              "<title>cluster_4</title>\n",
              "<polygon fill=\"none\" stroke=\"black\" stroke-dasharray=\"5,2\" points=\"150,-2385 150,-2698 404,-2698 404,-2385 150,-2385\"/>\n",
              "<text text-anchor=\"middle\" x=\"190\" y=\"-2684.4\" font-family=\"Times,serif\" font-size=\"12.00\">Sequential</text>\n",
              "</g>\n",
              "<g id=\"clust4\" class=\"cluster\">\n",
              "<title>cluster_5</title>\n",
              "<polygon fill=\"none\" stroke=\"black\" stroke-dasharray=\"5,2\" points=\"116,-2142 116,-2377 370,-2377 370,-2142 116,-2142\"/>\n",
              "<text text-anchor=\"middle\" x=\"156\" y=\"-2363.4\" font-family=\"Times,serif\" font-size=\"12.00\">Sequential</text>\n",
              "</g>\n",
              "<g id=\"clust5\" class=\"cluster\">\n",
              "<title>cluster_6</title>\n",
              "<polygon fill=\"none\" stroke=\"black\" stroke-dasharray=\"5,2\" points=\"58,-1393 58,-2056 524,-2056 524,-1393 58,-1393\"/>\n",
              "<text text-anchor=\"middle\" x=\"102\" y=\"-2042.4\" font-family=\"Times,serif\" font-size=\"12.00\">MinorBlock</text>\n",
              "</g>\n",
              "<g id=\"clust6\" class=\"cluster\">\n",
              "<title>cluster_7</title>\n",
              "<polygon fill=\"none\" stroke=\"black\" stroke-dasharray=\"5,2\" points=\"100,-1714 100,-2027 354,-2027 354,-1714 100,-1714\"/>\n",
              "<text text-anchor=\"middle\" x=\"140\" y=\"-2013.4\" font-family=\"Times,serif\" font-size=\"12.00\">Sequential</text>\n",
              "</g>\n",
              "<g id=\"clust7\" class=\"cluster\">\n",
              "<title>cluster_8</title>\n",
              "<polygon fill=\"none\" stroke=\"black\" stroke-dasharray=\"5,2\" points=\"66,-1471 66,-1706 320,-1706 320,-1471 66,-1471\"/>\n",
              "<text text-anchor=\"middle\" x=\"106\" y=\"-1692.4\" font-family=\"Times,serif\" font-size=\"12.00\">Sequential</text>\n",
              "</g>\n",
              "<g id=\"clust8\" class=\"cluster\">\n",
              "<title>cluster_9</title>\n",
              "<polygon fill=\"none\" stroke=\"black\" stroke-dasharray=\"5,2\" points=\"8,-722 8,-1385 474,-1385 474,-722 8,-722\"/>\n",
              "<text text-anchor=\"middle\" x=\"52\" y=\"-1371.4\" font-family=\"Times,serif\" font-size=\"12.00\">MinorBlock</text>\n",
              "</g>\n",
              "<g id=\"clust9\" class=\"cluster\">\n",
              "<title>cluster_10</title>\n",
              "<polygon fill=\"none\" stroke=\"black\" stroke-dasharray=\"5,2\" points=\"50,-1043 50,-1356 304,-1356 304,-1043 50,-1043\"/>\n",
              "<text text-anchor=\"middle\" x=\"90\" y=\"-1342.4\" font-family=\"Times,serif\" font-size=\"12.00\">Sequential</text>\n",
              "</g>\n",
              "<g id=\"clust10\" class=\"cluster\">\n",
              "<title>cluster_11</title>\n",
              "<polygon fill=\"none\" stroke=\"black\" stroke-dasharray=\"5,2\" points=\"16,-800 16,-1035 270,-1035 270,-800 16,-800\"/>\n",
              "<text text-anchor=\"middle\" x=\"56\" y=\"-1021.4\" font-family=\"Times,serif\" font-size=\"12.00\">Sequential</text>\n",
              "</g>\n",
              "<g id=\"clust11\" class=\"cluster\">\n",
              "<title>cluster_12</title>\n",
              "<polygon fill=\"none\" stroke=\"black\" stroke-dasharray=\"5,2\" points=\"129,-294 129,-714 397,-714 397,-294 129,-294\"/>\n",
              "<text text-anchor=\"middle\" x=\"169\" y=\"-700.4\" font-family=\"Times,serif\" font-size=\"12.00\">Sequential</text>\n",
              "</g>\n",
              "<g id=\"clust12\" class=\"cluster\">\n",
              "<title>cluster_13</title>\n",
              "<polygon fill=\"none\" stroke=\"black\" stroke-dasharray=\"5,2\" points=\"158,-528 158,-685 368,-685 368,-528 158,-528\"/>\n",
              "<text text-anchor=\"middle\" x=\"219.5\" y=\"-671.4\" font-family=\"Times,serif\" font-size=\"12.00\">SeperableConv2d</text>\n",
              "</g>\n",
              "<!-- 0 -->\n",
              "<g id=\"node1\" class=\"node\">\n",
              "<title>0</title>\n",
              "<polygon fill=\"lightyellow\" stroke=\"transparent\" points=\"450,-3010 290,-3010 290,-2978 450,-2978 450,-3010\"/>\n",
              "<polygon fill=\"none\" stroke=\"black\" points=\"290,-2978 290,-3010 360,-3010 360,-2978 290,-2978\"/>\n",
              "<text text-anchor=\"start\" x=\"295\" y=\"-2997\" font-family=\"Linux libertine\" font-size=\"10.00\">input&#45;tensor</text>\n",
              "<text text-anchor=\"start\" x=\"306.5\" y=\"-2986\" font-family=\"Linux libertine\" font-size=\"10.00\">depth:0</text>\n",
              "<polygon fill=\"none\" stroke=\"black\" points=\"360,-2978 360,-3010 450,-3010 450,-2978 360,-2978\"/>\n",
              "<text text-anchor=\"start\" x=\"365\" y=\"-2991.5\" font-family=\"Linux libertine\" font-size=\"10.00\">(64, 3, 180, 180)</text>\n",
              "</g>\n",
              "<!-- 1 -->\n",
              "<g id=\"node2\" class=\"node\">\n",
              "<title>1</title>\n",
              "<polygon fill=\"#c1ffc1\" stroke=\"transparent\" points=\"464,-2941 276,-2941 276,-2899 464,-2899 464,-2941\"/>\n",
              "<polygon fill=\"none\" stroke=\"black\" points=\"276,-2899 276,-2941 323,-2941 323,-2899 276,-2899\"/>\n",
              "<text text-anchor=\"start\" x=\"281\" y=\"-2923\" font-family=\"Linux libertine\" font-size=\"10.00\">Conv2d</text>\n",
              "<text text-anchor=\"start\" x=\"281\" y=\"-2912\" font-family=\"Linux libertine\" font-size=\"10.00\">depth:2</text>\n",
              "<polygon fill=\"none\" stroke=\"black\" points=\"323,-2920 323,-2941 371,-2941 371,-2920 323,-2920\"/>\n",
              "<text text-anchor=\"start\" x=\"333\" y=\"-2928\" font-family=\"Linux libertine\" font-size=\"10.00\">input:</text>\n",
              "<polygon fill=\"none\" stroke=\"black\" points=\"371,-2920 371,-2941 464,-2941 464,-2920 371,-2920\"/>\n",
              "<text text-anchor=\"start\" x=\"376\" y=\"-2928\" font-family=\"Linux libertine\" font-size=\"10.00\">(64, 3, 180, 180) </text>\n",
              "<polygon fill=\"none\" stroke=\"black\" points=\"323,-2899 323,-2920 371,-2920 371,-2899 323,-2899\"/>\n",
              "<text text-anchor=\"start\" x=\"328\" y=\"-2907\" font-family=\"Linux libertine\" font-size=\"10.00\">output: </text>\n",
              "<polygon fill=\"none\" stroke=\"black\" points=\"371,-2899 371,-2920 464,-2920 464,-2899 371,-2899\"/>\n",
              "<text text-anchor=\"start\" x=\"376\" y=\"-2907\" font-family=\"Linux libertine\" font-size=\"10.00\">(64, 128, 90, 90) </text>\n",
              "</g>\n",
              "<!-- 0&#45;&gt;1 -->\n",
              "<g id=\"edge1\" class=\"edge\">\n",
              "<title>0&#45;&gt;1</title>\n",
              "<path fill=\"none\" stroke=\"black\" d=\"M370,-2977.73C370,-2970.08 370,-2960.52 370,-2951.45\"/>\n",
              "<polygon fill=\"black\" stroke=\"black\" points=\"373.5,-2951.17 370,-2941.17 366.5,-2951.17 373.5,-2951.17\"/>\n",
              "</g>\n",
              "<!-- 2 -->\n",
              "<g id=\"node3\" class=\"node\">\n",
              "<title>2</title>\n",
              "<polygon fill=\"#c1ffc1\" stroke=\"transparent\" points=\"479,-2863 261,-2863 261,-2821 479,-2821 479,-2863\"/>\n",
              "<polygon fill=\"none\" stroke=\"black\" points=\"261,-2821 261,-2863 338,-2863 338,-2821 261,-2821\"/>\n",
              "<text text-anchor=\"start\" x=\"266\" y=\"-2845\" font-family=\"Linux libertine\" font-size=\"10.00\">BatchNorm2d</text>\n",
              "<text text-anchor=\"start\" x=\"281\" y=\"-2834\" font-family=\"Linux libertine\" font-size=\"10.00\">depth:2</text>\n",
              "<polygon fill=\"none\" stroke=\"black\" points=\"338,-2842 338,-2863 386,-2863 386,-2842 338,-2842\"/>\n",
              "<text text-anchor=\"start\" x=\"348\" y=\"-2850\" font-family=\"Linux libertine\" font-size=\"10.00\">input:</text>\n",
              "<polygon fill=\"none\" stroke=\"black\" points=\"386,-2842 386,-2863 479,-2863 479,-2842 386,-2842\"/>\n",
              "<text text-anchor=\"start\" x=\"391\" y=\"-2850\" font-family=\"Linux libertine\" font-size=\"10.00\">(64, 128, 90, 90) </text>\n",
              "<polygon fill=\"none\" stroke=\"black\" points=\"338,-2821 338,-2842 386,-2842 386,-2821 338,-2821\"/>\n",
              "<text text-anchor=\"start\" x=\"343\" y=\"-2829\" font-family=\"Linux libertine\" font-size=\"10.00\">output: </text>\n",
              "<polygon fill=\"none\" stroke=\"black\" points=\"386,-2821 386,-2842 479,-2842 479,-2821 386,-2821\"/>\n",
              "<text text-anchor=\"start\" x=\"391\" y=\"-2829\" font-family=\"Linux libertine\" font-size=\"10.00\">(64, 128, 90, 90) </text>\n",
              "</g>\n",
              "<!-- 1&#45;&gt;2 -->\n",
              "<g id=\"edge2\" class=\"edge\">\n",
              "<title>1&#45;&gt;2</title>\n",
              "<path fill=\"none\" stroke=\"black\" d=\"M370,-2898.63C370,-2890.82 370,-2881.73 370,-2873.18\"/>\n",
              "<polygon fill=\"black\" stroke=\"black\" points=\"373.5,-2873.16 370,-2863.16 366.5,-2873.16 373.5,-2873.16\"/>\n",
              "</g>\n",
              "<!-- 3 -->\n",
              "<g id=\"node4\" class=\"node\">\n",
              "<title>3</title>\n",
              "<polygon fill=\"#c1ffc1\" stroke=\"transparent\" points=\"464,-2785 276,-2785 276,-2743 464,-2743 464,-2785\"/>\n",
              "<polygon fill=\"none\" stroke=\"black\" points=\"276,-2743 276,-2785 323,-2785 323,-2743 276,-2743\"/>\n",
              "<text text-anchor=\"start\" x=\"286.5\" y=\"-2767\" font-family=\"Linux libertine\" font-size=\"10.00\">ReLU</text>\n",
              "<text text-anchor=\"start\" x=\"281\" y=\"-2756\" font-family=\"Linux libertine\" font-size=\"10.00\">depth:2</text>\n",
              "<polygon fill=\"none\" stroke=\"black\" points=\"323,-2764 323,-2785 371,-2785 371,-2764 323,-2764\"/>\n",
              "<text text-anchor=\"start\" x=\"333\" y=\"-2772\" font-family=\"Linux libertine\" font-size=\"10.00\">input:</text>\n",
              "<polygon fill=\"none\" stroke=\"black\" points=\"371,-2764 371,-2785 464,-2785 464,-2764 371,-2764\"/>\n",
              "<text text-anchor=\"start\" x=\"376\" y=\"-2772\" font-family=\"Linux libertine\" font-size=\"10.00\">(64, 128, 90, 90) </text>\n",
              "<polygon fill=\"none\" stroke=\"black\" points=\"323,-2743 323,-2764 371,-2764 371,-2743 323,-2743\"/>\n",
              "<text text-anchor=\"start\" x=\"328\" y=\"-2751\" font-family=\"Linux libertine\" font-size=\"10.00\">output: </text>\n",
              "<polygon fill=\"none\" stroke=\"black\" points=\"371,-2743 371,-2764 464,-2764 464,-2743 371,-2743\"/>\n",
              "<text text-anchor=\"start\" x=\"376\" y=\"-2751\" font-family=\"Linux libertine\" font-size=\"10.00\">(64, 128, 90, 90) </text>\n",
              "</g>\n",
              "<!-- 2&#45;&gt;3 -->\n",
              "<g id=\"edge3\" class=\"edge\">\n",
              "<title>2&#45;&gt;3</title>\n",
              "<path fill=\"none\" stroke=\"black\" d=\"M370,-2820.63C370,-2812.82 370,-2803.73 370,-2795.18\"/>\n",
              "<polygon fill=\"black\" stroke=\"black\" points=\"373.5,-2795.16 370,-2785.16 366.5,-2795.16 373.5,-2795.16\"/>\n",
              "</g>\n",
              "<!-- 4 -->\n",
              "<g id=\"node5\" class=\"node\">\n",
              "<title>4</title>\n",
              "<polygon fill=\"#c1ffc1\" stroke=\"transparent\" points=\"566,-2192 378,-2192 378,-2150 566,-2150 566,-2192\"/>\n",
              "<polygon fill=\"none\" stroke=\"black\" points=\"378,-2150 378,-2192 425,-2192 425,-2150 378,-2150\"/>\n",
              "<text text-anchor=\"start\" x=\"383\" y=\"-2174\" font-family=\"Linux libertine\" font-size=\"10.00\">Conv2d</text>\n",
              "<text text-anchor=\"start\" x=\"383\" y=\"-2163\" font-family=\"Linux libertine\" font-size=\"10.00\">depth:2</text>\n",
              "<polygon fill=\"none\" stroke=\"black\" points=\"425,-2171 425,-2192 473,-2192 473,-2171 425,-2171\"/>\n",
              "<text text-anchor=\"start\" x=\"435\" y=\"-2179\" font-family=\"Linux libertine\" font-size=\"10.00\">input:</text>\n",
              "<polygon fill=\"none\" stroke=\"black\" points=\"473,-2171 473,-2192 566,-2192 566,-2171 473,-2171\"/>\n",
              "<text text-anchor=\"start\" x=\"478\" y=\"-2179\" font-family=\"Linux libertine\" font-size=\"10.00\">(64, 128, 90, 90) </text>\n",
              "<polygon fill=\"none\" stroke=\"black\" points=\"425,-2150 425,-2171 473,-2171 473,-2150 425,-2150\"/>\n",
              "<text text-anchor=\"start\" x=\"430\" y=\"-2158\" font-family=\"Linux libertine\" font-size=\"10.00\">output: </text>\n",
              "<polygon fill=\"none\" stroke=\"black\" points=\"473,-2150 473,-2171 566,-2171 566,-2150 473,-2150\"/>\n",
              "<text text-anchor=\"start\" x=\"478\" y=\"-2158\" font-family=\"Linux libertine\" font-size=\"10.00\">(64, 256, 45, 45) </text>\n",
              "</g>\n",
              "<!-- 3&#45;&gt;4 -->\n",
              "<g id=\"edge4\" class=\"edge\">\n",
              "<title>3&#45;&gt;4</title>\n",
              "<path fill=\"none\" stroke=\"black\" d=\"M395.43,-2742.62C400.13,-2737.9 404.62,-2732.6 408,-2727 445.26,-2665.35 452,-2643.04 452,-2571 452,-2571 452,-2571 452,-2326 452,-2282.83 459.82,-2233.42 465.69,-2202.46\"/>\n",
              "<polygon fill=\"black\" stroke=\"black\" points=\"469.18,-2202.8 467.66,-2192.32 462.31,-2201.46 469.18,-2202.8\"/>\n",
              "</g>\n",
              "<!-- 5 -->\n",
              "<g id=\"node6\" class=\"node\">\n",
              "<title>5</title>\n",
              "<polygon fill=\"#c1ffc1\" stroke=\"transparent\" points=\"383,-2669 195,-2669 195,-2627 383,-2627 383,-2669\"/>\n",
              "<polygon fill=\"none\" stroke=\"black\" points=\"195,-2627 195,-2669 242,-2669 242,-2627 195,-2627\"/>\n",
              "<text text-anchor=\"start\" x=\"205.5\" y=\"-2651\" font-family=\"Linux libertine\" font-size=\"10.00\">ReLU</text>\n",
              "<text text-anchor=\"start\" x=\"200\" y=\"-2640\" font-family=\"Linux libertine\" font-size=\"10.00\">depth:3</text>\n",
              "<polygon fill=\"none\" stroke=\"black\" points=\"242,-2648 242,-2669 290,-2669 290,-2648 242,-2648\"/>\n",
              "<text text-anchor=\"start\" x=\"252\" y=\"-2656\" font-family=\"Linux libertine\" font-size=\"10.00\">input:</text>\n",
              "<polygon fill=\"none\" stroke=\"black\" points=\"290,-2648 290,-2669 383,-2669 383,-2648 290,-2648\"/>\n",
              "<text text-anchor=\"start\" x=\"295\" y=\"-2656\" font-family=\"Linux libertine\" font-size=\"10.00\">(64, 128, 90, 90) </text>\n",
              "<polygon fill=\"none\" stroke=\"black\" points=\"242,-2627 242,-2648 290,-2648 290,-2627 242,-2627\"/>\n",
              "<text text-anchor=\"start\" x=\"247\" y=\"-2635\" font-family=\"Linux libertine\" font-size=\"10.00\">output: </text>\n",
              "<polygon fill=\"none\" stroke=\"black\" points=\"290,-2627 290,-2648 383,-2648 383,-2627 290,-2627\"/>\n",
              "<text text-anchor=\"start\" x=\"295\" y=\"-2635\" font-family=\"Linux libertine\" font-size=\"10.00\">(64, 128, 90, 90) </text>\n",
              "</g>\n",
              "<!-- 3&#45;&gt;5 -->\n",
              "<g id=\"edge6\" class=\"edge\">\n",
              "<title>3&#45;&gt;5</title>\n",
              "<path fill=\"none\" stroke=\"black\" d=\"M355.71,-2742.88C342.83,-2724.76 323.76,-2697.92 309.31,-2677.58\"/>\n",
              "<polygon fill=\"black\" stroke=\"black\" points=\"312.07,-2675.43 303.42,-2669.3 306.36,-2679.48 312.07,-2675.43\"/>\n",
              "</g>\n",
              "<!-- 12 -->\n",
              "<g id=\"node13\" class=\"node\">\n",
              "<title>12</title>\n",
              "<polygon fill=\"aliceblue\" stroke=\"transparent\" points=\"415,-2114 209,-2114 209,-2072 415,-2072 415,-2114\"/>\n",
              "<polygon fill=\"none\" stroke=\"black\" points=\"209,-2072 209,-2114 256,-2114 256,-2072 209,-2072\"/>\n",
              "<text text-anchor=\"start\" x=\"223\" y=\"-2096\" font-family=\"Linux libertine\" font-size=\"10.00\">add</text>\n",
              "<text text-anchor=\"start\" x=\"214\" y=\"-2085\" font-family=\"Linux libertine\" font-size=\"10.00\">depth:2</text>\n",
              "<polygon fill=\"none\" stroke=\"black\" points=\"256,-2093 256,-2114 304,-2114 304,-2093 256,-2093\"/>\n",
              "<text text-anchor=\"start\" x=\"266\" y=\"-2101\" font-family=\"Linux libertine\" font-size=\"10.00\">input:</text>\n",
              "<polygon fill=\"none\" stroke=\"black\" points=\"304,-2093 304,-2114 415,-2114 415,-2093 304,-2093\"/>\n",
              "<text text-anchor=\"start\" x=\"309\" y=\"-2101\" font-family=\"Linux libertine\" font-size=\"10.00\">2 x (64, 256, 45, 45) </text>\n",
              "<polygon fill=\"none\" stroke=\"black\" points=\"256,-2072 256,-2093 304,-2093 304,-2072 256,-2072\"/>\n",
              "<text text-anchor=\"start\" x=\"261\" y=\"-2080\" font-family=\"Linux libertine\" font-size=\"10.00\">output: </text>\n",
              "<polygon fill=\"none\" stroke=\"black\" points=\"304,-2072 304,-2093 415,-2093 415,-2072 304,-2072\"/>\n",
              "<text text-anchor=\"start\" x=\"318\" y=\"-2080\" font-family=\"Linux libertine\" font-size=\"10.00\">(64, 256, 45, 45) </text>\n",
              "</g>\n",
              "<!-- 4&#45;&gt;12 -->\n",
              "<g id=\"edge5\" class=\"edge\">\n",
              "<title>4&#45;&gt;12</title>\n",
              "<path fill=\"none\" stroke=\"black\" d=\"M429.54,-2149.83C409.3,-2140.22 384.91,-2128.63 363.61,-2118.51\"/>\n",
              "<polygon fill=\"black\" stroke=\"black\" points=\"364.91,-2115.26 354.38,-2114.13 361.91,-2121.58 364.91,-2115.26\"/>\n",
              "</g>\n",
              "<!-- 6 -->\n",
              "<g id=\"node7\" class=\"node\">\n",
              "<title>6</title>\n",
              "<polygon fill=\"#c1ffc1\" stroke=\"transparent\" points=\"395.5,-2591 158.5,-2591 158.5,-2549 395.5,-2549 395.5,-2591\"/>\n",
              "<polygon fill=\"none\" stroke=\"black\" points=\"159,-2549 159,-2591 255,-2591 255,-2549 159,-2549\"/>\n",
              "<text text-anchor=\"start\" x=\"164\" y=\"-2573\" font-family=\"Linux libertine\" font-size=\"10.00\">SeperableConv2d</text>\n",
              "<text text-anchor=\"start\" x=\"188.5\" y=\"-2562\" font-family=\"Linux libertine\" font-size=\"10.00\">depth:3</text>\n",
              "<polygon fill=\"none\" stroke=\"black\" points=\"255,-2570 255,-2591 303,-2591 303,-2570 255,-2570\"/>\n",
              "<text text-anchor=\"start\" x=\"265\" y=\"-2578\" font-family=\"Linux libertine\" font-size=\"10.00\">input:</text>\n",
              "<polygon fill=\"none\" stroke=\"black\" points=\"303,-2570 303,-2591 396,-2591 396,-2570 303,-2570\"/>\n",
              "<text text-anchor=\"start\" x=\"308\" y=\"-2578\" font-family=\"Linux libertine\" font-size=\"10.00\">(64, 128, 90, 90) </text>\n",
              "<polygon fill=\"none\" stroke=\"black\" points=\"255,-2549 255,-2570 303,-2570 303,-2549 255,-2549\"/>\n",
              "<text text-anchor=\"start\" x=\"260\" y=\"-2557\" font-family=\"Linux libertine\" font-size=\"10.00\">output: </text>\n",
              "<polygon fill=\"none\" stroke=\"black\" points=\"303,-2549 303,-2570 396,-2570 396,-2549 303,-2549\"/>\n",
              "<text text-anchor=\"start\" x=\"308\" y=\"-2557\" font-family=\"Linux libertine\" font-size=\"10.00\">(64, 256, 90, 90) </text>\n",
              "</g>\n",
              "<!-- 5&#45;&gt;6 -->\n",
              "<g id=\"edge7\" class=\"edge\">\n",
              "<title>5&#45;&gt;6</title>\n",
              "<path fill=\"none\" stroke=\"black\" d=\"M285.78,-2626.63C284.55,-2618.82 283.11,-2609.73 281.77,-2601.18\"/>\n",
              "<polygon fill=\"black\" stroke=\"black\" points=\"285.2,-2600.49 280.18,-2591.16 278.29,-2601.58 285.2,-2600.49\"/>\n",
              "</g>\n",
              "<!-- 7 -->\n",
              "<g id=\"node8\" class=\"node\">\n",
              "<title>7</title>\n",
              "<polygon fill=\"#c1ffc1\" stroke=\"transparent\" points=\"381,-2513 163,-2513 163,-2471 381,-2471 381,-2513\"/>\n",
              "<polygon fill=\"none\" stroke=\"black\" points=\"163,-2471 163,-2513 240,-2513 240,-2471 163,-2471\"/>\n",
              "<text text-anchor=\"start\" x=\"168\" y=\"-2495\" font-family=\"Linux libertine\" font-size=\"10.00\">BatchNorm2d</text>\n",
              "<text text-anchor=\"start\" x=\"183\" y=\"-2484\" font-family=\"Linux libertine\" font-size=\"10.00\">depth:3</text>\n",
              "<polygon fill=\"none\" stroke=\"black\" points=\"240,-2492 240,-2513 288,-2513 288,-2492 240,-2492\"/>\n",
              "<text text-anchor=\"start\" x=\"250\" y=\"-2500\" font-family=\"Linux libertine\" font-size=\"10.00\">input:</text>\n",
              "<polygon fill=\"none\" stroke=\"black\" points=\"288,-2492 288,-2513 381,-2513 381,-2492 288,-2492\"/>\n",
              "<text text-anchor=\"start\" x=\"293\" y=\"-2500\" font-family=\"Linux libertine\" font-size=\"10.00\">(64, 256, 90, 90) </text>\n",
              "<polygon fill=\"none\" stroke=\"black\" points=\"240,-2471 240,-2492 288,-2492 288,-2471 240,-2471\"/>\n",
              "<text text-anchor=\"start\" x=\"245\" y=\"-2479\" font-family=\"Linux libertine\" font-size=\"10.00\">output: </text>\n",
              "<polygon fill=\"none\" stroke=\"black\" points=\"288,-2471 288,-2492 381,-2492 381,-2471 288,-2471\"/>\n",
              "<text text-anchor=\"start\" x=\"293\" y=\"-2479\" font-family=\"Linux libertine\" font-size=\"10.00\">(64, 256, 90, 90) </text>\n",
              "</g>\n",
              "<!-- 6&#45;&gt;7 -->\n",
              "<g id=\"edge8\" class=\"edge\">\n",
              "<title>6&#45;&gt;7</title>\n",
              "<path fill=\"none\" stroke=\"black\" d=\"M275.66,-2548.63C275.15,-2540.82 274.55,-2531.73 273.99,-2523.18\"/>\n",
              "<polygon fill=\"black\" stroke=\"black\" points=\"277.48,-2522.91 273.33,-2513.16 270.49,-2523.37 277.48,-2522.91\"/>\n",
              "</g>\n",
              "<!-- 8 -->\n",
              "<g id=\"node9\" class=\"node\">\n",
              "<title>8</title>\n",
              "<polygon fill=\"#c1ffc1\" stroke=\"transparent\" points=\"356,-2435 168,-2435 168,-2393 356,-2393 356,-2435\"/>\n",
              "<polygon fill=\"none\" stroke=\"black\" points=\"168,-2393 168,-2435 215,-2435 215,-2393 168,-2393\"/>\n",
              "<text text-anchor=\"start\" x=\"178.5\" y=\"-2417\" font-family=\"Linux libertine\" font-size=\"10.00\">ReLU</text>\n",
              "<text text-anchor=\"start\" x=\"173\" y=\"-2406\" font-family=\"Linux libertine\" font-size=\"10.00\">depth:3</text>\n",
              "<polygon fill=\"none\" stroke=\"black\" points=\"215,-2414 215,-2435 263,-2435 263,-2414 215,-2414\"/>\n",
              "<text text-anchor=\"start\" x=\"225\" y=\"-2422\" font-family=\"Linux libertine\" font-size=\"10.00\">input:</text>\n",
              "<polygon fill=\"none\" stroke=\"black\" points=\"263,-2414 263,-2435 356,-2435 356,-2414 263,-2414\"/>\n",
              "<text text-anchor=\"start\" x=\"268\" y=\"-2422\" font-family=\"Linux libertine\" font-size=\"10.00\">(64, 256, 90, 90) </text>\n",
              "<polygon fill=\"none\" stroke=\"black\" points=\"215,-2393 215,-2414 263,-2414 263,-2393 215,-2393\"/>\n",
              "<text text-anchor=\"start\" x=\"220\" y=\"-2401\" font-family=\"Linux libertine\" font-size=\"10.00\">output: </text>\n",
              "<polygon fill=\"none\" stroke=\"black\" points=\"263,-2393 263,-2414 356,-2414 356,-2393 263,-2393\"/>\n",
              "<text text-anchor=\"start\" x=\"268\" y=\"-2401\" font-family=\"Linux libertine\" font-size=\"10.00\">(64, 256, 90, 90) </text>\n",
              "</g>\n",
              "<!-- 7&#45;&gt;8 -->\n",
              "<g id=\"edge9\" class=\"edge\">\n",
              "<title>7&#45;&gt;8</title>\n",
              "<path fill=\"none\" stroke=\"black\" d=\"M269.32,-2470.63C268.29,-2462.82 267.1,-2453.73 265.97,-2445.18\"/>\n",
              "<polygon fill=\"black\" stroke=\"black\" points=\"269.43,-2444.62 264.65,-2435.16 262.49,-2445.53 269.43,-2444.62\"/>\n",
              "</g>\n",
              "<!-- 9 -->\n",
              "<g id=\"node10\" class=\"node\">\n",
              "<title>9</title>\n",
              "<polygon fill=\"#c1ffc1\" stroke=\"transparent\" points=\"361.5,-2348 124.5,-2348 124.5,-2306 361.5,-2306 361.5,-2348\"/>\n",
              "<polygon fill=\"none\" stroke=\"black\" points=\"125,-2306 125,-2348 221,-2348 221,-2306 125,-2306\"/>\n",
              "<text text-anchor=\"start\" x=\"130\" y=\"-2330\" font-family=\"Linux libertine\" font-size=\"10.00\">SeperableConv2d</text>\n",
              "<text text-anchor=\"start\" x=\"154.5\" y=\"-2319\" font-family=\"Linux libertine\" font-size=\"10.00\">depth:3</text>\n",
              "<polygon fill=\"none\" stroke=\"black\" points=\"221,-2327 221,-2348 269,-2348 269,-2327 221,-2327\"/>\n",
              "<text text-anchor=\"start\" x=\"231\" y=\"-2335\" font-family=\"Linux libertine\" font-size=\"10.00\">input:</text>\n",
              "<polygon fill=\"none\" stroke=\"black\" points=\"269,-2327 269,-2348 362,-2348 362,-2327 269,-2327\"/>\n",
              "<text text-anchor=\"start\" x=\"274\" y=\"-2335\" font-family=\"Linux libertine\" font-size=\"10.00\">(64, 256, 90, 90) </text>\n",
              "<polygon fill=\"none\" stroke=\"black\" points=\"221,-2306 221,-2327 269,-2327 269,-2306 221,-2306\"/>\n",
              "<text text-anchor=\"start\" x=\"226\" y=\"-2314\" font-family=\"Linux libertine\" font-size=\"10.00\">output: </text>\n",
              "<polygon fill=\"none\" stroke=\"black\" points=\"269,-2306 269,-2327 362,-2327 362,-2306 269,-2306\"/>\n",
              "<text text-anchor=\"start\" x=\"274\" y=\"-2314\" font-family=\"Linux libertine\" font-size=\"10.00\">(64, 256, 90, 90) </text>\n",
              "</g>\n",
              "<!-- 8&#45;&gt;9 -->\n",
              "<g id=\"edge10\" class=\"edge\">\n",
              "<title>8&#45;&gt;9</title>\n",
              "<path fill=\"none\" stroke=\"black\" d=\"M257.5,-2392.86C255.2,-2382.56 252.35,-2369.81 249.78,-2358.35\"/>\n",
              "<polygon fill=\"black\" stroke=\"black\" points=\"253.13,-2357.29 247.54,-2348.29 246.3,-2358.82 253.13,-2357.29\"/>\n",
              "</g>\n",
              "<!-- 10 -->\n",
              "<g id=\"node11\" class=\"node\">\n",
              "<title>10</title>\n",
              "<polygon fill=\"#c1ffc1\" stroke=\"transparent\" points=\"355,-2270 137,-2270 137,-2228 355,-2228 355,-2270\"/>\n",
              "<polygon fill=\"none\" stroke=\"black\" points=\"137,-2228 137,-2270 214,-2270 214,-2228 137,-2228\"/>\n",
              "<text text-anchor=\"start\" x=\"142\" y=\"-2252\" font-family=\"Linux libertine\" font-size=\"10.00\">BatchNorm2d</text>\n",
              "<text text-anchor=\"start\" x=\"157\" y=\"-2241\" font-family=\"Linux libertine\" font-size=\"10.00\">depth:3</text>\n",
              "<polygon fill=\"none\" stroke=\"black\" points=\"214,-2249 214,-2270 262,-2270 262,-2249 214,-2249\"/>\n",
              "<text text-anchor=\"start\" x=\"224\" y=\"-2257\" font-family=\"Linux libertine\" font-size=\"10.00\">input:</text>\n",
              "<polygon fill=\"none\" stroke=\"black\" points=\"262,-2249 262,-2270 355,-2270 355,-2249 262,-2249\"/>\n",
              "<text text-anchor=\"start\" x=\"267\" y=\"-2257\" font-family=\"Linux libertine\" font-size=\"10.00\">(64, 256, 90, 90) </text>\n",
              "<polygon fill=\"none\" stroke=\"black\" points=\"214,-2228 214,-2249 262,-2249 262,-2228 214,-2228\"/>\n",
              "<text text-anchor=\"start\" x=\"219\" y=\"-2236\" font-family=\"Linux libertine\" font-size=\"10.00\">output: </text>\n",
              "<polygon fill=\"none\" stroke=\"black\" points=\"262,-2228 262,-2249 355,-2249 355,-2228 262,-2228\"/>\n",
              "<text text-anchor=\"start\" x=\"267\" y=\"-2236\" font-family=\"Linux libertine\" font-size=\"10.00\">(64, 256, 90, 90) </text>\n",
              "</g>\n",
              "<!-- 9&#45;&gt;10 -->\n",
              "<g id=\"edge11\" class=\"edge\">\n",
              "<title>9&#45;&gt;10</title>\n",
              "<path fill=\"none\" stroke=\"black\" d=\"M243.8,-2305.63C244.11,-2297.82 244.47,-2288.73 244.81,-2280.18\"/>\n",
              "<polygon fill=\"black\" stroke=\"black\" points=\"248.31,-2280.29 245.2,-2270.16 241.31,-2280.01 248.31,-2280.29\"/>\n",
              "</g>\n",
              "<!-- 11 -->\n",
              "<g id=\"node12\" class=\"node\">\n",
              "<title>11</title>\n",
              "<polygon fill=\"#c1ffc1\" stroke=\"transparent\" points=\"356,-2192 150,-2192 150,-2150 356,-2150 356,-2192\"/>\n",
              "<polygon fill=\"none\" stroke=\"black\" points=\"150,-2150 150,-2192 215,-2192 215,-2150 150,-2150\"/>\n",
              "<text text-anchor=\"start\" x=\"155\" y=\"-2174\" font-family=\"Linux libertine\" font-size=\"10.00\">MaxPool2d</text>\n",
              "<text text-anchor=\"start\" x=\"164\" y=\"-2163\" font-family=\"Linux libertine\" font-size=\"10.00\">depth:3</text>\n",
              "<polygon fill=\"none\" stroke=\"black\" points=\"215,-2171 215,-2192 263,-2192 263,-2171 215,-2171\"/>\n",
              "<text text-anchor=\"start\" x=\"225\" y=\"-2179\" font-family=\"Linux libertine\" font-size=\"10.00\">input:</text>\n",
              "<polygon fill=\"none\" stroke=\"black\" points=\"263,-2171 263,-2192 356,-2192 356,-2171 263,-2171\"/>\n",
              "<text text-anchor=\"start\" x=\"268\" y=\"-2179\" font-family=\"Linux libertine\" font-size=\"10.00\">(64, 256, 90, 90) </text>\n",
              "<polygon fill=\"none\" stroke=\"black\" points=\"215,-2150 215,-2171 263,-2171 263,-2150 215,-2150\"/>\n",
              "<text text-anchor=\"start\" x=\"220\" y=\"-2158\" font-family=\"Linux libertine\" font-size=\"10.00\">output: </text>\n",
              "<polygon fill=\"none\" stroke=\"black\" points=\"263,-2150 263,-2171 356,-2171 356,-2150 263,-2150\"/>\n",
              "<text text-anchor=\"start\" x=\"268\" y=\"-2158\" font-family=\"Linux libertine\" font-size=\"10.00\">(64, 256, 45, 45) </text>\n",
              "</g>\n",
              "<!-- 10&#45;&gt;11 -->\n",
              "<g id=\"edge12\" class=\"edge\">\n",
              "<title>10&#45;&gt;11</title>\n",
              "<path fill=\"none\" stroke=\"black\" d=\"M247.88,-2227.63C248.6,-2219.82 249.43,-2210.73 250.22,-2202.18\"/>\n",
              "<polygon fill=\"black\" stroke=\"black\" points=\"253.71,-2202.44 251.14,-2192.16 246.74,-2201.8 253.71,-2202.44\"/>\n",
              "</g>\n",
              "<!-- 11&#45;&gt;12 -->\n",
              "<g id=\"edge13\" class=\"edge\">\n",
              "<title>11&#45;&gt;12</title>\n",
              "<path fill=\"none\" stroke=\"black\" d=\"M268.81,-2149.63C275.34,-2141.22 283.03,-2131.32 290.09,-2122.22\"/>\n",
              "<polygon fill=\"black\" stroke=\"black\" points=\"292.98,-2124.2 296.35,-2114.16 287.45,-2119.91 292.98,-2124.2\"/>\n",
              "</g>\n",
              "<!-- 13 -->\n",
              "<g id=\"node14\" class=\"node\">\n",
              "<title>13</title>\n",
              "<polygon fill=\"#c1ffc1\" stroke=\"transparent\" points=\"516,-1521 328,-1521 328,-1479 516,-1479 516,-1521\"/>\n",
              "<polygon fill=\"none\" stroke=\"black\" points=\"328,-1479 328,-1521 375,-1521 375,-1479 328,-1479\"/>\n",
              "<text text-anchor=\"start\" x=\"333\" y=\"-1503\" font-family=\"Linux libertine\" font-size=\"10.00\">Conv2d</text>\n",
              "<text text-anchor=\"start\" x=\"333\" y=\"-1492\" font-family=\"Linux libertine\" font-size=\"10.00\">depth:2</text>\n",
              "<polygon fill=\"none\" stroke=\"black\" points=\"375,-1500 375,-1521 423,-1521 423,-1500 375,-1500\"/>\n",
              "<text text-anchor=\"start\" x=\"385\" y=\"-1508\" font-family=\"Linux libertine\" font-size=\"10.00\">input:</text>\n",
              "<polygon fill=\"none\" stroke=\"black\" points=\"423,-1500 423,-1521 516,-1521 516,-1500 423,-1500\"/>\n",
              "<text text-anchor=\"start\" x=\"428\" y=\"-1508\" font-family=\"Linux libertine\" font-size=\"10.00\">(64, 256, 45, 45) </text>\n",
              "<polygon fill=\"none\" stroke=\"black\" points=\"375,-1479 375,-1500 423,-1500 423,-1479 375,-1479\"/>\n",
              "<text text-anchor=\"start\" x=\"380\" y=\"-1487\" font-family=\"Linux libertine\" font-size=\"10.00\">output: </text>\n",
              "<polygon fill=\"none\" stroke=\"black\" points=\"423,-1479 423,-1500 516,-1500 516,-1479 423,-1479\"/>\n",
              "<text text-anchor=\"start\" x=\"428\" y=\"-1487\" font-family=\"Linux libertine\" font-size=\"10.00\">(64, 512, 23, 23) </text>\n",
              "</g>\n",
              "<!-- 12&#45;&gt;13 -->\n",
              "<g id=\"edge14\" class=\"edge\">\n",
              "<title>12&#45;&gt;13</title>\n",
              "<path fill=\"none\" stroke=\"black\" d=\"M343.3,-2071.94C348.81,-2067.26 354.05,-2061.9 358,-2056 398.13,-1996.17 402,-1972.04 402,-1900 402,-1900 402,-1900 402,-1655 402,-1611.83 409.82,-1562.42 415.69,-1531.46\"/>\n",
              "<polygon fill=\"black\" stroke=\"black\" points=\"419.18,-1531.8 417.66,-1521.32 412.31,-1530.46 419.18,-1531.8\"/>\n",
              "</g>\n",
              "<!-- 14 -->\n",
              "<g id=\"node15\" class=\"node\">\n",
              "<title>14</title>\n",
              "<polygon fill=\"#c1ffc1\" stroke=\"transparent\" points=\"333,-1998 145,-1998 145,-1956 333,-1956 333,-1998\"/>\n",
              "<polygon fill=\"none\" stroke=\"black\" points=\"145,-1956 145,-1998 192,-1998 192,-1956 145,-1956\"/>\n",
              "<text text-anchor=\"start\" x=\"155.5\" y=\"-1980\" font-family=\"Linux libertine\" font-size=\"10.00\">ReLU</text>\n",
              "<text text-anchor=\"start\" x=\"150\" y=\"-1969\" font-family=\"Linux libertine\" font-size=\"10.00\">depth:3</text>\n",
              "<polygon fill=\"none\" stroke=\"black\" points=\"192,-1977 192,-1998 240,-1998 240,-1977 192,-1977\"/>\n",
              "<text text-anchor=\"start\" x=\"202\" y=\"-1985\" font-family=\"Linux libertine\" font-size=\"10.00\">input:</text>\n",
              "<polygon fill=\"none\" stroke=\"black\" points=\"240,-1977 240,-1998 333,-1998 333,-1977 240,-1977\"/>\n",
              "<text text-anchor=\"start\" x=\"245\" y=\"-1985\" font-family=\"Linux libertine\" font-size=\"10.00\">(64, 256, 45, 45) </text>\n",
              "<polygon fill=\"none\" stroke=\"black\" points=\"192,-1956 192,-1977 240,-1977 240,-1956 192,-1956\"/>\n",
              "<text text-anchor=\"start\" x=\"197\" y=\"-1964\" font-family=\"Linux libertine\" font-size=\"10.00\">output: </text>\n",
              "<polygon fill=\"none\" stroke=\"black\" points=\"240,-1956 240,-1977 333,-1977 333,-1956 240,-1956\"/>\n",
              "<text text-anchor=\"start\" x=\"245\" y=\"-1964\" font-family=\"Linux libertine\" font-size=\"10.00\">(64, 256, 45, 45) </text>\n",
              "</g>\n",
              "<!-- 12&#45;&gt;14 -->\n",
              "<g id=\"edge16\" class=\"edge\">\n",
              "<title>12&#45;&gt;14</title>\n",
              "<path fill=\"none\" stroke=\"black\" d=\"M299.12,-2071.88C287.56,-2053.84 270.48,-2027.16 257.47,-2006.85\"/>\n",
              "<polygon fill=\"black\" stroke=\"black\" points=\"260.34,-2004.83 252,-1998.3 254.44,-2008.61 260.34,-2004.83\"/>\n",
              "</g>\n",
              "<!-- 21 -->\n",
              "<g id=\"node22\" class=\"node\">\n",
              "<title>21</title>\n",
              "<polygon fill=\"aliceblue\" stroke=\"transparent\" points=\"365,-1443 159,-1443 159,-1401 365,-1401 365,-1443\"/>\n",
              "<polygon fill=\"none\" stroke=\"black\" points=\"159,-1401 159,-1443 206,-1443 206,-1401 159,-1401\"/>\n",
              "<text text-anchor=\"start\" x=\"173\" y=\"-1425\" font-family=\"Linux libertine\" font-size=\"10.00\">add</text>\n",
              "<text text-anchor=\"start\" x=\"164\" y=\"-1414\" font-family=\"Linux libertine\" font-size=\"10.00\">depth:2</text>\n",
              "<polygon fill=\"none\" stroke=\"black\" points=\"206,-1422 206,-1443 254,-1443 254,-1422 206,-1422\"/>\n",
              "<text text-anchor=\"start\" x=\"216\" y=\"-1430\" font-family=\"Linux libertine\" font-size=\"10.00\">input:</text>\n",
              "<polygon fill=\"none\" stroke=\"black\" points=\"254,-1422 254,-1443 365,-1443 365,-1422 254,-1422\"/>\n",
              "<text text-anchor=\"start\" x=\"259\" y=\"-1430\" font-family=\"Linux libertine\" font-size=\"10.00\">2 x (64, 512, 23, 23) </text>\n",
              "<polygon fill=\"none\" stroke=\"black\" points=\"206,-1401 206,-1422 254,-1422 254,-1401 206,-1401\"/>\n",
              "<text text-anchor=\"start\" x=\"211\" y=\"-1409\" font-family=\"Linux libertine\" font-size=\"10.00\">output: </text>\n",
              "<polygon fill=\"none\" stroke=\"black\" points=\"254,-1401 254,-1422 365,-1422 365,-1401 254,-1401\"/>\n",
              "<text text-anchor=\"start\" x=\"268\" y=\"-1409\" font-family=\"Linux libertine\" font-size=\"10.00\">(64, 512, 23, 23) </text>\n",
              "</g>\n",
              "<!-- 13&#45;&gt;21 -->\n",
              "<g id=\"edge15\" class=\"edge\">\n",
              "<title>13&#45;&gt;21</title>\n",
              "<path fill=\"none\" stroke=\"black\" d=\"M379.54,-1478.83C359.3,-1469.22 334.91,-1457.63 313.61,-1447.51\"/>\n",
              "<polygon fill=\"black\" stroke=\"black\" points=\"314.91,-1444.26 304.38,-1443.13 311.91,-1450.58 314.91,-1444.26\"/>\n",
              "</g>\n",
              "<!-- 15 -->\n",
              "<g id=\"node16\" class=\"node\">\n",
              "<title>15</title>\n",
              "<polygon fill=\"#c1ffc1\" stroke=\"transparent\" points=\"345.5,-1920 108.5,-1920 108.5,-1878 345.5,-1878 345.5,-1920\"/>\n",
              "<polygon fill=\"none\" stroke=\"black\" points=\"109,-1878 109,-1920 205,-1920 205,-1878 109,-1878\"/>\n",
              "<text text-anchor=\"start\" x=\"114\" y=\"-1902\" font-family=\"Linux libertine\" font-size=\"10.00\">SeperableConv2d</text>\n",
              "<text text-anchor=\"start\" x=\"138.5\" y=\"-1891\" font-family=\"Linux libertine\" font-size=\"10.00\">depth:3</text>\n",
              "<polygon fill=\"none\" stroke=\"black\" points=\"205,-1899 205,-1920 253,-1920 253,-1899 205,-1899\"/>\n",
              "<text text-anchor=\"start\" x=\"215\" y=\"-1907\" font-family=\"Linux libertine\" font-size=\"10.00\">input:</text>\n",
              "<polygon fill=\"none\" stroke=\"black\" points=\"253,-1899 253,-1920 346,-1920 346,-1899 253,-1899\"/>\n",
              "<text text-anchor=\"start\" x=\"258\" y=\"-1907\" font-family=\"Linux libertine\" font-size=\"10.00\">(64, 256, 45, 45) </text>\n",
              "<polygon fill=\"none\" stroke=\"black\" points=\"205,-1878 205,-1899 253,-1899 253,-1878 205,-1878\"/>\n",
              "<text text-anchor=\"start\" x=\"210\" y=\"-1886\" font-family=\"Linux libertine\" font-size=\"10.00\">output: </text>\n",
              "<polygon fill=\"none\" stroke=\"black\" points=\"253,-1878 253,-1899 346,-1899 346,-1878 253,-1878\"/>\n",
              "<text text-anchor=\"start\" x=\"258\" y=\"-1886\" font-family=\"Linux libertine\" font-size=\"10.00\">(64, 512, 45, 45) </text>\n",
              "</g>\n",
              "<!-- 14&#45;&gt;15 -->\n",
              "<g id=\"edge17\" class=\"edge\">\n",
              "<title>14&#45;&gt;15</title>\n",
              "<path fill=\"none\" stroke=\"black\" d=\"M235.78,-1955.63C234.55,-1947.82 233.11,-1938.73 231.77,-1930.18\"/>\n",
              "<polygon fill=\"black\" stroke=\"black\" points=\"235.2,-1929.49 230.18,-1920.16 228.29,-1930.58 235.2,-1929.49\"/>\n",
              "</g>\n",
              "<!-- 16 -->\n",
              "<g id=\"node17\" class=\"node\">\n",
              "<title>16</title>\n",
              "<polygon fill=\"#c1ffc1\" stroke=\"transparent\" points=\"331,-1842 113,-1842 113,-1800 331,-1800 331,-1842\"/>\n",
              "<polygon fill=\"none\" stroke=\"black\" points=\"113,-1800 113,-1842 190,-1842 190,-1800 113,-1800\"/>\n",
              "<text text-anchor=\"start\" x=\"118\" y=\"-1824\" font-family=\"Linux libertine\" font-size=\"10.00\">BatchNorm2d</text>\n",
              "<text text-anchor=\"start\" x=\"133\" y=\"-1813\" font-family=\"Linux libertine\" font-size=\"10.00\">depth:3</text>\n",
              "<polygon fill=\"none\" stroke=\"black\" points=\"190,-1821 190,-1842 238,-1842 238,-1821 190,-1821\"/>\n",
              "<text text-anchor=\"start\" x=\"200\" y=\"-1829\" font-family=\"Linux libertine\" font-size=\"10.00\">input:</text>\n",
              "<polygon fill=\"none\" stroke=\"black\" points=\"238,-1821 238,-1842 331,-1842 331,-1821 238,-1821\"/>\n",
              "<text text-anchor=\"start\" x=\"243\" y=\"-1829\" font-family=\"Linux libertine\" font-size=\"10.00\">(64, 512, 45, 45) </text>\n",
              "<polygon fill=\"none\" stroke=\"black\" points=\"190,-1800 190,-1821 238,-1821 238,-1800 190,-1800\"/>\n",
              "<text text-anchor=\"start\" x=\"195\" y=\"-1808\" font-family=\"Linux libertine\" font-size=\"10.00\">output: </text>\n",
              "<polygon fill=\"none\" stroke=\"black\" points=\"238,-1800 238,-1821 331,-1821 331,-1800 238,-1800\"/>\n",
              "<text text-anchor=\"start\" x=\"243\" y=\"-1808\" font-family=\"Linux libertine\" font-size=\"10.00\">(64, 512, 45, 45) </text>\n",
              "</g>\n",
              "<!-- 15&#45;&gt;16 -->\n",
              "<g id=\"edge18\" class=\"edge\">\n",
              "<title>15&#45;&gt;16</title>\n",
              "<path fill=\"none\" stroke=\"black\" d=\"M225.66,-1877.63C225.15,-1869.82 224.55,-1860.73 223.99,-1852.18\"/>\n",
              "<polygon fill=\"black\" stroke=\"black\" points=\"227.48,-1851.91 223.33,-1842.16 220.49,-1852.37 227.48,-1851.91\"/>\n",
              "</g>\n",
              "<!-- 17 -->\n",
              "<g id=\"node18\" class=\"node\">\n",
              "<title>17</title>\n",
              "<polygon fill=\"#c1ffc1\" stroke=\"transparent\" points=\"306,-1764 118,-1764 118,-1722 306,-1722 306,-1764\"/>\n",
              "<polygon fill=\"none\" stroke=\"black\" points=\"118,-1722 118,-1764 165,-1764 165,-1722 118,-1722\"/>\n",
              "<text text-anchor=\"start\" x=\"128.5\" y=\"-1746\" font-family=\"Linux libertine\" font-size=\"10.00\">ReLU</text>\n",
              "<text text-anchor=\"start\" x=\"123\" y=\"-1735\" font-family=\"Linux libertine\" font-size=\"10.00\">depth:3</text>\n",
              "<polygon fill=\"none\" stroke=\"black\" points=\"165,-1743 165,-1764 213,-1764 213,-1743 165,-1743\"/>\n",
              "<text text-anchor=\"start\" x=\"175\" y=\"-1751\" font-family=\"Linux libertine\" font-size=\"10.00\">input:</text>\n",
              "<polygon fill=\"none\" stroke=\"black\" points=\"213,-1743 213,-1764 306,-1764 306,-1743 213,-1743\"/>\n",
              "<text text-anchor=\"start\" x=\"218\" y=\"-1751\" font-family=\"Linux libertine\" font-size=\"10.00\">(64, 512, 45, 45) </text>\n",
              "<polygon fill=\"none\" stroke=\"black\" points=\"165,-1722 165,-1743 213,-1743 213,-1722 165,-1722\"/>\n",
              "<text text-anchor=\"start\" x=\"170\" y=\"-1730\" font-family=\"Linux libertine\" font-size=\"10.00\">output: </text>\n",
              "<polygon fill=\"none\" stroke=\"black\" points=\"213,-1722 213,-1743 306,-1743 306,-1722 213,-1722\"/>\n",
              "<text text-anchor=\"start\" x=\"218\" y=\"-1730\" font-family=\"Linux libertine\" font-size=\"10.00\">(64, 512, 45, 45) </text>\n",
              "</g>\n",
              "<!-- 16&#45;&gt;17 -->\n",
              "<g id=\"edge19\" class=\"edge\">\n",
              "<title>16&#45;&gt;17</title>\n",
              "<path fill=\"none\" stroke=\"black\" d=\"M219.32,-1799.63C218.29,-1791.82 217.1,-1782.73 215.97,-1774.18\"/>\n",
              "<polygon fill=\"black\" stroke=\"black\" points=\"219.43,-1773.62 214.65,-1764.16 212.49,-1774.53 219.43,-1773.62\"/>\n",
              "</g>\n",
              "<!-- 18 -->\n",
              "<g id=\"node19\" class=\"node\">\n",
              "<title>18</title>\n",
              "<polygon fill=\"#c1ffc1\" stroke=\"transparent\" points=\"311.5,-1677 74.5,-1677 74.5,-1635 311.5,-1635 311.5,-1677\"/>\n",
              "<polygon fill=\"none\" stroke=\"black\" points=\"75,-1635 75,-1677 171,-1677 171,-1635 75,-1635\"/>\n",
              "<text text-anchor=\"start\" x=\"80\" y=\"-1659\" font-family=\"Linux libertine\" font-size=\"10.00\">SeperableConv2d</text>\n",
              "<text text-anchor=\"start\" x=\"104.5\" y=\"-1648\" font-family=\"Linux libertine\" font-size=\"10.00\">depth:3</text>\n",
              "<polygon fill=\"none\" stroke=\"black\" points=\"171,-1656 171,-1677 219,-1677 219,-1656 171,-1656\"/>\n",
              "<text text-anchor=\"start\" x=\"181\" y=\"-1664\" font-family=\"Linux libertine\" font-size=\"10.00\">input:</text>\n",
              "<polygon fill=\"none\" stroke=\"black\" points=\"219,-1656 219,-1677 312,-1677 312,-1656 219,-1656\"/>\n",
              "<text text-anchor=\"start\" x=\"224\" y=\"-1664\" font-family=\"Linux libertine\" font-size=\"10.00\">(64, 512, 45, 45) </text>\n",
              "<polygon fill=\"none\" stroke=\"black\" points=\"171,-1635 171,-1656 219,-1656 219,-1635 171,-1635\"/>\n",
              "<text text-anchor=\"start\" x=\"176\" y=\"-1643\" font-family=\"Linux libertine\" font-size=\"10.00\">output: </text>\n",
              "<polygon fill=\"none\" stroke=\"black\" points=\"219,-1635 219,-1656 312,-1656 312,-1635 219,-1635\"/>\n",
              "<text text-anchor=\"start\" x=\"224\" y=\"-1643\" font-family=\"Linux libertine\" font-size=\"10.00\">(64, 512, 45, 45) </text>\n",
              "</g>\n",
              "<!-- 17&#45;&gt;18 -->\n",
              "<g id=\"edge20\" class=\"edge\">\n",
              "<title>17&#45;&gt;18</title>\n",
              "<path fill=\"none\" stroke=\"black\" d=\"M207.5,-1721.86C205.2,-1711.56 202.35,-1698.81 199.78,-1687.35\"/>\n",
              "<polygon fill=\"black\" stroke=\"black\" points=\"203.13,-1686.29 197.54,-1677.29 196.3,-1687.82 203.13,-1686.29\"/>\n",
              "</g>\n",
              "<!-- 19 -->\n",
              "<g id=\"node20\" class=\"node\">\n",
              "<title>19</title>\n",
              "<polygon fill=\"#c1ffc1\" stroke=\"transparent\" points=\"305,-1599 87,-1599 87,-1557 305,-1557 305,-1599\"/>\n",
              "<polygon fill=\"none\" stroke=\"black\" points=\"87,-1557 87,-1599 164,-1599 164,-1557 87,-1557\"/>\n",
              "<text text-anchor=\"start\" x=\"92\" y=\"-1581\" font-family=\"Linux libertine\" font-size=\"10.00\">BatchNorm2d</text>\n",
              "<text text-anchor=\"start\" x=\"107\" y=\"-1570\" font-family=\"Linux libertine\" font-size=\"10.00\">depth:3</text>\n",
              "<polygon fill=\"none\" stroke=\"black\" points=\"164,-1578 164,-1599 212,-1599 212,-1578 164,-1578\"/>\n",
              "<text text-anchor=\"start\" x=\"174\" y=\"-1586\" font-family=\"Linux libertine\" font-size=\"10.00\">input:</text>\n",
              "<polygon fill=\"none\" stroke=\"black\" points=\"212,-1578 212,-1599 305,-1599 305,-1578 212,-1578\"/>\n",
              "<text text-anchor=\"start\" x=\"217\" y=\"-1586\" font-family=\"Linux libertine\" font-size=\"10.00\">(64, 512, 45, 45) </text>\n",
              "<polygon fill=\"none\" stroke=\"black\" points=\"164,-1557 164,-1578 212,-1578 212,-1557 164,-1557\"/>\n",
              "<text text-anchor=\"start\" x=\"169\" y=\"-1565\" font-family=\"Linux libertine\" font-size=\"10.00\">output: </text>\n",
              "<polygon fill=\"none\" stroke=\"black\" points=\"212,-1557 212,-1578 305,-1578 305,-1557 212,-1557\"/>\n",
              "<text text-anchor=\"start\" x=\"217\" y=\"-1565\" font-family=\"Linux libertine\" font-size=\"10.00\">(64, 512, 45, 45) </text>\n",
              "</g>\n",
              "<!-- 18&#45;&gt;19 -->\n",
              "<g id=\"edge21\" class=\"edge\">\n",
              "<title>18&#45;&gt;19</title>\n",
              "<path fill=\"none\" stroke=\"black\" d=\"M193.8,-1634.63C194.11,-1626.82 194.47,-1617.73 194.81,-1609.18\"/>\n",
              "<polygon fill=\"black\" stroke=\"black\" points=\"198.31,-1609.29 195.2,-1599.16 191.31,-1609.01 198.31,-1609.29\"/>\n",
              "</g>\n",
              "<!-- 20 -->\n",
              "<g id=\"node21\" class=\"node\">\n",
              "<title>20</title>\n",
              "<polygon fill=\"#c1ffc1\" stroke=\"transparent\" points=\"306,-1521 100,-1521 100,-1479 306,-1479 306,-1521\"/>\n",
              "<polygon fill=\"none\" stroke=\"black\" points=\"100,-1479 100,-1521 165,-1521 165,-1479 100,-1479\"/>\n",
              "<text text-anchor=\"start\" x=\"105\" y=\"-1503\" font-family=\"Linux libertine\" font-size=\"10.00\">MaxPool2d</text>\n",
              "<text text-anchor=\"start\" x=\"114\" y=\"-1492\" font-family=\"Linux libertine\" font-size=\"10.00\">depth:3</text>\n",
              "<polygon fill=\"none\" stroke=\"black\" points=\"165,-1500 165,-1521 213,-1521 213,-1500 165,-1500\"/>\n",
              "<text text-anchor=\"start\" x=\"175\" y=\"-1508\" font-family=\"Linux libertine\" font-size=\"10.00\">input:</text>\n",
              "<polygon fill=\"none\" stroke=\"black\" points=\"213,-1500 213,-1521 306,-1521 306,-1500 213,-1500\"/>\n",
              "<text text-anchor=\"start\" x=\"218\" y=\"-1508\" font-family=\"Linux libertine\" font-size=\"10.00\">(64, 512, 45, 45) </text>\n",
              "<polygon fill=\"none\" stroke=\"black\" points=\"165,-1479 165,-1500 213,-1500 213,-1479 165,-1479\"/>\n",
              "<text text-anchor=\"start\" x=\"170\" y=\"-1487\" font-family=\"Linux libertine\" font-size=\"10.00\">output: </text>\n",
              "<polygon fill=\"none\" stroke=\"black\" points=\"213,-1479 213,-1500 306,-1500 306,-1479 213,-1479\"/>\n",
              "<text text-anchor=\"start\" x=\"218\" y=\"-1487\" font-family=\"Linux libertine\" font-size=\"10.00\">(64, 512, 23, 23) </text>\n",
              "</g>\n",
              "<!-- 19&#45;&gt;20 -->\n",
              "<g id=\"edge22\" class=\"edge\">\n",
              "<title>19&#45;&gt;20</title>\n",
              "<path fill=\"none\" stroke=\"black\" d=\"M197.88,-1556.63C198.6,-1548.82 199.43,-1539.73 200.22,-1531.18\"/>\n",
              "<polygon fill=\"black\" stroke=\"black\" points=\"203.71,-1531.44 201.14,-1521.16 196.74,-1530.8 203.71,-1531.44\"/>\n",
              "</g>\n",
              "<!-- 20&#45;&gt;21 -->\n",
              "<g id=\"edge23\" class=\"edge\">\n",
              "<title>20&#45;&gt;21</title>\n",
              "<path fill=\"none\" stroke=\"black\" d=\"M218.81,-1478.63C225.34,-1470.22 233.03,-1460.32 240.09,-1451.22\"/>\n",
              "<polygon fill=\"black\" stroke=\"black\" points=\"242.98,-1453.2 246.35,-1443.16 237.45,-1448.91 242.98,-1453.2\"/>\n",
              "</g>\n",
              "<!-- 22 -->\n",
              "<g id=\"node23\" class=\"node\">\n",
              "<title>22</title>\n",
              "<polygon fill=\"#c1ffc1\" stroke=\"transparent\" points=\"466,-850 278,-850 278,-808 466,-808 466,-850\"/>\n",
              "<polygon fill=\"none\" stroke=\"black\" points=\"278,-808 278,-850 325,-850 325,-808 278,-808\"/>\n",
              "<text text-anchor=\"start\" x=\"283\" y=\"-832\" font-family=\"Linux libertine\" font-size=\"10.00\">Conv2d</text>\n",
              "<text text-anchor=\"start\" x=\"283\" y=\"-821\" font-family=\"Linux libertine\" font-size=\"10.00\">depth:2</text>\n",
              "<polygon fill=\"none\" stroke=\"black\" points=\"325,-829 325,-850 373,-850 373,-829 325,-829\"/>\n",
              "<text text-anchor=\"start\" x=\"335\" y=\"-837\" font-family=\"Linux libertine\" font-size=\"10.00\">input:</text>\n",
              "<polygon fill=\"none\" stroke=\"black\" points=\"373,-829 373,-850 466,-850 466,-829 373,-829\"/>\n",
              "<text text-anchor=\"start\" x=\"378\" y=\"-837\" font-family=\"Linux libertine\" font-size=\"10.00\">(64, 512, 23, 23) </text>\n",
              "<polygon fill=\"none\" stroke=\"black\" points=\"325,-808 325,-829 373,-829 373,-808 325,-808\"/>\n",
              "<text text-anchor=\"start\" x=\"330\" y=\"-816\" font-family=\"Linux libertine\" font-size=\"10.00\">output: </text>\n",
              "<polygon fill=\"none\" stroke=\"black\" points=\"373,-808 373,-829 466,-829 466,-808 373,-808\"/>\n",
              "<text text-anchor=\"start\" x=\"378\" y=\"-816\" font-family=\"Linux libertine\" font-size=\"10.00\">(64, 728, 12, 12) </text>\n",
              "</g>\n",
              "<!-- 21&#45;&gt;22 -->\n",
              "<g id=\"edge24\" class=\"edge\">\n",
              "<title>21&#45;&gt;22</title>\n",
              "<path fill=\"none\" stroke=\"black\" d=\"M293.3,-1400.94C298.81,-1396.26 304.05,-1390.9 308,-1385 348.13,-1325.17 352,-1301.04 352,-1229 352,-1229 352,-1229 352,-984 352,-940.83 359.82,-891.42 365.69,-860.46\"/>\n",
              "<polygon fill=\"black\" stroke=\"black\" points=\"369.18,-860.8 367.66,-850.32 362.31,-859.46 369.18,-860.8\"/>\n",
              "</g>\n",
              "<!-- 23 -->\n",
              "<g id=\"node24\" class=\"node\">\n",
              "<title>23</title>\n",
              "<polygon fill=\"#c1ffc1\" stroke=\"transparent\" points=\"283,-1327 95,-1327 95,-1285 283,-1285 283,-1327\"/>\n",
              "<polygon fill=\"none\" stroke=\"black\" points=\"95,-1285 95,-1327 142,-1327 142,-1285 95,-1285\"/>\n",
              "<text text-anchor=\"start\" x=\"105.5\" y=\"-1309\" font-family=\"Linux libertine\" font-size=\"10.00\">ReLU</text>\n",
              "<text text-anchor=\"start\" x=\"100\" y=\"-1298\" font-family=\"Linux libertine\" font-size=\"10.00\">depth:3</text>\n",
              "<polygon fill=\"none\" stroke=\"black\" points=\"142,-1306 142,-1327 190,-1327 190,-1306 142,-1306\"/>\n",
              "<text text-anchor=\"start\" x=\"152\" y=\"-1314\" font-family=\"Linux libertine\" font-size=\"10.00\">input:</text>\n",
              "<polygon fill=\"none\" stroke=\"black\" points=\"190,-1306 190,-1327 283,-1327 283,-1306 190,-1306\"/>\n",
              "<text text-anchor=\"start\" x=\"195\" y=\"-1314\" font-family=\"Linux libertine\" font-size=\"10.00\">(64, 512, 23, 23) </text>\n",
              "<polygon fill=\"none\" stroke=\"black\" points=\"142,-1285 142,-1306 190,-1306 190,-1285 142,-1285\"/>\n",
              "<text text-anchor=\"start\" x=\"147\" y=\"-1293\" font-family=\"Linux libertine\" font-size=\"10.00\">output: </text>\n",
              "<polygon fill=\"none\" stroke=\"black\" points=\"190,-1285 190,-1306 283,-1306 283,-1285 190,-1285\"/>\n",
              "<text text-anchor=\"start\" x=\"195\" y=\"-1293\" font-family=\"Linux libertine\" font-size=\"10.00\">(64, 512, 23, 23) </text>\n",
              "</g>\n",
              "<!-- 21&#45;&gt;23 -->\n",
              "<g id=\"edge26\" class=\"edge\">\n",
              "<title>21&#45;&gt;23</title>\n",
              "<path fill=\"none\" stroke=\"black\" d=\"M249.12,-1400.88C237.56,-1382.84 220.48,-1356.16 207.47,-1335.85\"/>\n",
              "<polygon fill=\"black\" stroke=\"black\" points=\"210.34,-1333.83 202,-1327.3 204.44,-1337.61 210.34,-1333.83\"/>\n",
              "</g>\n",
              "<!-- 30 -->\n",
              "<g id=\"node31\" class=\"node\">\n",
              "<title>30</title>\n",
              "<polygon fill=\"aliceblue\" stroke=\"transparent\" points=\"366,-772 160,-772 160,-730 366,-730 366,-772\"/>\n",
              "<polygon fill=\"none\" stroke=\"black\" points=\"160,-730 160,-772 207,-772 207,-730 160,-730\"/>\n",
              "<text text-anchor=\"start\" x=\"174\" y=\"-754\" font-family=\"Linux libertine\" font-size=\"10.00\">add</text>\n",
              "<text text-anchor=\"start\" x=\"165\" y=\"-743\" font-family=\"Linux libertine\" font-size=\"10.00\">depth:2</text>\n",
              "<polygon fill=\"none\" stroke=\"black\" points=\"207,-751 207,-772 255,-772 255,-751 207,-751\"/>\n",
              "<text text-anchor=\"start\" x=\"217\" y=\"-759\" font-family=\"Linux libertine\" font-size=\"10.00\">input:</text>\n",
              "<polygon fill=\"none\" stroke=\"black\" points=\"255,-751 255,-772 366,-772 366,-751 255,-751\"/>\n",
              "<text text-anchor=\"start\" x=\"260\" y=\"-759\" font-family=\"Linux libertine\" font-size=\"10.00\">2 x (64, 728, 12, 12) </text>\n",
              "<polygon fill=\"none\" stroke=\"black\" points=\"207,-730 207,-751 255,-751 255,-730 207,-730\"/>\n",
              "<text text-anchor=\"start\" x=\"212\" y=\"-738\" font-family=\"Linux libertine\" font-size=\"10.00\">output: </text>\n",
              "<polygon fill=\"none\" stroke=\"black\" points=\"255,-730 255,-751 366,-751 366,-730 255,-730\"/>\n",
              "<text text-anchor=\"start\" x=\"269\" y=\"-738\" font-family=\"Linux libertine\" font-size=\"10.00\">(64, 728, 12, 12) </text>\n",
              "</g>\n",
              "<!-- 22&#45;&gt;30 -->\n",
              "<g id=\"edge25\" class=\"edge\">\n",
              "<title>22&#45;&gt;30</title>\n",
              "<path fill=\"none\" stroke=\"black\" d=\"M343.08,-807.83C330.02,-798.73 314.43,-787.86 300.49,-778.14\"/>\n",
              "<polygon fill=\"black\" stroke=\"black\" points=\"302.26,-775.11 292.06,-772.26 298.26,-780.85 302.26,-775.11\"/>\n",
              "</g>\n",
              "<!-- 24 -->\n",
              "<g id=\"node25\" class=\"node\">\n",
              "<title>24</title>\n",
              "<polygon fill=\"#c1ffc1\" stroke=\"transparent\" points=\"295.5,-1249 58.5,-1249 58.5,-1207 295.5,-1207 295.5,-1249\"/>\n",
              "<polygon fill=\"none\" stroke=\"black\" points=\"59,-1207 59,-1249 155,-1249 155,-1207 59,-1207\"/>\n",
              "<text text-anchor=\"start\" x=\"64\" y=\"-1231\" font-family=\"Linux libertine\" font-size=\"10.00\">SeperableConv2d</text>\n",
              "<text text-anchor=\"start\" x=\"88.5\" y=\"-1220\" font-family=\"Linux libertine\" font-size=\"10.00\">depth:3</text>\n",
              "<polygon fill=\"none\" stroke=\"black\" points=\"155,-1228 155,-1249 203,-1249 203,-1228 155,-1228\"/>\n",
              "<text text-anchor=\"start\" x=\"165\" y=\"-1236\" font-family=\"Linux libertine\" font-size=\"10.00\">input:</text>\n",
              "<polygon fill=\"none\" stroke=\"black\" points=\"203,-1228 203,-1249 296,-1249 296,-1228 203,-1228\"/>\n",
              "<text text-anchor=\"start\" x=\"208\" y=\"-1236\" font-family=\"Linux libertine\" font-size=\"10.00\">(64, 512, 23, 23) </text>\n",
              "<polygon fill=\"none\" stroke=\"black\" points=\"155,-1207 155,-1228 203,-1228 203,-1207 155,-1207\"/>\n",
              "<text text-anchor=\"start\" x=\"160\" y=\"-1215\" font-family=\"Linux libertine\" font-size=\"10.00\">output: </text>\n",
              "<polygon fill=\"none\" stroke=\"black\" points=\"203,-1207 203,-1228 296,-1228 296,-1207 203,-1207\"/>\n",
              "<text text-anchor=\"start\" x=\"208\" y=\"-1215\" font-family=\"Linux libertine\" font-size=\"10.00\">(64, 728, 23, 23) </text>\n",
              "</g>\n",
              "<!-- 23&#45;&gt;24 -->\n",
              "<g id=\"edge27\" class=\"edge\">\n",
              "<title>23&#45;&gt;24</title>\n",
              "<path fill=\"none\" stroke=\"black\" d=\"M185.78,-1284.63C184.55,-1276.82 183.11,-1267.73 181.77,-1259.18\"/>\n",
              "<polygon fill=\"black\" stroke=\"black\" points=\"185.2,-1258.49 180.18,-1249.16 178.29,-1259.58 185.2,-1258.49\"/>\n",
              "</g>\n",
              "<!-- 25 -->\n",
              "<g id=\"node26\" class=\"node\">\n",
              "<title>25</title>\n",
              "<polygon fill=\"#c1ffc1\" stroke=\"transparent\" points=\"281,-1171 63,-1171 63,-1129 281,-1129 281,-1171\"/>\n",
              "<polygon fill=\"none\" stroke=\"black\" points=\"63,-1129 63,-1171 140,-1171 140,-1129 63,-1129\"/>\n",
              "<text text-anchor=\"start\" x=\"68\" y=\"-1153\" font-family=\"Linux libertine\" font-size=\"10.00\">BatchNorm2d</text>\n",
              "<text text-anchor=\"start\" x=\"83\" y=\"-1142\" font-family=\"Linux libertine\" font-size=\"10.00\">depth:3</text>\n",
              "<polygon fill=\"none\" stroke=\"black\" points=\"140,-1150 140,-1171 188,-1171 188,-1150 140,-1150\"/>\n",
              "<text text-anchor=\"start\" x=\"150\" y=\"-1158\" font-family=\"Linux libertine\" font-size=\"10.00\">input:</text>\n",
              "<polygon fill=\"none\" stroke=\"black\" points=\"188,-1150 188,-1171 281,-1171 281,-1150 188,-1150\"/>\n",
              "<text text-anchor=\"start\" x=\"193\" y=\"-1158\" font-family=\"Linux libertine\" font-size=\"10.00\">(64, 728, 23, 23) </text>\n",
              "<polygon fill=\"none\" stroke=\"black\" points=\"140,-1129 140,-1150 188,-1150 188,-1129 140,-1129\"/>\n",
              "<text text-anchor=\"start\" x=\"145\" y=\"-1137\" font-family=\"Linux libertine\" font-size=\"10.00\">output: </text>\n",
              "<polygon fill=\"none\" stroke=\"black\" points=\"188,-1129 188,-1150 281,-1150 281,-1129 188,-1129\"/>\n",
              "<text text-anchor=\"start\" x=\"193\" y=\"-1137\" font-family=\"Linux libertine\" font-size=\"10.00\">(64, 728, 23, 23) </text>\n",
              "</g>\n",
              "<!-- 24&#45;&gt;25 -->\n",
              "<g id=\"edge28\" class=\"edge\">\n",
              "<title>24&#45;&gt;25</title>\n",
              "<path fill=\"none\" stroke=\"black\" d=\"M175.66,-1206.63C175.15,-1198.82 174.55,-1189.73 173.99,-1181.18\"/>\n",
              "<polygon fill=\"black\" stroke=\"black\" points=\"177.48,-1180.91 173.33,-1171.16 170.49,-1181.37 177.48,-1180.91\"/>\n",
              "</g>\n",
              "<!-- 26 -->\n",
              "<g id=\"node27\" class=\"node\">\n",
              "<title>26</title>\n",
              "<polygon fill=\"#c1ffc1\" stroke=\"transparent\" points=\"256,-1093 68,-1093 68,-1051 256,-1051 256,-1093\"/>\n",
              "<polygon fill=\"none\" stroke=\"black\" points=\"68,-1051 68,-1093 115,-1093 115,-1051 68,-1051\"/>\n",
              "<text text-anchor=\"start\" x=\"78.5\" y=\"-1075\" font-family=\"Linux libertine\" font-size=\"10.00\">ReLU</text>\n",
              "<text text-anchor=\"start\" x=\"73\" y=\"-1064\" font-family=\"Linux libertine\" font-size=\"10.00\">depth:3</text>\n",
              "<polygon fill=\"none\" stroke=\"black\" points=\"115,-1072 115,-1093 163,-1093 163,-1072 115,-1072\"/>\n",
              "<text text-anchor=\"start\" x=\"125\" y=\"-1080\" font-family=\"Linux libertine\" font-size=\"10.00\">input:</text>\n",
              "<polygon fill=\"none\" stroke=\"black\" points=\"163,-1072 163,-1093 256,-1093 256,-1072 163,-1072\"/>\n",
              "<text text-anchor=\"start\" x=\"168\" y=\"-1080\" font-family=\"Linux libertine\" font-size=\"10.00\">(64, 728, 23, 23) </text>\n",
              "<polygon fill=\"none\" stroke=\"black\" points=\"115,-1051 115,-1072 163,-1072 163,-1051 115,-1051\"/>\n",
              "<text text-anchor=\"start\" x=\"120\" y=\"-1059\" font-family=\"Linux libertine\" font-size=\"10.00\">output: </text>\n",
              "<polygon fill=\"none\" stroke=\"black\" points=\"163,-1051 163,-1072 256,-1072 256,-1051 163,-1051\"/>\n",
              "<text text-anchor=\"start\" x=\"168\" y=\"-1059\" font-family=\"Linux libertine\" font-size=\"10.00\">(64, 728, 23, 23) </text>\n",
              "</g>\n",
              "<!-- 25&#45;&gt;26 -->\n",
              "<g id=\"edge29\" class=\"edge\">\n",
              "<title>25&#45;&gt;26</title>\n",
              "<path fill=\"none\" stroke=\"black\" d=\"M169.32,-1128.63C168.29,-1120.82 167.1,-1111.73 165.97,-1103.18\"/>\n",
              "<polygon fill=\"black\" stroke=\"black\" points=\"169.43,-1102.62 164.65,-1093.16 162.49,-1103.53 169.43,-1102.62\"/>\n",
              "</g>\n",
              "<!-- 27 -->\n",
              "<g id=\"node28\" class=\"node\">\n",
              "<title>27</title>\n",
              "<polygon fill=\"#c1ffc1\" stroke=\"transparent\" points=\"261.5,-1006 24.5,-1006 24.5,-964 261.5,-964 261.5,-1006\"/>\n",
              "<polygon fill=\"none\" stroke=\"black\" points=\"25,-964 25,-1006 121,-1006 121,-964 25,-964\"/>\n",
              "<text text-anchor=\"start\" x=\"30\" y=\"-988\" font-family=\"Linux libertine\" font-size=\"10.00\">SeperableConv2d</text>\n",
              "<text text-anchor=\"start\" x=\"54.5\" y=\"-977\" font-family=\"Linux libertine\" font-size=\"10.00\">depth:3</text>\n",
              "<polygon fill=\"none\" stroke=\"black\" points=\"121,-985 121,-1006 169,-1006 169,-985 121,-985\"/>\n",
              "<text text-anchor=\"start\" x=\"131\" y=\"-993\" font-family=\"Linux libertine\" font-size=\"10.00\">input:</text>\n",
              "<polygon fill=\"none\" stroke=\"black\" points=\"169,-985 169,-1006 262,-1006 262,-985 169,-985\"/>\n",
              "<text text-anchor=\"start\" x=\"174\" y=\"-993\" font-family=\"Linux libertine\" font-size=\"10.00\">(64, 728, 23, 23) </text>\n",
              "<polygon fill=\"none\" stroke=\"black\" points=\"121,-964 121,-985 169,-985 169,-964 121,-964\"/>\n",
              "<text text-anchor=\"start\" x=\"126\" y=\"-972\" font-family=\"Linux libertine\" font-size=\"10.00\">output: </text>\n",
              "<polygon fill=\"none\" stroke=\"black\" points=\"169,-964 169,-985 262,-985 262,-964 169,-964\"/>\n",
              "<text text-anchor=\"start\" x=\"174\" y=\"-972\" font-family=\"Linux libertine\" font-size=\"10.00\">(64, 728, 23, 23) </text>\n",
              "</g>\n",
              "<!-- 26&#45;&gt;27 -->\n",
              "<g id=\"edge30\" class=\"edge\">\n",
              "<title>26&#45;&gt;27</title>\n",
              "<path fill=\"none\" stroke=\"black\" d=\"M157.5,-1050.86C155.2,-1040.56 152.35,-1027.81 149.78,-1016.35\"/>\n",
              "<polygon fill=\"black\" stroke=\"black\" points=\"153.13,-1015.29 147.54,-1006.29 146.3,-1016.82 153.13,-1015.29\"/>\n",
              "</g>\n",
              "<!-- 28 -->\n",
              "<g id=\"node29\" class=\"node\">\n",
              "<title>28</title>\n",
              "<polygon fill=\"#c1ffc1\" stroke=\"transparent\" points=\"255,-928 37,-928 37,-886 255,-886 255,-928\"/>\n",
              "<polygon fill=\"none\" stroke=\"black\" points=\"37,-886 37,-928 114,-928 114,-886 37,-886\"/>\n",
              "<text text-anchor=\"start\" x=\"42\" y=\"-910\" font-family=\"Linux libertine\" font-size=\"10.00\">BatchNorm2d</text>\n",
              "<text text-anchor=\"start\" x=\"57\" y=\"-899\" font-family=\"Linux libertine\" font-size=\"10.00\">depth:3</text>\n",
              "<polygon fill=\"none\" stroke=\"black\" points=\"114,-907 114,-928 162,-928 162,-907 114,-907\"/>\n",
              "<text text-anchor=\"start\" x=\"124\" y=\"-915\" font-family=\"Linux libertine\" font-size=\"10.00\">input:</text>\n",
              "<polygon fill=\"none\" stroke=\"black\" points=\"162,-907 162,-928 255,-928 255,-907 162,-907\"/>\n",
              "<text text-anchor=\"start\" x=\"167\" y=\"-915\" font-family=\"Linux libertine\" font-size=\"10.00\">(64, 728, 23, 23) </text>\n",
              "<polygon fill=\"none\" stroke=\"black\" points=\"114,-886 114,-907 162,-907 162,-886 114,-886\"/>\n",
              "<text text-anchor=\"start\" x=\"119\" y=\"-894\" font-family=\"Linux libertine\" font-size=\"10.00\">output: </text>\n",
              "<polygon fill=\"none\" stroke=\"black\" points=\"162,-886 162,-907 255,-907 255,-886 162,-886\"/>\n",
              "<text text-anchor=\"start\" x=\"167\" y=\"-894\" font-family=\"Linux libertine\" font-size=\"10.00\">(64, 728, 23, 23) </text>\n",
              "</g>\n",
              "<!-- 27&#45;&gt;28 -->\n",
              "<g id=\"edge31\" class=\"edge\">\n",
              "<title>27&#45;&gt;28</title>\n",
              "<path fill=\"none\" stroke=\"black\" d=\"M143.8,-963.63C144.11,-955.82 144.47,-946.73 144.81,-938.18\"/>\n",
              "<polygon fill=\"black\" stroke=\"black\" points=\"148.31,-938.29 145.2,-928.16 141.31,-938.01 148.31,-938.29\"/>\n",
              "</g>\n",
              "<!-- 29 -->\n",
              "<g id=\"node30\" class=\"node\">\n",
              "<title>29</title>\n",
              "<polygon fill=\"#c1ffc1\" stroke=\"transparent\" points=\"256,-850 50,-850 50,-808 256,-808 256,-850\"/>\n",
              "<polygon fill=\"none\" stroke=\"black\" points=\"50,-808 50,-850 115,-850 115,-808 50,-808\"/>\n",
              "<text text-anchor=\"start\" x=\"55\" y=\"-832\" font-family=\"Linux libertine\" font-size=\"10.00\">MaxPool2d</text>\n",
              "<text text-anchor=\"start\" x=\"64\" y=\"-821\" font-family=\"Linux libertine\" font-size=\"10.00\">depth:3</text>\n",
              "<polygon fill=\"none\" stroke=\"black\" points=\"115,-829 115,-850 163,-850 163,-829 115,-829\"/>\n",
              "<text text-anchor=\"start\" x=\"125\" y=\"-837\" font-family=\"Linux libertine\" font-size=\"10.00\">input:</text>\n",
              "<polygon fill=\"none\" stroke=\"black\" points=\"163,-829 163,-850 256,-850 256,-829 163,-829\"/>\n",
              "<text text-anchor=\"start\" x=\"168\" y=\"-837\" font-family=\"Linux libertine\" font-size=\"10.00\">(64, 728, 23, 23) </text>\n",
              "<polygon fill=\"none\" stroke=\"black\" points=\"115,-808 115,-829 163,-829 163,-808 115,-808\"/>\n",
              "<text text-anchor=\"start\" x=\"120\" y=\"-816\" font-family=\"Linux libertine\" font-size=\"10.00\">output: </text>\n",
              "<polygon fill=\"none\" stroke=\"black\" points=\"163,-808 163,-829 256,-829 256,-808 163,-808\"/>\n",
              "<text text-anchor=\"start\" x=\"168\" y=\"-816\" font-family=\"Linux libertine\" font-size=\"10.00\">(64, 728, 12, 12) </text>\n",
              "</g>\n",
              "<!-- 28&#45;&gt;29 -->\n",
              "<g id=\"edge32\" class=\"edge\">\n",
              "<title>28&#45;&gt;29</title>\n",
              "<path fill=\"none\" stroke=\"black\" d=\"M147.88,-885.63C148.6,-877.82 149.43,-868.73 150.22,-860.18\"/>\n",
              "<polygon fill=\"black\" stroke=\"black\" points=\"153.71,-860.44 151.14,-850.16 146.74,-859.8 153.71,-860.44\"/>\n",
              "</g>\n",
              "<!-- 29&#45;&gt;30 -->\n",
              "<g id=\"edge33\" class=\"edge\">\n",
              "<title>29&#45;&gt;30</title>\n",
              "<path fill=\"none\" stroke=\"black\" d=\"M182.19,-807.83C195.37,-798.73 211.1,-787.86 225.17,-778.14\"/>\n",
              "<polygon fill=\"black\" stroke=\"black\" points=\"227.44,-780.83 233.67,-772.26 223.46,-775.07 227.44,-780.83\"/>\n",
              "</g>\n",
              "<!-- 31 -->\n",
              "<g id=\"node32\" class=\"node\">\n",
              "<title>31</title>\n",
              "<polygon fill=\"#c1ffc1\" stroke=\"transparent\" points=\"357,-656 169,-656 169,-614 357,-614 357,-656\"/>\n",
              "<polygon fill=\"none\" stroke=\"black\" points=\"169,-614 169,-656 216,-656 216,-614 169,-614\"/>\n",
              "<text text-anchor=\"start\" x=\"174\" y=\"-638\" font-family=\"Linux libertine\" font-size=\"10.00\">Conv2d</text>\n",
              "<text text-anchor=\"start\" x=\"174\" y=\"-627\" font-family=\"Linux libertine\" font-size=\"10.00\">depth:3</text>\n",
              "<polygon fill=\"none\" stroke=\"black\" points=\"216,-635 216,-656 264,-656 264,-635 216,-635\"/>\n",
              "<text text-anchor=\"start\" x=\"226\" y=\"-643\" font-family=\"Linux libertine\" font-size=\"10.00\">input:</text>\n",
              "<polygon fill=\"none\" stroke=\"black\" points=\"264,-635 264,-656 357,-656 357,-635 264,-635\"/>\n",
              "<text text-anchor=\"start\" x=\"269\" y=\"-643\" font-family=\"Linux libertine\" font-size=\"10.00\">(64, 728, 12, 12) </text>\n",
              "<polygon fill=\"none\" stroke=\"black\" points=\"216,-614 216,-635 264,-635 264,-614 216,-614\"/>\n",
              "<text text-anchor=\"start\" x=\"221\" y=\"-622\" font-family=\"Linux libertine\" font-size=\"10.00\">output: </text>\n",
              "<polygon fill=\"none\" stroke=\"black\" points=\"264,-614 264,-635 357,-635 357,-614 264,-614\"/>\n",
              "<text text-anchor=\"start\" x=\"269\" y=\"-622\" font-family=\"Linux libertine\" font-size=\"10.00\">(64, 728, 12, 12) </text>\n",
              "</g>\n",
              "<!-- 30&#45;&gt;31 -->\n",
              "<g id=\"edge34\" class=\"edge\">\n",
              "<title>30&#45;&gt;31</title>\n",
              "<path fill=\"none\" stroke=\"black\" d=\"M263,-729.88C263,-712.33 263,-686.59 263,-666.5\"/>\n",
              "<polygon fill=\"black\" stroke=\"black\" points=\"266.5,-666.3 263,-656.3 259.5,-666.3 266.5,-666.3\"/>\n",
              "</g>\n",
              "<!-- 32 -->\n",
              "<g id=\"node33\" class=\"node\">\n",
              "<title>32</title>\n",
              "<polygon fill=\"#c1ffc1\" stroke=\"transparent\" points=\"360,-578 166,-578 166,-536 360,-536 360,-578\"/>\n",
              "<polygon fill=\"none\" stroke=\"black\" points=\"166,-536 166,-578 213,-578 213,-536 166,-536\"/>\n",
              "<text text-anchor=\"start\" x=\"171\" y=\"-560\" font-family=\"Linux libertine\" font-size=\"10.00\">Conv2d</text>\n",
              "<text text-anchor=\"start\" x=\"171\" y=\"-549\" font-family=\"Linux libertine\" font-size=\"10.00\">depth:3</text>\n",
              "<polygon fill=\"none\" stroke=\"black\" points=\"213,-557 213,-578 261,-578 261,-557 213,-557\"/>\n",
              "<text text-anchor=\"start\" x=\"223\" y=\"-565\" font-family=\"Linux libertine\" font-size=\"10.00\">input:</text>\n",
              "<polygon fill=\"none\" stroke=\"black\" points=\"261,-557 261,-578 360,-578 360,-557 261,-557\"/>\n",
              "<text text-anchor=\"start\" x=\"269\" y=\"-565\" font-family=\"Linux libertine\" font-size=\"10.00\">(64, 728, 12, 12) </text>\n",
              "<polygon fill=\"none\" stroke=\"black\" points=\"213,-536 213,-557 261,-557 261,-536 213,-536\"/>\n",
              "<text text-anchor=\"start\" x=\"218\" y=\"-544\" font-family=\"Linux libertine\" font-size=\"10.00\">output: </text>\n",
              "<polygon fill=\"none\" stroke=\"black\" points=\"261,-536 261,-557 360,-557 360,-536 261,-536\"/>\n",
              "<text text-anchor=\"start\" x=\"266\" y=\"-544\" font-family=\"Linux libertine\" font-size=\"10.00\">(64, 1024, 12, 12) </text>\n",
              "</g>\n",
              "<!-- 31&#45;&gt;32 -->\n",
              "<g id=\"edge35\" class=\"edge\">\n",
              "<title>31&#45;&gt;32</title>\n",
              "<path fill=\"none\" stroke=\"black\" d=\"M263,-613.63C263,-605.82 263,-596.73 263,-588.18\"/>\n",
              "<polygon fill=\"black\" stroke=\"black\" points=\"266.5,-588.16 263,-578.16 259.5,-588.16 266.5,-588.16\"/>\n",
              "</g>\n",
              "<!-- 33 -->\n",
              "<g id=\"node34\" class=\"node\">\n",
              "<title>33</title>\n",
              "<polygon fill=\"#c1ffc1\" stroke=\"transparent\" points=\"375,-500 151,-500 151,-458 375,-458 375,-500\"/>\n",
              "<polygon fill=\"none\" stroke=\"black\" points=\"151,-458 151,-500 228,-500 228,-458 151,-458\"/>\n",
              "<text text-anchor=\"start\" x=\"156\" y=\"-482\" font-family=\"Linux libertine\" font-size=\"10.00\">BatchNorm2d</text>\n",
              "<text text-anchor=\"start\" x=\"171\" y=\"-471\" font-family=\"Linux libertine\" font-size=\"10.00\">depth:2</text>\n",
              "<polygon fill=\"none\" stroke=\"black\" points=\"228,-479 228,-500 276,-500 276,-479 228,-479\"/>\n",
              "<text text-anchor=\"start\" x=\"238\" y=\"-487\" font-family=\"Linux libertine\" font-size=\"10.00\">input:</text>\n",
              "<polygon fill=\"none\" stroke=\"black\" points=\"276,-479 276,-500 375,-500 375,-479 276,-479\"/>\n",
              "<text text-anchor=\"start\" x=\"281\" y=\"-487\" font-family=\"Linux libertine\" font-size=\"10.00\">(64, 1024, 12, 12) </text>\n",
              "<polygon fill=\"none\" stroke=\"black\" points=\"228,-458 228,-479 276,-479 276,-458 228,-458\"/>\n",
              "<text text-anchor=\"start\" x=\"233\" y=\"-466\" font-family=\"Linux libertine\" font-size=\"10.00\">output: </text>\n",
              "<polygon fill=\"none\" stroke=\"black\" points=\"276,-458 276,-479 375,-479 375,-458 276,-458\"/>\n",
              "<text text-anchor=\"start\" x=\"281\" y=\"-466\" font-family=\"Linux libertine\" font-size=\"10.00\">(64, 1024, 12, 12) </text>\n",
              "</g>\n",
              "<!-- 32&#45;&gt;33 -->\n",
              "<g id=\"edge36\" class=\"edge\">\n",
              "<title>32&#45;&gt;33</title>\n",
              "<path fill=\"none\" stroke=\"black\" d=\"M263,-535.63C263,-527.82 263,-518.73 263,-510.18\"/>\n",
              "<polygon fill=\"black\" stroke=\"black\" points=\"266.5,-510.16 263,-500.16 259.5,-510.16 266.5,-510.16\"/>\n",
              "</g>\n",
              "<!-- 34 -->\n",
              "<g id=\"node35\" class=\"node\">\n",
              "<title>34</title>\n",
              "<polygon fill=\"#c1ffc1\" stroke=\"transparent\" points=\"360,-422 166,-422 166,-380 360,-380 360,-422\"/>\n",
              "<polygon fill=\"none\" stroke=\"black\" points=\"166,-380 166,-422 213,-422 213,-380 166,-380\"/>\n",
              "<text text-anchor=\"start\" x=\"176.5\" y=\"-404\" font-family=\"Linux libertine\" font-size=\"10.00\">ReLU</text>\n",
              "<text text-anchor=\"start\" x=\"171\" y=\"-393\" font-family=\"Linux libertine\" font-size=\"10.00\">depth:2</text>\n",
              "<polygon fill=\"none\" stroke=\"black\" points=\"213,-401 213,-422 261,-422 261,-401 213,-401\"/>\n",
              "<text text-anchor=\"start\" x=\"223\" y=\"-409\" font-family=\"Linux libertine\" font-size=\"10.00\">input:</text>\n",
              "<polygon fill=\"none\" stroke=\"black\" points=\"261,-401 261,-422 360,-422 360,-401 261,-401\"/>\n",
              "<text text-anchor=\"start\" x=\"266\" y=\"-409\" font-family=\"Linux libertine\" font-size=\"10.00\">(64, 1024, 12, 12) </text>\n",
              "<polygon fill=\"none\" stroke=\"black\" points=\"213,-380 213,-401 261,-401 261,-380 213,-380\"/>\n",
              "<text text-anchor=\"start\" x=\"218\" y=\"-388\" font-family=\"Linux libertine\" font-size=\"10.00\">output: </text>\n",
              "<polygon fill=\"none\" stroke=\"black\" points=\"261,-380 261,-401 360,-401 360,-380 261,-380\"/>\n",
              "<text text-anchor=\"start\" x=\"266\" y=\"-388\" font-family=\"Linux libertine\" font-size=\"10.00\">(64, 1024, 12, 12) </text>\n",
              "</g>\n",
              "<!-- 33&#45;&gt;34 -->\n",
              "<g id=\"edge37\" class=\"edge\">\n",
              "<title>33&#45;&gt;34</title>\n",
              "<path fill=\"none\" stroke=\"black\" d=\"M263,-457.63C263,-449.82 263,-440.73 263,-432.18\"/>\n",
              "<polygon fill=\"black\" stroke=\"black\" points=\"266.5,-432.16 263,-422.16 259.5,-432.16 266.5,-432.16\"/>\n",
              "</g>\n",
              "<!-- 35 -->\n",
              "<g id=\"node36\" class=\"node\">\n",
              "<title>35</title>\n",
              "<polygon fill=\"#c1ffc1\" stroke=\"transparent\" points=\"389,-344 137,-344 137,-302 389,-302 389,-344\"/>\n",
              "<polygon fill=\"none\" stroke=\"black\" points=\"137,-302 137,-344 242,-344 242,-302 137,-302\"/>\n",
              "<text text-anchor=\"start\" x=\"142\" y=\"-326\" font-family=\"Linux libertine\" font-size=\"10.00\">AdaptiveAvgPool2d</text>\n",
              "<text text-anchor=\"start\" x=\"171\" y=\"-315\" font-family=\"Linux libertine\" font-size=\"10.00\">depth:2</text>\n",
              "<polygon fill=\"none\" stroke=\"black\" points=\"242,-323 242,-344 290,-344 290,-323 242,-323\"/>\n",
              "<text text-anchor=\"start\" x=\"252\" y=\"-331\" font-family=\"Linux libertine\" font-size=\"10.00\">input:</text>\n",
              "<polygon fill=\"none\" stroke=\"black\" points=\"290,-323 290,-344 389,-344 389,-323 290,-323\"/>\n",
              "<text text-anchor=\"start\" x=\"295\" y=\"-331\" font-family=\"Linux libertine\" font-size=\"10.00\">(64, 1024, 12, 12) </text>\n",
              "<polygon fill=\"none\" stroke=\"black\" points=\"242,-302 242,-323 290,-323 290,-302 242,-302\"/>\n",
              "<text text-anchor=\"start\" x=\"247\" y=\"-310\" font-family=\"Linux libertine\" font-size=\"10.00\">output: </text>\n",
              "<polygon fill=\"none\" stroke=\"black\" points=\"290,-302 290,-323 389,-323 389,-302 290,-302\"/>\n",
              "<text text-anchor=\"start\" x=\"301\" y=\"-310\" font-family=\"Linux libertine\" font-size=\"10.00\">(64, 1024, 1, 1) </text>\n",
              "</g>\n",
              "<!-- 34&#45;&gt;35 -->\n",
              "<g id=\"edge38\" class=\"edge\">\n",
              "<title>34&#45;&gt;35</title>\n",
              "<path fill=\"none\" stroke=\"black\" d=\"M263,-379.63C263,-371.82 263,-362.73 263,-354.18\"/>\n",
              "<polygon fill=\"black\" stroke=\"black\" points=\"266.5,-354.16 263,-344.16 259.5,-354.16 266.5,-354.16\"/>\n",
              "</g>\n",
              "<!-- 36 -->\n",
              "<g id=\"node37\" class=\"node\">\n",
              "<title>36</title>\n",
              "<polygon fill=\"aliceblue\" stroke=\"transparent\" points=\"354,-266 172,-266 172,-224 354,-224 354,-266\"/>\n",
              "<polygon fill=\"none\" stroke=\"black\" points=\"172,-224 172,-266 219,-266 219,-224 172,-224\"/>\n",
              "<text text-anchor=\"start\" x=\"183.5\" y=\"-248\" font-family=\"Linux libertine\" font-size=\"10.00\">view</text>\n",
              "<text text-anchor=\"start\" x=\"177\" y=\"-237\" font-family=\"Linux libertine\" font-size=\"10.00\">depth:1</text>\n",
              "<polygon fill=\"none\" stroke=\"black\" points=\"219,-245 219,-266 267,-266 267,-245 219,-245\"/>\n",
              "<text text-anchor=\"start\" x=\"229\" y=\"-253\" font-family=\"Linux libertine\" font-size=\"10.00\">input:</text>\n",
              "<polygon fill=\"none\" stroke=\"black\" points=\"267,-245 267,-266 354,-266 354,-245 267,-245\"/>\n",
              "<text text-anchor=\"start\" x=\"272\" y=\"-253\" font-family=\"Linux libertine\" font-size=\"10.00\">(64, 1024, 1, 1) </text>\n",
              "<polygon fill=\"none\" stroke=\"black\" points=\"219,-224 219,-245 267,-245 267,-224 219,-224\"/>\n",
              "<text text-anchor=\"start\" x=\"224\" y=\"-232\" font-family=\"Linux libertine\" font-size=\"10.00\">output: </text>\n",
              "<polygon fill=\"none\" stroke=\"black\" points=\"267,-224 267,-245 354,-245 354,-224 267,-224\"/>\n",
              "<text text-anchor=\"start\" x=\"284\" y=\"-232\" font-family=\"Linux libertine\" font-size=\"10.00\">(64, 1024) </text>\n",
              "</g>\n",
              "<!-- 35&#45;&gt;36 -->\n",
              "<g id=\"edge39\" class=\"edge\">\n",
              "<title>35&#45;&gt;36</title>\n",
              "<path fill=\"none\" stroke=\"black\" d=\"M263,-301.63C263,-293.82 263,-284.73 263,-276.18\"/>\n",
              "<polygon fill=\"black\" stroke=\"black\" points=\"266.5,-276.16 263,-266.16 259.5,-276.16 266.5,-276.16\"/>\n",
              "</g>\n",
              "<!-- 37 -->\n",
              "<g id=\"node38\" class=\"node\">\n",
              "<title>37</title>\n",
              "<polygon fill=\"#c1ffc1\" stroke=\"transparent\" points=\"343.5,-188 182.5,-188 182.5,-146 343.5,-146 343.5,-188\"/>\n",
              "<polygon fill=\"none\" stroke=\"black\" points=\"183,-146 183,-188 233,-188 233,-146 183,-146\"/>\n",
              "<text text-anchor=\"start\" x=\"188\" y=\"-170\" font-family=\"Linux libertine\" font-size=\"10.00\">Dropout</text>\n",
              "<text text-anchor=\"start\" x=\"189.5\" y=\"-159\" font-family=\"Linux libertine\" font-size=\"10.00\">depth:1</text>\n",
              "<polygon fill=\"none\" stroke=\"black\" points=\"233,-167 233,-188 281,-188 281,-167 233,-167\"/>\n",
              "<text text-anchor=\"start\" x=\"243\" y=\"-175\" font-family=\"Linux libertine\" font-size=\"10.00\">input:</text>\n",
              "<polygon fill=\"none\" stroke=\"black\" points=\"281,-167 281,-188 344,-188 344,-167 281,-167\"/>\n",
              "<text text-anchor=\"start\" x=\"286\" y=\"-175\" font-family=\"Linux libertine\" font-size=\"10.00\">(64, 1024) </text>\n",
              "<polygon fill=\"none\" stroke=\"black\" points=\"233,-146 233,-167 281,-167 281,-146 233,-146\"/>\n",
              "<text text-anchor=\"start\" x=\"238\" y=\"-154\" font-family=\"Linux libertine\" font-size=\"10.00\">output: </text>\n",
              "<polygon fill=\"none\" stroke=\"black\" points=\"281,-146 281,-167 344,-167 344,-146 281,-146\"/>\n",
              "<text text-anchor=\"start\" x=\"286\" y=\"-154\" font-family=\"Linux libertine\" font-size=\"10.00\">(64, 1024) </text>\n",
              "</g>\n",
              "<!-- 36&#45;&gt;37 -->\n",
              "<g id=\"edge40\" class=\"edge\">\n",
              "<title>36&#45;&gt;37</title>\n",
              "<path fill=\"none\" stroke=\"black\" d=\"M263,-223.63C263,-215.82 263,-206.73 263,-198.18\"/>\n",
              "<polygon fill=\"black\" stroke=\"black\" points=\"266.5,-198.16 263,-188.16 259.5,-198.16 266.5,-198.16\"/>\n",
              "</g>\n",
              "<!-- 38 -->\n",
              "<g id=\"node39\" class=\"node\">\n",
              "<title>38</title>\n",
              "<polygon fill=\"#c1ffc1\" stroke=\"transparent\" points=\"342,-110 184,-110 184,-68 342,-68 342,-110\"/>\n",
              "<polygon fill=\"none\" stroke=\"black\" points=\"184,-68 184,-110 231,-110 231,-68 184,-68\"/>\n",
              "<text text-anchor=\"start\" x=\"192\" y=\"-92\" font-family=\"Linux libertine\" font-size=\"10.00\">Linear</text>\n",
              "<text text-anchor=\"start\" x=\"189\" y=\"-81\" font-family=\"Linux libertine\" font-size=\"10.00\">depth:1</text>\n",
              "<polygon fill=\"none\" stroke=\"black\" points=\"231,-89 231,-110 279,-110 279,-89 231,-89\"/>\n",
              "<text text-anchor=\"start\" x=\"241\" y=\"-97\" font-family=\"Linux libertine\" font-size=\"10.00\">input:</text>\n",
              "<polygon fill=\"none\" stroke=\"black\" points=\"279,-89 279,-110 342,-110 342,-89 279,-89\"/>\n",
              "<text text-anchor=\"start\" x=\"284\" y=\"-97\" font-family=\"Linux libertine\" font-size=\"10.00\">(64, 1024) </text>\n",
              "<polygon fill=\"none\" stroke=\"black\" points=\"231,-68 231,-89 279,-89 279,-68 231,-68\"/>\n",
              "<text text-anchor=\"start\" x=\"236\" y=\"-76\" font-family=\"Linux libertine\" font-size=\"10.00\">output: </text>\n",
              "<polygon fill=\"none\" stroke=\"black\" points=\"279,-68 279,-89 342,-89 342,-68 279,-68\"/>\n",
              "<text text-anchor=\"start\" x=\"293\" y=\"-76\" font-family=\"Linux libertine\" font-size=\"10.00\">(64, 2) </text>\n",
              "</g>\n",
              "<!-- 37&#45;&gt;38 -->\n",
              "<g id=\"edge41\" class=\"edge\">\n",
              "<title>37&#45;&gt;38</title>\n",
              "<path fill=\"none\" stroke=\"black\" d=\"M263,-145.63C263,-137.82 263,-128.73 263,-120.18\"/>\n",
              "<polygon fill=\"black\" stroke=\"black\" points=\"266.5,-120.16 263,-110.16 259.5,-120.16 266.5,-120.16\"/>\n",
              "</g>\n",
              "<!-- 39 -->\n",
              "<g id=\"node40\" class=\"node\">\n",
              "<title>39</title>\n",
              "<polygon fill=\"lightyellow\" stroke=\"transparent\" points=\"322.5,-32 203.5,-32 203.5,0 322.5,0 322.5,-32\"/>\n",
              "<polygon fill=\"none\" stroke=\"black\" points=\"204,0 204,-32 281,-32 281,0 204,0\"/>\n",
              "<text text-anchor=\"start\" x=\"209\" y=\"-19\" font-family=\"Linux libertine\" font-size=\"10.00\">output&#45;tensor</text>\n",
              "<text text-anchor=\"start\" x=\"224\" y=\"-8\" font-family=\"Linux libertine\" font-size=\"10.00\">depth:0</text>\n",
              "<polygon fill=\"none\" stroke=\"black\" points=\"281,0 281,-32 323,-32 323,0 281,0\"/>\n",
              "<text text-anchor=\"start\" x=\"286\" y=\"-13.5\" font-family=\"Linux libertine\" font-size=\"10.00\">(64, 2)</text>\n",
              "</g>\n",
              "<!-- 38&#45;&gt;39 -->\n",
              "<g id=\"edge42\" class=\"edge\">\n",
              "<title>38&#45;&gt;39</title>\n",
              "<path fill=\"none\" stroke=\"black\" d=\"M263,-67.84C263,-59.89 263,-50.66 263,-42.26\"/>\n",
              "<polygon fill=\"black\" stroke=\"black\" points=\"266.5,-42.24 263,-32.24 259.5,-42.24 266.5,-42.24\"/>\n",
              "</g>\n",
              "</g>\n",
              "</svg>\n"
            ],
            "text/plain": [
              "<graphviz.graphs.Digraph at 0x7f63fd59da20>"
            ]
          },
          "execution_count": 15,
          "metadata": {},
          "output_type": "execute_result"
        }
      ],
      "source": [
        "model_graph = draw_graph(model, input_size = (BATCH_SIZE, 3, 180, 180), expand_nested=True) # device='meta' -> no memory is consumed for visualization\n",
        "model_graph.visual_graph"
      ]
    },
    {
      "cell_type": "markdown",
      "id": "O4NrYZ6qEE1H",
      "metadata": {
        "id": "O4NrYZ6qEE1H"
      },
      "source": [
        "Note: Torch-summary provides information complementary to what is provided by print(model) in PyTorch."
      ]
    },
    {
      "cell_type": "code",
      "execution_count": null,
      "id": "629dd3eb",
      "metadata": {
        "id": "629dd3eb",
        "outputId": "61ec3c27-4950-4845-ea7d-340555ccd1bf"
      },
      "outputs": [
        {
          "name": "stdout",
          "output_type": "stream",
          "text": [
            "----------------------------------------------------------------\n",
            "        Layer (type)               Output Shape         Param #\n",
            "================================================================\n",
            "            Conv2d-1          [-1, 128, 90, 90]           3,584\n",
            "       BatchNorm2d-2          [-1, 128, 90, 90]             256\n",
            "              ReLU-3          [-1, 128, 90, 90]               0\n",
            "            Conv2d-4          [-1, 256, 45, 45]          33,024\n",
            "              ReLU-5          [-1, 128, 90, 90]               0\n",
            "            Conv2d-6          [-1, 128, 90, 90]           1,280\n",
            "            Conv2d-7          [-1, 256, 90, 90]          33,024\n",
            "   SeperableConv2d-8          [-1, 256, 90, 90]               0\n",
            "       BatchNorm2d-9          [-1, 256, 90, 90]             512\n",
            "             ReLU-10          [-1, 256, 90, 90]               0\n",
            "           Conv2d-11          [-1, 256, 90, 90]           2,560\n",
            "           Conv2d-12          [-1, 256, 90, 90]          65,792\n",
            "  SeperableConv2d-13          [-1, 256, 90, 90]               0\n",
            "      BatchNorm2d-14          [-1, 256, 90, 90]             512\n",
            "        MaxPool2d-15          [-1, 256, 45, 45]               0\n",
            "       MinorBlock-16          [-1, 256, 45, 45]               0\n",
            "           Conv2d-17          [-1, 512, 23, 23]         131,584\n",
            "             ReLU-18          [-1, 256, 45, 45]               0\n",
            "           Conv2d-19          [-1, 256, 45, 45]           2,560\n",
            "           Conv2d-20          [-1, 512, 45, 45]         131,584\n",
            "  SeperableConv2d-21          [-1, 512, 45, 45]               0\n",
            "      BatchNorm2d-22          [-1, 512, 45, 45]           1,024\n",
            "             ReLU-23          [-1, 512, 45, 45]               0\n",
            "           Conv2d-24          [-1, 512, 45, 45]           5,120\n",
            "           Conv2d-25          [-1, 512, 45, 45]         262,656\n",
            "  SeperableConv2d-26          [-1, 512, 45, 45]               0\n",
            "      BatchNorm2d-27          [-1, 512, 45, 45]           1,024\n",
            "        MaxPool2d-28          [-1, 512, 23, 23]               0\n",
            "       MinorBlock-29          [-1, 512, 23, 23]               0\n",
            "           Conv2d-30          [-1, 728, 12, 12]         373,464\n",
            "             ReLU-31          [-1, 512, 23, 23]               0\n",
            "           Conv2d-32          [-1, 512, 23, 23]           5,120\n",
            "           Conv2d-33          [-1, 728, 23, 23]         373,464\n",
            "  SeperableConv2d-34          [-1, 728, 23, 23]               0\n",
            "      BatchNorm2d-35          [-1, 728, 23, 23]           1,456\n",
            "             ReLU-36          [-1, 728, 23, 23]               0\n",
            "           Conv2d-37          [-1, 728, 23, 23]           7,280\n",
            "           Conv2d-38          [-1, 728, 23, 23]         530,712\n",
            "  SeperableConv2d-39          [-1, 728, 23, 23]               0\n",
            "      BatchNorm2d-40          [-1, 728, 23, 23]           1,456\n",
            "        MaxPool2d-41          [-1, 728, 12, 12]               0\n",
            "       MinorBlock-42          [-1, 728, 12, 12]               0\n",
            "           Conv2d-43          [-1, 728, 12, 12]           7,280\n",
            "           Conv2d-44         [-1, 1024, 12, 12]         746,496\n",
            "  SeperableConv2d-45         [-1, 1024, 12, 12]               0\n",
            "      BatchNorm2d-46         [-1, 1024, 12, 12]           2,048\n",
            "             ReLU-47         [-1, 1024, 12, 12]               0\n",
            "AdaptiveAvgPool2d-48           [-1, 1024, 1, 1]               0\n",
            "          Dropout-49                 [-1, 1024]               0\n",
            "           Linear-50                    [-1, 2]           2,050\n",
            "================================================================\n",
            "Total params: 2,726,922\n",
            "Trainable params: 2,726,922\n",
            "Non-trainable params: 0\n",
            "----------------------------------------------------------------\n",
            "Input size (MB): 0.37\n",
            "Forward/backward pass size (MB): 290.72\n",
            "Params size (MB): 10.40\n",
            "Estimated Total Size (MB): 301.50\n",
            "----------------------------------------------------------------\n"
          ]
        }
      ],
      "source": [
        "summary(model, (3, 180, 180))"
      ]
    },
    {
      "cell_type": "markdown",
      "id": "1d4d6352",
      "metadata": {
        "id": "1d4d6352"
      },
      "source": [
        "## Training loop"
      ]
    },
    {
      "cell_type": "code",
      "execution_count": 19,
      "id": "5dda0e8e",
      "metadata": {
        "colab": {
          "base_uri": "https://localhost:8080/"
        },
        "id": "5dda0e8e",
        "outputId": "b442b5fd-6402-4f43-ea5b-ba6207d2bb3c"
      },
      "outputs": [
        {
          "name": "stderr",
          "output_type": "stream",
          "text": [
            "100%|██████████| 312/312 [04:53<00:00,  1.06it/s]\n"
          ]
        },
        {
          "name": "stdout",
          "output_type": "stream",
          "text": [
            "Epoch 1: , train accuracy: 0.6911605000495911, train loss: 0.5825380883537806, test_accuracy: 0.790493369102478, test_loss: 0.46634375437712056\n"
          ]
        },
        {
          "name": "stderr",
          "output_type": "stream",
          "text": [
            "100%|██████████| 312/312 [04:39<00:00,  1.12it/s]\n"
          ]
        },
        {
          "name": "stdout",
          "output_type": "stream",
          "text": [
            "Epoch 2: , train accuracy: 0.6409325003623962, train loss: 0.6421714613261895, test_accuracy: 0.7133699655532837, test_loss: 0.5588414711065781\n"
          ]
        },
        {
          "name": "stderr",
          "output_type": "stream",
          "text": [
            "100%|██████████| 312/312 [04:39<00:00,  1.11it/s]\n"
          ]
        },
        {
          "name": "stdout",
          "output_type": "stream",
          "text": [
            "Epoch 3: , train accuracy: 0.7552875280380249, train loss: 0.5013514276689444, test_accuracy: 0.7831387519836426, test_loss: 0.46816316667275554\n"
          ]
        },
        {
          "name": "stderr",
          "output_type": "stream",
          "text": [
            "100%|██████████| 312/312 [04:39<00:00,  1.11it/s]\n"
          ]
        },
        {
          "name": "stdout",
          "output_type": "stream",
          "text": [
            "Epoch 4: , train accuracy: 0.8352387547492981, train loss: 0.3671659298050098, test_accuracy: 0.8796932697296143, test_loss: 0.28422696869342756\n"
          ]
        },
        {
          "name": "stderr",
          "output_type": "stream",
          "text": [
            "100%|██████████| 312/312 [04:40<00:00,  1.11it/s]\n"
          ]
        },
        {
          "name": "stdout",
          "output_type": "stream",
          "text": [
            "Epoch 5: , train accuracy: 0.8822884559631348, train loss: 0.27078800961279714, test_accuracy: 0.9131181240081787, test_loss: 0.19741097369637245\n"
          ]
        },
        {
          "name": "stderr",
          "output_type": "stream",
          "text": [
            "100%|██████████| 312/312 [04:40<00:00,  1.11it/s]\n"
          ]
        },
        {
          "name": "stdout",
          "output_type": "stream",
          "text": [
            "Epoch 6: , train accuracy: 0.9070536494255066, train loss: 0.21847404336604553, test_accuracy: 0.9108573794364929, test_loss: 0.20326428172680047\n"
          ]
        },
        {
          "name": "stderr",
          "output_type": "stream",
          "text": [
            "100%|██████████| 312/312 [04:40<00:00,  1.11it/s]\n"
          ]
        },
        {
          "name": "stdout",
          "output_type": "stream",
          "text": [
            "Epoch 7: , train accuracy: 0.9252828359603882, train loss: 0.1791010006951789, test_accuracy: 0.9369849562644958, test_loss: 0.15052539415848562\n"
          ]
        },
        {
          "name": "stderr",
          "output_type": "stream",
          "text": [
            "100%|██████████| 312/312 [04:42<00:00,  1.10it/s]\n"
          ]
        },
        {
          "name": "stdout",
          "output_type": "stream",
          "text": [
            "Epoch 8: , train accuracy: 0.9339222311973572, train loss: 0.16100798663086233, test_accuracy: 0.93855881690979, test_loss: 0.15580870917974374\n"
          ]
        },
        {
          "name": "stderr",
          "output_type": "stream",
          "text": [
            "100%|██████████| 312/312 [04:41<00:00,  1.11it/s]\n"
          ]
        },
        {
          "name": "stdout",
          "output_type": "stream",
          "text": [
            "Epoch 9: , train accuracy: 0.9395533204078674, train loss: 0.1458048400743745, test_accuracy: 0.9305459856987, test_loss: 0.16495257052473533\n"
          ]
        },
        {
          "name": "stderr",
          "output_type": "stream",
          "text": [
            "100%|██████████| 312/312 [04:40<00:00,  1.11it/s]\n"
          ]
        },
        {
          "name": "stdout",
          "output_type": "stream",
          "text": [
            "Epoch 10: , train accuracy: 0.9430099725723267, train loss: 0.13808036418870473, test_accuracy: 0.9370135068893433, test_loss: 0.1486805551327192\n"
          ]
        },
        {
          "name": "stderr",
          "output_type": "stream",
          "text": [
            "100%|██████████| 312/312 [04:40<00:00,  1.11it/s]\n"
          ]
        },
        {
          "name": "stdout",
          "output_type": "stream",
          "text": [
            "Epoch 11: , train accuracy: 0.9521490335464478, train loss: 0.12183893784188116, test_accuracy: 0.9451408386230469, test_loss: 0.15500745196373034\n"
          ]
        },
        {
          "name": "stderr",
          "output_type": "stream",
          "text": [
            "100%|██████████| 312/312 [04:40<00:00,  1.11it/s]\n"
          ]
        },
        {
          "name": "stdout",
          "output_type": "stream",
          "text": [
            "Epoch 12: , train accuracy: 0.9548801779747009, train loss: 0.11373375227245, test_accuracy: 0.9552426338195801, test_loss: 0.12855225247450364\n"
          ]
        },
        {
          "name": "stderr",
          "output_type": "stream",
          "text": [
            "100%|██████████| 312/312 [04:40<00:00,  1.11it/s]\n"
          ]
        },
        {
          "name": "stdout",
          "output_type": "stream",
          "text": [
            "Epoch 13: , train accuracy: 0.9589855670928955, train loss: 0.10249016433357237, test_accuracy: 0.9578754901885986, test_loss: 0.10779898286534426\n"
          ]
        },
        {
          "name": "stderr",
          "output_type": "stream",
          "text": [
            "100%|██████████| 312/312 [04:41<00:00,  1.11it/s]\n"
          ]
        },
        {
          "name": "stdout",
          "output_type": "stream",
          "text": [
            "Epoch 14: , train accuracy: 0.957633376121521, train loss: 0.10275398063151023, test_accuracy: 0.9522378444671631, test_loss: 0.1251061549052023\n"
          ]
        },
        {
          "name": "stderr",
          "output_type": "stream",
          "text": [
            "100%|██████████| 312/312 [04:41<00:00,  1.11it/s]\n"
          ]
        },
        {
          "name": "stdout",
          "output_type": "stream",
          "text": [
            "Epoch 15: , train accuracy: 0.9608384966850281, train loss: 0.09574079188780907, test_accuracy: 0.9600503444671631, test_loss: 0.11674043673496598\n"
          ]
        },
        {
          "name": "stderr",
          "output_type": "stream",
          "text": [
            "100%|██████████| 312/312 [04:40<00:00,  1.11it/s]\n"
          ]
        },
        {
          "name": "stdout",
          "output_type": "stream",
          "text": [
            "Epoch 16: , train accuracy: 0.9650452733039856, train loss: 0.08971408176092574, test_accuracy: 0.9526099562644958, test_loss: 0.12386222635037623\n"
          ]
        },
        {
          "name": "stderr",
          "output_type": "stream",
          "text": [
            "100%|██████████| 312/312 [04:40<00:00,  1.11it/s]\n"
          ]
        },
        {
          "name": "stdout",
          "output_type": "stream",
          "text": [
            "Epoch 17: , train accuracy: 0.9676249623298645, train loss: 0.08358596461263144, test_accuracy: 0.9620535373687744, test_loss: 0.10803933479847053\n"
          ]
        },
        {
          "name": "stderr",
          "output_type": "stream",
          "text": [
            "100%|██████████| 312/312 [04:40<00:00,  1.11it/s]\n"
          ]
        },
        {
          "name": "stdout",
          "output_type": "stream",
          "text": [
            "Epoch 18: , train accuracy: 0.9681746959686279, train loss: 0.08401203618790859, test_accuracy: 0.9634272456169128, test_loss: 0.10821598386153197\n"
          ]
        },
        {
          "name": "stderr",
          "output_type": "stream",
          "text": [
            "100%|██████████| 312/312 [04:41<00:00,  1.11it/s]\n"
          ]
        },
        {
          "name": "stdout",
          "output_type": "stream",
          "text": [
            "Epoch 19: , train accuracy: 0.9650697112083435, train loss: 0.08632073786187296, test_accuracy: 0.9337511658668518, test_loss: 0.15587921177920622\n"
          ]
        },
        {
          "name": "stderr",
          "output_type": "stream",
          "text": [
            "100%|██████████| 312/312 [04:40<00:00,  1.11it/s]\n"
          ]
        },
        {
          "name": "stdout",
          "output_type": "stream",
          "text": [
            "Epoch 20: , train accuracy: 0.9692507982254028, train loss: 0.07701409017038084, test_accuracy: 0.9582189321517944, test_loss: 0.10578517337592366\n"
          ]
        },
        {
          "name": "stderr",
          "output_type": "stream",
          "text": [
            "100%|██████████| 312/312 [04:40<00:00,  1.11it/s]\n"
          ]
        },
        {
          "name": "stdout",
          "output_type": "stream",
          "text": [
            "Epoch 21: , train accuracy: 0.9695268273353577, train loss: 0.07500014691770328, test_accuracy: 0.9610519409179688, test_loss: 0.10019494630157566\n"
          ]
        },
        {
          "name": "stderr",
          "output_type": "stream",
          "text": [
            "100%|██████████| 312/312 [04:40<00:00,  1.11it/s]\n"
          ]
        },
        {
          "name": "stdout",
          "output_type": "stream",
          "text": [
            "Epoch 22: , train accuracy: 0.9737848043441772, train loss: 0.06962670328823897, test_accuracy: 0.9624828696250916, test_loss: 0.09184888215401234\n"
          ]
        },
        {
          "name": "stderr",
          "output_type": "stream",
          "text": [
            "100%|██████████| 312/312 [04:40<00:00,  1.11it/s]\n"
          ]
        },
        {
          "name": "stdout",
          "output_type": "stream",
          "text": [
            "Epoch 23: , train accuracy: 0.9734587073326111, train loss: 0.06594463616672258, test_accuracy: 0.9570455551147461, test_loss: 0.12358796756523542\n"
          ]
        },
        {
          "name": "stderr",
          "output_type": "stream",
          "text": [
            "100%|██████████| 312/312 [04:40<00:00,  1.11it/s]\n"
          ]
        },
        {
          "name": "stdout",
          "output_type": "stream",
          "text": [
            "Epoch 24: , train accuracy: 0.9735344052314758, train loss: 0.0669445592636923, test_accuracy: 0.9670902490615845, test_loss: 0.09146802756601037\n"
          ]
        },
        {
          "name": "stderr",
          "output_type": "stream",
          "text": [
            "100%|██████████| 312/312 [04:40<00:00,  1.11it/s]\n"
          ]
        },
        {
          "name": "stdout",
          "output_type": "stream",
          "text": [
            "Epoch 25: , train accuracy: 0.9746350049972534, train loss: 0.06618074920604555, test_accuracy: 0.9602793455123901, test_loss: 0.11505169303228076\n"
          ]
        }
      ],
      "source": [
        "# Training loop\n",
        "train_loss_list = []\n",
        "test_loss_list = []\n",
        "train_acc_list = []\n",
        "test_acc_list = []\n",
        "model.train()\n",
        "for epoch in range(NUM_EPOCHS):\n",
        "    losses = 0\n",
        "    epoch_loss = 0.0\n",
        "    epoch_accuracy = 0.0\n",
        "\n",
        "    for images, labels in tqdm(train_loader):\n",
        "        # push images and labels to device to get CPU support\n",
        "        images = images.to(device)\n",
        "        labels = labels.to(device)\n",
        "        predic_labels = model(images).to(device)\n",
        "        # Zero the gradients\n",
        "        optimizer.zero_grad()\n",
        "        # Forward pass\n",
        "        loss = criterion(predic_labels, labels)\n",
        "        # Backward pass and optimization\n",
        "        loss.backward()\n",
        "        optimizer.step()\n",
        "        losses += loss.item()\n",
        "\n",
        "        epoch_accuracy += ((predic_labels.argmax(dim=1)==labels).float().mean())\n",
        "    epoch_loss = losses / len(train_loader)\n",
        "\n",
        "    # Test the model\n",
        "    model.eval()\n",
        "    with torch.no_grad():\n",
        "      test_losses = 0\n",
        "      epoch_test_accuracy = 0.0\n",
        "      epoch_test_loss = 0.0\n",
        "\n",
        "      for data,label in test_loader:\n",
        "        data = data.to(device)\n",
        "        label = label.to(device)\n",
        "        predic_testlabel = model(data).to(device)\n",
        "        test_loss = criterion(predic_testlabel, label)\n",
        "        test_losses += test_loss.item()\n",
        "\n",
        "        epoch_test_accuracy += ((predic_testlabel.argmax(dim=1)==label).float().mean())\n",
        "    epoch_test_loss += test_losses/len(test_loader)\n",
        "    ## loss data for Plot\n",
        "    train_loss_list.append(epoch_loss)\n",
        "    test_loss_list.append(epoch_test_loss)\n",
        "    train_acc_list.append(epoch_accuracy)\n",
        "    test_acc_list.append(epoch_test_accuracy)\n",
        "\n",
        "    print('Epoch {}: , train accuracy: {}, train loss: {}, test_accuracy: {}, test_loss: {}'.format(epoch+1, epoch_accuracy / len(train_loader), epoch_loss, epoch_test_accuracy / len(test_loader), epoch_test_loss))\n"
      ]
    },
    {
      "cell_type": "markdown",
      "id": "50e6a5b1",
      "metadata": {
        "id": "50e6a5b1"
      },
      "source": [
        "## Plot Losses of train and test data"
      ]
    },
    {
      "cell_type": "code",
      "execution_count": 20,
      "id": "84a7eb86",
      "metadata": {
        "colab": {
          "base_uri": "https://localhost:8080/",
          "height": 487
        },
        "id": "84a7eb86",
        "outputId": "cbd2be64-d051-4efc-944f-5e128711688f"
      },
      "outputs": [
        {
          "data": {
            "image/png": "[encoded data removed]",
            "text/plain": [
              "<Figure size 1000x500 with 1 Axes>"
            ]
          },
          "metadata": {},
          "output_type": "display_data"
        }
      ],
      "source": [
        "plt.figure(figsize=(10,5))\n",
        "plt.title(\"Training and test Loss\")\n",
        "plt.plot(test_loss_list, label=\"Test\")\n",
        "plt.plot(train_loss_list, label=\"Train\")\n",
        "plt.xlabel(\"Epoch\")\n",
        "plt.ylabel(\"Loss\")\n",
        "plt.legend()\n",
        "plt.show()"
      ]
    },
    {
      "cell_type": "code",
      "execution_count": null,
      "id": "dn-ZFhj2SsfH",
      "metadata": {
        "id": "dn-ZFhj2SsfH"
      },
      "outputs": [],
      "source": []
    }
  ],
  "metadata": {
    "accelerator": "GPU",
    "colab": {
      "gpuType": "T4",
      "provenance": []
    },
    "kernelspec": {
      "display_name": "Python 3",
      "name": "python3"
    },
    "language_info": {
      "codemirror_mode": {
        "name": "ipython",
        "version": 3
      },
      "file_extension": ".py",
      "mimetype": "text/x-python",
      "name": "python",
      "nbconvert_exporter": "python",
      "pygments_lexer": "ipython3",
      "version": "3.10.12"
    }
  },
  "nbformat": 4,
  "nbformat_minor": 5
}
