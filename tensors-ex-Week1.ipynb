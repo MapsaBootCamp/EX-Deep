{
 "cells": [
  {
   "cell_type": "code",
   "execution_count": 2,
   "metadata": {},
   "outputs": [],
   "source": [
    "import numpy as np\n",
    "import torch"
   ]
  },
  {
   "cell_type": "markdown",
   "metadata": {},
   "source": [
    "1. Create two random tensors with shapes (6, 5) and (1, 5), and perform a matrix multiplication on these tensors."
   ]
  },
  {
   "cell_type": "code",
   "execution_count": 10,
   "metadata": {},
   "outputs": [
    {
     "name": "stdout",
     "output_type": "stream",
     "text": [
      "Answer: \n",
      " tensor([[0.9649],\n",
      "        [1.0261],\n",
      "        [0.5746],\n",
      "        [1.0351],\n",
      "        [1.4298],\n",
      "        [1.1693]])\n"
     ]
    }
   ],
   "source": [
    "# Set the random seed so things are predictable\n",
    "torch.manual_seed(0)\n",
    "# Create random tensor\n",
    "a = torch.rand(6, 5)\n",
    "b = torch.rand(1, 5)\n",
    "# Perform matrix multiplication \n",
    "mul_mat = torch.matmul(a, b.T)\n",
    "print(\"Answer:\", \"\\n\", mul_mat)"
   ]
  },
  {
   "cell_type": "markdown",
   "metadata": {},
   "source": [
    "2. Given the provided code for generating data, create a simple Python function or class that multiplies the generated features tensor by the corresponding weights tensor and adds the bias term. Assume that the function/class takes the features, weights, and bias tensors as inputs and returns the result of the linear operation. Provide an example of using this function/class with the generated data."
   ]
  },
  {
   "cell_type": "code",
   "execution_count": 8,
   "metadata": {},
   "outputs": [
    {
     "name": "stdout",
     "output_type": "stream",
     "text": [
      "Outputs: \n",
      " tensor([[ 7.5478e-01],\n",
      "        [-1.1194e+00],\n",
      "        [-4.2790e-01],\n",
      "        [-2.1230e-03],\n",
      "        [-5.1449e-01],\n",
      "        [-3.7118e-01],\n",
      "        [-7.0034e-01],\n",
      "        [ 2.4119e+00],\n",
      "        [-1.2817e-01],\n",
      "        [-3.4301e+00]])\n"
     ]
    }
   ],
   "source": [
    "### Generate some data\n",
    "# Set the random seed so things are predictable\n",
    "torch.manual_seed(0)\n",
    "# Features are 3 random normal variables\n",
    "features = randint2d = torch.randn(10,3) \n",
    "# True weights for our data, random normal variables again\n",
    "weights = torch.randn(features.shape[1],1)\n",
    "# and a true bias term\n",
    "bias = torch.randn((1, 1))\n",
    "\n",
    "### Returns the result of the linear operation\n",
    "def linear_model(inputs, w, b):\n",
    "    return torch.matmul(features, w) + b\n",
    "\n",
    "print(\"Outputs:\", \"\\n\", linear_model(features, weights, bias))"
   ]
  },
  {
   "cell_type": "markdown",
   "metadata": {},
   "source": [
    "3. Find the maximum and minimum values as well as the corresponding index values in the output of task 1."
   ]
  },
  {
   "cell_type": "code",
   "execution_count": 13,
   "metadata": {},
   "outputs": [
    {
     "name": "stdout",
     "output_type": "stream",
     "text": [
      "\n",
      " min_value: tensor(0.5746) \n",
      " min_index: tensor(2) \n",
      " max_value: tensor(1.4298) \n",
      " amx_index: tensor(4)\n"
     ]
    }
   ],
   "source": [
    "# Find max\n",
    "Minimum = mul_mat.min()\n",
    "# Find min\n",
    "Maximum = mul_mat.max()\n",
    "# Find arg max\n",
    "Maximum_Index= mul_mat.argmax()\n",
    "# Find arg min\n",
    "Minimum_Index = mul_mat.argmin()\n",
    "print(\"\\n\", \"min_value:\", Minimum, \"\\n\", \"min_index:\", Minimum_Index, \"\\n\", \"max_value:\", Maximum, \"\\n\", \"amx_index:\", Maximum_Index)"
   ]
  },
  {
   "cell_type": "markdown",
   "metadata": {},
   "source": [
    "4. Generate a unique tensor with dimensions (1, 1, 1, 25), and subsequently transform it into a new tensor by removing all singleton dimensions, resulting in a tensor with shape (25)."
   ]
  },
  {
   "cell_type": "code",
   "execution_count": 27,
   "metadata": {},
   "outputs": [
    {
     "name": "stdout",
     "output_type": "stream",
     "text": [
      " basic_form: torch.Size([1, 1, 1, 25]) \n",
      " reshape_form: torch.Size([25])\n"
     ]
    }
   ],
   "source": [
    "# Initialize the random seed\n",
    "torch.manual_seed(0)\n",
    "# Generate a tensor with random values\n",
    "c = torch.rand(1, 1 , 1, 25)\n",
    "# Eliminate singleton dimensions\n",
    "c_reshape = c.reshape(25)\n",
    "# Display the tensors along with their shapes\n",
    "print(\" basic_form:\", c.size(), \"\\n\", \"reshape_form:\",c_reshape.size())"
   ]
  },
  {
   "cell_type": "markdown",
   "metadata": {},
   "source": [
    "5. Create a 1D tensor of size 5 with value ranging from 1 to 5. Reshape the 1D tensor into a 2D tensor of shape (1, 5)"
   ]
  },
  {
   "cell_type": "code",
   "execution_count": 28,
   "metadata": {},
   "outputs": [
    {
     "name": "stdout",
     "output_type": "stream",
     "text": [
      " basic_form: torch.Size([5]) \n",
      " reshape_form: torch.Size([1, 5])\n"
     ]
    }
   ],
   "source": [
    "d= torch.arange(1,6)\n",
    "d_reshape = d.reshape(1,5)\n",
    "print(\" basic_form:\", d.size(), \"\\n\", \"reshape_form:\", d_reshape.size())"
   ]
  },
  {
   "cell_type": "markdown",
   "metadata": {},
   "source": [
    "6. Create two 2D tensors of shape (2, 3) and perform element-wise addition."
   ]
  },
  {
   "cell_type": "code",
   "execution_count": 29,
   "metadata": {},
   "outputs": [
    {
     "name": "stdout",
     "output_type": "stream",
     "text": [
      " sum of e and f tensors: \n",
      " tensor([[1.4849, 1.1286, 0.3060],\n",
      "        [0.3359, 0.4051, 0.5132]])\n"
     ]
    }
   ],
   "source": [
    "e = torch.rand(2,3)\n",
    "f = torch.rand(2,3)\n",
    "sum_e_f = torch.add(e,f)\n",
    "print(\" sum of e and f tensors:\", \"\\n\", sum_e_f)"
   ]
  },
  {
   "cell_type": "markdown",
   "metadata": {},
   "source": [
    "7. Create a 2D tensor of shape (4, 4) filled with random values. Extract the first row and the last column as seperate tensors."
   ]
  },
  {
   "cell_type": "code",
   "execution_count": 33,
   "metadata": {},
   "outputs": [
    {
     "name": "stdout",
     "output_type": "stream",
     "text": [
      "matrix: \n",
      " tensor([[0.4158, 0.4177, 0.2711, 0.6923],\n",
      "        [0.2038, 0.6833, 0.7529, 0.8579],\n",
      "        [0.6870, 0.0051, 0.1757, 0.7497],\n",
      "        [0.6047, 0.1100, 0.2121, 0.9704]]) \n",
      " first row: \n",
      " tensor([0.4158, 0.4177, 0.2711, 0.6923]) \n",
      " last column: \n",
      " tensor([0.6923, 0.8579, 0.7497, 0.9704])\n"
     ]
    }
   ],
   "source": [
    "g = torch.rand(4, 4)\n",
    "g_first_row = g[0,]\n",
    "g_last_col = g[:,-1]\n",
    "print(\"matrix:\", \"\\n\", g, \"\\n\", \"first row:\", \"\\n\", g_first_row, \"\\n\", \"last column:\", \"\\n\", g_last_col)"
   ]
  },
  {
   "cell_type": "markdown",
   "metadata": {},
   "source": [
    "8. Create a 2D tensor of shape (3, 3) and a 1D tensor of shape (3,). Add the 1D tensor to each row of the 2D tensor using broadcasting."
   ]
  },
  {
   "cell_type": "code",
   "execution_count": 40,
   "metadata": {},
   "outputs": [
    {
     "name": "stdout",
     "output_type": "stream",
     "text": [
      "sum: \n",
      " tensor([[0.5111, 0.3293, 0.4817],\n",
      "        [0.7929, 1.0715, 1.1740],\n",
      "        [0.4121, 1.1092, 0.5124]]) \n",
      " torch.Size([3, 3])\n"
     ]
    }
   ],
   "source": [
    "h = torch.rand(3, 3)\n",
    "i = torch.rand(3)\n",
    "sum_h_i = torch.add(h, i)\n",
    "print(\"sum:\", \"\\n\", sum_h_i, \"\\n\", sum_h_i.size())"
   ]
  },
  {
   "cell_type": "markdown",
   "metadata": {},
   "source": [
    "9. Create a 2D tensor of shape (3, 4) filled with random values and compute the sum of all elements."
   ]
  },
  {
   "cell_type": "code",
   "execution_count": 43,
   "metadata": {},
   "outputs": [
    {
     "name": "stdout",
     "output_type": "stream",
     "text": [
      "matrix: tensor([[0.6766, 0.3798, 0.3948, 0.0880],\n",
      "        [0.7709, 0.8970, 0.8421, 0.1473],\n",
      "        [0.5223, 0.1475, 0.2248, 0.2086]]) \n",
      " sum of elements: tensor(5.2997)\n"
     ]
    }
   ],
   "source": [
    "j = torch.rand(3, 4)\n",
    "print(\"matrix:\", j, \"\\n\", \"sum of elements:\", torch.sum(j))"
   ]
  },
  {
   "cell_type": "markdown",
   "metadata": {},
   "source": [
    "10. Create a 2D tensor of shape (3, 4) filled with random values and compute the mean along each row."
   ]
  },
  {
   "cell_type": "code",
   "execution_count": 46,
   "metadata": {},
   "outputs": [
    {
     "name": "stdout",
     "output_type": "stream",
     "text": [
      "mean along each row: \n",
      " tensor([0.6566, 0.4748, 0.4872, 0.1480])\n"
     ]
    }
   ],
   "source": [
    "print(\"mean along each row:\", \"\\n\", torch.mean(j, 0))"
   ]
  },
  {
   "cell_type": "code",
   "execution_count": null,
   "metadata": {},
   "outputs": [],
   "source": []
  }
 ],
 "metadata": {
  "kernelspec": {
   "display_name": "Python 3 (ipykernel)",
   "language": "python",
   "name": "python3"
  },
  "language_info": {
   "codemirror_mode": {
    "name": "ipython",
    "version": 3
   },
   "file_extension": ".py",
   "mimetype": "text/x-python",
   "name": "python",
   "nbconvert_exporter": "python",
   "pygments_lexer": "ipython3",
   "version": "3.10.12"
  }
 },
 "nbformat": 4,
 "nbformat_minor": 4
}
