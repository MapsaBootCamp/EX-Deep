{
  "cells": [
    {
      "cell_type": "markdown",
      "source": [
        "## Image Segmentation"
      ],
      "metadata": {
        "id": "ia_fLLdyoRwL"
      }
    },
    {
      "cell_type": "markdown",
      "metadata": {
        "id": "3HAdziFjUwwM"
      },
      "source": [
        "### Setup"
      ]
    },
    {
      "cell_type": "code",
      "execution_count": 1,
      "metadata": {
        "id": "nP9xZ1qFz2En"
      },
      "outputs": [],
      "source": [
        "import random\n",
        "from PIL import Image\n",
        "import numpy as np\n",
        "import os\n",
        "from glob import glob\n",
        "import matplotlib.pyplot as plt\n",
        "import cv2\n",
        "import torch\n",
        "import torch.nn as nn\n",
        "import torch.nn.functional as F\n",
        "from torchvision import datasets, models, transforms\n",
        "from torch.utils.data import Dataset, DataLoader\n",
        "from torchsummary import summary\n",
        "from tqdm import tqdm\n",
        "import torch.optim as optim"
      ]
    },
    {
      "cell_type": "code",
      "execution_count": 2,
      "metadata": {
        "colab": {
          "base_uri": "https://localhost:8080/"
        },
        "id": "RMn5s2IjUwwx",
        "outputId": "79339457-e28f-40e7-e9eb-aa0f5df3674b"
      },
      "outputs": [
        {
          "output_type": "execute_result",
          "data": {
            "text/plain": [
              "device(type='cuda')"
            ]
          },
          "metadata": {},
          "execution_count": 2
        }
      ],
      "source": [
        "device = torch.device(\"cuda\" if torch.cuda.is_available() else \"cpu\")\n",
        "device"
      ]
    },
    {
      "cell_type": "markdown",
      "metadata": {
        "id": "ZsSPkkVjUww0"
      },
      "source": [
        "### Downloading data"
      ]
    },
    {
      "cell_type": "code",
      "execution_count": null,
      "metadata": {
        "colab": {
          "base_uri": "https://localhost:8080/"
        },
        "id": "vVlRbhuX0Wda",
        "outputId": "addfe69d-78f5-45a7-acf6-504ca1d7c1a9"
      },
      "outputs": [
        {
          "output_type": "stream",
          "name": "stdout",
          "text": [
            "--2024-02-16 16:35:29--  http://www.robots.ox.ac.uk/~vgg/data/pets/data/images.tar.gz\n",
            "Resolving www.robots.ox.ac.uk (www.robots.ox.ac.uk)... 129.67.94.2\n",
            "Connecting to www.robots.ox.ac.uk (www.robots.ox.ac.uk)|129.67.94.2|:80... connected.\n",
            "HTTP request sent, awaiting response... 301 Moved Permanently\n",
            "Location: https://www.robots.ox.ac.uk/~vgg/data/pets/data/images.tar.gz [following]\n",
            "--2024-02-16 16:35:29--  https://www.robots.ox.ac.uk/~vgg/data/pets/data/images.tar.gz\n",
            "Connecting to www.robots.ox.ac.uk (www.robots.ox.ac.uk)|129.67.94.2|:443... connected.\n",
            "HTTP request sent, awaiting response... 301 Moved Permanently\n",
            "Location: https://thor.robots.ox.ac.uk/~vgg/data/pets/images.tar.gz [following]\n",
            "--2024-02-16 16:35:29--  https://thor.robots.ox.ac.uk/~vgg/data/pets/images.tar.gz\n",
            "Resolving thor.robots.ox.ac.uk (thor.robots.ox.ac.uk)... 129.67.95.98\n",
            "Connecting to thor.robots.ox.ac.uk (thor.robots.ox.ac.uk)|129.67.95.98|:443... connected.\n",
            "HTTP request sent, awaiting response... 301 Moved Permanently\n",
            "Location: https://thor.robots.ox.ac.uk/datasets/pets/images.tar.gz [following]\n",
            "--2024-02-16 16:35:30--  https://thor.robots.ox.ac.uk/datasets/pets/images.tar.gz\n",
            "Reusing existing connection to thor.robots.ox.ac.uk:443.\n",
            "HTTP request sent, awaiting response... 200 OK\n",
            "Length: 791918971 (755M) [application/octet-stream]\n",
            "Saving to: ‘images.tar.gz’\n",
            "\n",
            "images.tar.gz       100%[===================>] 755.23M  28.3MB/s    in 27s     \n",
            "\n",
            "2024-02-16 16:35:57 (27.8 MB/s) - ‘images.tar.gz’ saved [791918971/791918971]\n",
            "\n",
            "URL transformed to HTTPS due to an HSTS policy\n",
            "--2024-02-16 16:35:58--  https://www.robots.ox.ac.uk/~vgg/data/pets/data/annotations.tar.gz\n",
            "Resolving www.robots.ox.ac.uk (www.robots.ox.ac.uk)... 129.67.94.2\n",
            "Connecting to www.robots.ox.ac.uk (www.robots.ox.ac.uk)|129.67.94.2|:443... connected.\n",
            "HTTP request sent, awaiting response... 301 Moved Permanently\n",
            "Location: https://thor.robots.ox.ac.uk/~vgg/data/pets/annotations.tar.gz [following]\n",
            "--2024-02-16 16:35:58--  https://thor.robots.ox.ac.uk/~vgg/data/pets/annotations.tar.gz\n",
            "Resolving thor.robots.ox.ac.uk (thor.robots.ox.ac.uk)... 129.67.95.98\n",
            "Connecting to thor.robots.ox.ac.uk (thor.robots.ox.ac.uk)|129.67.95.98|:443... connected.\n",
            "HTTP request sent, awaiting response... 301 Moved Permanently\n",
            "Location: https://thor.robots.ox.ac.uk/datasets/pets/annotations.tar.gz [following]\n",
            "--2024-02-16 16:35:59--  https://thor.robots.ox.ac.uk/datasets/pets/annotations.tar.gz\n",
            "Reusing existing connection to thor.robots.ox.ac.uk:443.\n",
            "HTTP request sent, awaiting response... 200 OK\n",
            "Length: 19173078 (18M) [application/octet-stream]\n",
            "Saving to: ‘annotations.tar.gz’\n",
            "\n",
            "annotations.tar.gz  100%[===================>]  18.28M  13.5MB/s    in 1.4s    \n",
            "\n",
            "2024-02-16 16:36:00 (13.5 MB/s) - ‘annotations.tar.gz’ saved [19173078/19173078]\n",
            "\n"
          ]
        }
      ],
      "source": [
        "!wget http://www.robots.ox.ac.uk/~vgg/data/pets/data/images.tar.gz\n",
        "!wget http://www.robots.ox.ac.uk/~vgg/data/pets/data/annotations.tar.gz\n",
        "!tar -xf images.tar.gz\n",
        "!tar -xf annotations.tar.gz"
      ]
    },
    {
      "cell_type": "code",
      "source": [
        "input_dir = \"images/\"\n",
        "target_dir = \"annotations/trimaps/\""
      ],
      "metadata": {
        "id": "_HwXAPdaoEfs"
      },
      "execution_count": null,
      "outputs": []
    },
    {
      "cell_type": "markdown",
      "metadata": {
        "id": "JWjL2dzeUww6"
      },
      "source": [
        "### Dataset"
      ]
    },
    {
      "cell_type": "code",
      "execution_count": 5,
      "metadata": {
        "id": "p8sBErNxBPU9"
      },
      "outputs": [],
      "source": [
        "class SegmentDataset(Dataset):\n",
        "  def __init__(self, image_dir, target_dir, image_size=(200,200), target_size=(200, 200),\n",
        "               random_state=1337, train=True, transform=None):\n",
        "\n",
        "    all_images_path = sorted(glob(image_dir + \"/*.jpg\"))\n",
        "    all_targets_path = sorted(glob(target_dir + \"/*.png\"))\n",
        "\n",
        "\n",
        "    random.Random(random_state).shuffle(all_images_path)\n",
        "    random.Random(random_state).shuffle(all_targets_path)\n",
        "\n",
        "    self.transform = transform\n",
        "    self.image_size = image_size\n",
        "    self.target_size = target_size\n",
        "\n",
        "    num_val_samples = 1000\n",
        "    if train:\n",
        "      self.images_path = all_images_path[num_val_samples:]\n",
        "      self.targets_path = all_targets_path[num_val_samples:]\n",
        "    else:\n",
        "      self.images_path = all_images_path[:num_val_samples]\n",
        "      self.targets_path = all_targets_path[:num_val_samples]\n",
        "\n",
        "  def __len__(self):\n",
        "    return len(self.images_path)\n",
        "\n",
        "  def image_read(self, path, size):\n",
        "    im = Image.open(path).convert(\"RGB\")\n",
        "    im = im.resize(size)\n",
        "    return np.array(im)\n",
        "\n",
        "  def __getitem__(self, idx):\n",
        "    image_path = self.images_path[idx]\n",
        "    target_path = self.targets_path[idx]\n",
        "    image = self.image_read(image_path, self.image_size)\n",
        "    target = self.image_read(target_path, self.target_size)[:,:,0]\n",
        "    if self.transform:\n",
        "      image = self.transform(image)\n",
        "    else:\n",
        "      image = transforms.ToTensor()(image)\n",
        "    target = torch.from_numpy(target.astype(\"uint8\")) - 1\n",
        "    return image.float(), target.long()"
      ]
    },
    {
      "cell_type": "markdown",
      "source": [
        "### Train"
      ],
      "metadata": {
        "id": "k94cfqLUmvUd"
      }
    },
    {
      "cell_type": "code",
      "source": [
        "class Train:\n",
        "    def __init__(self, model, device, criterion, optimizer, input_dir, target_dir, image_size, target_size, batch_size, normal_init) -> None:\n",
        "        self.model = model.to(device)\n",
        "        self.device = device\n",
        "        self.criterion = criterion\n",
        "        self.optimizer = optimizer\n",
        "        self.image_size = image_size\n",
        "        self.target_size = target_size\n",
        "        self.batch_size = batch_size\n",
        "\n",
        "        self.creat_dataset(input_dir, target_dir)\n",
        "        self.creat_dataloader()\n",
        "\n",
        "        if normal_init:\n",
        "            model.apply(self.initialize_weight)\n",
        "\n",
        "    def creat_dataset(self, input_dir, target_dir):\n",
        "        self.train_dataset = SegmentDataset(\n",
        "            input_dir, target_dir, self.image_size, self.target_size, train=True)\n",
        "        self.val_dataset = SegmentDataset(\n",
        "            input_dir, target_dir, self.image_size, self.target_size, train=False)\n",
        "\n",
        "    def creat_dataloader(self, seed=42):\n",
        "        torch.manual_seed(seed)\n",
        "        self.train_dl = DataLoader(\n",
        "            self.train_dataset, self.batch_size, shuffle=True)\n",
        "        self.val_dl = DataLoader(self.val_dataset, self.batch_size)\n",
        "\n",
        "    def initialize_weight(self, m):\n",
        "        if isinstance(m, nn.Linear):\n",
        "            nn.init.kaiming_normal_(m.weight)\n",
        "            nn.init.zeros_(m.bias)\n",
        "\n",
        "    def train(self, num_epochs):\n",
        "        self.best_accuracy = 0.0\n",
        "        self.patience_counter = 0\n",
        "\n",
        "        train_losses = []\n",
        "        train_accuracies = []\n",
        "        test_losses = []\n",
        "        test_accuracies = []\n",
        "\n",
        "        for epoch in range(num_epochs):\n",
        "            train_loss, train_accuracy = self.train_epoch()\n",
        "            train_losses.append(train_loss)\n",
        "            train_accuracies.append(train_accuracy)\n",
        "\n",
        "            test_loss, test_accuracy = self.validate_epoch()\n",
        "            test_losses.append(test_loss)\n",
        "            test_accuracies.append(test_accuracy)\n",
        "\n",
        "            print(f\"Epoch: {epoch + 1}/{num_epochs} | Train loss: {train_loss:.4f} | Train Acc: {train_accuracy:.4f} | Test loss: {test_loss:.4f} | Test Acc: {test_accuracy:.4f}\")\n",
        "\n",
        "            if self.early_stopping(test_accuracy):\n",
        "                print(\n",
        "                    f\"Early stopping at epoch {epoch}, best accuracy {self.best_accuracy}\")\n",
        "                break\n",
        "\n",
        "        return train_losses, train_accuracies, test_losses, test_accuracies\n",
        "\n",
        "    def train_epoch(self):\n",
        "        self.model.train()\n",
        "        train_loss = 0.0\n",
        "        train_correct = 0\n",
        "\n",
        "        for images, labels in tqdm(self.train_dl):\n",
        "            images = images.to(device=device)\n",
        "            labels = labels.to(device=device)\n",
        "\n",
        "            output = self.model(images)\n",
        "            loss = self.criterion(output, labels)\n",
        "\n",
        "            self.optimizer.zero_grad()\n",
        "            loss.backward()\n",
        "            self.optimizer.step()\n",
        "\n",
        "            train_loss += loss.item()\n",
        "\n",
        "            predicted = torch.argmax(output.data, 1)\n",
        "            train_correct += ((predicted == labels).sum().item()) / \\\n",
        "                (self.batch_size*self.target_size[0]*self.target_size[1])\n",
        "\n",
        "        train_loss /= len(self.train_dl)\n",
        "        train_accuracy = train_correct / len(self.train_dl)\n",
        "        return train_loss, train_accuracy\n",
        "\n",
        "    @torch.no_grad()\n",
        "    def validate_epoch(self):\n",
        "        self.model.eval()\n",
        "        test_loss = 0\n",
        "        test_correct = 0\n",
        "\n",
        "        for images, labels in self.val_dl:\n",
        "            images = images.to(device=device)\n",
        "            labels = labels.to(device=device)\n",
        "\n",
        "            output = self.model(images)\n",
        "            loss = self.criterion(output, labels)\n",
        "\n",
        "            test_loss += loss.item()\n",
        "\n",
        "            predicted = torch.argmax(output.data, 1)\n",
        "            test_correct += ((predicted == labels).sum().item()) / \\\n",
        "                (self.batch_size*self.target_size[0]*self.target_size[1])\n",
        "\n",
        "        test_loss /= len(self.val_dl)\n",
        "        test_accuracy = test_correct / len(self.val_dl)\n",
        "        return test_loss, test_accuracy\n",
        "\n",
        "    def early_stopping(self, test_accuracy, patience=5):\n",
        "        if test_accuracy > self.best_accuracy:\n",
        "            self.best_accuracy = test_accuracy\n",
        "            self.patience_counter = 0\n",
        "            torch.save(self.model.state_dict(), \"best_model.pth\")\n",
        "        else:\n",
        "            self.patience_counter += 1\n",
        "\n",
        "        if self.patience_counter > patience:\n",
        "            return True\n",
        "\n",
        "        return False"
      ],
      "metadata": {
        "id": "xXYoKwDsmxUj"
      },
      "execution_count": 6,
      "outputs": []
    },
    {
      "cell_type": "markdown",
      "source": [
        "### Chollet Architecture"
      ],
      "metadata": {
        "id": "xX1u6T2ImDYt"
      }
    },
    {
      "cell_type": "code",
      "source": [
        "class EncodeBlock(nn.Module):\n",
        "      def __init__(self, in_channels: int, out_channels: int, *args, **kwargs) -> None:\n",
        "        super().__init__(*args, **kwargs)\n",
        "\n",
        "        self.layers = nn.Sequential(\n",
        "        nn.Conv2d(in_channels, out_channels, kernel_size=3, stride=2, padding=1),\n",
        "        nn.ReLU(),\n",
        "        nn.Conv2d(out_channels, out_channels, kernel_size=3, padding=1),\n",
        "        nn.ReLU())\n",
        "\n",
        "\n",
        "      def forward(self, x: torch.Tensor) -> torch.Tensor:\n",
        "        return self.layers(x)"
      ],
      "metadata": {
        "id": "ZQQpXiZ6qB-m"
      },
      "execution_count": 7,
      "outputs": []
    },
    {
      "cell_type": "code",
      "source": [
        "class DecodeBlock(nn.Module):\n",
        "      def __init__(self, in_channels: int, out_channels: int, *args, **kwargs) -> None:\n",
        "        super().__init__(*args, **kwargs)\n",
        "\n",
        "        self.layers = nn.Sequential(\n",
        "        nn.ConvTranspose2d(in_channels, out_channels, kernel_size=3, padding=1),\n",
        "        nn.ReLU(),\n",
        "        nn.ConvTranspose2d(out_channels,  out_channels, kernel_size=3, stride=2, padding=1, output_padding=1),\n",
        "        nn.ReLU())\n",
        "\n",
        "\n",
        "      def forward(self, x: torch.Tensor) -> torch.Tensor:\n",
        "        return self.layers(x)"
      ],
      "metadata": {
        "id": "BLSp_3WOrh2w"
      },
      "execution_count": 8,
      "outputs": []
    },
    {
      "cell_type": "code",
      "execution_count": 9,
      "metadata": {
        "id": "8taAB2uPOg0D"
      },
      "outputs": [],
      "source": [
        "class CholletModel(nn.Module):\n",
        "    def __init__(self, in_channels: int, num_classes: int,*args, **kwargs) -> None:\n",
        "        super().__init__(*args, **kwargs)\n",
        "        self.layers = nn.ModuleList()\n",
        "\n",
        "        channels = [in_channels, 64, 128, 256]\n",
        "        for index, size in enumerate(channels[:-1]):\n",
        "          self.layers.append(EncodeBlock(in_channels=size, out_channels=channels[index+1]))\n",
        "\n",
        "        transpose_channels = [256, 256, 128, 64]\n",
        "        for index, size in enumerate(transpose_channels[:-1]):\n",
        "          self.layers.append(DecodeBlock(in_channels=size, out_channels=transpose_channels[index+1]))\n",
        "\n",
        "        self.layers.append(nn.Conv2d(in_channels=64, out_channels=num_classes, kernel_size=3, padding=1))\n",
        "\n",
        "    def forward(self, x: torch.Tensor) -> torch.Tensor:\n",
        "        for layer in self.layers:\n",
        "            x = layer(x)\n",
        "        return x"
      ]
    },
    {
      "cell_type": "code",
      "execution_count": 10,
      "metadata": {
        "id": "cg8V3s68S_ln"
      },
      "outputs": [],
      "source": [
        "image_size = target_size = (200, 200)\n",
        "learning_rate = 1e-3\n",
        "batch_size = 64\n",
        "\n",
        "chollet_model = CholletModel(in_channels=3, num_classes=3).to(device=device)\n",
        "criterion = nn.CrossEntropyLoss()\n",
        "optimizer = optim.RMSprop(chollet_model.parameters(), lr=learning_rate)\n",
        "\n",
        "train_chollet_model = Train(chollet_model, device, criterion, optimizer, input_dir, target_dir, image_size, target_size, batch_size, normal_init=True)"
      ]
    },
    {
      "cell_type": "code",
      "execution_count": 11,
      "metadata": {
        "colab": {
          "base_uri": "https://localhost:8080/"
        },
        "id": "b4hl0_IJVlew",
        "outputId": "ec6c2744-cc3b-408e-e81b-2fd2dbe3a27d"
      },
      "outputs": [
        {
          "output_type": "stream",
          "name": "stdout",
          "text": [
            "----------------------------------------------------------------\n",
            "        Layer (type)               Output Shape         Param #\n",
            "================================================================\n",
            "            Conv2d-1         [-1, 64, 100, 100]           1,792\n",
            "              ReLU-2         [-1, 64, 100, 100]               0\n",
            "            Conv2d-3         [-1, 64, 100, 100]          36,928\n",
            "              ReLU-4         [-1, 64, 100, 100]               0\n",
            "       EncodeBlock-5         [-1, 64, 100, 100]               0\n",
            "            Conv2d-6          [-1, 128, 50, 50]          73,856\n",
            "              ReLU-7          [-1, 128, 50, 50]               0\n",
            "            Conv2d-8          [-1, 128, 50, 50]         147,584\n",
            "              ReLU-9          [-1, 128, 50, 50]               0\n",
            "      EncodeBlock-10          [-1, 128, 50, 50]               0\n",
            "           Conv2d-11          [-1, 256, 25, 25]         295,168\n",
            "             ReLU-12          [-1, 256, 25, 25]               0\n",
            "           Conv2d-13          [-1, 256, 25, 25]         590,080\n",
            "             ReLU-14          [-1, 256, 25, 25]               0\n",
            "      EncodeBlock-15          [-1, 256, 25, 25]               0\n",
            "  ConvTranspose2d-16          [-1, 256, 25, 25]         590,080\n",
            "             ReLU-17          [-1, 256, 25, 25]               0\n",
            "  ConvTranspose2d-18          [-1, 256, 50, 50]         590,080\n",
            "             ReLU-19          [-1, 256, 50, 50]               0\n",
            "      DecodeBlock-20          [-1, 256, 50, 50]               0\n",
            "  ConvTranspose2d-21          [-1, 128, 50, 50]         295,040\n",
            "             ReLU-22          [-1, 128, 50, 50]               0\n",
            "  ConvTranspose2d-23        [-1, 128, 100, 100]         147,584\n",
            "             ReLU-24        [-1, 128, 100, 100]               0\n",
            "      DecodeBlock-25        [-1, 128, 100, 100]               0\n",
            "  ConvTranspose2d-26         [-1, 64, 100, 100]          73,792\n",
            "             ReLU-27         [-1, 64, 100, 100]               0\n",
            "  ConvTranspose2d-28         [-1, 64, 200, 200]          36,928\n",
            "             ReLU-29         [-1, 64, 200, 200]               0\n",
            "      DecodeBlock-30         [-1, 64, 200, 200]               0\n",
            "           Conv2d-31          [-1, 3, 200, 200]           1,731\n",
            "================================================================\n",
            "Total params: 2,880,643\n",
            "Trainable params: 2,880,643\n",
            "Non-trainable params: 0\n",
            "----------------------------------------------------------------\n",
            "Input size (MB): 0.46\n",
            "Forward/backward pass size (MB): 163.27\n",
            "Params size (MB): 10.99\n",
            "Estimated Total Size (MB): 174.72\n",
            "----------------------------------------------------------------\n"
          ]
        }
      ],
      "source": [
        "summary(chollet_model, (3, 200, 200))"
      ]
    },
    {
      "cell_type": "code",
      "source": [
        "chollet_train_losses, chollet_train_accuracies, chollet_test_losses, chollet_test_accuracies = train_chollet_model.train(num_epochs=10)"
      ],
      "metadata": {
        "colab": {
          "base_uri": "https://localhost:8080/"
        },
        "id": "U-g9SGBrucEi",
        "outputId": "55177dfb-54a9-4542-df32-9c46eec93d84"
      },
      "execution_count": 12,
      "outputs": [
        {
          "metadata": {
            "tags": null
          },
          "name": "stderr",
          "output_type": "stream",
          "text": [
            "100%|██████████| 100/100 [01:53<00:00,  1.14s/it]\n"
          ]
        },
        {
          "metadata": {
            "tags": null
          },
          "name": "stdout",
          "output_type": "stream",
          "text": [
            "Epoch: 1/10 | Train loss: 7.7412 | Train Acc: 0.5763 | Test loss: 0.9267 | Test Acc: 0.5775\n"
          ]
        },
        {
          "metadata": {
            "tags": null
          },
          "name": "stderr",
          "output_type": "stream",
          "text": [
            "100%|██████████| 100/100 [01:56<00:00,  1.16s/it]\n"
          ]
        },
        {
          "metadata": {
            "tags": null
          },
          "name": "stdout",
          "output_type": "stream",
          "text": [
            "Epoch: 2/10 | Train loss: 0.9613 | Train Acc: 0.5866 | Test loss: 0.9253 | Test Acc: 0.5775\n"
          ]
        },
        {
          "metadata": {
            "tags": null
          },
          "name": "stderr",
          "output_type": "stream",
          "text": [
            "100%|██████████| 100/100 [01:56<00:00,  1.16s/it]\n"
          ]
        },
        {
          "metadata": {
            "tags": null
          },
          "name": "stdout",
          "output_type": "stream",
          "text": [
            "Epoch: 3/10 | Train loss: 0.8984 | Train Acc: 0.5864 | Test loss: 0.8935 | Test Acc: 0.5775\n"
          ]
        },
        {
          "metadata": {
            "tags": null
          },
          "name": "stderr",
          "output_type": "stream",
          "text": [
            "100%|██████████| 100/100 [01:55<00:00,  1.16s/it]\n"
          ]
        },
        {
          "metadata": {
            "tags": null
          },
          "name": "stdout",
          "output_type": "stream",
          "text": [
            "Epoch: 4/10 | Train loss: 0.8627 | Train Acc: 0.5869 | Test loss: 0.8246 | Test Acc: 0.6078\n"
          ]
        },
        {
          "metadata": {
            "tags": null
          },
          "name": "stderr",
          "output_type": "stream",
          "text": [
            "100%|██████████| 100/100 [01:55<00:00,  1.16s/it]\n"
          ]
        },
        {
          "metadata": {
            "tags": null
          },
          "name": "stdout",
          "output_type": "stream",
          "text": [
            "Epoch: 5/10 | Train loss: 0.8096 | Train Acc: 0.6338 | Test loss: 0.8011 | Test Acc: 0.6107\n"
          ]
        },
        {
          "output_type": "stream",
          "name": "stderr",
          "text": [
            "100%|██████████| 100/100 [01:55<00:00,  1.16s/it]\n"
          ]
        },
        {
          "output_type": "stream",
          "name": "stdout",
          "text": [
            "Epoch: 6/10 | Train loss: 0.7735 | Train Acc: 0.6753 | Test loss: 0.7221 | Test Acc: 0.6859\n"
          ]
        },
        {
          "output_type": "stream",
          "name": "stderr",
          "text": [
            "100%|██████████| 100/100 [01:55<00:00,  1.16s/it]\n"
          ]
        },
        {
          "output_type": "stream",
          "name": "stdout",
          "text": [
            "Epoch: 7/10 | Train loss: 0.8218 | Train Acc: 0.6465 | Test loss: 0.7702 | Test Acc: 0.5935\n"
          ]
        },
        {
          "output_type": "stream",
          "name": "stderr",
          "text": [
            "100%|██████████| 100/100 [01:55<00:00,  1.16s/it]\n"
          ]
        },
        {
          "output_type": "stream",
          "name": "stdout",
          "text": [
            "Epoch: 8/10 | Train loss: 0.7565 | Train Acc: 0.6901 | Test loss: 0.7171 | Test Acc: 0.6872\n"
          ]
        },
        {
          "output_type": "stream",
          "name": "stderr",
          "text": [
            "100%|██████████| 100/100 [01:55<00:00,  1.16s/it]\n"
          ]
        },
        {
          "output_type": "stream",
          "name": "stdout",
          "text": [
            "Epoch: 9/10 | Train loss: 0.7192 | Train Acc: 0.7044 | Test loss: 0.6814 | Test Acc: 0.6978\n"
          ]
        },
        {
          "output_type": "stream",
          "name": "stderr",
          "text": [
            "100%|██████████| 100/100 [01:56<00:00,  1.16s/it]\n"
          ]
        },
        {
          "output_type": "stream",
          "name": "stdout",
          "text": [
            "Epoch: 10/10 | Train loss: 0.6999 | Train Acc: 0.7121 | Test loss: 0.7295 | Test Acc: 0.6936\n"
          ]
        }
      ]
    },
    {
      "cell_type": "code",
      "source": [
        "plt.figure()\n",
        "plt.plot(chollet_train_losses, \"bo\", label=\"Training loss\")\n",
        "plt.plot(chollet_test_losses, \"b\", label=\"Validation loss\")\n",
        "plt.title(\"Training and validation loss\")\n",
        "plt.legend()"
      ],
      "metadata": {
        "colab": {
          "base_uri": "https://localhost:8080/",
          "height": 469
        },
        "id": "DorKrdi9ubrH",
        "outputId": "548a36f6-6a1e-4cd5-caad-4f0592683cfb"
      },
      "execution_count": 13,
      "outputs": [
        {
          "output_type": "execute_result",
          "data": {
            "text/plain": [
              "<matplotlib.legend.Legend at 0x7ccda7c1e350>"
            ]
          },
          "metadata": {},
          "execution_count": 13
        },
        {
          "output_type": "display_data",
          "data": {
            "text/plain": [
              "<Figure size 640x480 with 1 Axes>"
            ],
            "image/png": "[encoded data removed]"
          },
          "metadata": {}
        }
      ]
    },
    {
      "cell_type": "markdown",
      "source": [
        "### U-Net Architecture"
      ],
      "metadata": {
        "id": "MoKfS34GpvZ6"
      }
    },
    {
      "cell_type": "code",
      "source": [
        "class UNetBlock(nn.Module):\n",
        "      def __init__(self, in_channels: int, out_channels: int, contracting_layer: bool=False, expansive_layer: bool=False, middle_channels=None, *args, **kwargs) -> None:\n",
        "        super().__init__(*args, **kwargs)\n",
        "\n",
        "        if not middle_channels:\n",
        "          middle_channels = out_channels\n",
        "\n",
        "        self.layers = nn.ModuleList([\n",
        "        nn.Conv2d(in_channels, middle_channels, kernel_size=3),\n",
        "        nn.ReLU(),\n",
        "        nn.Conv2d(middle_channels, middle_channels, kernel_size=3),\n",
        "        nn.ReLU()])\n",
        "\n",
        "        if contracting_layer:\n",
        "          self.layers.append(nn.MaxPool2d(kernel_size=2))\n",
        "        elif expansive_layer:\n",
        "          self.layers.append(nn.ConvTranspose2d(middle_channels, out_channels, kernel_size=2, stride=2))\n",
        "\n",
        "\n",
        "      def forward(self, x: torch.Tensor) -> torch.Tensor:\n",
        "        for layer in self.layers:\n",
        "          x = layer(x)\n",
        "        return x\n"
      ],
      "metadata": {
        "id": "8qf977j0Jol4"
      },
      "execution_count": 14,
      "outputs": []
    },
    {
      "cell_type": "code",
      "execution_count": 16,
      "metadata": {
        "id": "JKjn_IR3Af7o"
      },
      "outputs": [],
      "source": [
        "class UNetModel(nn.Module):\n",
        "    def __init__(self, in_channels: int, num_classes: int,*args, **kwargs) -> None:\n",
        "        super().__init__(*args, **kwargs)\n",
        "\n",
        "        self.contracting_layer1 = UNetBlock(in_channels, out_channels=64, contracting_layer=True)\n",
        "        self.contracting_layer2 = UNetBlock(in_channels=64, out_channels=128, contracting_layer=True)\n",
        "        self.contracting_layer3 = UNetBlock(in_channels=128, out_channels=256, contracting_layer=True)\n",
        "        self.contracting_layer4 = UNetBlock(in_channels=256, out_channels=512, contracting_layer=True)\n",
        "\n",
        "        self.expansive_layer1 = UNetBlock(in_channels=512, middle_channels=1024, out_channels=512, expansive_layer=True)\n",
        "        self.expansive_layer2 = UNetBlock(in_channels=1024, middle_channels=512, out_channels=256, expansive_layer=True)\n",
        "        self.expansive_layer3 = UNetBlock(in_channels=512, middle_channels=256, out_channels=128, expansive_layer=True)\n",
        "        self.expansive_layer4 = UNetBlock(in_channels=256, middle_channels=128, out_channels=64, expansive_layer=True)\n",
        "\n",
        "        self.output_layer = nn.Sequential(\n",
        "        UNetBlock(in_channels=128, out_channels=64),\n",
        "        nn.Conv2d(in_channels=64, out_channels=num_classes, kernel_size=1))\n",
        "\n",
        "\n",
        "    def forward(self, input: torch.Tensor) -> torch.Tensor:\n",
        "        cl1 = self.contracting_layer1(input)\n",
        "        cl2 = self.contracting_layer2(cl1)\n",
        "        cl3 = self.contracting_layer3(cl2)\n",
        "        cl4 = self.contracting_layer4(cl3)\n",
        "\n",
        "        ex1 = self.expansive_layer1(cl4)\n",
        "\n",
        "        temp = torch.concat((transforms.functional.center_crop(cl4, ex1.shape[-1]), ex1), dim=1)\n",
        "        ex2 = self.expansive_layer2(temp)\n",
        "\n",
        "        temp = torch.concat((transforms.functional.center_crop(cl3, ex2.shape[-1]), ex2), dim=1)\n",
        "        ex3 = self.expansive_layer3(temp)\n",
        "\n",
        "        temp = torch.concat((transforms.functional.center_crop(cl2, ex3.shape[-1]), ex3), dim=1)\n",
        "        ex4 = self.expansive_layer4(temp)\n",
        "\n",
        "        temp = torch.concat((transforms.functional.center_crop(cl1, ex4.shape[-1]), ex4), dim=1)\n",
        "        output = self.output_layer(temp)\n",
        "\n",
        "        return output"
      ]
    },
    {
      "cell_type": "code",
      "source": [
        "image_size = (400, 400)\n",
        "target_size = (212, 212)\n",
        "learning_rate = 1e-3\n",
        "batch_size = 8\n",
        "\n",
        "unet_model = UNetModel(in_channels=3, num_classes=3).to(device=device)\n",
        "criterion = nn.CrossEntropyLoss()\n",
        "optimizer = optim.RMSprop(unet_model.parameters(), lr=learning_rate)\n",
        "\n",
        "train_unet_model = Train(unet_model, device, criterion, optimizer, input_dir, target_dir, image_size, target_size, batch_size, normal_init=True)"
      ],
      "metadata": {
        "id": "g2gudHCTdkm5"
      },
      "execution_count": 19,
      "outputs": []
    },
    {
      "cell_type": "code",
      "source": [
        "summary(unet_model, (3, 400, 400))"
      ],
      "metadata": {
        "colab": {
          "base_uri": "https://localhost:8080/"
        },
        "id": "Bz1OUdPIjd-7",
        "outputId": "816595c4-10dd-4568-9029-1b89839354f0"
      },
      "execution_count": 20,
      "outputs": [
        {
          "output_type": "stream",
          "name": "stdout",
          "text": [
            "----------------------------------------------------------------\n",
            "        Layer (type)               Output Shape         Param #\n",
            "================================================================\n",
            "            Conv2d-1         [-1, 64, 398, 398]           1,792\n",
            "              ReLU-2         [-1, 64, 398, 398]               0\n",
            "            Conv2d-3         [-1, 64, 396, 396]          36,928\n",
            "              ReLU-4         [-1, 64, 396, 396]               0\n",
            "         MaxPool2d-5         [-1, 64, 198, 198]               0\n",
            "         UNetBlock-6         [-1, 64, 198, 198]               0\n",
            "            Conv2d-7        [-1, 128, 196, 196]          73,856\n",
            "              ReLU-8        [-1, 128, 196, 196]               0\n",
            "            Conv2d-9        [-1, 128, 194, 194]         147,584\n",
            "             ReLU-10        [-1, 128, 194, 194]               0\n",
            "        MaxPool2d-11          [-1, 128, 97, 97]               0\n",
            "        UNetBlock-12          [-1, 128, 97, 97]               0\n",
            "           Conv2d-13          [-1, 256, 95, 95]         295,168\n",
            "             ReLU-14          [-1, 256, 95, 95]               0\n",
            "           Conv2d-15          [-1, 256, 93, 93]         590,080\n",
            "             ReLU-16          [-1, 256, 93, 93]               0\n",
            "        MaxPool2d-17          [-1, 256, 46, 46]               0\n",
            "        UNetBlock-18          [-1, 256, 46, 46]               0\n",
            "           Conv2d-19          [-1, 512, 44, 44]       1,180,160\n",
            "             ReLU-20          [-1, 512, 44, 44]               0\n",
            "           Conv2d-21          [-1, 512, 42, 42]       2,359,808\n",
            "             ReLU-22          [-1, 512, 42, 42]               0\n",
            "        MaxPool2d-23          [-1, 512, 21, 21]               0\n",
            "        UNetBlock-24          [-1, 512, 21, 21]               0\n",
            "           Conv2d-25         [-1, 1024, 19, 19]       4,719,616\n",
            "             ReLU-26         [-1, 1024, 19, 19]               0\n",
            "           Conv2d-27         [-1, 1024, 17, 17]       9,438,208\n",
            "             ReLU-28         [-1, 1024, 17, 17]               0\n",
            "  ConvTranspose2d-29          [-1, 512, 34, 34]       2,097,664\n",
            "        UNetBlock-30          [-1, 512, 34, 34]               0\n",
            "           Conv2d-31          [-1, 512, 32, 32]       4,719,104\n",
            "             ReLU-32          [-1, 512, 32, 32]               0\n",
            "           Conv2d-33          [-1, 512, 30, 30]       2,359,808\n",
            "             ReLU-34          [-1, 512, 30, 30]               0\n",
            "  ConvTranspose2d-35          [-1, 256, 60, 60]         524,544\n",
            "        UNetBlock-36          [-1, 256, 60, 60]               0\n",
            "           Conv2d-37          [-1, 256, 58, 58]       1,179,904\n",
            "             ReLU-38          [-1, 256, 58, 58]               0\n",
            "           Conv2d-39          [-1, 256, 56, 56]         590,080\n",
            "             ReLU-40          [-1, 256, 56, 56]               0\n",
            "  ConvTranspose2d-41        [-1, 128, 112, 112]         131,200\n",
            "        UNetBlock-42        [-1, 128, 112, 112]               0\n",
            "           Conv2d-43        [-1, 128, 110, 110]         295,040\n",
            "             ReLU-44        [-1, 128, 110, 110]               0\n",
            "           Conv2d-45        [-1, 128, 108, 108]         147,584\n",
            "             ReLU-46        [-1, 128, 108, 108]               0\n",
            "  ConvTranspose2d-47         [-1, 64, 216, 216]          32,832\n",
            "        UNetBlock-48         [-1, 64, 216, 216]               0\n",
            "           Conv2d-49         [-1, 64, 214, 214]          73,792\n",
            "             ReLU-50         [-1, 64, 214, 214]               0\n",
            "           Conv2d-51         [-1, 64, 212, 212]          36,928\n",
            "             ReLU-52         [-1, 64, 212, 212]               0\n",
            "        UNetBlock-53         [-1, 64, 212, 212]               0\n",
            "           Conv2d-54          [-1, 3, 212, 212]             195\n",
            "================================================================\n",
            "Total params: 31,031,875\n",
            "Trainable params: 31,031,875\n",
            "Non-trainable params: 0\n",
            "----------------------------------------------------------------\n",
            "Input size (MB): 1.83\n",
            "Forward/backward pass size (MB): 924.43\n",
            "Params size (MB): 118.38\n",
            "Estimated Total Size (MB): 1044.63\n",
            "----------------------------------------------------------------\n"
          ]
        }
      ]
    },
    {
      "cell_type": "code",
      "source": [
        "unet_train_losses, unet_train_accuracies, unet_test_losses, unet_test_accuracies = train_unet_model.train(num_epochs=10)"
      ],
      "metadata": {
        "colab": {
          "base_uri": "https://localhost:8080/"
        },
        "id": "sLHxwJQbkIC9",
        "outputId": "d0c1e715-9bac-4c88-b0c9-ea66e4242382"
      },
      "execution_count": 22,
      "outputs": [
        {
          "metadata": {
            "tags": null
          },
          "name": "stderr",
          "output_type": "stream",
          "text": [
            "100%|██████████| 799/799 [08:49<00:00,  1.51it/s]\n"
          ]
        },
        {
          "metadata": {
            "tags": null
          },
          "name": "stdout",
          "output_type": "stream",
          "text": [
            "Epoch: 1/10 | Train loss: 1.3107 | Train Acc: 0.6130 | Test loss: 0.7821 | Test Acc: 0.6930\n"
          ]
        },
        {
          "metadata": {
            "tags": null
          },
          "name": "stderr",
          "output_type": "stream",
          "text": [
            "100%|██████████| 799/799 [08:46<00:00,  1.52it/s]\n"
          ]
        },
        {
          "metadata": {
            "tags": null
          },
          "name": "stdout",
          "output_type": "stream",
          "text": [
            "Epoch: 2/10 | Train loss: 1.1279 | Train Acc: 0.6368 | Test loss: 0.7870 | Test Acc: 0.6947\n"
          ]
        },
        {
          "metadata": {
            "tags": null
          },
          "name": "stderr",
          "output_type": "stream",
          "text": [
            "100%|██████████| 799/799 [08:45<00:00,  1.52it/s]\n"
          ]
        },
        {
          "metadata": {
            "tags": null
          },
          "name": "stdout",
          "output_type": "stream",
          "text": [
            "Epoch: 3/10 | Train loss: 0.8274 | Train Acc: 0.6551 | Test loss: 0.8186 | Test Acc: 0.6130\n"
          ]
        },
        {
          "metadata": {
            "tags": null
          },
          "name": "stderr",
          "output_type": "stream",
          "text": [
            "100%|██████████| 799/799 [08:42<00:00,  1.53it/s]\n"
          ]
        },
        {
          "metadata": {
            "tags": null
          },
          "name": "stdout",
          "output_type": "stream",
          "text": [
            "Epoch: 4/10 | Train loss: 0.8105 | Train Acc: 0.6119 | Test loss: 0.7667 | Test Acc: 0.6468\n"
          ]
        },
        {
          "metadata": {
            "tags": null
          },
          "name": "stderr",
          "output_type": "stream",
          "text": [
            "100%|██████████| 799/799 [08:42<00:00,  1.53it/s]\n"
          ]
        },
        {
          "metadata": {
            "tags": null
          },
          "name": "stdout",
          "output_type": "stream",
          "text": [
            "Epoch: 5/10 | Train loss: 0.7557 | Train Acc: 0.6703 | Test loss: 0.7381 | Test Acc: 0.6843\n"
          ]
        },
        {
          "output_type": "stream",
          "name": "stderr",
          "text": [
            "100%|██████████| 799/799 [08:42<00:00,  1.53it/s]\n"
          ]
        },
        {
          "output_type": "stream",
          "name": "stdout",
          "text": [
            "Epoch: 6/10 | Train loss: 0.7259 | Train Acc: 0.6929 | Test loss: 0.6910 | Test Acc: 0.7102\n"
          ]
        },
        {
          "output_type": "stream",
          "name": "stderr",
          "text": [
            "100%|██████████| 799/799 [08:38<00:00,  1.54it/s]\n"
          ]
        },
        {
          "output_type": "stream",
          "name": "stdout",
          "text": [
            "Epoch: 7/10 | Train loss: 5001.7041 | Train Acc: 0.6401 | Test loss: 0.8117 | Test Acc: 0.6163\n"
          ]
        },
        {
          "output_type": "stream",
          "name": "stderr",
          "text": [
            "100%|██████████| 799/799 [08:39<00:00,  1.54it/s]\n"
          ]
        },
        {
          "output_type": "stream",
          "name": "stdout",
          "text": [
            "Epoch: 8/10 | Train loss: 0.8051 | Train Acc: 0.6302 | Test loss: 0.7957 | Test Acc: 0.6335\n"
          ]
        },
        {
          "output_type": "stream",
          "name": "stderr",
          "text": [
            "100%|██████████| 799/799 [08:38<00:00,  1.54it/s]\n"
          ]
        },
        {
          "output_type": "stream",
          "name": "stdout",
          "text": [
            "Epoch: 9/10 | Train loss: 0.7954 | Train Acc: 0.6400 | Test loss: 0.7888 | Test Acc: 0.6415\n"
          ]
        },
        {
          "output_type": "stream",
          "name": "stderr",
          "text": [
            "100%|██████████| 799/799 [08:37<00:00,  1.54it/s]\n"
          ]
        },
        {
          "output_type": "stream",
          "name": "stdout",
          "text": [
            "Epoch: 10/10 | Train loss: 0.7929 | Train Acc: 0.6432 | Test loss: 0.7790 | Test Acc: 0.6546\n"
          ]
        }
      ]
    },
    {
      "cell_type": "code",
      "source": [
        "plt.figure()\n",
        "plt.plot(unet_train_losses, \"bo\", label=\"Training loss\")\n",
        "plt.plot(unet_test_losses, \"b\", label=\"Validation loss\")\n",
        "plt.title(\"Training and validation loss\")\n",
        "plt.legend()"
      ],
      "metadata": {
        "colab": {
          "base_uri": "https://localhost:8080/",
          "height": 469
        },
        "id": "pCy6ZxLKk8gU",
        "outputId": "4f35ec0d-923f-47ca-f593-4832bba7a0ad"
      },
      "execution_count": 23,
      "outputs": [
        {
          "output_type": "execute_result",
          "data": {
            "text/plain": [
              "<matplotlib.legend.Legend at 0x7ccd8d59bdf0>"
            ]
          },
          "metadata": {},
          "execution_count": 23
        },
        {
          "output_type": "display_data",
          "data": {
            "text/plain": [
              "<Figure size 640x480 with 1 Axes>"
            ],
            "image/png": "[encoded data removed]"
          },
          "metadata": {}
        }
      ]
    }
  ],
  "metadata": {
    "colab": {
      "provenance": [],
      "collapsed_sections": [
        "3HAdziFjUwwM",
        "ZsSPkkVjUww0",
        "JWjL2dzeUww6",
        "k94cfqLUmvUd"
      ],
      "gpuType": "T4"
    },
    "kernelspec": {
      "display_name": "Python 3",
      "name": "python3"
    },
    "language_info": {
      "codemirror_mode": {
        "name": "ipython",
        "version": 3
      },
      "file_extension": ".py",
      "mimetype": "text/x-python",
      "name": "python",
      "nbconvert_exporter": "python",
      "pygments_lexer": "ipython3",
      "version": "3.11.4"
    },
    "accelerator": "GPU"
  },
  "nbformat": 4,
  "nbformat_minor": 0
}