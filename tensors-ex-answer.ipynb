{
 "cells": [
  {
   "cell_type": "code",
   "execution_count": 1,
   "metadata": {},
   "outputs": [],
   "source": [
    "import numpy as np\n",
    "import torch"
   ]
  },
  {
   "cell_type": "markdown",
   "metadata": {},
   "source": [
    "1. Create two random tensors with shapes (6, 5) and (1, 5), and perform a matrix multiplication on these tensors."
   ]
  },
  {
   "cell_type": "code",
   "execution_count": 2,
   "metadata": {},
   "outputs": [
    {
     "name": "stdout",
     "output_type": "stream",
     "text": [
      "tensor([[1.9389],\n",
      "        [1.8879],\n",
      "        [2.2856],\n",
      "        [1.3511],\n",
      "        [1.0735],\n",
      "        [0.7813]])\n"
     ]
    }
   ],
   "source": [
    "# Set the random seed so things are predictable\n",
    "torch.manual_seed(42)\n",
    "\n",
    "# Create random tensor\n",
    "tensor1_1 = torch.rand((6, 5))\n",
    "tensor1_2 = torch.rand((1, 5))\n",
    "\n",
    "# Perform matrix multiplication \n",
    "matrix_multiplication = tensor1_1 @ tensor1_2.T\n",
    "print(matrix_multiplication)"
   ]
  },
  {
   "cell_type": "markdown",
   "metadata": {},
   "source": [
    "2. Given the provided code for generating data, create a simple Python function or class that multiplies the generated features tensor by the corresponding weights tensor and adds the bias term. Assume that the function/class takes the features, weights, and bias tensors as inputs and returns the result of the linear operation. Provide an example of using this function/class with the generated data."
   ]
  },
  {
   "cell_type": "code",
   "execution_count": 3,
   "metadata": {},
   "outputs": [
    {
     "name": "stdout",
     "output_type": "stream",
     "text": [
      "tensor([[-1.6619]])\n"
     ]
    }
   ],
   "source": [
    "class LinearModel:\n",
    "    def __init__(self, features: torch.Tensor, weights: torch.Tensor, bias: torch.Tensor) -> None:\n",
    "        self.features = features\n",
    "        self.weights = weights\n",
    "        self.bias = bias\n",
    "\n",
    "    def predict(self) -> float:\n",
    "        return self.features @ self.weights.T + self.bias\n",
    "    \n",
    "\n",
    "### Generate some data\n",
    "torch.manual_seed(7) # Set the random seed so things are predictable\n",
    "\n",
    "# Features are 3 random normal variables\n",
    "features = torch.randn((1, 5))\n",
    "# True weights for our data, random normal variables again\n",
    "weights = torch.randn_like(features)\n",
    "# and a true bias term\n",
    "bias = torch.randn((1, 1))\n",
    "\n",
    "linear_model = LinearModel(features, weights, bias)\n",
    "print(linear_model.predict())"
   ]
  },
  {
   "cell_type": "markdown",
   "metadata": {},
   "source": [
    "3. Find the maximum and minimum values as well as the corresponding index values in the output of task 1."
   ]
  },
  {
   "cell_type": "code",
   "execution_count": 4,
   "metadata": {},
   "outputs": [
    {
     "name": "stdout",
     "output_type": "stream",
     "text": [
      "max:  tensor(2.2856)\n",
      "min:  tensor(0.7813)\n",
      "max_index:  tensor(2)\n",
      "min_index:  tensor(5)\n"
     ]
    }
   ],
   "source": [
    "# Find max\n",
    "max = matrix_multiplication.max()\n",
    "print(\"max: \", max)\n",
    "\n",
    "# Find min\n",
    "min = matrix_multiplication.min()\n",
    "print(\"min: \", min)\n",
    "\n",
    "# Find arg max\n",
    "max_index = matrix_multiplication.argmax()\n",
    "print(\"max_index: \", max_index)\n",
    "\n",
    "# Find arg min\n",
    "min_index = matrix_multiplication.argmin()\n",
    "print(\"min_index: \", min_index)"
   ]
  },
  {
   "cell_type": "markdown",
   "metadata": {},
   "source": [
    "4. Generate a unique tensor with dimensions (1, 1, 1, 25), and subsequently transform it into a new tensor by removing all singleton dimensions, resulting in a tensor with shape (25)."
   ]
  },
  {
   "cell_type": "code",
   "execution_count": 5,
   "metadata": {},
   "outputs": [
    {
     "name": "stdout",
     "output_type": "stream",
     "text": [
      "squeezed tensor:  tensor([0.8823, 0.9150, 0.3829, 0.9593, 0.3904, 0.6009, 0.2566, 0.7936, 0.9408,\n",
      "        0.1332, 0.9346, 0.5936, 0.8694, 0.5677, 0.7411, 0.4294, 0.8854, 0.5739,\n",
      "        0.2666, 0.6274, 0.2696, 0.4414, 0.2969, 0.8317, 0.1053])\n",
      "squeezed tensor shape:  torch.Size([25])\n"
     ]
    }
   ],
   "source": [
    "# Initialize the random seed\n",
    "torch.manual_seed(42)\n",
    "\n",
    "# Generate a tensor with random values\n",
    "tensor4 = torch.rand((1, 1, 1, 25))\n",
    "\n",
    "# Eliminate singleton dimensions\n",
    "squeezed_tensor = tensor4.squeeze()\n",
    "\n",
    "# Display the tensors along with their shapes\n",
    "print(\"squeezed tensor: \", squeezed_tensor)\n",
    "print(\"squeezed tensor shape: \",squeezed_tensor.shape)"
   ]
  },
  {
   "cell_type": "markdown",
   "metadata": {},
   "source": [
    "5. Create a 1D tensor of size 5 with value ranging from 1 to 5. Reshape the 1D tensor into a 2D tensor of shape (1, 5)"
   ]
  },
  {
   "cell_type": "code",
   "execution_count": 6,
   "metadata": {},
   "outputs": [
    {
     "name": "stdout",
     "output_type": "stream",
     "text": [
      "reshaped tensor:  tensor([[1, 2, 3, 4, 5]])\n",
      "reshaped tensor shape:  torch.Size([1, 5])\n"
     ]
    }
   ],
   "source": [
    "tensor5 = torch.arange(1, 6)\n",
    "reshaped_tensor = tensor5.reshape(1, 5)\n",
    "print(\"reshaped tensor: \", reshaped_tensor)\n",
    "print(\"reshaped tensor shape: \", reshaped_tensor.shape)"
   ]
  },
  {
   "cell_type": "markdown",
   "metadata": {},
   "source": [
    "6. Create two 2D tensors of shape (2, 3) and perform element-wise addition."
   ]
  },
  {
   "cell_type": "code",
   "execution_count": 7,
   "metadata": {},
   "outputs": [
    {
     "name": "stdout",
     "output_type": "stream",
     "text": [
      "tensor([[1.1388, 1.7086, 1.3236],\n",
      "        [1.0925, 1.3250, 1.1945]])\n"
     ]
    }
   ],
   "source": [
    "torch.manual_seed(42)\n",
    "\n",
    "tensor6_1 = torch.rand((2, 3))\n",
    "tensor6_2 = torch.rand((2, 3))\n",
    "matrix_summation = tensor6_1 + tensor6_2\n",
    "print(matrix_summation)"
   ]
  },
  {
   "cell_type": "markdown",
   "metadata": {},
   "source": [
    "7. Create a 2D tensor of shape (4, 4) filled with random values. Extract the first row and the last column as seperate tensors."
   ]
  },
  {
   "cell_type": "code",
   "execution_count": 8,
   "metadata": {},
   "outputs": [
    {
     "name": "stdout",
     "output_type": "stream",
     "text": [
      "tensor([[0.8823, 0.9150, 0.3829, 0.9593],\n",
      "        [0.3904, 0.6009, 0.2566, 0.7936],\n",
      "        [0.9408, 0.1332, 0.9346, 0.5936],\n",
      "        [0.8694, 0.5677, 0.7411, 0.4294]])\n",
      "tensor([0.8823, 0.9150, 0.3829, 0.9593])\n",
      "tensor([0.9593, 0.7936, 0.5936, 0.4294])\n"
     ]
    }
   ],
   "source": [
    "torch.manual_seed(42)\n",
    "\n",
    "tensor7 = torch.rand((4, 4))\n",
    "first_row_vector = tensor7[0]\n",
    "last_column_vector = tensor7[:, -1]\n",
    "\n",
    "print(tensor7)\n",
    "print(first_row_vector)\n",
    "print(last_column_vector)"
   ]
  },
  {
   "cell_type": "markdown",
   "metadata": {},
   "source": [
    "8. Create a 2D tensor of shape (3, 3) and a 1D tensor of shape (3,). Add the 1D tensor to each row of the 2D tensor using broadcasting."
   ]
  },
  {
   "cell_type": "code",
   "execution_count": 9,
   "metadata": {},
   "outputs": [
    {
     "name": "stdout",
     "output_type": "stream",
     "text": [
      "tensor([[0.8823, 0.9150, 0.3829],\n",
      "        [0.9593, 0.3904, 0.6009],\n",
      "        [0.2566, 0.7936, 0.9408]])\n",
      "tensor([0.1332, 0.9346, 0.5936])\n",
      "tensor([[1.0155, 1.8496, 0.9764],\n",
      "        [1.0925, 1.3250, 1.1945],\n",
      "        [0.3898, 1.7282, 1.5344]])\n"
     ]
    }
   ],
   "source": [
    "torch.manual_seed(42)\n",
    "\n",
    "tensor8_1 = torch.rand((3, 3))\n",
    "tensor8_2 = torch.rand((3))\n",
    "\n",
    "print(tensor8_1)\n",
    "print(tensor8_2)\n",
    "print(tensor8_1 + tensor8_2)"
   ]
  },
  {
   "cell_type": "markdown",
   "metadata": {},
   "source": [
    "9. Create a 2D tensor of shape (3, 4) filled with random values and compute the sum of all elements."
   ]
  },
  {
   "cell_type": "code",
   "execution_count": 10,
   "metadata": {},
   "outputs": [
    {
     "name": "stdout",
     "output_type": "stream",
     "text": [
      "tensor([[0.8823, 0.9150, 0.3829, 0.9593],\n",
      "        [0.3904, 0.6009, 0.2566, 0.7936],\n",
      "        [0.9408, 0.1332, 0.9346, 0.5936]])\n",
      "tensor(7.7831)\n"
     ]
    }
   ],
   "source": [
    "torch.manual_seed(42)\n",
    "\n",
    "tensor9 = torch.rand((3, 4))\n",
    "\n",
    "print(tensor9)\n",
    "print(tensor9.sum())"
   ]
  },
  {
   "cell_type": "markdown",
   "metadata": {},
   "source": [
    "10. Create a 2D tensor of shape (3, 4) filled with random values and compute the mean along each row."
   ]
  },
  {
   "cell_type": "code",
   "execution_count": 11,
   "metadata": {},
   "outputs": [
    {
     "name": "stdout",
     "output_type": "stream",
     "text": [
      "tensor([[0.8823, 0.9150, 0.3829, 0.9593],\n",
      "        [0.3904, 0.6009, 0.2566, 0.7936],\n",
      "        [0.9408, 0.1332, 0.9346, 0.5936]])\n",
      "tensor([0.7849, 0.5104, 0.6505])\n"
     ]
    }
   ],
   "source": [
    "torch.manual_seed(42)\n",
    "\n",
    "tensor10 = torch.rand((3, 4))\n",
    "\n",
    "print(tensor10)\n",
    "print(tensor10.mean(dim=1))"
   ]
  }
 ],
 "metadata": {
  "kernelspec": {
   "display_name": ".venv",
   "language": "python",
   "name": "python3"
  },
  "language_info": {
   "codemirror_mode": {
    "name": "ipython",
    "version": 3
   },
   "file_extension": ".py",
   "mimetype": "text/x-python",
   "name": "python",
   "nbconvert_exporter": "python",
   "pygments_lexer": "ipython3",
   "version": "3.11.4"
  }
 },
 "nbformat": 4,
 "nbformat_minor": 2
}
