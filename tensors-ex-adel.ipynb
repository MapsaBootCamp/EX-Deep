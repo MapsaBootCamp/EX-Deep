{
 "cells": [
  {
   "cell_type": "code",
   "execution_count": 1,
   "metadata": {},
   "outputs": [],
   "source": [
    "import numpy as np\n",
    "import torch"
   ]
  },
  {
   "cell_type": "markdown",
   "metadata": {},
   "source": [
    "1. Create two random tensors with shapes (6, 5) and (1, 5), and perform a matrix multiplication on these tensors."
   ]
  },
  {
   "cell_type": "code",
   "execution_count": 8,
   "metadata": {},
   "outputs": [
    {
     "name": "stdout",
     "output_type": "stream",
     "text": [
      "tensor([[ 3.5812, -0.7450,  1.2882,  0.7087],\n",
      "        [ 2.3774,  0.8962,  2.9980,  2.5721],\n",
      "        [ 3.2018,  0.0375,  2.4605,  1.9172],\n",
      "        [ 0.7798, -0.4621, -1.6297, -1.7187]])\n"
     ]
    }
   ],
   "source": [
    "# Set the random seed so things are predictable\n",
    "\n",
    "# Create random tensor\n",
    "\n",
    "# Perform matrix multiplication \n",
    "\n",
    "torch.manual_seed(7)\n",
    "\n",
    "random_tensor_1 = torch.randn((4,3))\n",
    "random_tensor_2 = torch.randn((3,4))\n",
    "multiply = random_tensor_1 @ random_tensor_2\n",
    "print(multiply)"
   ]
  },
  {
   "cell_type": "markdown",
   "metadata": {},
   "source": [
    "2. Given the provided code for generating data, create a simple Python function or class that multiplies the generated features tensor by the corresponding weights tensor and adds the bias term. Assume that the function/class takes the features, weights, and bias tensors as inputs and returns the result of the linear operation. Provide an example of using this function/class with the generated data."
   ]
  },
  {
   "cell_type": "code",
   "execution_count": 33,
   "metadata": {},
   "outputs": [
    {
     "data": {
      "text/plain": [
       "tensor([[ 0.4490, -0.3858, -0.5296,  1.3148, -1.1953],\n",
       "        [ 0.3699,  0.0381, -0.0190,  0.7140, -0.2836],\n",
       "        [ 0.1368,  1.2865,  1.4845, -1.0556,  2.4014],\n",
       "        [ 0.2974,  0.4263,  0.4485,  0.1637,  0.5513],\n",
       "        [ 0.5646, -1.0048, -1.2751,  2.1922, -2.5266]])"
      ]
     },
     "execution_count": 33,
     "metadata": {},
     "output_type": "execute_result"
    }
   ],
   "source": [
    "### Generate some data\n",
    "torch.manual_seed(7) # Set the random seed so things are predictable\n",
    "\n",
    "# Features are 3 random normal variables\n",
    "features = torch.randn((1, 5))\n",
    "# True weights for our data, random normal variables again\n",
    "weights = torch.randn_like(features)\n",
    "# and a true bias term\n",
    "bias = torch.randn((1, 1))\n",
    "\n",
    "def linear_func(features, weights, bias):\n",
    "    return weights.T @ features + bias\n",
    "\n",
    "\n",
    "linear_func(features, weights, bias) "
   ]
  },
  {
   "cell_type": "markdown",
   "metadata": {},
   "source": [
    "3. Find the maximum and minimum values as well as the corresponding index values in the output of task 1."
   ]
  },
  {
   "cell_type": "code",
   "execution_count": 41,
   "metadata": {},
   "outputs": [
    {
     "name": "stdout",
     "output_type": "stream",
     "text": [
      "max : tensor(2.4014)\n",
      "min : tensor(-2.5266)\n",
      "arg_max : tensor(14)\n",
      "arg_min : tensor(24)\n"
     ]
    }
   ],
   "source": [
    "torch.manual_seed(7) \n",
    "\n",
    "features = torch.randn((1, 5))\n",
    "\n",
    "weights = torch.randn_like(features)\n",
    "\n",
    "bias = torch.randn((1, 1))\n",
    "\n",
    "def linear_func(features, weights, bias):\n",
    "    return weights.T @ features + bias\n",
    "\n",
    "# Find max\n",
    "print('max :',linear_func(features, weights, bias).max())\n",
    "\n",
    "# Find min\n",
    "print('min :',linear_func(features, weights, bias).min())\n",
    "\n",
    "# Find arg max\n",
    "print('arg_max :',linear_func(features, weights, bias).argmax())\n",
    "\n",
    "# Find arg min\n",
    "print('arg_min :',linear_func(features, weights, bias).argmin())"
   ]
  },
  {
   "cell_type": "markdown",
   "metadata": {},
   "source": [
    "4. Generate a unique tensor with dimensions (1, 1, 1, 25), and subsequently transform it into a new tensor by removing all singleton dimensions, resulting in a tensor with shape (25)."
   ]
  },
  {
   "cell_type": "code",
   "execution_count": 49,
   "metadata": {},
   "outputs": [
    {
     "name": "stdout",
     "output_type": "stream",
     "text": [
      "torch.Size([25])\n",
      "tensor([-0.8201,  0.3956,  0.8989, -1.3884, -0.1670,  0.2851, -0.6411, -0.8937,\n",
      "         0.9265, -1.2169, -0.0810,  1.3615, -1.3032,  0.0875, -1.3850,  0.5036,\n",
      "        -0.0835, -0.5640, -2.0565, -0.3567,  1.0956,  0.4824,  1.3989,  1.4059,\n",
      "        -1.4013])\n"
     ]
    }
   ],
   "source": [
    "# Initialize the random seed\n",
    "torch.manual_seed(7) \n",
    "\n",
    "# Generate a tensor with random values\n",
    "my_tensor = torch.randn((1,1,1,25))\n",
    "\n",
    "# Eliminate singleton dimensions\n",
    "my_vector = my_tensor.reshape(-1)\n",
    "\n",
    "# Display the tensors along with their shapes\n",
    "print(my_vector.shape)\n",
    "print(my_vector)"
   ]
  },
  {
   "cell_type": "markdown",
   "metadata": {},
   "source": [
    "5. Create a 1D tensor of size 5 with value ranging from 1 to 5. Reshape the 1D tensor into a 2D tensor of shape (1, 5)"
   ]
  },
  {
   "cell_type": "code",
   "execution_count": 69,
   "metadata": {},
   "outputs": [
    {
     "name": "stdout",
     "output_type": "stream",
     "text": [
      "torch.Size([5])\n",
      "torch.Size([1, 5])\n"
     ]
    }
   ],
   "source": [
    "new_vector = torch.arange(1,6)\n",
    "print(new_vector.shape)\n",
    "\n",
    "new_tensor = new_vector.reshape(1,5)\n",
    "print(new_tensor.shape)"
   ]
  },
  {
   "cell_type": "markdown",
   "metadata": {},
   "source": [
    "6. Create two 2D tensors of shape (2, 3) and perform element-wise addition."
   ]
  },
  {
   "cell_type": "code",
   "execution_count": 70,
   "metadata": {},
   "outputs": [],
   "source": [
    "tensor_1 = torch.randn(2,3)\n",
    "tensor_2 = torch.randn(2,3)\n",
    "\n",
    "tensor_3 = tensor_1 + tensor_2"
   ]
  },
  {
   "cell_type": "markdown",
   "metadata": {},
   "source": [
    "7. Create a 2D tensor of shape (4, 4) filled with random values. Extract the first row and the last column as seperate tensors."
   ]
  },
  {
   "cell_type": "code",
   "execution_count": 71,
   "metadata": {},
   "outputs": [
    {
     "name": "stdout",
     "output_type": "stream",
     "text": [
      "tensor([[-1.0268, -0.0790,  0.1438,  1.4025],\n",
      "        [-0.4167,  0.1655, -0.7157,  1.2425],\n",
      "        [-0.7125, -0.6910,  0.2311, -0.7556],\n",
      "        [-0.1198,  0.9545,  0.1492,  1.6222]])\n",
      "tensor([-1.0268, -0.0790,  0.1438,  1.4025])\n",
      "tensor([ 1.4025,  1.2425, -0.7556,  1.6222])\n"
     ]
    }
   ],
   "source": [
    "my_tensor = torch.randn(4,4)\n",
    "print(my_tensor)\n",
    "\n",
    "first_row = my_tensor[0]\n",
    "las_col = my_tensor[:,-1]\n",
    "print(first_row)\n",
    "print(las_col)"
   ]
  },
  {
   "cell_type": "markdown",
   "metadata": {},
   "source": [
    "8. Create a 2D tensor of shape (3, 3) and a 1D tensor of shape (3,). Add the 1D tensor to each row of the 2D tensor using broadcasting."
   ]
  },
  {
   "cell_type": "code",
   "execution_count": 81,
   "metadata": {},
   "outputs": [
    {
     "name": "stdout",
     "output_type": "stream",
     "text": [
      "tensor([[-0.0147, -0.5648,  0.4987],\n",
      "        [-1.8017, -0.2172,  0.9465],\n",
      "        [ 0.7827, -0.7846, -1.9137]])\n",
      "tensor([[1],\n",
      "        [1],\n",
      "        [1]])\n",
      "torch.Size([3, 1])\n",
      "tensor([[ 0.9853,  0.4352,  1.4987],\n",
      "        [-0.8017,  0.7828,  1.9465],\n",
      "        [ 1.7827,  0.2154, -0.9137]])\n"
     ]
    }
   ],
   "source": [
    "tensor_1 = torch.randn(3,3)\n",
    "tensor_2 = torch.tensor([1,1,1]).reshape(3,1)\n",
    "print(tensor_1)\n",
    "print(tensor_2)\n",
    "print(tensor_2.shape)\n",
    "print(tensor_1 + tensor_2)"
   ]
  },
  {
   "cell_type": "markdown",
   "metadata": {},
   "source": [
    "9. Create a 2D tensor of shape (3, 4) filled with random values and compute the sum of all elements."
   ]
  },
  {
   "cell_type": "code",
   "execution_count": 82,
   "metadata": {},
   "outputs": [
    {
     "data": {
      "text/plain": [
       "tensor(-4.6030)"
      ]
     },
     "execution_count": 82,
     "metadata": {},
     "output_type": "execute_result"
    }
   ],
   "source": [
    "tensor_2d = torch.randn(3,4)\n",
    "\n",
    "elements_sum = tensor_2d.sum()\n",
    "elements_sum"
   ]
  },
  {
   "cell_type": "markdown",
   "metadata": {},
   "source": [
    "10. Create a 2D tensor of shape (3, 4) filled with random values and compute the mean along each row."
   ]
  },
  {
   "cell_type": "code",
   "execution_count": 83,
   "metadata": {},
   "outputs": [
    {
     "name": "stdout",
     "output_type": "stream",
     "text": [
      "tensor([ 0.2408, -0.0782,  1.0269])\n"
     ]
    }
   ],
   "source": [
    "tensor_2d = torch.randn(3,4)\n",
    "print(tensor_2d.mean(dim=1))"
   ]
  }
 ],
 "metadata": {
  "kernelspec": {
   "display_name": ".venv",
   "language": "python",
   "name": "python3"
  },
  "language_info": {
   "codemirror_mode": {
    "name": "ipython",
    "version": 3
   },
   "file_extension": ".py",
   "mimetype": "text/x-python",
   "name": "python",
   "nbconvert_exporter": "python",
   "pygments_lexer": "ipython3",
   "version": "3.10.12"
  }
 },
 "nbformat": 4,
 "nbformat_minor": 2
}
