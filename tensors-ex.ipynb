{
 "cells": [
  {
   "cell_type": "code",
   "execution_count": 1,
   "metadata": {},
   "outputs": [],
   "source": [
    "import numpy as np\n",
    "import torch"
   ]
  },
  {
   "cell_type": "markdown",
   "metadata": {},
   "source": [
    "1. Create two random tensors with shapes (6, 5) and (1, 5), and perform a matrix multiplication on these tensors."
   ]
  },
  {
   "cell_type": "code",
   "execution_count": 13,
   "metadata": {},
   "outputs": [
    {
     "name": "stdout",
     "output_type": "stream",
     "text": [
      "tensor([[ 0.6138,  0.7859, -0.2608,  3.3627, -0.0487],\n",
      "        [-0.2134, -1.2734,  0.2593, -2.2441, -0.1561],\n",
      "        [ 0.8680, -0.9140, -0.2056, -2.4529, -0.4037],\n",
      "        [-0.3769, -0.1659,  0.0068, -0.4223,  0.6700],\n",
      "        [-0.7163, -1.3147, -0.4059, -3.4050, -0.4085],\n",
      "        [-0.9710,  3.2594,  0.3066,  0.6336, -0.0729]])\n"
     ]
    }
   ],
   "source": [
    "# Set the random seed so things are predictable\n",
    "torch.manual_seed(7)\n",
    "# Create random tensor\n",
    "tensor1=torch.randn(6,5)\n",
    "tensor2=torch.randn(1,5)\n",
    "# Perform matrix multiplication \n",
    "multi=tensor1*tensor2\n",
    "print(multi)"
   ]
  },
  {
   "cell_type": "markdown",
   "metadata": {},
   "source": [
    "2. Given the provided code for generating data, create a simple Python function or class that multiplies the generated features tensor by the corresponding weights tensor and adds the bias term. Assume that the function/class takes the features, weights, and bias tensors as inputs and returns the result of the linear operation. Provide an example of using this function/class with the generated data."
   ]
  },
  {
   "cell_type": "code",
   "execution_count": 14,
   "metadata": {},
   "outputs": [
    {
     "data": {
      "text/plain": [
       "tensor([[ 0.4490,  0.0381,  1.4845,  0.1637, -2.5266]])"
      ]
     },
     "execution_count": 14,
     "metadata": {},
     "output_type": "execute_result"
    }
   ],
   "source": [
    "### Generate some data\n",
    "torch.manual_seed(7) # Set the random seed so things are predictable\n",
    "\n",
    "# Features are 3 random normal variables\n",
    "features = torch.randn((1, 5))\n",
    "# True weights for our data, random normal variables again\n",
    "weights = torch.randn_like(features)\n",
    "# and a true bias term\n",
    "bias = torch.randn((1, 1))\n",
    "\n",
    "def multiple_mat(features,weight,bias):\n",
    "    result=features*weight + bias\n",
    "    return(result)\n",
    "\n",
    "multiple_mat(features=features,weight=weights,bias=bias)"
   ]
  },
  {
   "cell_type": "markdown",
   "metadata": {},
   "source": [
    "3. Find the maximum and minimum values as well as the corresponding index values in the output of task 1."
   ]
  },
  {
   "cell_type": "code",
   "execution_count": 15,
   "metadata": {},
   "outputs": [
    {
     "name": "stdout",
     "output_type": "stream",
     "text": [
      "tensor(3.3627)\n",
      "tensor(-3.4050)\n",
      "tensor(3)\n",
      "tensor(23)\n"
     ]
    }
   ],
   "source": [
    "# Find max\n",
    "print(torch.max(multi))\n",
    "# Find min\n",
    "print(torch.min(multi))\n",
    "# Find arg max\n",
    "print(torch.argmax(multi))\n",
    "# Find arg min\n",
    "print(torch.argmin(multi))"
   ]
  },
  {
   "cell_type": "markdown",
   "metadata": {},
   "source": [
    "4. Generate a unique tensor with dimensions (1, 1, 1, 25), and subsequently transform it into a new tensor by removing all singleton dimensions, resulting in a tensor with shape (25)."
   ]
  },
  {
   "cell_type": "code",
   "execution_count": 19,
   "metadata": {},
   "outputs": [
    {
     "name": "stdout",
     "output_type": "stream",
     "text": [
      "torch.Size([1, 1, 1, 25])\n",
      "torch.Size([25])\n"
     ]
    }
   ],
   "source": [
    "# Initialize the random seed\n",
    "torch.manual_seed(7)\n",
    "# Generate a tensor with random values\n",
    "unsqueeze=torch.randn(1,1,1,25)\n",
    "# Eliminate singleton dimensions\n",
    "squeeze=unsqueeze.view(25)\n",
    "# Display the tensors along with their shapes\n",
    "print(unsqueeze.shape)\n",
    "print(squeeze.shape)"
   ]
  },
  {
   "cell_type": "markdown",
   "metadata": {},
   "source": [
    "5. Create a 1D tensor of size 5 with value ranging from 1 to 5. Reshape the 1D tensor into a 2D tensor of shape (1, 5)"
   ]
  },
  {
   "cell_type": "code",
   "execution_count": 27,
   "metadata": {},
   "outputs": [
    {
     "data": {
      "text/plain": [
       "tensor([[1, 2, 3, 4, 5]])"
      ]
     },
     "execution_count": 27,
     "metadata": {},
     "output_type": "execute_result"
    }
   ],
   "source": [
    "torch.arange(1,6).reshape(1,5)"
   ]
  },
  {
   "cell_type": "markdown",
   "metadata": {},
   "source": [
    "6. Create two 2D tensors of shape (2, 3) and perform element-wise addition."
   ]
  },
  {
   "cell_type": "code",
   "execution_count": 28,
   "metadata": {},
   "outputs": [
    {
     "data": {
      "text/plain": [
       "tensor([[ 1.1213, -0.3216,  0.6005],\n",
       "        [ 0.2026, -1.9230,  1.3880]])"
      ]
     },
     "execution_count": 28,
     "metadata": {},
     "output_type": "execute_result"
    }
   ],
   "source": [
    "two_d_1=torch.randn(2,3)\n",
    "two_d_2=torch.randn(2,3)\n",
    "two_d_1+two_d_2"
   ]
  },
  {
   "cell_type": "markdown",
   "metadata": {},
   "source": [
    "7. Create a 2D tensor of shape (4, 4) filled with random values. Extract the first row and the last column as seperate tensors."
   ]
  },
  {
   "cell_type": "code",
   "execution_count": 33,
   "metadata": {},
   "outputs": [
    {
     "name": "stdout",
     "output_type": "stream",
     "text": [
      "tensor([[ 0.1333,  0.5600, -0.7351, -0.2240],\n",
      "        [-0.7955, -2.1339, -0.7493,  0.6340],\n",
      "        [-1.5414, -0.3315,  0.5505,  0.1268],\n",
      "        [-1.5152, -0.9127,  1.2716,  0.1451]])\n",
      "tensor([-0.7955, -2.1339, -0.7493,  0.6340])\n",
      "tensor([-0.2240,  0.6340,  0.1268,  0.1451])\n"
     ]
    }
   ],
   "source": [
    "example7=torch.randn(4,4)\n",
    "first_row=example7[1]\n",
    "last_column=example7[:,-1]\n",
    "print(example7)\n",
    "print(first_row)\n",
    "print(last_column)"
   ]
  },
  {
   "cell_type": "markdown",
   "metadata": {},
   "source": [
    "8. Create a 2D tensor of shape (3, 3) and a 1D tensor of shape (3,). Add the 1D tensor to each row of the 2D tensor using broadcasting."
   ]
  },
  {
   "cell_type": "code",
   "execution_count": 38,
   "metadata": {},
   "outputs": [
    {
     "name": "stdout",
     "output_type": "stream",
     "text": [
      "tensor([-0.0718,  0.4710, -0.4351])\n",
      "tensor([[-1.0906, -1.9475,  0.1032],\n",
      "        [ 0.9534, -1.1759, -1.1693],\n",
      "        [-0.7851, -0.0601, -1.5256]])\n",
      "tensor([[-1.1624, -1.4766, -0.3319],\n",
      "        [ 0.8815, -0.7049, -1.6044],\n",
      "        [-0.8570,  0.4109, -1.9607]])\n"
     ]
    }
   ],
   "source": [
    "example_8_2d=torch.randn(3,3)\n",
    "example_8_1d=torch.randn(3,)\n",
    "print(example_8_1d)\n",
    "print(example_8_2d)\n",
    "print(example_8_2d+example_8_1d)"
   ]
  },
  {
   "cell_type": "markdown",
   "metadata": {},
   "source": [
    "9. Create a 2D tensor of shape (3, 4) filled with random values and compute the sum of all elements."
   ]
  },
  {
   "cell_type": "code",
   "execution_count": 44,
   "metadata": {},
   "outputs": [
    {
     "name": "stdout",
     "output_type": "stream",
     "text": [
      "tensor([[ 0.3367,  0.1288,  0.2345,  0.2303],\n",
      "        [-1.1229, -0.1863,  2.2082, -0.6380],\n",
      "        [ 0.4617,  0.2674,  0.5349,  0.8094]])\n",
      "tensor(3.2646)\n"
     ]
    }
   ],
   "source": [
    "torch.manual_seed(42)\n",
    "example_9=torch.randn(3,4)\n",
    "print(example_9)\n",
    "print(example_9.sum())"
   ]
  },
  {
   "cell_type": "markdown",
   "metadata": {},
   "source": [
    "10. Create a 2D tensor of shape (3, 4) filled with random values and compute the mean along each row."
   ]
  },
  {
   "cell_type": "code",
   "execution_count": 45,
   "metadata": {},
   "outputs": [
    {
     "name": "stdout",
     "output_type": "stream",
     "text": [
      "tensor([[ 0.3367,  0.1288,  0.2345,  0.2303],\n",
      "        [-1.1229, -0.1863,  2.2082, -0.6380],\n",
      "        [ 0.4617,  0.2674,  0.5349,  0.8094]])\n",
      "tensor([0.2326, 0.0653, 0.5183])\n",
      "[tensor(0.2326), tensor(0.0653), tensor(0.5183)]\n"
     ]
    }
   ],
   "source": [
    "torch.manual_seed(42)\n",
    "example_10=torch.randn(3,4)\n",
    "print(example_10)\n",
    "print(example_10.mean(dim=1))\n",
    "print([p.mean() for p in example_10])"
   ]
  }
 ],
 "metadata": {
  "kernelspec": {
   "display_name": ".venv",
   "language": "python",
   "name": "python3"
  },
  "language_info": {
   "codemirror_mode": {
    "name": "ipython",
    "version": 3
   },
   "file_extension": ".py",
   "mimetype": "text/x-python",
   "name": "python",
   "nbconvert_exporter": "python",
   "pygments_lexer": "ipython3",
   "version": "3.9.13"
  }
 },
 "nbformat": 4,
 "nbformat_minor": 2
}
