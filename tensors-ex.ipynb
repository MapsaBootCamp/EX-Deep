{
 "cells": [
  {
   "cell_type": "code",
   "execution_count": 116,
   "metadata": {
    "is_executing": true
   },
   "outputs": [],
   "source": [
    "import numpy as np\n",
    "import torch\n",
    "%config IPCompleter.use_jedi=False"
   ]
  },
  {
   "cell_type": "markdown",
   "metadata": {},
   "source": [
    "1. Create two random tensors with shapes (6, 5) and (1, 5), and perform a matrix multiplication on these tensors."
   ]
  },
  {
   "cell_type": "code",
   "execution_count": 117,
   "metadata": {},
   "outputs": [
    {
     "data": {
      "text/plain": [
       "tensor([[12,  0, 16,  0,  6],\n",
       "        [ 4,  0,  8,  2, 23],\n",
       "        [12,  0, 16, 16, 21],\n",
       "        [ 4,  0, 25, 19, 16],\n",
       "        [ 0,  0,  9,  3, 21],\n",
       "        [12,  0,  9,  3, 19]])"
      ]
     },
     "execution_count": 117,
     "metadata": {},
     "output_type": "execute_result"
    }
   ],
   "source": [
    "# Set the random seed so things are predictable\n",
    "torch.manual_seed(42)\n",
    "\n",
    "# Create random tensor\n",
    "tensor1 = torch.randint(low=0 ,high=30,size=(6,5))\n",
    "tensor2 = torch.randint(low=0 ,high=30,size=(1,5))\n",
    "\n",
    "# Perform matrix multiplication \n",
    "multiplication = tensor1 * tensor2\n",
    "\n",
    "tensor1 & tensor2"
   ]
  },
  {
   "cell_type": "markdown",
   "metadata": {},
   "source": [
    "2. Given the provided code for generating data, create a simple Python function or class that multiplies the generated features tensor by the corresponding weights tensor and adds the bias term. Assume that the function/class takes the features, weights, and bias tensors as inputs and returns the result of the linear operation. Provide an example of using this function/class with the generated data."
   ]
  },
  {
   "cell_type": "code",
   "execution_count": 118,
   "metadata": {},
   "outputs": [
    {
     "data": {
      "text/plain": [
       "(<__main__.MyTensor at 0x7efeb62fc150>,\n",
       " tensor([[ 0.4490,  0.0381,  1.4845,  0.1637, -2.5266]]))"
      ]
     },
     "execution_count": 118,
     "metadata": {},
     "output_type": "execute_result"
    }
   ],
   "source": [
    "### Generate some data\n",
    "torch.manual_seed(7) # Set the random seed so things are predictable\n",
    "\n",
    "# Features are 3 random normal variables\n",
    "features = torch.randn((1, 5))\n",
    "# True weights for our data, random normal variables again\n",
    "weights = torch.randn_like(features)\n",
    "# and a true bias term\n",
    "bias = torch.randn((1, 1))\n",
    "\n",
    "class MyTensor:\n",
    "    def __init__(self,features, weights, bias,*args, **kwargs):\n",
    "        self.features=features\n",
    "        self.weights=weights\n",
    "        self.bias=bias\n",
    "\n",
    "    def calc(self):\n",
    "        return self,weights * self.features + self.bias\n",
    "\n",
    "tensi = MyTensor(features, weights, bias)\n",
    "tensi.calc()"
   ]
  },
  {
   "cell_type": "markdown",
   "metadata": {},
   "source": [
    "3. Find the maximum and minimum values as well as the corresponding index values in the output of task 1."
   ]
  },
  {
   "cell_type": "code",
   "execution_count": 119,
   "metadata": {},
   "outputs": [
    {
     "name": "stdout",
     "output_type": "stream",
     "text": [
      "multiplication.max()= tensor(667)\n",
      "multiplication.min()= tensor(0)\n",
      "multiplication.argmax()= tensor(24)\n",
      "multiplication.argmin()= tensor(1)\n"
     ]
    }
   ],
   "source": [
    "# Find max\n",
    "print(f\"{multiplication.max()= }\")\n",
    "# Find min\n",
    "print(f\"{multiplication.min()= }\")\n",
    "# Find arg max\n",
    "print(f\"{multiplication.argmax()= }\")\n",
    "# Find arg min\n",
    "print(f\"{multiplication.argmin()= }\")\n"
   ]
  },
  {
   "cell_type": "markdown",
   "metadata": {},
   "source": [
    "4. Generate a unique tensor with dimensions (1, 1, 1, 25), and subsequently transform it into a new tensor by removing all singleton dimensions, resulting in a tensor with shape (25)."
   ]
  },
  {
   "cell_type": "code",
   "execution_count": 120,
   "metadata": {},
   "outputs": [
    {
     "data": {
      "text/plain": [
       "tensor([49, 29,  6, 17,  9, 49, 16, 33, 44, 47,  2, 49, 36, 21, 13,  5,  6, 11,\n",
       "        45, 43,  2, 36, 33, 31, 20])"
      ]
     },
     "execution_count": 120,
     "metadata": {},
     "output_type": "execute_result"
    }
   ],
   "source": [
    "# Initialize the random seed\n",
    "torch.manual_seed(19)\n",
    "# Generate a tensor with random values\n",
    "tensor4 = torch.torch.randint(1,50,(1,1,1,25))\n",
    "# Eliminate singleton dimensions\n",
    "tensor4.reshape(25)\n",
    "# Display the tensors along with their shapes"
   ]
  },
  {
   "cell_type": "markdown",
   "metadata": {},
   "source": [
    "5. Create a 1D tensor of size 5 with value ranging from 1 to 5. Reshape the 1D tensor into a 2D tensor of shape (1, 5)"
   ]
  },
  {
   "cell_type": "code",
   "execution_count": 121,
   "metadata": {},
   "outputs": [
    {
     "data": {
      "text/plain": [
       "tensor([[15, 45, 27, 15, 43]])"
      ]
     },
     "execution_count": 121,
     "metadata": {},
     "output_type": "execute_result"
    }
   ],
   "source": [
    "tensor5 = torch.randint(1,50,(5,))\n",
    "tensor5.reshape(1,5)"
   ]
  },
  {
   "cell_type": "markdown",
   "metadata": {},
   "source": [
    "6. Create two 2D tensors of shape (2, 3) and perform element-wise addition."
   ]
  },
  {
   "cell_type": "code",
   "execution_count": 122,
   "metadata": {},
   "outputs": [
    {
     "data": {
      "text/plain": [
       "tensor([[77, 15, 21],\n",
       "        [56, 44, 41]])"
      ]
     },
     "execution_count": 122,
     "metadata": {},
     "output_type": "execute_result"
    }
   ],
   "source": [
    "tensor6 = torch.randint(1,50,(2,3))\n",
    "tensor6_ = torch.randint(1,50,(2,3))\n",
    "tensor6 + tensor6_"
   ]
  },
  {
   "cell_type": "markdown",
   "metadata": {},
   "source": [
    "7. Create a 2D tensor of shape (4, 4) filled with random values. Extract the first row and the last column as seperate tensors."
   ]
  },
  {
   "cell_type": "code",
   "execution_count": 123,
   "metadata": {},
   "outputs": [
    {
     "data": {
      "text/plain": [
       "(tensor([[49, 29,  6, 17],\n",
       "         [ 9, 49, 16, 33],\n",
       "         [44, 47,  2, 49],\n",
       "         [36, 21, 13,  5]]),\n",
       " tensor([49, 29,  6, 17]),\n",
       " tensor([36, 21, 13,  5]))"
      ]
     },
     "execution_count": 123,
     "metadata": {},
     "output_type": "execute_result"
    }
   ],
   "source": [
    "torch.manual_seed(19)\n",
    "tensor7 = torch.randint(1,50,(4,4))\n",
    "tensor7_first_row = tensor7[0]\n",
    "tensor7_last_col = tensor7[-1]\n",
    "tensor7, tensor7_first_row , tensor7_last_col "
   ]
  },
  {
   "cell_type": "markdown",
   "metadata": {},
   "source": [
    "8. Create a 2D tensor of shape (3, 3) and a 1D tensor of shape (3,). Add the 1D tensor to each row of the 2D tensor using broadcasting."
   ]
  },
  {
   "cell_type": "code",
   "execution_count": 124,
   "metadata": {},
   "outputs": [
    {
     "data": {
      "text/plain": [
       "tensor([[96, 31, 55],\n",
       "        [64, 11, 98],\n",
       "        [63, 35, 93]])"
      ]
     },
     "execution_count": 124,
     "metadata": {},
     "output_type": "execute_result"
    }
   ],
   "source": [
    "torch.manual_seed(19)\n",
    "tensor8 = torch.randint(1,50,(3,3))\n",
    "tensor8_ = torch.randint(1,50,(3,))\n",
    "tensor8 + tensor8_"
   ]
  },
  {
   "cell_type": "markdown",
   "metadata": {},
   "source": [
    "9. Create a 2D tensor of shape (3, 4) filled with random values and compute the sum of all elements."
   ]
  },
  {
   "cell_type": "code",
   "execution_count": 125,
   "metadata": {},
   "outputs": [
    {
     "data": {
      "text/plain": [
       "(tensor([[49, 29,  6, 17],\n",
       "         [ 9, 49, 16, 33],\n",
       "         [44, 47,  2, 49]]),\n",
       " tensor(350))"
      ]
     },
     "execution_count": 125,
     "metadata": {},
     "output_type": "execute_result"
    }
   ],
   "source": [
    "torch.manual_seed(19)\n",
    "tensor9 = torch.randint(1,50,(3,4))\n",
    "\n",
    "tensor9, tensor9.sum()"
   ]
  },
  {
   "cell_type": "markdown",
   "metadata": {},
   "source": [
    "10. Create a 2D tensor of shape (3, 4) filled with random values and compute the mean along each row."
   ]
  },
  {
   "cell_type": "code",
   "execution_count": 126,
   "metadata": {},
   "outputs": [
    {
     "data": {
      "text/plain": [
       "(tensor([[0.9686, 0.1999, 0.8799, 0.6622],\n",
       "         [0.2161, 0.1192, 0.3617, 0.0167],\n",
       "         [0.8503, 0.9620, 0.2479, 0.2946]]),\n",
       " tensor([0.6783, 0.4270, 0.4965, 0.3245]),\n",
       " tensor([0.6776, 0.1784, 0.5887]))"
      ]
     },
     "execution_count": 126,
     "metadata": {},
     "output_type": "execute_result"
    }
   ],
   "source": [
    "torch.manual_seed(19)\n",
    "tensor10 = torch.rand((3,4))\n",
    "\n",
    "tensor10, tensor10.mean(dim=0), tensor10.mean(dim=1) # dim 1 is Answer"
   ]
  },
  {
   "cell_type": "code",
   "execution_count": null,
   "metadata": {},
   "outputs": [],
   "source": []
  },
  {
   "cell_type": "code",
   "execution_count": null,
   "metadata": {},
   "outputs": [],
   "source": []
  }
 ],
 "metadata": {
  "kernelspec": {
   "display_name": "Python 3 (ipykernel)",
   "language": "python",
   "name": "python3"
  },
  "language_info": {
   "codemirror_mode": {
    "name": "ipython",
    "version": 3
   },
   "file_extension": ".py",
   "mimetype": "text/x-python",
   "name": "python",
   "nbconvert_exporter": "python",
   "pygments_lexer": "ipython3",
   "version": "3.11.4"
  }
 },
 "nbformat": 4,
 "nbformat_minor": 4
}
