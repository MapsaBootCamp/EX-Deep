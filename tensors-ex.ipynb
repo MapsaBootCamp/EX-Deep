{
 "cells": [
  {
   "cell_type": "code",
   "execution_count": 46,
   "metadata": {},
   "outputs": [],
   "source": [
    "import numpy as np\n",
    "import torch"
   ]
  },
  {
   "cell_type": "markdown",
   "metadata": {},
   "source": [
    "1. Create two random tensors with shapes (6, 5) and (1, 5), and perform a matrix multiplication on these tensors."
   ]
  },
  {
   "cell_type": "code",
   "execution_count": 132,
   "metadata": {},
   "outputs": [
    {
     "name": "stdout",
     "output_type": "stream",
     "text": [
      "tensors with shapes (6, 5) \n",
      " tensor([[ 0.4967, -0.1383,  0.6477,  1.5230, -0.2342],\n",
      "        [-0.2341,  1.5792,  0.7674, -0.4695,  0.5426],\n",
      "        [-0.4634, -0.4657,  0.2420, -1.9133, -1.7249],\n",
      "        [-0.5623, -1.0128,  0.3142, -0.9080, -1.4123],\n",
      "        [ 1.4656, -0.2258,  0.0675, -1.4247, -0.5444],\n",
      "        [ 0.1109, -1.1510,  0.3757, -0.6006, -0.2917]], dtype=torch.float64) \n",
      " tensors with shapes (1, 5)\n",
      " tensor([[-0.6017,  1.8523, -0.0135, -1.0577,  0.8225]], dtype=torch.float64)\n",
      " \n",
      "matrix multiplication \n",
      " tensor([[-2.9888e-01, -2.5610e-01, -8.7420e-03, -1.6109e+00, -1.9260e-01],\n",
      "        [ 1.4088e-01,  2.9251e+00, -1.0358e-02,  4.9657e-01,  4.4628e-01],\n",
      "        [ 2.7884e-01, -8.6266e-01, -3.2658e-03,  2.0237e+00, -1.4188e+00],\n",
      "        [ 3.3833e-01, -1.8760e+00, -4.2415e-03,  9.6043e-01, -1.1617e+00],\n",
      "        [-8.8189e-01, -4.1820e-01, -9.1144e-04,  1.5070e+00, -4.4778e-01],\n",
      "        [-6.6743e-02, -2.1320e+00, -5.0709e-03,  6.3530e-01, -2.3993e-01]],\n",
      "       dtype=torch.float64)\n"
     ]
    }
   ],
   "source": [
    "# Set the random seed so things are predictable\n",
    "np.random.seed(42)\n",
    "# Create random tensor\n",
    "tensor1 = torch.tensor(np.random.randn(30).reshape(6,5))\n",
    "tensor2 = torch.tensor(np.random.randn(5).reshape(1,5))\n",
    "print(f\"tensors with shapes (6, 5) \\n {tensor1} \\n tensors with shapes (1, 5)\\n {tensor2}\\n \")\n",
    "# Perform matrix multiplication \n",
    "print(f\"matrix multiplication \\n {tensor1 * tensor2}\")\n"
   ]
  },
  {
   "cell_type": "markdown",
   "metadata": {},
   "source": [
    "2. Given the provided code for generating data, create a simple Python function or class that multiplies the generated features tensor by the corresponding weights tensor and adds the bias term. Assume that the function/class takes the features, weights, and bias tensors as inputs and returns the result of the linear operation. Provide an example of using this function/class with the generated data."
   ]
  },
  {
   "cell_type": "code",
   "execution_count": 48,
   "metadata": {},
   "outputs": [
    {
     "name": "stdout",
     "output_type": "stream",
     "text": [
      "y = β0 + β1X1 + β2X2 + ... \n",
      " bias = tensor([[0.3177]])  weight vector = tensor([[-0.8948, -0.3556,  1.2324,  0.1382, -1.6822]])\n",
      "final tensor = tensor([[ 0.4490,  0.0381,  1.4845,  0.1637, -2.5266]])\n"
     ]
    }
   ],
   "source": [
    "### Generate some data\n",
    "torch.manual_seed(7) # Set the random seed so things are predictable\n",
    "\n",
    "# Features are 5 random normal variables\n",
    "features = torch.randn((1, 5))\n",
    "# True weights for our data, random normal variables again\n",
    "weights = torch.randn_like(features)\n",
    "# and a true bias term\n",
    "bias = torch.randn((1, 1))\n",
    "\n",
    "def multiplies_tensor(features,weights,bias):\n",
    "    y = features*weights+bias\n",
    "    print(\"y = β0 + β1X1 + β2X2 + ... \\n\",f\"bias = {bias}  weight vector = {weights}\")\n",
    "    return (f\"final tensor = {y}\")\n",
    "\n",
    "print(multiplies_tensor(features,weights,bias))"
   ]
  },
  {
   "cell_type": "markdown",
   "metadata": {},
   "source": [
    "3. Find the maximum and minimum values as well as the corresponding index values in the output of task 1."
   ]
  },
  {
   "cell_type": "code",
   "execution_count": 49,
   "metadata": {},
   "outputs": [
    {
     "name": "stdout",
     "output_type": "stream",
     "text": [
      "torch.return_types.max(\n",
      "values=tensor([1.4656, 1.5792, 0.7674, 1.5230, 0.5426], dtype=torch.float64),\n",
      "indices=tensor([4, 1, 1, 0, 1]))\n",
      "torch.return_types.max(\n",
      "values=tensor([-0.6017,  1.8523, -0.0135, -1.0577,  0.8225], dtype=torch.float64),\n",
      "indices=tensor([0, 0, 0, 0, 0]))\n",
      "torch.return_types.min(\n",
      "values=tensor([-0.5623, -1.1510,  0.0675, -1.9133, -1.7249], dtype=torch.float64),\n",
      "indices=tensor([3, 5, 4, 2, 2]))\n",
      "torch.return_types.min(\n",
      "values=tensor([-0.6017,  1.8523, -0.0135, -1.0577,  0.8225], dtype=torch.float64),\n",
      "indices=tensor([0, 0, 0, 0, 0]))\n"
     ]
    }
   ],
   "source": [
    "# Find max\n",
    "# Find arg max\n",
    "print(torch.max(tensor1,dim=0))\n",
    "print(torch.max(tensor2,dim=0))\n",
    "# Find min\n",
    "# Find arg min\n",
    "print(torch.min(tensor1,dim=0))\n",
    "print(torch.min(tensor2,dim=0))\n",
    "\n",
    "# print(torch.argmax(tensor1,dim=0))\n",
    "# print(torch.argmax(tensor2,dim=0))\n",
    "# print(torch.argmin(tensor1,dim=0))\n",
    "# print(torch.argmin(tensor2,dim=0))"
   ]
  },
  {
   "cell_type": "markdown",
   "metadata": {},
   "source": [
    "4. Generate a unique tensor with dimensions (1, 1, 1, 25), and subsequently transform it into a new tensor by removing all singleton dimensions, resulting in a tensor with shape (25)."
   ]
  },
  {
   "cell_type": "code",
   "execution_count": 104,
   "metadata": {},
   "outputs": [
    {
     "name": "stdout",
     "output_type": "stream",
     "text": [
      "unique tensor with dimensions (1, 1, 1, 25) \n",
      " tensor([[[[-1.9133, -1.7249, -1.4247, -1.4123, -1.0128, -0.9080, -0.5623,\n",
      "           -0.5444, -0.4695, -0.4657, -0.4634, -0.2342, -0.2341, -0.2258,\n",
      "           -0.1383,  0.0675,  0.2420,  0.3142,  0.4967,  0.5426,  0.6477,\n",
      "            0.7674,  1.4656,  1.5230,  1.5792]]]], dtype=torch.float64)\n",
      "tensor with shape (25) \n",
      " torch.Size([25]) \n",
      " tensor([-1.9133, -1.7249, -1.4247, -1.4123, -1.0128, -0.9080, -0.5623, -0.5444,\n",
      "        -0.4695, -0.4657, -0.4634, -0.2342, -0.2341, -0.2258, -0.1383,  0.0675,\n",
      "         0.2420,  0.3142,  0.4967,  0.5426,  0.6477,  0.7674,  1.4656,  1.5230,\n",
      "         1.5792], dtype=torch.float64)\n"
     ]
    }
   ],
   "source": [
    "# Initialize the random seed\n",
    "np.random.seed(42)\n",
    "# Generate a tensor with random values\n",
    "random_tensor = torch.tensor(np.random.randn(25).reshape(1,1,1,25))\n",
    "unique_tensor = torch.unique(random_tensor,dim=3)\n",
    "print('unique tensor with dimensions (1, 1, 1, 25) \\n',unique_tensor)\n",
    "# Eliminate singleton dimensions\n",
    "singleton_dimensions_tensor = unique_tensor.squeeze()\n",
    "# Display the tensors along with their shapes\n",
    "print('tensor with shape (25) \\n',singleton_dimensions_tensor.shape,'\\n',singleton_dimensions_tensor)"
   ]
  },
  {
   "cell_type": "markdown",
   "metadata": {},
   "source": [
    "5. Create a 1D tensor of size 5 with value ranging from 1 to 5. Reshape the 1D tensor into a 2D tensor of shape (1, 5)"
   ]
  },
  {
   "cell_type": "code",
   "execution_count": 115,
   "metadata": {},
   "outputs": [
    {
     "name": "stdout",
     "output_type": "stream",
     "text": [
      "torch.Size([1, 5])\n"
     ]
    }
   ],
   "source": [
    "onedim_tensor = torch.tensor(range(1,6))\n",
    "twodim_tensor = onedim_tensor.unsqueeze(-2)\n",
    "print(twodim_tensor.shape)"
   ]
  },
  {
   "cell_type": "markdown",
   "metadata": {},
   "source": [
    "6. Create two 2D tensors of shape (2, 3) and perform element-wise addition."
   ]
  },
  {
   "cell_type": "code",
   "execution_count": 112,
   "metadata": {},
   "outputs": [
    {
     "name": "stdout",
     "output_type": "stream",
     "text": [
      "first tensor \n",
      " tensor([[52, 93, 15],\n",
      "        [72, 61, 21]]) \n",
      " secend tensor \n",
      " tensor([[83, 87, 75],\n",
      "        [75, 88, 24]]) \n",
      " first + secend \n",
      " tensor([[135, 180,  90],\n",
      "        [147, 149,  45]])\n"
     ]
    }
   ],
   "source": [
    "np.random.seed(42)\n",
    "first = torch.tensor(np.random.randint(1,100,6).reshape(2,3))\n",
    "secend = torch.tensor(np.random.randint(1,100,6).reshape(2,3))\n",
    "print('first tensor \\n',first,'\\n secend tensor \\n',secend,'\\n first + secend \\n', first + secend)"
   ]
  },
  {
   "cell_type": "markdown",
   "metadata": {},
   "source": [
    "7. Create a 2D tensor of shape (4, 4) filled with random values. Extract the first row and the last column as seperate tensors."
   ]
  },
  {
   "cell_type": "code",
   "execution_count": 141,
   "metadata": {},
   "outputs": [
    {
     "name": "stdout",
     "output_type": "stream",
     "text": [
      "first row\n",
      " tensor([ 0.4967, -0.1383,  0.6477,  1.5230], dtype=torch.float64) \n",
      " last column \n",
      "tensor([[ 1.5230],\n",
      "        [ 0.7674],\n",
      "        [-0.4657],\n",
      "        [-0.5623]], dtype=torch.float64)\n"
     ]
    }
   ],
   "source": [
    "np.random.seed(42)\n",
    "secend_twodim_tensor = torch.tensor(np.random.randn(16).reshape(4,4))\n",
    "first_row = secend_twodim_tensor[0,:]\n",
    "last_column = secend_twodim_tensor[:,-1].reshape(-1,1)\n",
    "print(f'first row\\n {first_row} \\n last column \\n{last_column}')"
   ]
  },
  {
   "cell_type": "markdown",
   "metadata": {},
   "source": [
    "8. Create a 2D tensor of shape (3, 3) and a 1D tensor of shape (3,). Add the 1D tensor to each row of the 2D tensor using broadcasting."
   ]
  },
  {
   "cell_type": "code",
   "execution_count": 154,
   "metadata": {},
   "outputs": [
    {
     "data": {
      "text/plain": [
       "tensor([[5.4967, 0.8617, 6.6477],\n",
       "        [6.5230, 0.7658, 5.7659],\n",
       "        [6.5792, 1.7674, 5.5305]], dtype=torch.float64)"
      ]
     },
     "execution_count": 154,
     "metadata": {},
     "output_type": "execute_result"
    }
   ],
   "source": [
    "np.random.seed(42)\n",
    "third_twodim_tensor = torch.tensor(np.random.randn(9).reshape(3,3))\n",
    "secend_onedim_tensor = torch.tensor(np.random.randint(1,10,3))\n",
    "torch.add(third_twodim_tensor,secend_onedim_tensor)"
   ]
  },
  {
   "cell_type": "markdown",
   "metadata": {},
   "source": [
    "9. Create a 2D tensor of shape (3, 4) filled with random values and compute the sum of all elements."
   ]
  },
  {
   "cell_type": "code",
   "execution_count": 156,
   "metadata": {},
   "outputs": [
    {
     "name": "stdout",
     "output_type": "stream",
     "text": [
      "tensor([[ 0.4967, -0.1383,  0.6477,  1.5230],\n",
      "        [-0.2342, -0.2341,  1.5792,  0.7674],\n",
      "        [-0.4695,  0.5426, -0.4634, -0.4657]], dtype=torch.float64)\n",
      "tensor(3.5515, dtype=torch.float64)\n"
     ]
    }
   ],
   "source": [
    "np.random.seed(42)\n",
    "fourth_twodim_tensor = torch.tensor(np.random.randn(12).reshape(3,4))\n",
    "print(fourth_twodim_tensor)\n",
    "print(fourth_twodim_tensor.sum())"
   ]
  },
  {
   "cell_type": "markdown",
   "metadata": {},
   "source": [
    "10. Create a 2D tensor of shape (3, 4) filled with random values and compute the mean along each row."
   ]
  },
  {
   "cell_type": "code",
   "execution_count": 161,
   "metadata": {},
   "outputs": [
    {
     "name": "stdout",
     "output_type": "stream",
     "text": [
      "tensor([-0.0690,  0.0567,  0.5878,  0.6082], dtype=torch.float64)\n"
     ]
    }
   ],
   "source": [
    "print(fourth_twodim_tensor.mean(dim=0))"
   ]
  }
 ],
 "metadata": {
  "kernelspec": {
   "display_name": ".venv",
   "language": "python",
   "name": "python3"
  },
  "language_info": {
   "codemirror_mode": {
    "name": "ipython",
    "version": 3
   },
   "file_extension": ".py",
   "mimetype": "text/x-python",
   "name": "python",
   "nbconvert_exporter": "python",
   "pygments_lexer": "ipython3",
   "version": "3.10.12"
  }
 },
 "nbformat": 4,
 "nbformat_minor": 2
}
