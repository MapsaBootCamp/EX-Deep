{
 "cells": [
  {
   "cell_type": "code",
   "execution_count": 2,
   "metadata": {},
   "outputs": [],
   "source": [
    "import numpy as np\n",
    "import torch\n"
   ]
  },
  {
   "cell_type": "markdown",
   "metadata": {},
   "source": [
    "1. Create two random tensors with shapes (6, 5) and (1, 5), and perform a matrix multiplication on these tensors."
   ]
  },
  {
   "cell_type": "code",
   "execution_count": 4,
   "metadata": {},
   "outputs": [
    {
     "name": "stdout",
     "output_type": "stream",
     "text": [
      "torch.Size([6, 5])\n",
      "torch.Size([1, 5])\n"
     ]
    },
    {
     "data": {
      "text/plain": [
       "tensor([[1.9389],\n",
       "        [1.8879],\n",
       "        [2.2856],\n",
       "        [1.3511],\n",
       "        [1.0735],\n",
       "        [0.7813]])"
      ]
     },
     "execution_count": 4,
     "metadata": {},
     "output_type": "execute_result"
    }
   ],
   "source": [
    "# Set the random seed so things are predictable\n",
    "torch.manual_seed(42)\n",
    "\n",
    "# Create random tensor\n",
    "tensor1 = torch.rand(6,5)\n",
    "tensor2 = torch.rand(1,5)\n",
    "print(tensor1.shape)\n",
    "print(tensor2.shape)\n",
    "# Perform matrix multiplication \n",
    "torch.mm(tensor1, tensor2.T)\n"
   ]
  },
  {
   "cell_type": "markdown",
   "metadata": {},
   "source": [
    "2. Given the provided code for generating data, create a simple Python function or class that multiplies the generated features tensor by the corresponding weights tensor and adds the bias term. Assume that the function/class takes the features, weights, and bias tensors as inputs and returns the result of the linear operation. Provide an example of using this function/class with the generated data."
   ]
  },
  {
   "cell_type": "code",
   "execution_count": 5,
   "metadata": {},
   "outputs": [
    {
     "data": {
      "text/plain": [
       "tensor([[-1.6619]])"
      ]
     },
     "execution_count": 5,
     "metadata": {},
     "output_type": "execute_result"
    }
   ],
   "source": [
    "def linear_operation(features, weights, bias):\n",
    "    return torch.mm(features, weights.t()) + bias\n",
    "\n",
    "### Generate some data\n",
    "torch.manual_seed(7) # Set the random seed so things are predictable\n",
    "\n",
    "# Features are 3 random normal variables\n",
    "features = torch.randn((1, 5))\n",
    "# True weights for our data, random normal variables again\n",
    "weights = torch.randn_like(features)\n",
    "# and a true bias term\n",
    "bias = torch.randn((1, 1))\n",
    "\n",
    "linear_operation(features, weights, bias)"
   ]
  },
  {
   "cell_type": "markdown",
   "metadata": {},
   "source": [
    "3. Find the maximum and minimum values as well as the corresponding index values in the output of task 1."
   ]
  },
  {
   "cell_type": "code",
   "execution_count": 6,
   "metadata": {},
   "outputs": [
    {
     "data": {
      "text/plain": [
       "tensor(29)"
      ]
     },
     "execution_count": 6,
     "metadata": {},
     "output_type": "execute_result"
    }
   ],
   "source": [
    "# Find max\n",
    "tensor1.max()\n",
    "\n",
    "# Find min\n",
    "tensor1.min()\n",
    "\n",
    "# Find arg max\n",
    "tensor1.argmax()\n",
    "# Find arg min\n",
    "tensor1.argmin()"
   ]
  },
  {
   "cell_type": "markdown",
   "metadata": {},
   "source": [
    "4. Generate a unique tensor with dimensions (1, 1, 1, 25), and subsequently transform it into a new tensor by removing all singleton dimensions, resulting in a tensor with shape (25)."
   ]
  },
  {
   "cell_type": "code",
   "execution_count": 7,
   "metadata": {},
   "outputs": [
    {
     "data": {
      "text/plain": [
       "tensor([0.8823, 0.9150, 0.3829, 0.9593, 0.3904, 0.6009, 0.2566, 0.7936, 0.9408,\n",
       "        0.1332, 0.9346, 0.5936, 0.8694, 0.5677, 0.7411, 0.4294, 0.8854, 0.5739,\n",
       "        0.2666, 0.6274, 0.2696, 0.4414, 0.2969, 0.8317, 0.1053])"
      ]
     },
     "execution_count": 7,
     "metadata": {},
     "output_type": "execute_result"
    }
   ],
   "source": [
    "# Initialize the random seed\n",
    "torch.manual_seed(42)\n",
    "# Generate a tensor with random values\n",
    "tensor3 = torch.rand(1,1,1,25)\n",
    "# Eliminate singleton dimensions\n",
    "tensor3.flatten()\n",
    "# Display the tensors along with their shapes"
   ]
  },
  {
   "cell_type": "markdown",
   "metadata": {},
   "source": [
    "5. Create a 1D tensor of size 5 with value ranging from 1 to 5. Reshape the 1D tensor into a 2D tensor of shape (1, 5)"
   ]
  },
  {
   "cell_type": "code",
   "execution_count": 8,
   "metadata": {},
   "outputs": [],
   "source": [
    "tensor_1d = torch.tensor([1, 2, 3, 4, 5])\n",
    "\n",
    "tensor_2d = tensor_1d.view(1, 5)"
   ]
  },
  {
   "cell_type": "markdown",
   "metadata": {},
   "source": [
    "6. Create two 2D tensors of shape (2, 3) and perform element-wise addition."
   ]
  },
  {
   "cell_type": "code",
   "execution_count": 29,
   "metadata": {},
   "outputs": [
    {
     "data": {
      "text/plain": [
       "tensor([[1.8338, 0.9903, 1.2689, 1.5425, 0.7281],\n",
       "        [1.5524, 0.3318, 1.6797, 1.5240, 0.4708],\n",
       "        [1.8862, 0.6688, 1.7554, 1.1509, 1.0787],\n",
       "        [1.3810, 0.9607, 1.4599, 0.8498, 0.9651],\n",
       "        [1.2212, 0.5166, 1.1829, 1.4149, 0.4430],\n",
       "        [1.2210, 0.4341, 1.0854, 1.1304, 0.3438]])"
      ]
     },
     "execution_count": 29,
     "metadata": {},
     "output_type": "execute_result"
    }
   ],
   "source": [
    "tensor_2d = torch.tensor([[1, 2, 3],\n",
    "                        [4, 5, 6]])\n",
    "\n",
    "tensor2_2d = torch.tensor([[7, 8, 9],\n",
    "                        [10, 11, 12]])\n",
    "\n",
    "result_tensor = tensor1 + tensor2\n",
    "\n",
    "result_tensor"
   ]
  },
  {
   "cell_type": "markdown",
   "metadata": {},
   "source": [
    "7. Create a 2D tensor of shape (4, 4) filled with random values. Extract the first row and the last column as seperate tensors."
   ]
  },
  {
   "cell_type": "code",
   "execution_count": 31,
   "metadata": {},
   "outputs": [
    {
     "name": "stdout",
     "output_type": "stream",
     "text": [
      "tensor([[0.3644, 0.7104, 0.9464, 0.7890],\n",
      "        [0.2814, 0.7886, 0.5895, 0.7539],\n",
      "        [0.1952, 0.0050, 0.3068, 0.1165],\n",
      "        [0.9103, 0.6440, 0.7071, 0.6581]])\n",
      "tensor([0.3644, 0.7104, 0.9464, 0.7890])\n"
     ]
    },
    {
     "data": {
      "text/plain": [
       "tensor([0.7890, 0.7539, 0.1165, 0.6581])"
      ]
     },
     "execution_count": 31,
     "metadata": {},
     "output_type": "execute_result"
    }
   ],
   "source": [
    "random_tensor = torch.rand(4, 4)\n",
    "first_row = random_tensor[0, :]\n",
    "last_column = random_tensor[:, -1]\n",
    "\n",
    "print (random_tensor)\n",
    "print(first_row)\n",
    "last_column\n"
   ]
  },
  {
   "cell_type": "markdown",
   "metadata": {},
   "source": [
    "8. Create a 2D tensor of shape (3, 3) and a 1D tensor of shape (3,). Add the 1D tensor to each row of the 2D tensor using broadcasting."
   ]
  },
  {
   "cell_type": "code",
   "execution_count": 11,
   "metadata": {},
   "outputs": [
    {
     "name": "stdout",
     "output_type": "stream",
     "text": [
      "tensor([[1, 2, 3],\n",
      "        [4, 5, 6],\n",
      "        [7, 8, 9]])\n",
      "tensor([10, 20, 30])\n"
     ]
    },
    {
     "data": {
      "text/plain": [
       "tensor([[10],\n",
       "        [20],\n",
       "        [30]])"
      ]
     },
     "execution_count": 11,
     "metadata": {},
     "output_type": "execute_result"
    }
   ],
   "source": [
    "tensor_2d = torch.tensor([[1, 2, 3],\n",
    "                          [4, 5, 6],\n",
    "                          [7, 8, 9]])\n",
    "\n",
    "tensor_1d = torch.tensor([10, 20, 30])\n",
    "result_tensor = tensor_2d + tensor_1d.unsqueeze(1)\n",
    "print(tensor_2d)\n",
    "print(tensor_1d)\n",
    "result_tensor"
   ]
  },
  {
   "cell_type": "markdown",
   "metadata": {},
   "source": [
    "9. Create a 2D tensor of shape (3, 4) filled with random values and compute the sum of all elements."
   ]
  },
  {
   "cell_type": "code",
   "execution_count": 35,
   "metadata": {},
   "outputs": [
    {
     "name": "stdout",
     "output_type": "stream",
     "text": [
      "tensor([[0.4913, 0.8913, 0.1447, 0.5315],\n",
      "        [0.1587, 0.6542, 0.3278, 0.6532],\n",
      "        [0.3958, 0.9147, 0.2036, 0.2018]])\n"
     ]
    },
    {
     "data": {
      "text/plain": [
       "tensor(5.5687)"
      ]
     },
     "execution_count": 35,
     "metadata": {},
     "output_type": "execute_result"
    }
   ],
   "source": [
    "random_tensor = torch.rand(3, 4)\n",
    "print(random_tensor)\n",
    "torch.sum(random_tensor)"
   ]
  },
  {
   "cell_type": "markdown",
   "metadata": {},
   "source": [
    "10. Create a 2D tensor of shape (3, 4) filled with random values and compute the mean along each row."
   ]
  },
  {
   "cell_type": "code",
   "execution_count": 36,
   "metadata": {},
   "outputs": [
    {
     "name": "stdout",
     "output_type": "stream",
     "text": [
      "tensor([[0.2018, 0.9497, 0.6666, 0.9811],\n",
      "        [0.0874, 0.0041, 0.1088, 0.1637],\n",
      "        [0.7025, 0.6790, 0.9155, 0.2418]])\n"
     ]
    },
    {
     "data": {
      "text/plain": [
       "tensor([0.6998, 0.0910, 0.6347])"
      ]
     },
     "execution_count": 36,
     "metadata": {},
     "output_type": "execute_result"
    }
   ],
   "source": [
    "random_tensor = torch.rand(3, 4)\n",
    "print(random_tensor)\n",
    "torch.mean(random_tensor, dim=1)"
   ]
  }
 ],
 "metadata": {
  "kernelspec": {
   "display_name": ".venv",
   "language": "python",
   "name": "python3"
  },
  "language_info": {
   "codemirror_mode": {
    "name": "ipython",
    "version": 3
   },
   "file_extension": ".py",
   "mimetype": "text/x-python",
   "name": "python",
   "nbconvert_exporter": "python",
   "pygments_lexer": "ipython3",
   "version": "3.11.6"
  }
 },
 "nbformat": 4,
 "nbformat_minor": 2
}
