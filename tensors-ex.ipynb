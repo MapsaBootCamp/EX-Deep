{
 "cells": [
  {
   "cell_type": "code",
   "execution_count": 1,
   "metadata": {},
   "outputs": [],
   "source": [
    "import numpy as np\n",
    "import torch"
   ]
  },
  {
   "cell_type": "markdown",
   "metadata": {},
   "source": [
    "1. Create two random tensors with shapes (6, 5) and (1, 5), and perform a matrix multiplication on these tensors."
   ]
  },
  {
   "cell_type": "code",
   "execution_count": 2,
   "metadata": {},
   "outputs": [
    {
     "data": {
      "text/plain": [
       "tensor([[ 4.4529],\n",
       "        [-3.6277],\n",
       "        [-3.1083],\n",
       "        [-0.2883],\n",
       "        [-6.2504],\n",
       "        [ 3.1558]])"
      ]
     },
     "execution_count": 2,
     "metadata": {},
     "output_type": "execute_result"
    }
   ],
   "source": [
    "# Set the random seed so things are predictable\n",
    "torch.manual_seed(7)\n",
    "# Create random tensor\n",
    "tensor1 = torch.randn((6, 5))\n",
    "tensor2 = torch.randn((1, 5))\n",
    "# Perform matrix multiplication \n",
    "mult = torch.matmul(tensor1,tensor2.T)\n",
    "mult"
   ]
  },
  {
   "cell_type": "markdown",
   "metadata": {},
   "source": [
    "2. Given the provided code for generating data, create a simple Python function or class that multiplies the generated features tensor by the corresponding weights tensor and adds the bias term. Assume that the function/class takes the features, weights, and bias tensors as inputs and returns the result of the linear operation. Provide an example of using this function/class with the generated data."
   ]
  },
  {
   "cell_type": "code",
   "execution_count": 3,
   "metadata": {},
   "outputs": [
    {
     "name": "stdout",
     "output_type": "stream",
     "text": [
      "tensor([[-5.1359,  2.3591,  0.3638, -0.2126,  1.7309,  3.5867],\n",
      "        [-2.1095,  0.8311, -0.0094, -0.1558,  0.6184,  1.4048],\n",
      "        [ 0.8458, -1.8596, -0.0485, -1.0214, -1.6897, -2.8365],\n",
      "        [-3.5496,  1.3408,  2.2700, -1.7512, -1.3636, -3.4808],\n",
      "        [ 4.9268,  0.5534, -0.6683,  1.7400,  0.1392, -0.8780],\n",
      "        [-0.7444,  0.9947,  1.1376, -0.5359, -0.7481, -2.2731]])\n"
     ]
    }
   ],
   "source": [
    "def simple_lin(features, weights, bias):\n",
    "    lin = features @ weights.T + bias\n",
    "    return lin\n",
    "\n",
    "### Generate some data\n",
    "torch.manual_seed(7) # Set the random seed so things are predictable\n",
    "# Features are 3 random normal variables\n",
    "features = torch.randn((6,3))\n",
    "# True weights for our data, random normal variables again\n",
    "weights = torch.randn_like(features)\n",
    "# and a true bias term\n",
    "bias = torch.randn((1, 1))\n",
    "\n",
    "lin_f = simple_lin(features, weights, bias)\n",
    "print(lin_f)"
   ]
  },
  {
   "cell_type": "markdown",
   "metadata": {},
   "source": [
    "3. Find the maximum and minimum values as well as the corresponding index values in the output of task 1."
   ]
  },
  {
   "cell_type": "code",
   "execution_count": 4,
   "metadata": {},
   "outputs": [
    {
     "name": "stdout",
     "output_type": "stream",
     "text": [
      "max:  tensor(4.4529)\n",
      "min:  tensor(-6.2504)\n",
      "arg max:  tensor(0)\n",
      "arg min:  tensor(4)\n"
     ]
    }
   ],
   "source": [
    "# Find max\n",
    "print(\"max: \", mult.max())\n",
    "# Find min\n",
    "print(\"min: \", mult.min())\n",
    "# Find arg max\n",
    "print(\"arg max: \", mult.argmax())\n",
    "# Find arg min\n",
    "print(\"arg min: \", mult.argmin())"
   ]
  },
  {
   "cell_type": "markdown",
   "metadata": {},
   "source": [
    "4. Generate a unique tensor with dimensions (1, 1, 1, 25), and subsequently transform it into a new tensor by removing all singleton dimensions, resulting in a tensor with shape (25)."
   ]
  },
  {
   "cell_type": "code",
   "execution_count": 5,
   "metadata": {},
   "outputs": [
    {
     "name": "stdout",
     "output_type": "stream",
     "text": [
      "squeezed tensor:  tensor([-0.8201,  0.3956,  0.8989, -1.3884, -0.1670,  0.2851, -0.6411, -0.8937,\n",
      "         0.9265, -1.2169, -0.0810,  1.3615, -1.3032,  0.0875, -1.3850,  0.5036,\n",
      "        -0.0835, -0.5640, -2.0565, -0.3567,  1.0956,  0.4824,  1.3989,  1.4059,\n",
      "        -1.4013])\n",
      "size:  torch.Size([25])\n"
     ]
    }
   ],
   "source": [
    "# Initialize the random seed\n",
    "torch.manual_seed(7)\n",
    "# Generate a tensor with random values\n",
    "unique_tensor = torch.randn(1, 1, 1, 25)\n",
    "# Eliminate singleton dimensions\n",
    "squeezed_tensor = torch.squeeze(unique_tensor,[0,1,2])\n",
    "# Display the tensors along with their shapes\n",
    "print(\"squeezed tensor: \",squeezed_tensor)\n",
    "print(\"size: \",squeezed_tensor.size())"
   ]
  },
  {
   "cell_type": "markdown",
   "metadata": {},
   "source": [
    "5. Create a 1D tensor of size 5 with value ranging from 1 to 5. Reshape the 1D tensor into a 2D tensor of shape (1, 5)"
   ]
  },
  {
   "cell_type": "code",
   "execution_count": 6,
   "metadata": {},
   "outputs": [
    {
     "data": {
      "text/plain": [
       "tensor([[1, 2, 3, 4, 5]])"
      ]
     },
     "execution_count": 6,
     "metadata": {},
     "output_type": "execute_result"
    }
   ],
   "source": [
    "t_1d = torch.arange(1,6)\n",
    "t_2d = t_1d.view(1,5)\n",
    "t_2d"
   ]
  },
  {
   "cell_type": "markdown",
   "metadata": {},
   "source": [
    "6. Create two 2D tensors of shape (2, 3) and perform element-wise addition."
   ]
  },
  {
   "cell_type": "code",
   "execution_count": 7,
   "metadata": {},
   "outputs": [
    {
     "data": {
      "text/plain": [
       "tensor([[ 1.1213, -0.3216,  0.6005],\n",
       "        [ 0.2026, -1.9230,  1.3880]])"
      ]
     },
     "execution_count": 7,
     "metadata": {},
     "output_type": "execute_result"
    }
   ],
   "source": [
    "t1 = torch.randn(2,3)\n",
    "t2 = torch.randn(2,3)\n",
    "addition = t1 + t2\n",
    "addition"
   ]
  },
  {
   "cell_type": "markdown",
   "metadata": {},
   "source": [
    "7. Create a 2D tensor of shape (4, 4) filled with random values. Extract the first row and the last column as seperate tensors."
   ]
  },
  {
   "cell_type": "code",
   "execution_count": 8,
   "metadata": {},
   "outputs": [
    {
     "name": "stdout",
     "output_type": "stream",
     "text": [
      "original:  tensor([[ 0.1825, -0.5146,  0.8005, -1.2432],\n",
      "        [-1.7178, -0.5824, -0.6153,  1.5496],\n",
      "        [ 1.1970,  0.4675, -0.1439, -0.8120],\n",
      "        [-0.3866, -1.0370,  0.5920, -0.7557]])\n",
      "first row:  tensor([ 0.1825, -0.5146,  0.8005, -1.2432])\n",
      "last col:  tensor([-1.2432,  1.5496, -0.8120, -0.7557])\n"
     ]
    }
   ],
   "source": [
    "t1 = torch.randn(4,4)\n",
    "row_f = t1[0,:]\n",
    "col_l = t1[:,-1]\n",
    "print(\"original: \", t1)\n",
    "print(\"first row: \", row_f)\n",
    "print(\"last col: \", col_l)"
   ]
  },
  {
   "cell_type": "markdown",
   "metadata": {},
   "source": [
    "8. Create a 2D tensor of shape (3, 3) and a 1D tensor of shape (3,). Add the 1D tensor to each row of the 2D tensor using broadcasting."
   ]
  },
  {
   "cell_type": "code",
   "execution_count": 9,
   "metadata": {},
   "outputs": [
    {
     "name": "stdout",
     "output_type": "stream",
     "text": [
      "1d tensor:  tensor([-0.0672, -0.8564,  0.6569])\n",
      "2d tensor:  tensor([[ 0.0413, -1.3750,  0.1321],\n",
      "        [ 0.1583, -0.7080,  0.3778],\n",
      "        [ 0.2359,  0.8545,  0.6220]])\n",
      "mult:  tensor([[-2.5901e-02, -2.2313e+00,  7.8908e-01],\n",
      "        [ 9.1041e-02, -1.5643e+00,  1.0347e+00],\n",
      "        [ 1.6872e-01, -1.8724e-03,  1.2789e+00]])\n"
     ]
    }
   ],
   "source": [
    "t_1d = torch.randn(3,)\n",
    "t_2d = torch.randn(3,3)\n",
    "mult_t = t_2d + t_1d\n",
    "print(\"1d tensor: \", t_1d)\n",
    "print(\"2d tensor: \", t_2d)\n",
    "print(\"mult: \", mult_t)"
   ]
  },
  {
   "cell_type": "markdown",
   "metadata": {},
   "source": [
    "9. Create a 2D tensor of shape (3, 4) filled with random values and compute the sum of all elements."
   ]
  },
  {
   "cell_type": "code",
   "execution_count": 10,
   "metadata": {},
   "outputs": [
    {
     "name": "stdout",
     "output_type": "stream",
     "text": [
      "original:  tensor([[-1.5603,  0.2040,  0.7279, -1.0332],\n",
      "        [ 2.6176,  1.8689,  1.1457,  1.0762],\n",
      "        [-0.9065,  1.4684,  0.6288, -0.7817]])\n",
      "sum:  tensor(5.4559)\n"
     ]
    }
   ],
   "source": [
    "t2 = torch.randn(3,4)\n",
    "print(\"original: \", t2)\n",
    "print(\"sum: \", t2.sum())"
   ]
  },
  {
   "cell_type": "markdown",
   "metadata": {},
   "source": [
    "10. Create a 2D tensor of shape (3, 4) filled with random values and compute the mean along each row."
   ]
  },
  {
   "cell_type": "code",
   "execution_count": 11,
   "metadata": {},
   "outputs": [
    {
     "name": "stdout",
     "output_type": "stream",
     "text": [
      "original:  tensor([[-1.4498, -0.8319,  0.5037,  0.6949],\n",
      "        [ 0.4883,  0.4031, -1.1259,  0.9992],\n",
      "        [ 0.5922,  1.6515,  0.2860,  0.3323]])\n",
      "mean of each row:  tensor([-0.2708,  0.1912,  0.7155])\n"
     ]
    }
   ],
   "source": [
    "t2 = torch.randn(3,4)\n",
    "print(\"original: \", t2)\n",
    "print(\"mean of each row: \", t2.mean(dim=1))"
   ]
  }
 ],
 "metadata": {
  "kernelspec": {
   "display_name": "Python 3 (ipykernel)",
   "language": "python",
   "name": "python3"
  },
  "language_info": {
   "codemirror_mode": {
    "name": "ipython",
    "version": 3
   },
   "file_extension": ".py",
   "mimetype": "text/x-python",
   "name": "python",
   "nbconvert_exporter": "python",
   "pygments_lexer": "ipython3",
   "version": "3.10.12"
  }
 },
 "nbformat": 4,
 "nbformat_minor": 4
}
