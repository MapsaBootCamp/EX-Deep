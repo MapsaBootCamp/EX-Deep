{
 "cells": [
  {
   "cell_type": "code",
   "execution_count": 1,
   "metadata": {},
   "outputs": [],
   "source": [
    "import torch\n",
    "import os\n",
    "import numpy as np\n",
    "import torch.nn as nn\n",
    "import torch.optim as optim\n",
    "import torch.utils.data as data\n",
    "from torchvision import datasets, transforms\n",
    "from torch.utils.data import DataLoader\n",
    "import matplotlib.pyplot as plt\n",
    "import torchvision"
   ]
  },
  {
   "cell_type": "code",
   "execution_count": 3,
   "metadata": {},
   "outputs": [
    {
     "name": "stdout",
     "output_type": "stream",
     "text": [
      "  % Total    % Received % Xferd  Average Speed   Time    Time     Time  Current\n",
      "                                 Dload  Upload   Total   Spent    Left  Speed\n",
      "100  786M  100  786M    0     0  2519k      0  0:05:19  0:05:19 --:--:-- 1742k  0  3850k      0  0:03:29  0:00:40  0:02:49 4490k 0:02:46 2739k    0     0  3594k      0  0:03:44  0:01:03  0:02:41 3244k   0     0  3479k      0  0:03:51  0:01:10  0:02:41 2131k04:14  0:01:41  0:02:33 3467k0     0  3170k      0  0:04:14  0:02:24  0:01:50 3441k  0:01:47 3600k0     0  3157k      0  0:04:15  0:03:13  0:01:02 2681k0     0  2944k      0  0:04:33  0:03:37  0:00:56     0662M    0     0  2793k      0  0:04:48  0:04:02  0:00:46 2827k:03 1338k\n"
     ]
    }
   ],
   "source": [
    "!curl -O https://download.microsoft.com/download/3/E/1/3E1C3F21-ECDB-4869-8368-6DEBA77B919F/kagglecatsanddogs_5340.zip\n",
    "\n"
   ]
  },
  {
   "cell_type": "code",
   "execution_count": 4,
   "metadata": {},
   "outputs": [
    {
     "name": "stdout",
     "output_type": "stream",
     "text": [
      " CDLA-Permissive-2.0.pdf       kagglecatsanddogs_5340.zip  'readme[1].txt'\n",
      " image_classif_scratch.ipynb   PetImages\n"
     ]
    }
   ],
   "source": [
    "!unzip -q kagglecatsanddogs_5340.zip\n",
    "!ls"
   ]
  },
  {
   "cell_type": "code",
   "execution_count": 5,
   "metadata": {},
   "outputs": [
    {
     "name": "stdout",
     "output_type": "stream",
     "text": [
      "Deleted 1560 images.\n"
     ]
    }
   ],
   "source": [
    "num_skipped = 0\n",
    "for folder_name in (\"Cat\", \"Dog\"):\n",
    "    folder_path = os.path.join(\"PetImages\", folder_name)\n",
    "    for fname in os.listdir(folder_path):\n",
    "        fpath = os.path.join(folder_path, fname)\n",
    "        try:\n",
    "            fobj = open(fpath, \"rb\")\n",
    "            is_jfif = b\"JFIF\" in fobj.peek(10)\n",
    "        finally:\n",
    "            fobj.close()\n",
    "\n",
    "        if not is_jfif:\n",
    "            num_skipped += 1\n",
    "            # Delete corrupted image\n",
    "            os.remove(fpath)\n",
    "\n",
    "print(f\"Deleted {num_skipped} images.\")"
   ]
  },
  {
   "cell_type": "code",
   "execution_count": 6,
   "metadata": {},
   "outputs": [],
   "source": [
    "def train_val_split(dataset, split_rate=0.2, seed=None):\n",
    "    num_samples = len(dataset)\n",
    "    num_val = int(split_rate * num_samples)\n",
    "    num_train = num_samples - num_val\n",
    "\n",
    "    generator = torch.Generator().manual_seed(seed) if seed is not None else None\n",
    "\n",
    "    train_dataset, val_dataset = torch.utils.data.random_split(dataset, [num_train, num_val], generator=generator)\n",
    "    return train_dataset, val_dataset\n"
   ]
  },
  {
   "cell_type": "code",
   "execution_count": 7,
   "metadata": {},
   "outputs": [],
   "source": [
    "TRAIN_DATA_PATH = \"PetImages/\"\n",
    "image_size = (180, 180)\n",
    "batch_size = 128\n",
    "\n",
    "data_transform = transforms.Compose([\n",
    "    transforms.Resize(image_size),\n",
    "    transforms.ToTensor(),\n",
    "])\n",
    "\n",
    "dataset = torchvision.datasets.ImageFolder(root=TRAIN_DATA_PATH, transform = data_transform)"
   ]
  },
  {
   "cell_type": "code",
   "execution_count": 8,
   "metadata": {},
   "outputs": [
    {
     "name": "stdout",
     "output_type": "stream",
     "text": [
      "Mean: [0.48789748549461365, 0.4552934169769287, 0.41715604066848755]\n",
      "Std: [0.22483637928962708, 0.22028988599777222, 0.22069817781448364]\n"
     ]
    }
   ],
   "source": [
    "train_dataset, val_dataset = train_val_split(dataset, split_rate = 0.2, seed = 42)\n",
    "\n",
    "train_loader = DataLoader(train_dataset, batch_size=batch_size, shuffle=True)\n",
    "val_loader = DataLoader(val_dataset, batch_size=batch_size, shuffle=False)\n",
    "\n",
    "\n",
    "mean = 0.0\n",
    "std = 0.0\n",
    "total_samples = 0\n",
    "\n",
    "for data, _ in train_loader:\n",
    "    batch_samples = data.size(0)\n",
    "    data = data.view(batch_samples, data.size(1), -1)\n",
    "    mean += data.mean(2).sum(0)\n",
    "    std += data.std(2).sum(0)\n",
    "    total_samples += batch_samples\n",
    "\n",
    "mean /= total_samples\n",
    "std /= total_samples\n",
    "\n",
    "print(\"Mean:\", mean.tolist())\n",
    "print(\"Std:\", std.tolist())"
   ]
  },
  {
   "cell_type": "code",
   "execution_count": null,
   "metadata": {},
   "outputs": [],
   "source": [
    "plt.figure(figsize=(10, 10))\n",
    "for images, labels in train_loader:\n",
    "    for i in range(9):\n",
    "        ax = plt.subplot(3, 3, i + 1)\n",
    "        plt.imshow(np.transpose(images[i], (1, 2, 0)))\n",
    "        plt.title(int(labels[i]))\n",
    "        plt.axis(\"off\")"
   ]
  },
  {
   "cell_type": "code",
   "execution_count": 18,
   "metadata": {},
   "outputs": [],
   "source": [
    "augmentation_transform = transforms.Compose([\n",
    "    transforms.RandomHorizontalFlip(p = 0.5),\n",
    "    transforms.RandomRotation((-20, 20)),\n",
    "    transforms.ToTensor()\n",
    "])\n",
    "\n",
    "full_transform = transforms.Compose([\n",
    "    data_transform,\n",
    "    augmentation_transform,\n",
    "    transforms.Normalize(mean = mean, std = std)\n",
    "    \n",
    "])\n",
    "\n",
    "dataset = torchvision.datasets.ImageFolder(root=TRAIN_DATA_PATH, transform = full_transform)\n"
   ]
  },
  {
   "cell_type": "code",
   "execution_count": 34,
   "metadata": {},
   "outputs": [],
   "source": [
    "import torch.nn.functional as F\n",
    "class SeparableConv2d(nn.Module):\n",
    "  def __init__(self, in_channels, out_channels):\n",
    "    super(SeparableConv2d, self).__init__()\n",
    "    self.depthwise = nn.Conv2d(in_channels, in_channels, kernel_size=3, padding=1, groups=in_channels)\n",
    "    self.pointwise = nn.Conv2d(in_channels, out_channels, kernel_size=1)\n",
    "    self.bn = nn.BatchNorm2d(out_channels)\n",
    "\n",
    "    self.depthwise2 = nn.Conv2d(out_channels, out_channels, kernel_size=3, padding=1, groups=out_channels)\n",
    "    self.pointwise2 = nn.Conv2d(out_channels, out_channels, kernel_size=1)\n",
    "    self.bn2 = nn.BatchNorm2d(out_channels)\n",
    "\n",
    "\n",
    "  def forward(self, x):\n",
    "    x = F.relu(x)\n",
    "    x = self.depthwise(x)\n",
    "    x = self.pointwise(x)\n",
    "    x = self.bn(x)\n",
    "    \n",
    "    x = F.relu(x)\n",
    "    x = self.depthwise2(x)\n",
    "    x = self.pointwise2(x)\n",
    "    self.bn2(x)\n",
    "\n",
    "  \n",
    "    return x\n",
    "    \n",
    "\n",
    "class ClassificationModel(nn.Module):\n",
    "  def __init__(self, num_classes):\n",
    "    super(ClassificationModel, self).__init__()\n",
    "    self.c1 = nn.Conv2d(3, 128, kernel_size=3, stride = 2, padding=1)\n",
    "    self.bn1 = nn.BatchNorm2d(128)\n",
    "    self.relu1 = nn.ReLU()\n",
    "    self.conv_block = nn.ModuleList([\n",
    "      SeparableConv2d(128, 256),\n",
    "      SeparableConv2d(256, 512),\n",
    "      SeparableConv2d(512, 728),\n",
    "    ])\n",
    "    self.maxpool = nn.MaxPool2d(3, stride=2, padding=1)\n",
    "    self.residual = nn.Conv2d(128, 1024, kernel_size=1, stride=1, padding=1)\n",
    "\n",
    "    self.sep_conv = SeparableConv2d(728, 1024)\n",
    "    self.bn_sep = nn.BatchNorm2d(1024)\n",
    "\n",
    "    self.relu2 = nn.ReLU()\n",
    "    self.gavgpool = nn.AdaptiveAvgPool2d(1)\n",
    "    self.dropout = nn.Dropout(0.25)\n",
    "    if num_classes == 2:\n",
    "      self.fc = nn.Linear(1024, 1)\n",
    "    else:\n",
    "      self.fc = nn.Linear(1024, num_classes)\n",
    "\n",
    "\n",
    "  def forward(self, x):\n",
    "    x = self.c1(x)\n",
    "    x = self.bn1(x)\n",
    "    x = F.relu(x)\n",
    "    prev_block_residual = x\n",
    "    for block in self.conv_block:\n",
    "      x = block(x)\n",
    "      x = self.maxpool(x)\n",
    "      residual = self.residual(x)(prev_block_residual)\n",
    "      x += residual\n",
    "      prev_block_residual = x\n",
    "    x = self.sep_conv(x)\n",
    "    x = self.bn_sep(x)\n",
    "    x = F.relu(x)\n",
    "    x = self.gavgpool(x)\n",
    "    x = self.dropout(x)\n",
    "    x = self.fc(x)\n"
   ]
  },
  {
   "cell_type": "code",
   "execution_count": 35,
   "metadata": {},
   "outputs": [],
   "source": [
    "model = ClassificationModel(2)\n",
    "epochs = 25\n",
    "learning_rate = 3e-4\n",
    "\n",
    "model_checkpoint_path = \"save_at_{epoch}.pth\"\n",
    "\n",
    "critetion = nn.BCEWithLogitsLoss()\n",
    "optimizer = optim.Adam(model.parameters(), lr=learning_rate)\n",
    "\n",
    "train_loader = DataLoader(train_dataset, batch_size = batch_size, shuffle=True)\n",
    "val_loader = DataLoader(val_dataset, batch_size = batch_size, shuffle=False)"
   ]
  },
  {
   "cell_type": "code",
   "execution_count": 36,
   "metadata": {},
   "outputs": [
    {
     "name": "stderr",
     "output_type": "stream",
     "text": [
      "  0%|          | 0/25 [00:00<?, ?it/s]"
     ]
    }
   ],
   "source": [
    "from tqdm import tqdm\n",
    "for epoch in tqdm(range(epochs)):\n",
    "  for inputs, labels in train_loader:\n",
    "    outputs = model(inputs)\n",
    "    loss = critetion(outputs, labels)\n",
    "\n",
    "    optimizer.zero_grad()\n",
    "    loss.backward()\n",
    "    optimizer.step()\n",
    "\n"
   ]
  },
  {
   "cell_type": "code",
   "execution_count": null,
   "metadata": {},
   "outputs": [],
   "source": [
    "model.eval()\n",
    "\n",
    "with torch.no_grad():\n",
    "  val_loss = 0\n",
    "  total_samples = 0\n",
    "  correct_pred = 0\n",
    "\n",
    "  for inputs, labels in val_loader:\n",
    "    outputs = model(inputs)\n",
    "    batch_loss = critetion(outputs, labels)\n",
    "    val_loss += batch_loss.item()\n",
    "\n",
    "  avg_val_loss = val_loss / len(val_loader)\n",
    "\n",
    "  torch.save(model.state_dict(), model_checkpoint_path.format(epoch=epoch + 1))\n"
   ]
  }
 ],
 "metadata": {
  "kernelspec": {
   "display_name": "env",
   "language": "python",
   "name": "python3"
  },
  "language_info": {
   "codemirror_mode": {
    "name": "ipython",
    "version": 3
   },
   "file_extension": ".py",
   "mimetype": "text/x-python",
   "name": "python",
   "nbconvert_exporter": "python",
   "pygments_lexer": "ipython3",
   "version": "3.11.6"
  }
 },
 "nbformat": 4,
 "nbformat_minor": 2
}
