{
 "cells": [
  {
   "cell_type": "code",
   "execution_count": 1,
   "metadata": {},
   "outputs": [],
   "source": [
    "import numpy as np\n",
    "import torch"
   ]
  },
  {
   "cell_type": "markdown",
   "metadata": {},
   "source": [
    "1. Create two random tensors with shapes (6, 5) and (1, 5), and perform a matrix multiplication on these tensors."
   ]
  },
  {
   "cell_type": "code",
   "execution_count": 2,
   "metadata": {},
   "outputs": [
    {
     "name": "stdout",
     "output_type": "stream",
     "text": [
      "first random tensor is:\n",
      " tensor([[ 1.9269,  1.4873,  0.9007, -2.1055,  0.6784],\n",
      "        [-1.2345, -0.0431, -1.6047, -0.7521,  1.6487],\n",
      "        [-0.3925, -1.4036, -0.7279, -0.5594, -2.3169],\n",
      "        [-0.2168, -1.3847, -0.8712, -0.2234,  1.7174],\n",
      "        [ 0.3189, -0.4245, -0.8286,  0.3309, -1.5576],\n",
      "        [ 0.9956, -0.8798, -0.6011, -1.2742,  2.1228]])\n",
      "second random tensor after transposing is:\n",
      " tensor([[-0.0915],\n",
      "        [ 0.2352],\n",
      "        [ 2.2440],\n",
      "        [ 0.5817],\n",
      "        [ 0.4528]])\n",
      "matrix multlipication of first and second tensor is:\n",
      " tensor([[ 1.2771],\n",
      "        [-3.1890],\n",
      "        [-3.3020],\n",
      "        [-1.6132],\n",
      "        [-2.5010],\n",
      "        [-1.4270]])\n"
     ]
    }
   ],
   "source": [
    "# Set the random seed so things are predictable\n",
    "torch.manual_seed(42)\n",
    "# Create random tensor\n",
    "first = torch.randn((6,5))\n",
    "print('first random tensor is:\\n',first)\n",
    "\n",
    "second  = torch.randn((1,5)).T\n",
    "print('second random tensor after transposing is:\\n',second)\n",
    "\n",
    "# Perform matrix multiplication \n",
    "mul = first @ second\n",
    "print('matrix multlipication of first and second tensor is:\\n',mul)"
   ]
  },
  {
   "cell_type": "markdown",
   "metadata": {},
   "source": [
    "2. Given the provided code for generating data, create a simple Python function or class that multiplies the generated features tensor by the corresponding weights tensor and adds the bias term. Assume that the function/class takes the features, weights, and bias tensors as inputs and returns the result of the linear operation. Provide an example of using this function/class with the generated data."
   ]
  },
  {
   "cell_type": "code",
   "execution_count": 3,
   "metadata": {},
   "outputs": [
    {
     "name": "stdout",
     "output_type": "stream",
     "text": [
      "Generated Features are:\n",
      " tensor([[-0.1468,  0.7861,  0.9468, -1.1143,  1.6908]])\n",
      "Weights are:\n",
      " tensor([[-0.8948, -0.3556,  1.2324,  0.1382, -1.6822]])\n",
      "Bias is:\n",
      " tensor([[0.3177]])\n",
      "========================================\n",
      "Result of Linear Operation is:\n",
      " tensor([[-1.6619]])\n"
     ]
    }
   ],
   "source": [
    "### Generate some data\n",
    "torch.manual_seed(7) # Set the random seed so things are predictable\n",
    "# Features are 5 random normal variables\n",
    "features = torch.randn((1, 5))\n",
    "# True weights for our data, random normal variables again\n",
    "weights = torch.randn_like(features)\n",
    "# and a true bias term\n",
    "bias = torch.randn((1, 1))\n",
    "#====================================================================\n",
    "\n",
    "class Linear: \n",
    "    def __init__(self, features ,weights, bias) :\n",
    "        self.features = features\n",
    "        self.weights = weights\n",
    "        self.bias = bias\n",
    "    \n",
    "    def linear_operation(self):\n",
    "        result = torch.matmul(self.features, self.weights.t()) + self.bias\n",
    "        return result\n",
    "\n",
    "\n",
    "linear_operator = Linear(features, weights, bias)\n",
    "result = linear_operator.linear_operation()\n",
    "\n",
    "print(\"Generated Features are:\\n\",features)\n",
    "print(\"Weights are:\\n\",weights)\n",
    "print(\"Bias is:\\n\",bias)\n",
    "print('========================================')\n",
    "print(\"Result of Linear Operation is:\\n\",result)"
   ]
  },
  {
   "cell_type": "markdown",
   "metadata": {},
   "source": [
    "3. Find the maximum and minimum values as well as the corresponding index values in the output of task 1."
   ]
  },
  {
   "cell_type": "code",
   "execution_count": 4,
   "metadata": {},
   "outputs": [
    {
     "name": "stdout",
     "output_type": "stream",
     "text": [
      "max is: tensor(1.2771)\n",
      "min is: tensor(-3.3020)\n",
      "argmax is: tensor(0)\n",
      "argmin is: tensor(2)\n"
     ]
    }
   ],
   "source": [
    "# Find max\n",
    "print('max is:',torch.max(mul))\n",
    "# Find min\n",
    "print('min is:',torch.min(mul))\n",
    "# Find arg max\n",
    "print('argmax is:', torch.argmax(mul))\n",
    "# Find arg min\n",
    "print('argmin is:', torch.argmin(mul))"
   ]
  },
  {
   "cell_type": "markdown",
   "metadata": {},
   "source": [
    "4. Generate a unique tensor with dimensions (1, 1, 1, 25), and subsequently transform it into a new tensor by removing all singleton dimensions, resulting in a tensor with shape (25)."
   ]
  },
  {
   "cell_type": "code",
   "execution_count": 5,
   "metadata": {},
   "outputs": [
    {
     "data": {
      "text/plain": [
       "torch.Size([25])"
      ]
     },
     "execution_count": 5,
     "metadata": {},
     "output_type": "execute_result"
    }
   ],
   "source": [
    "# Initialize the random seed\n",
    "torch.manual_seed(42)\n",
    "\n",
    "\n",
    "# Generate a tensor with random values\n",
    "uniq = torch.randn((1,1,1,25))\n",
    "\n",
    "# Eliminate singleton dimensions\n",
    "uniq= uniq.squeeze()\n",
    "\n",
    "# Display the tensors along with their shapes\n",
    "uniq.shape"
   ]
  },
  {
   "cell_type": "markdown",
   "metadata": {},
   "source": [
    "5. Create a 1D tensor of size 5 with value ranging from 1 to 5. Reshape the 1D tensor into a 2D tensor of shape (1, 5)"
   ]
  },
  {
   "cell_type": "code",
   "execution_count": 12,
   "metadata": {},
   "outputs": [
    {
     "name": "stdout",
     "output_type": "stream",
     "text": [
      "1D tensor is: tensor([1, 2, 3, 4, 5])\n",
      "shape of 1D tensor is: torch.Size([5])\n",
      "========================================\n",
      "2D tensor is: tensor([[1, 2, 3, 4, 5]])\n",
      "shape of 2D tensor is: torch.Size([1, 5])\n"
     ]
    }
   ],
   "source": [
    "one_dim_tensor =torch.arange(1,6)\n",
    "print('1D tensor is:',one_dim_tensor)\n",
    "print('shape of 1D tensor is:',one_dim_tensor.shape)\n",
    "print('========================================')\n",
    "\n",
    "two_dim_tensor = one_dim_tensor.unsqueeze(0)\n",
    "print('2D tensor is:',two_dim_tensor)\n",
    "print('shape of 2D tensor is:',two_dim_tensor.shape)"
   ]
  },
  {
   "cell_type": "markdown",
   "metadata": {},
   "source": [
    "6. Create two 2D tensors of shape (2, 3) and perform element-wise addition."
   ]
  },
  {
   "cell_type": "code",
   "execution_count": 7,
   "metadata": {},
   "outputs": [
    {
     "name": "stdout",
     "output_type": "stream",
     "text": [
      "first 2D tensor is:\n",
      " tensor([[ 0.3367,  0.1288,  0.2345],\n",
      "        [ 0.2303, -1.1229, -0.1863]])\n",
      "===============================\n",
      "second 2D tensor is:\n",
      " tensor([[ 2.2082, -0.6380,  0.4617],\n",
      "        [ 0.2674,  0.5349,  0.8094]])\n",
      "================================\n",
      "elementwise sum is:\n",
      " tensor([[ 2.5449, -0.5092,  0.6961],\n",
      "        [ 0.4977, -0.5880,  0.6230]])\n"
     ]
    }
   ],
   "source": [
    "torch.manual_seed(42)\n",
    "first_two_dim_tensor = torch.randn((2,3))\n",
    "print('first 2D tensor is:\\n',first_two_dim_tensor)\n",
    "print('===============================')\n",
    "\n",
    "second_two_dim_tensor = torch.randn((2,3))\n",
    "print('second 2D tensor is:\\n', second_two_dim_tensor)\n",
    "element_wise_add =torch.add ( first_two_dim_tensor, second_two_dim_tensor )\n",
    "print('================================')\n",
    "print('elementwise sum is:\\n',element_wise_add)"
   ]
  },
  {
   "cell_type": "markdown",
   "metadata": {},
   "source": [
    "7. Create a 2D tensor of shape (4, 4) filled with random values. Extract the first row and the last column as seperate tensors."
   ]
  },
  {
   "cell_type": "code",
   "execution_count": 8,
   "metadata": {},
   "outputs": [
    {
     "name": "stdout",
     "output_type": "stream",
     "text": [
      "2D tensor is:\n",
      " tensor([[ 1.9269,  1.4873,  0.9007, -2.1055],\n",
      "        [ 0.6784, -1.2345, -0.0431, -1.6047],\n",
      "        [-0.7521,  1.6487, -0.3925, -1.4036],\n",
      "        [-0.7279, -0.5594, -0.7688,  0.7624]])\n",
      "first raw as a tensor:\n",
      " tensor([ 1.9269,  1.4873,  0.9007, -2.1055])\n",
      "=============================================\n",
      "last column as a tensor:\n",
      " tensor([-2.1055, -1.6047, -1.4036,  0.7624])\n"
     ]
    }
   ],
   "source": [
    "torch.manual_seed(42)\n",
    "two_d = torch.randn((4,4))\n",
    "print('2D tensor is:\\n',two_d)\n",
    "\n",
    "first_raw = two_d [0 , :]\n",
    "print('first raw as a tensor:\\n',first_raw)\n",
    "print('=============================================')\n",
    "last_column = two_d [:,-1]\n",
    "print('last column as a tensor:\\n',last_column)"
   ]
  },
  {
   "cell_type": "markdown",
   "metadata": {},
   "source": [
    "8. Create a 2D tensor of shape (3, 3) and a 1D tensor of shape (3,). Add the 1D tensor to each row of the 2D tensor using broadcasting."
   ]
  },
  {
   "cell_type": "code",
   "execution_count": 9,
   "metadata": {},
   "outputs": [
    {
     "name": "stdout",
     "output_type": "stream",
     "text": [
      "2D tensor is:\n",
      " tensor([[ 0.3367,  0.1288,  0.2345],\n",
      "        [ 0.2303, -1.1229, -0.1863],\n",
      "        [ 2.2082, -0.6380,  0.4617]])\n",
      "\n",
      " shape of 2D tensor is:\n",
      " torch.Size([3, 3])\n",
      "==================================\n",
      "1D tensor is:\n",
      " tensor([0.2674, 0.5349, 0.8094])\n",
      "\n",
      " shape of 1D tensor is:\n",
      " torch.Size([3])\n",
      "==================================\n",
      "their addition is:\n",
      " tensor([[ 0.6040,  0.6637,  1.0438],\n",
      "        [ 0.4977, -0.5880,  0.6230],\n",
      "        [ 2.4756, -0.1031,  1.2710]])\n",
      "\n",
      " shape of addition tensor is:\n",
      " torch.Size([3, 3])\n"
     ]
    }
   ],
   "source": [
    "torch.manual_seed(42)\n",
    "tensor_2D = torch.randn((3,3))\n",
    "print('2D tensor is:\\n',tensor_2D)\n",
    "print('\\n shape of 2D tensor is:\\n',tensor_2D.shape)\n",
    "print('==================================')\n",
    "tensor_1D = torch.randn((3))\n",
    "print('1D tensor is:\\n', tensor_1D)\n",
    "print('\\n shape of 1D tensor is:\\n',tensor_1D.shape)\n",
    "print('==================================')\n",
    "add_tensor =  torch.add(tensor_2D, tensor_1D)\n",
    "print('their addition is:\\n',add_tensor)\n",
    "print('\\n shape of addition tensor is:\\n',add_tensor.shape)"
   ]
  },
  {
   "cell_type": "markdown",
   "metadata": {},
   "source": [
    "9. Create a 2D tensor of shape (3, 4) filled with random values and compute the sum of all elements."
   ]
  },
  {
   "cell_type": "code",
   "execution_count": 10,
   "metadata": {},
   "outputs": [
    {
     "name": "stdout",
     "output_type": "stream",
     "text": [
      "2D tensor is:\n",
      " tensor([[ 0.3367,  0.1288,  0.2345,  0.2303],\n",
      "        [-1.1229, -0.1863,  2.2082, -0.6380],\n",
      "        [ 0.4617,  0.2674,  0.5349,  0.8094]])\n",
      "=========================================\n",
      "sum of all elements is:\n",
      " tensor(3.2646)\n"
     ]
    }
   ],
   "source": [
    "torch.manual_seed(42)\n",
    "two_d_tensor = torch.randn((3,4))\n",
    "print('2D tensor is:\\n', two_d_tensor)\n",
    "print('=========================================')\n",
    "sum_of_all = torch.sum(two_d_tensor)\n",
    "print('sum of all elements is:\\n',sum_of_all)"
   ]
  },
  {
   "cell_type": "markdown",
   "metadata": {},
   "source": [
    "10. Create a 2D tensor of shape (3, 4) filled with random values and compute the mean along each row."
   ]
  },
  {
   "cell_type": "code",
   "execution_count": 11,
   "metadata": {},
   "outputs": [
    {
     "name": "stdout",
     "output_type": "stream",
     "text": [
      "2D tensor is:\n",
      " tensor([[ 0.3367,  0.1288,  0.2345,  0.2303],\n",
      "        [-1.1229, -0.1863,  2.2082, -0.6380],\n",
      "        [ 0.4617,  0.2674,  0.5349,  0.8094]])\n",
      "=========================================\n",
      "mean along each raw is:\n",
      " tensor([0.2326, 0.0653, 0.5183])\n"
     ]
    }
   ],
   "source": [
    "torch.manual_seed(42)\n",
    "two_d_tensor2 = torch.randn((3,4))\n",
    "print('2D tensor is:\\n', two_d_tensor2)\n",
    "print('=========================================')\n",
    "mean_of_raw = torch.mean(two_d_tensor2, dim=1)\n",
    "print('mean along each raw is:\\n',mean_of_raw)"
   ]
  }
 ],
 "metadata": {
  "kernelspec": {
   "display_name": ".venv",
   "language": "python",
   "name": "python3"
  },
  "language_info": {
   "codemirror_mode": {
    "name": "ipython",
    "version": 3
   },
   "file_extension": ".py",
   "mimetype": "text/x-python",
   "name": "python",
   "nbconvert_exporter": "python",
   "pygments_lexer": "ipython3",
   "version": "3.11.5"
  }
 },
 "nbformat": 4,
 "nbformat_minor": 2
}
