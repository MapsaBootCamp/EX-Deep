{
 "cells": [
  {
   "cell_type": "code",
   "execution_count": 19,
   "id": "23d13ac1-6ca2-4cd8-912f-4a0c0c247669",
   "metadata": {},
   "outputs": [],
   "source": [
    "import torch"
   ]
  },
  {
   "cell_type": "markdown",
   "id": "9a93dbee-66c1-4e58-bdd8-ef3d9149a708",
   "metadata": {},
   "source": [
    "##### 1.Create two random tensors with shapes (6, 5) and (1, 5), and perform a matrix multiplication on these tensors.\n"
   ]
  },
  {
   "cell_type": "code",
   "execution_count": 20,
   "id": "4533a292-e7f7-4a18-890f-8ec64028a472",
   "metadata": {},
   "outputs": [],
   "source": [
    "torch.manual_seed(0)\n",
    "x1 = torch.randn(6, 5)\n",
    "x2 = torch.randn(1, 5)\n",
    "perform = torch.mm(x1, x2.t())"
   ]
  },
  {
   "cell_type": "markdown",
   "id": "ab66abc8-b26f-4d6e-9ea4-b9c0dfb25382",
   "metadata": {},
   "source": [
    "##### 2.Given the provided code for generating data, create a simple Python function or class that multiplies the generated features tensor by the corresponding weights tensor and adds the bias term. Assume that the function/class takes the features, weights, and bias tensors as inputs and returns the result of the linear operation. Provide an example of using this function/class with the generated data.\n"
   ]
  },
  {
   "cell_type": "code",
   "execution_count": null,
   "id": "c6de12ca-9a0c-4139-8da2-76c1f687f797",
   "metadata": {},
   "outputs": [],
   "source": []
  },
  {
   "cell_type": "markdown",
   "id": "867b051d-a959-44df-b9f6-0cc91ac7d06d",
   "metadata": {},
   "source": [
    "##### 3.Find the maximum and minimum values as well as the corresponding index values in the output of task 1.\n"
   ]
  },
  {
   "cell_type": "code",
   "execution_count": 36,
   "id": "0f457c03-8351-47a4-aef3-75c9c4d498d3",
   "metadata": {},
   "outputs": [
    {
     "name": "stdout",
     "output_type": "stream",
     "text": [
      "max: (tensor(2.8855),) min: tensor(-2.4235) arg max: tensor(1) arg min: tensor(5)\n"
     ]
    }
   ],
   "source": [
    "max_  = perform.max(), \n",
    "min_ = perform.min()\n",
    "max_i = perform.argmax()\n",
    "min_i = perform.argmin()\n",
    "\n",
    "print (\"max:\",max_,\"min:\",min_,\"arg max:\",max_i,\"arg min:\",min_i)"
   ]
  },
  {
   "cell_type": "markdown",
   "id": "6266fa5f-5715-4d4d-b380-7354a0f44828",
   "metadata": {},
   "source": [
    "##### 4.Generate a unique tensor with dimensions (1, 1, 1, 25), and subsequently transform it into a new tensor by removing all singleton dimensions, resulting in a tensor with shape (25).\n"
   ]
  },
  {
   "cell_type": "code",
   "execution_count": 37,
   "id": "8fc2c119-0f74-4781-b717-ec0b4c3ebced",
   "metadata": {},
   "outputs": [
    {
     "data": {
      "text/plain": [
       "torch.Size([25])"
      ]
     },
     "execution_count": 37,
     "metadata": {},
     "output_type": "execute_result"
    }
   ],
   "source": [
    "\n",
    "torch.manual_seed(7)\n",
    "\n",
    "unique_tensor = torch.randn((1, 1, 1, 25))\n",
    "\n",
    "squeezed_tensor = unique_tensor.squeeze()\n",
    "\n",
    "squeezed_tensor.shape"
   ]
  },
  {
   "cell_type": "markdown",
   "id": "69817875-473e-4aa0-b0d7-03b462341bd5",
   "metadata": {},
   "source": [
    "##### 5.Create a 1D tensor of size 5 with value ranging from 1 to 5. Reshape the 1D tensor into a 2D tensor of shape (1, 5)\n"
   ]
  },
  {
   "cell_type": "code",
   "execution_count": 42,
   "id": "b50053be-7d87-4574-81d8-34333d43dde7",
   "metadata": {},
   "outputs": [
    {
     "name": "stdout",
     "output_type": "stream",
     "text": [
      "oneD: tensor([1, 2, 3, 4, 5])\n",
      "reshaped_oneD_tensor: tensor([[1, 2, 3, 4, 5]])\n"
     ]
    }
   ],
   "source": [
    "oneD = torch.arange(1, 6)  \n",
    "print(\"oneD:\",oneD)\n",
    "reshaped_oneD_tensor = oneD.unsqueeze(0)  \n",
    "print(\"reshaped_oneD_tensor:\",reshaped_oneD_tensor)\n"
   ]
  },
  {
   "cell_type": "markdown",
   "id": "d7e8fcb2-c436-4e0f-9960-3d3460401f14",
   "metadata": {},
   "source": [
    "##### 6.Create two 2D tensors of shape (2, 3) and perform element-wise addition.\n"
   ]
  },
  {
   "cell_type": "code",
   "execution_count": 43,
   "id": "6134c6b2-81db-4001-ba07-9e3e2b84581c",
   "metadata": {},
   "outputs": [
    {
     "name": "stdout",
     "output_type": "stream",
     "text": [
      "tensor1: tensor([[-0.1468,  0.7861,  0.9468],\n",
      "        [-1.1143,  1.6908, -0.8948]])\n",
      "tensor2: tensor([[-0.3556,  1.2324,  0.1382],\n",
      "        [-1.6822,  0.3177,  0.1328]])\n",
      "added_tensors: tensor([[-0.5024,  2.0185,  1.0850],\n",
      "        [-2.7965,  2.0085, -0.7620]])\n"
     ]
    }
   ],
   "source": [
    "torch.manual_seed(7)\n",
    "tensor1 = torch.randn(2, 3)\n",
    "print(\"tensor1:\",tensor1)\n",
    "tensor2 = torch.randn(2, 3)\n",
    "print(\"tensor2:\",tensor2)\n",
    "added_tensors = tensor1 + tensor2\n",
    "print(\"added_tensors:\",added_tensors)\n"
   ]
  },
  {
   "cell_type": "markdown",
   "id": "9a1c9471-38e0-41e9-9618-ec097ed54848",
   "metadata": {},
   "source": [
    "##### 7.Create a 2D tensor of shape (4, 4) filled with random values. Extract the first row and the last column as seperate tensors.\n"
   ]
  },
  {
   "cell_type": "code",
   "execution_count": 44,
   "id": "58b63194-ec1a-4388-8f2a-914bf6007614",
   "metadata": {},
   "outputs": [
    {
     "name": "stdout",
     "output_type": "stream",
     "text": [
      "random_tensor: tensor([[0.5349, 0.1988, 0.6592, 0.6569],\n",
      "        [0.2328, 0.4251, 0.2071, 0.6297],\n",
      "        [0.3653, 0.8513, 0.8549, 0.5509],\n",
      "        [0.2868, 0.2063, 0.4451, 0.3593]])\n",
      "first_row: tensor([0.5349, 0.1988, 0.6592, 0.6569])\n",
      "last_col: tensor([0.6569, 0.6297, 0.5509, 0.3593])\n"
     ]
    }
   ],
   "source": [
    "torch.manual_seed(7)\n",
    "\n",
    "random_tensor = torch.rand(4, 4)\n",
    "print(\"random_tensor:\",random_tensor)\n",
    "\n",
    "first_row = random_tensor[0, :]\n",
    "print(\"first_row:\",first_row)\n",
    "\n",
    "last_col = random_tensor[:, -1]\n",
    "print(\"last_col:\",last_col)\n"
   ]
  },
  {
   "cell_type": "markdown",
   "id": "f3cea960-689a-4a0f-bdda-7b2caa57f5d1",
   "metadata": {},
   "source": [
    "##### 8.Create a 2D tensor of shape (3, 3) and a 1D tensor of shape (3,). Add the 1D tensor to each row of the 2D tensor using broadcasting.\n"
   ]
  },
  {
   "cell_type": "code",
   "execution_count": 46,
   "id": "03cfd2d2-6d5c-42c1-88b3-5b419604a7e1",
   "metadata": {},
   "outputs": [
    {
     "name": "stdout",
     "output_type": "stream",
     "text": [
      "twoD: tensor([[-0.1468,  0.7861,  0.9468],\n",
      "        [-1.1143,  1.6908, -0.8948],\n",
      "        [-0.3556,  1.2324,  0.1382]])\n",
      "oneD1: tensor([-1.6822,  0.3177,  0.1328])\n",
      "added_broadcasted: tensor([[-1.8290,  1.1038,  1.0796],\n",
      "        [-2.7965,  2.0085, -0.7620],\n",
      "        [-2.0378,  1.5501,  0.2710]])\n"
     ]
    }
   ],
   "source": [
    "torch.manual_seed(7)\n",
    "\n",
    "twoD1 = torch.randn(3, 3)\n",
    "print(\"twoD:\",twoD1)\n",
    "\n",
    "oneD1 = torch.randn(3)\n",
    "print(\"oneD:\",oneD1)\n",
    "\n",
    "added_broadcasted = twoD1 + oneD1\n",
    "print(\"added_broadcasted:\",added_broadcasted)\n"
   ]
  },
  {
   "cell_type": "markdown",
   "id": "3436ad18-5939-442b-a76f-06839cc65009",
   "metadata": {},
   "source": [
    "##### 9.Create a 2D tensor of shape (3, 4) filled with random values and compute the sum of all elements.\n"
   ]
  },
  {
   "cell_type": "code",
   "execution_count": 48,
   "id": "8c69e821-2868-4d55-9155-54464f922c8f",
   "metadata": {},
   "outputs": [
    {
     "name": "stdout",
     "output_type": "stream",
     "text": [
      "twoD2: tensor([[0.5349, 0.1988, 0.6592, 0.6569],\n",
      "        [0.2328, 0.4251, 0.2071, 0.6297],\n",
      "        [0.3653, 0.8513, 0.8549, 0.5509]])\n",
      "sum of all elements: tensor(6.1669)\n"
     ]
    }
   ],
   "source": [
    "torch.manual_seed(7)\n",
    "\n",
    "twoD2 = torch.rand(3, 4)\n",
    "print(\"twoD:\",twoD2)\n",
    "\n",
    "sum_ = twoD2.sum()\n",
    "print(\"sum of all elements:\",sum_)\n"
   ]
  },
  {
   "cell_type": "markdown",
   "id": "d1a3ee30-fc5a-45f4-b1ea-c707862df2cc",
   "metadata": {},
   "source": [
    "##### 10.Create a 2D tensor of shape (3, 4) filled with random values and compute the mean along each row.\n"
   ]
  },
  {
   "cell_type": "code",
   "execution_count": 18,
   "id": "179d7123-2b64-49c9-890f-fe354d8e441c",
   "metadata": {},
   "outputs": [],
   "source": [
    "torch.manual_seed(7)\n",
    "\n",
    "twoD3 = torch.rand(3, 4)\n",
    "print(\"twoD:\",twoD3)\n",
    "\n",
    "mean_rows = twoD3.mean(dim=1)"
   ]
  }
 ],
 "metadata": {
  "kernelspec": {
   "display_name": "Python 3 (ipykernel)",
   "language": "python",
   "name": "python3"
  },
  "language_info": {
   "codemirror_mode": {
    "name": "ipython",
    "version": 3
   },
   "file_extension": ".py",
   "mimetype": "text/x-python",
   "name": "python",
   "nbconvert_exporter": "python",
   "pygments_lexer": "ipython3",
   "version": "3.10.12"
  }
 },
 "nbformat": 4,
 "nbformat_minor": 5
}
