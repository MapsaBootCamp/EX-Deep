{
 "cells": [
  {
   "cell_type": "code",
   "execution_count": 1,
   "metadata": {},
   "outputs": [],
   "source": [
    "import numpy as np\n",
    "import torch"
   ]
  },
  {
   "cell_type": "markdown",
   "metadata": {},
   "source": [
    "1. Create two random tensors with shapes (6, 5) and (1, 5), and perform a matrix multiplication on these tensors."
   ]
  },
  {
   "cell_type": "code",
   "execution_count": 3,
   "metadata": {},
   "outputs": [
    {
     "name": "stdout",
     "output_type": "stream",
     "text": [
      "tensor([[1.9389],\n",
      "        [1.8879],\n",
      "        [2.2856],\n",
      "        [1.3511],\n",
      "        [1.0735],\n",
      "        [0.7813]])\n"
     ]
    }
   ],
   "source": [
    "# Set the random seed so things are predictable\n",
    "torch.random.manual_seed(42)\n",
    "# Create random tensor\n",
    "mat1= torch.rand((6,5))\n",
    "mat2= torch.rand((1,5))\n",
    "# Perform matrix multiplication \n",
    "mat2=torch.transpose(mat2, 0, 1)\n",
    "result=torch.mm(mat1, mat2)\n",
    "\n",
    "print(result)"
   ]
  },
  {
   "cell_type": "markdown",
   "metadata": {},
   "source": [
    "2. Given the provided code for generating data, create a simple Python function or class that multiplies the generated features tensor by the corresponding weights tensor and adds the bias term. Assume that the function/class takes the features, weights, and bias tensors as inputs and returns the result of the linear operation. Provide an example of using this function/class with the generated data."
   ]
  },
  {
   "cell_type": "code",
   "execution_count": 26,
   "metadata": {},
   "outputs": [],
   "source": [
    "### Generate some data\n",
    "torch.manual_seed(7) # Set the random seed so things are predictable\n",
    "\n",
    "# Features are 3 random normal variables\n",
    "features = torch.randn((1, 5))\n",
    "# True weights for our data, random normal variables again\n",
    "weights = torch.randn_like(features)\n",
    "# and a true bias term\n",
    "bias = torch.randn((1, 1))"
   ]
  },
  {
   "cell_type": "markdown",
   "metadata": {},
   "source": [
    "3. Find the maximum and minimum values as well as the corresponding index values in the output of task 1."
   ]
  },
  {
   "cell_type": "code",
   "execution_count": 5,
   "metadata": {},
   "outputs": [
    {
     "name": "stdout",
     "output_type": "stream",
     "text": [
      "Max_Value tensor(2.2856)\n",
      "Min_Value tensor(0.7813)\n",
      "Max_Arg tensor(2)\n",
      "Min_Arg tensor(5)\n"
     ]
    }
   ],
   "source": [
    "# Find max\n",
    "print(\"Max_Value\", torch.max(result))\n",
    "\n",
    "# Find min\n",
    "print(\"Min_Value\", torch.min(result))\n",
    "\n",
    "# Find arg max\n",
    "print(\"Max_Arg\", torch.argmax(result))\n",
    "\n",
    "# Find arg min\n",
    "print(\"Min_Arg\", torch.argmin(result))"
   ]
  },
  {
   "cell_type": "markdown",
   "metadata": {},
   "source": [
    "4. Generate a unique tensor with dimensions (1, 1, 1, 25), and subsequently transform it into a new tensor by removing all singleton dimensions, resulting in a tensor with shape (25)."
   ]
  },
  {
   "cell_type": "code",
   "execution_count": 7,
   "metadata": {},
   "outputs": [
    {
     "name": "stdout",
     "output_type": "stream",
     "text": [
      "tensor([0.5349, 0.1988, 0.6592, 0.6569, 0.2328, 0.4251, 0.2071, 0.6297, 0.3653,\n",
      "        0.8513, 0.8549, 0.5509, 0.2868, 0.2063, 0.4451, 0.3593, 0.7204, 0.0731,\n",
      "        0.9699, 0.1078, 0.8829, 0.4132, 0.7572, 0.6948, 0.5209]) torch.Size([25])\n"
     ]
    }
   ],
   "source": [
    "# Initialize the random seed\n",
    "torch.manual_seed(7)\n",
    "\n",
    "# Generate a tensor with random values\n",
    "tensor1= torch.rand((1,1,1,25))\n",
    "# Eliminate singleton dimensions\n",
    "tensor2= torch.squeeze(tensor1)\n",
    "# Display the tensors along with their shapes\n",
    "print(tensor2, tensor2.shape)"
   ]
  },
  {
   "cell_type": "markdown",
   "metadata": {},
   "source": [
    "5. Create a 1D tensor of size 5 with value ranging from 1 to 5. Reshape the 1D tensor into a 2D tensor of shape (1, 5)"
   ]
  },
  {
   "cell_type": "code",
   "execution_count": 13,
   "metadata": {},
   "outputs": [
    {
     "name": "stdout",
     "output_type": "stream",
     "text": [
      "tensor([0, 1, 2, 3, 4])\n",
      "tensor([[0, 1, 2, 3, 4]])\n"
     ]
    }
   ],
   "source": [
    "tensor1=torch.arange(5)\n",
    "print(tensor1)\n",
    "tensor2=torch.reshape(tensor1, (1,5))\n",
    "print(tensor2)"
   ]
  },
  {
   "cell_type": "markdown",
   "metadata": {},
   "source": [
    "6. Create two 2D tensors of shape (2, 3) and perform element-wise addition."
   ]
  },
  {
   "cell_type": "code",
   "execution_count": 18,
   "metadata": {},
   "outputs": [
    {
     "name": "stdout",
     "output_type": "stream",
     "text": [
      "tensor([[ 1.0260,  0.6073, -1.6128],\n",
      "        [-0.0443,  0.2187, -0.0672]])\n",
      "tensor([[ 2.0260,  1.6073, -0.6128],\n",
      "        [ 0.9557,  1.2187,  0.9328]])\n"
     ]
    }
   ],
   "source": [
    "tensor3=torch.randn((2,3))\n",
    "print(tensor3)\n",
    "tensor4=torch.add(tensor3,1)\n",
    "print(tensor4)"
   ]
  },
  {
   "cell_type": "markdown",
   "metadata": {},
   "source": [
    "7. Create a 2D tensor of shape (4, 4) filled with random values. Extract the first row and the last column as seperate tensors."
   ]
  },
  {
   "cell_type": "code",
   "execution_count": 19,
   "metadata": {},
   "outputs": [
    {
     "name": "stdout",
     "output_type": "stream",
     "text": [
      "tensor([[-0.9578,  1.7518,  0.9796,  0.4105],\n",
      "        [ 1.7675, -0.0832,  0.5087,  1.1178],\n",
      "        [ 0.1633,  0.5013,  1.4206,  1.1542],\n",
      "        [-1.5366, -0.5577, -0.4383,  1.1572]])\n",
      "tensor([-0.9578,  1.7518,  0.9796,  0.4105])\n",
      "tensor([0.4105, 1.1178, 1.1542, 1.1572])\n"
     ]
    }
   ],
   "source": [
    "tensor5=torch.randn((4,4))\n",
    "print(tensor5)\n",
    "tensor6=tensor5[0]\n",
    "print(tensor6)\n",
    "tensor7=tensor5[:,-1]\n",
    "print(tensor7)"
   ]
  },
  {
   "cell_type": "markdown",
   "metadata": {},
   "source": [
    "8. Create a 2D tensor of shape (3, 3) and a 1D tensor of shape (3,). Add the 1D tensor to each row of the 2D tensor using broadcasting."
   ]
  },
  {
   "cell_type": "code",
   "execution_count": 24,
   "metadata": {},
   "outputs": [
    {
     "name": "stdout",
     "output_type": "stream",
     "text": [
      "tensor([[ 1.1271,  0.1414,  0.8661],\n",
      "        [ 1.0181, -1.5408,  0.1183],\n",
      "        [ 1.0806,  0.5506,  0.0448]])\n",
      "tensor([ 0.9940, -0.4363, -1.5975])\n",
      "tensor([[ 0.1330,  0.5777,  2.4636],\n",
      "        [ 0.0241, -1.1045,  1.7158],\n",
      "        [ 0.0865,  0.9869,  1.6423]])\n"
     ]
    }
   ],
   "source": [
    "tensor8=torch.randn((3,3))\n",
    "tensor9=torch.randn((3,))\n",
    "print(tensor8)\n",
    "print(tensor9)\n",
    "tensor10=torch.sub(tensor8, tensor9)\n",
    "print(tensor10)"
   ]
  },
  {
   "cell_type": "markdown",
   "metadata": {},
   "source": [
    "9. Create a 2D tensor of shape (3, 4) filled with random values and compute the sum of all elements."
   ]
  },
  {
   "cell_type": "code",
   "execution_count": 25,
   "metadata": {},
   "outputs": [
    {
     "name": "stdout",
     "output_type": "stream",
     "text": [
      "tensor([[ 0.9320, -0.0770,  0.3346, -1.0173],\n",
      "        [-1.0937, -1.8067, -1.3913, -0.8563],\n",
      "        [-0.9901, -0.4665,  1.0271, -1.0906]])\n",
      "tensor(-6.4959)\n"
     ]
    }
   ],
   "source": [
    "tensor11=torch.randn((3,4))\n",
    "print(tensor11)\n",
    "res=torch.sum(tensor11)\n",
    "print(res)"
   ]
  },
  {
   "cell_type": "markdown",
   "metadata": {},
   "source": [
    "10. Create a 2D tensor of shape (3, 4) filled with random values and compute the mean along each row."
   ]
  },
  {
   "cell_type": "code",
   "execution_count": 27,
   "metadata": {},
   "outputs": [
    {
     "name": "stdout",
     "output_type": "stream",
     "text": [
      "tensor([[-0.8913, -0.5254, -0.5221, -0.3377],\n",
      "        [ 1.5381,  1.0848, -0.1155, -0.2734],\n",
      "        [ 2.8653,  0.5639, -0.0278,  0.2338]])\n",
      "Mean_Row tensor([-0.5691,  0.5585,  0.9088])\n"
     ]
    }
   ],
   "source": [
    "tensor12=torch.randn((3,4))\n",
    "print(tensor12)\n",
    "print('Mean_Row', torch.mean(tensor12,dim=1))"
   ]
  }
 ],
 "metadata": {
  "kernelspec": {
   "display_name": "Python 3 (ipykernel)",
   "language": "python",
   "name": "python3"
  },
  "language_info": {
   "codemirror_mode": {
    "name": "ipython",
    "version": 3
   },
   "file_extension": ".py",
   "mimetype": "text/x-python",
   "name": "python",
   "nbconvert_exporter": "python",
   "pygments_lexer": "ipython3",
   "version": "3.11.4"
  }
 },
 "nbformat": 4,
 "nbformat_minor": 2
}
