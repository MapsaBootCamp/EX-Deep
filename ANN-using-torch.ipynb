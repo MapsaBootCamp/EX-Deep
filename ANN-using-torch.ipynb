{
 "cells": [
  {
   "cell_type": "markdown",
   "metadata": {},
   "source": [
    "1. You have been given a partially implemented code for a feed-forward neural network using PyTorch. Your task is to complete the missing parts of the code to make it functional."
   ]
  },
  {
   "cell_type": "code",
   "execution_count": 1,
   "metadata": {},
   "outputs": [
    {
     "name": "stdout",
     "output_type": "stream",
     "text": [
      "Epoch: 100/1000, Loss: 1.6340762376785278\n",
      "Epoch: 200/1000, Loss: 1.627159833908081\n",
      "Epoch: 300/1000, Loss: 1.6205631494522095\n",
      "Epoch: 400/1000, Loss: 1.614249587059021\n",
      "Epoch: 500/1000, Loss: 1.6082069873809814\n",
      "Epoch: 600/1000, Loss: 1.6024212837219238\n",
      "Epoch: 700/1000, Loss: 1.596855640411377\n",
      "Epoch: 800/1000, Loss: 1.5915049314498901\n",
      "Epoch: 900/1000, Loss: 1.5863336324691772\n",
      "Epoch: 1000/1000, Loss: 1.5812948942184448\n",
      "Predictions: tensor([0, 0, 2, 0, 1, 0, 2, 4, 4, 0])\n"
     ]
    }
   ],
   "source": [
    "import torch\n",
    "import torch.nn as nn\n",
    "import torch.optim as optim\n",
    "\n",
    "# Define the neural network architecture\n",
    "class NeuralNetwork(nn.Module):\n",
    "    def __init__(self, input_size, hidden_size, output_size):\n",
    "        super(NeuralNetwork, self).__init__()\n",
    "        self.fc1 = nn.Linear(input_size, hidden_size)\n",
    "        self.relu = nn.ReLU()\n",
    "        self.fc2 = nn.Linear(hidden_size, output_size)\n",
    "\n",
    "    def forward(self, x):\n",
    "        x = self.fc1(x)\n",
    "        x = self.relu(x)\n",
    "        x = self.fc2(x)\n",
    "        return x\n",
    "\n",
    "# Define the hyperparameters\n",
    "input_size = 10\n",
    "hidden_size = 20\n",
    "label_size = 5\n",
    "learning_rate = 0.001\n",
    "num_epochs = 1000\n",
    "\n",
    "# Create the neural network object\n",
    "model = NeuralNetwork(input_size, hidden_size, label_size)\n",
    "\n",
    "# Define the loss function and optimizer\n",
    "criterion = nn.CrossEntropyLoss()\n",
    "optimizer = optim.SGD(model.parameters(), lr=learning_rate)\n",
    "\n",
    "# Generate some dummy data for training\n",
    "train_data = torch.randn(100, input_size)\n",
    "train_labels = torch.randint(label_size, (100,))\n",
    "\n",
    "# Training loop\n",
    "for epoch in range(num_epochs):\n",
    "    # Forward pass\n",
    "    # Complete this line to pass the training data through the model and obtain the predictions\n",
    "    outputs = model(train_data)\n",
    "\n",
    "    # Compute the loss\n",
    "    loss = criterion(outputs, train_labels)\n",
    "\n",
    "    # Backward and optimize\n",
    "    optimizer.zero_grad()\n",
    "    loss.backward()\n",
    "    optimizer.step()\n",
    "\n",
    "    if (epoch+1) % 100 == 0:\n",
    "        print(f'Epoch: {epoch+1}/{num_epochs}, Loss: {loss.item()}')\n",
    "\n",
    "# Test the trained model\n",
    "test_data = torch.randn(10, input_size)\n",
    "with torch.no_grad():\n",
    "    # Complete this line to pass the test data through the model and obtain the predictions\n",
    "    test_outputs = model(test_data)\n",
    "\n",
    "    # Print the predictions\n",
    "    _, predicted = torch.max(test_outputs.data, 1)\n",
    "    print(\"Predictions:\", predicted)"
   ]
  },
  {
   "cell_type": "markdown",
   "metadata": {},
   "source": [
    "2. In this coding exercise, you need to implement the training of a deep MLP on the MNIST dataset using PyTorch and manually tune the hyperparameters. Follow the steps below to proceed:"
   ]
  },
  {
   "cell_type": "markdown",
   "metadata": {},
   "source": [
    "* Load the MNIST dataset using torchvision.datasets.MNIST. The dataset contains handwritten digit images, and it can be easily accessed through PyTorch's torchvision module."
   ]
  },
  {
   "cell_type": "code",
   "execution_count": 2,
   "metadata": {},
   "outputs": [],
   "source": [
    "from torchvision import datasets, transforms\n",
    "from torch.utils.data import DataLoader\n",
    "\n",
    "\n",
    "train_dataset = datasets.MNIST(root='./data', train=True, transform=transforms.ToTensor(), download=True)\n",
    "test_dataset = datasets.MNIST(root='./data', train=False, transform=transforms.ToTensor(), download=True)\n"
   ]
  },
  {
   "cell_type": "markdown",
   "metadata": {},
   "source": [
    "* Define your deep MLP model. Specify the number of hidden layers, the number of neurons in each layer, and the activation function to be used. You can use the nn.Sequential container to stack the layers."
   ]
  },
  {
   "cell_type": "code",
   "execution_count": 3,
   "metadata": {},
   "outputs": [],
   "source": [
    "class MLP(nn.Module):\n",
    "    def __init__(self):\n",
    "        super().__init__()\n",
    "        self.flatten = nn.Flatten()\n",
    "        self.ly1 = nn.Linear(784,256)\n",
    "        self.relu1 = nn.ReLU()\n",
    "        self.ly2 = nn.Linear(256,128)\n",
    "        self.relu2 = nn.ReLU()\n",
    "        self.ly3 = nn.Linear(128,64)\n",
    "        self.relu3 = nn.ReLU()\n",
    "        self.ly4 = nn.Linear(64,10)\n",
    "    \n",
    "    def forward(self, x):\n",
    "        x = self.flatten(x)\n",
    "        x = self.ly1(x)\n",
    "        x = self.relu1(x)\n",
    "        x = self.ly2(x)\n",
    "        x = self.relu2(x)\n",
    "        x = self.ly3(x)\n",
    "        x = self.relu3(x)\n",
    "        x = self.ly4(x)\n",
    "        return x"
   ]
  },
  {
   "cell_type": "markdown",
   "metadata": {},
   "source": [
    "* Set up the training loop and the hyperparameters. You can use the CrossEntropyLoss as the loss function and the Stochastic Gradient Descent (SGD) optimizer."
   ]
  },
  {
   "cell_type": "code",
   "execution_count": 4,
   "metadata": {},
   "outputs": [],
   "source": [
    "# Set hyperparameters\n",
    "learning_rate = 0.01\n",
    "epochs = 20\n",
    "batch_size = 64 \n",
    "\n",
    "# Create data loaders\n",
    "train_loader = DataLoader(train_dataset,batch_size=batch_size , shuffle=True)\n",
    "test_loader = DataLoader(train_dataset,batch_size=batch_size , shuffle=True)\n",
    "\n",
    "# Create an instance of the model\n",
    "model = MLP()\n",
    "\n",
    "# Define the loss function and optimizer\n",
    "criterion = nn.CrossEntropyLoss()\n",
    "optimizer = optim.SGD(model.parameters(), lr=learning_rate)"
   ]
  },
  {
   "cell_type": "markdown",
   "metadata": {},
   "source": [
    "* Train the model by iterating over the training dataset for the specified number of epochs. Compute the loss, perform backpropagation, and update the model's parameters. "
   ]
  },
  {
   "cell_type": "code",
   "execution_count": 7,
   "metadata": {},
   "outputs": [
    {
     "name": "stderr",
     "output_type": "stream",
     "text": [
      "100%|█████████████████████████████████████████| 938/938 [00:10<00:00, 91.77it/s]\n",
      "100%|█████████████████████████████████████████| 938/938 [00:10<00:00, 93.20it/s]\n",
      "100%|████████████████████████████████████████| 938/938 [00:08<00:00, 104.75it/s]\n",
      "100%|████████████████████████████████████████| 938/938 [00:08<00:00, 105.44it/s]\n",
      "100%|█████████████████████████████████████████| 938/938 [00:09<00:00, 96.18it/s]\n",
      "100%|█████████████████████████████████████████| 938/938 [00:09<00:00, 96.39it/s]\n",
      "100%|████████████████████████████████████████| 938/938 [00:09<00:00, 100.11it/s]\n",
      "100%|████████████████████████████████████████| 938/938 [00:07<00:00, 124.03it/s]\n",
      "100%|█████████████████████████████████████████| 938/938 [00:09<00:00, 93.86it/s]\n",
      "100%|████████████████████████████████████████| 938/938 [00:08<00:00, 111.65it/s]\n",
      "100%|████████████████████████████████████████| 938/938 [00:08<00:00, 110.40it/s]\n",
      "100%|█████████████████████████████████████████| 938/938 [00:10<00:00, 92.25it/s]\n",
      "100%|█████████████████████████████████████████| 938/938 [00:09<00:00, 97.13it/s]\n",
      "100%|█████████████████████████████████████████| 938/938 [00:10<00:00, 92.81it/s]\n",
      "100%|█████████████████████████████████████████| 938/938 [00:09<00:00, 96.77it/s]\n",
      "100%|█████████████████████████████████████████| 938/938 [00:09<00:00, 94.75it/s]\n",
      "100%|█████████████████████████████████████████| 938/938 [00:09<00:00, 96.02it/s]\n",
      "100%|█████████████████████████████████████████| 938/938 [00:10<00:00, 92.87it/s]\n",
      "100%|█████████████████████████████████████████| 938/938 [00:09<00:00, 95.87it/s]\n",
      "100%|█████████████████████████████████████████| 938/938 [00:10<00:00, 92.67it/s]\n"
     ]
    }
   ],
   "source": [
    "# Training loop\n",
    "from tqdm import tqdm\n",
    "for epoch in range(epochs):\n",
    "    for images, labels in tqdm(train_loader):\n",
    "        images = images.view(-1, 784)\n",
    "        optimizer.zero_grad()\n",
    "        output=model(images)\n",
    "        loos =criterion(output,labels)\n",
    "        loos.backward()\n",
    "        optimizer.step()"
   ]
  },
  {
   "cell_type": "markdown",
   "metadata": {},
   "source": [
    "* Evaluate the trained model on the test dataset and calculate the accuracy (Please take a moment to consider the code below!)"
   ]
  },
  {
   "cell_type": "code",
   "execution_count": 8,
   "metadata": {},
   "outputs": [
    {
     "name": "stdout",
     "output_type": "stream",
     "text": [
      "Accuracy: 97.19%\n"
     ]
    }
   ],
   "source": [
    "# Evaluation\n",
    "correct = 0\n",
    "total = 0\n",
    "with torch.no_grad():\n",
    "    for images, labels in test_loader:\n",
    "        images = images.view(-1, 784)\n",
    "        outputs = model(images)\n",
    "        _, predicted = torch.max(outputs.data, 1)\n",
    "        total += labels.size(0)\n",
    "        correct += (predicted == labels).sum().item()\n",
    "\n",
    "accuracy = 100 * correct / total\n",
    "print(\"Accuracy: {:.2f}%\".format(accuracy))"
   ]
  },
  {
   "cell_type": "markdown",
   "metadata": {},
   "source": [
    "* Manually tune the hyperparameters, such as the learning rate, by experimenting with different values and observing the performance. You can also search for the optimal learning rate by using techniques like learning rate range test, where you gradually increase the learning rate and monitor the loss."
   ]
  },
  {
   "cell_type": "code",
   "execution_count": 9,
   "metadata": {},
   "outputs": [
    {
     "name": "stderr",
     "output_type": "stream",
     "text": [
      "100%|█████████████████████████████████████████| 938/938 [00:09<00:00, 94.37it/s]\n",
      "100%|█████████████████████████████████████████| 938/938 [00:09<00:00, 96.27it/s]\n",
      "100%|████████████████████████████████████████| 938/938 [00:07<00:00, 123.33it/s]\n",
      "100%|█████████████████████████████████████████| 938/938 [00:10<00:00, 92.94it/s]\n",
      "100%|█████████████████████████████████████████| 938/938 [00:10<00:00, 93.15it/s]\n",
      "100%|█████████████████████████████████████████| 938/938 [00:10<00:00, 92.75it/s]\n",
      "100%|████████████████████████████████████████| 938/938 [00:07<00:00, 124.16it/s]\n",
      "100%|█████████████████████████████████████████| 938/938 [00:09<00:00, 95.53it/s]\n",
      "100%|█████████████████████████████████████████| 938/938 [00:09<00:00, 98.69it/s]\n",
      "100%|█████████████████████████████████████████| 938/938 [00:09<00:00, 95.87it/s]\n",
      "100%|█████████████████████████████████████████| 938/938 [00:10<00:00, 93.30it/s]\n",
      "100%|█████████████████████████████████████████| 938/938 [00:10<00:00, 93.66it/s]\n",
      "100%|█████████████████████████████████████████| 938/938 [00:09<00:00, 94.10it/s]\n",
      "100%|█████████████████████████████████████████| 938/938 [00:09<00:00, 94.35it/s]\n",
      "100%|█████████████████████████████████████████| 938/938 [00:09<00:00, 95.46it/s]\n",
      "100%|█████████████████████████████████████████| 938/938 [00:10<00:00, 93.24it/s]\n",
      "100%|████████████████████████████████████████| 938/938 [00:08<00:00, 109.63it/s]\n",
      "100%|█████████████████████████████████████████| 938/938 [00:09<00:00, 94.29it/s]\n",
      "100%|█████████████████████████████████████████| 938/938 [00:09<00:00, 97.15it/s]\n",
      "100%|████████████████████████████████████████| 938/938 [00:07<00:00, 122.22it/s]\n"
     ]
    },
    {
     "name": "stdout",
     "output_type": "stream",
     "text": [
      "Accuracy: 99.21%\n"
     ]
    },
    {
     "name": "stderr",
     "output_type": "stream",
     "text": [
      "100%|█████████████████████████████████████████| 938/938 [00:10<00:00, 93.28it/s]\n",
      "100%|████████████████████████████████████████| 938/938 [00:08<00:00, 113.01it/s]\n",
      "100%|████████████████████████████████████████| 938/938 [00:03<00:00, 239.81it/s]\n",
      "100%|████████████████████████████████████████| 938/938 [00:07<00:00, 131.59it/s]\n",
      "100%|█████████████████████████████████████████| 938/938 [00:09<00:00, 95.69it/s]\n",
      "100%|█████████████████████████████████████████| 938/938 [00:09<00:00, 95.75it/s]\n",
      "100%|█████████████████████████████████████████| 938/938 [00:10<00:00, 92.31it/s]\n",
      "100%|█████████████████████████████████████████| 938/938 [00:09<00:00, 93.85it/s]\n",
      "100%|█████████████████████████████████████████| 938/938 [00:10<00:00, 92.18it/s]\n",
      "100%|████████████████████████████████████████| 938/938 [00:07<00:00, 118.61it/s]\n",
      "100%|████████████████████████████████████████| 938/938 [00:09<00:00, 100.34it/s]\n",
      "100%|█████████████████████████████████████████| 938/938 [00:10<00:00, 92.63it/s]\n",
      "100%|████████████████████████████████████████| 938/938 [00:04<00:00, 197.19it/s]\n",
      "100%|████████████████████████████████████████| 938/938 [00:04<00:00, 198.17it/s]\n",
      "100%|█████████████████████████████████████████| 938/938 [00:10<00:00, 92.69it/s]\n",
      "100%|█████████████████████████████████████████| 938/938 [00:09<00:00, 96.19it/s]\n",
      "100%|█████████████████████████████████████████| 938/938 [00:09<00:00, 95.27it/s]\n",
      "100%|████████████████████████████████████████| 938/938 [00:09<00:00, 100.65it/s]\n",
      "100%|█████████████████████████████████████████| 938/938 [00:10<00:00, 92.19it/s]\n",
      "100%|█████████████████████████████████████████| 938/938 [00:10<00:00, 93.36it/s]\n"
     ]
    },
    {
     "name": "stdout",
     "output_type": "stream",
     "text": [
      "Accuracy: 100.00%\n"
     ]
    },
    {
     "name": "stderr",
     "output_type": "stream",
     "text": [
      "100%|████████████████████████████████████████| 938/938 [00:09<00:00, 100.72it/s]\n",
      "100%|█████████████████████████████████████████| 938/938 [00:09<00:00, 94.76it/s]\n",
      "100%|█████████████████████████████████████████| 938/938 [00:09<00:00, 94.09it/s]\n",
      "100%|█████████████████████████████████████████| 938/938 [00:09<00:00, 94.76it/s]\n",
      "100%|█████████████████████████████████████████| 938/938 [00:10<00:00, 93.34it/s]\n",
      "100%|█████████████████████████████████████████| 938/938 [00:10<00:00, 93.19it/s]\n",
      "100%|█████████████████████████████████████████| 938/938 [00:09<00:00, 94.66it/s]\n",
      "100%|████████████████████████████████████████| 938/938 [00:07<00:00, 123.06it/s]\n",
      "100%|████████████████████████████████████████| 938/938 [00:09<00:00, 103.27it/s]\n",
      "100%|█████████████████████████████████████████| 938/938 [00:09<00:00, 94.33it/s]\n",
      "100%|█████████████████████████████████████████| 938/938 [00:09<00:00, 94.27it/s]\n",
      "100%|█████████████████████████████████████████| 938/938 [00:09<00:00, 95.85it/s]\n",
      "100%|█████████████████████████████████████████| 938/938 [00:10<00:00, 92.90it/s]\n",
      "100%|█████████████████████████████████████████| 938/938 [00:09<00:00, 94.01it/s]\n",
      "100%|████████████████████████████████████████| 938/938 [00:05<00:00, 157.51it/s]\n",
      "100%|████████████████████████████████████████| 938/938 [00:07<00:00, 128.36it/s]\n",
      "100%|█████████████████████████████████████████| 938/938 [00:09<00:00, 94.86it/s]\n",
      "100%|█████████████████████████████████████████| 938/938 [00:09<00:00, 94.76it/s]\n",
      "100%|█████████████████████████████████████████| 938/938 [00:10<00:00, 93.48it/s]\n",
      "100%|█████████████████████████████████████████| 938/938 [00:10<00:00, 93.37it/s]\n"
     ]
    },
    {
     "name": "stdout",
     "output_type": "stream",
     "text": [
      "Accuracy: 97.25%\n"
     ]
    },
    {
     "name": "stderr",
     "output_type": "stream",
     "text": [
      "100%|█████████████████████████████████████████| 938/938 [00:10<00:00, 93.67it/s]\n",
      "100%|█████████████████████████████████████████| 938/938 [00:09<00:00, 96.36it/s]\n",
      "100%|████████████████████████████████████████| 938/938 [00:08<00:00, 114.91it/s]\n",
      "100%|█████████████████████████████████████████| 938/938 [00:10<00:00, 93.16it/s]\n",
      "100%|████████████████████████████████████████| 938/938 [00:06<00:00, 135.69it/s]\n",
      "100%|█████████████████████████████████████████| 938/938 [00:09<00:00, 97.05it/s]\n",
      "100%|█████████████████████████████████████████| 938/938 [00:09<00:00, 96.49it/s]\n",
      "100%|█████████████████████████████████████████| 938/938 [00:10<00:00, 91.27it/s]\n",
      "100%|█████████████████████████████████████████| 938/938 [00:09<00:00, 98.14it/s]\n",
      "100%|████████████████████████████████████████| 938/938 [00:09<00:00, 103.45it/s]\n",
      "100%|█████████████████████████████████████████| 938/938 [00:10<00:00, 90.35it/s]\n",
      "100%|█████████████████████████████████████████| 938/938 [00:09<00:00, 93.97it/s]\n",
      "100%|████████████████████████████████████████| 938/938 [00:08<00:00, 112.75it/s]\n",
      "100%|█████████████████████████████████████████| 938/938 [00:10<00:00, 92.63it/s]\n",
      "100%|█████████████████████████████████████████| 938/938 [00:10<00:00, 92.92it/s]\n",
      "100%|█████████████████████████████████████████| 938/938 [00:10<00:00, 93.14it/s]\n",
      "100%|█████████████████████████████████████████| 938/938 [00:09<00:00, 94.27it/s]\n",
      "100%|█████████████████████████████████████████| 938/938 [00:10<00:00, 93.33it/s]\n",
      "100%|████████████████████████████████████████| 938/938 [00:09<00:00, 101.40it/s]\n",
      "100%|████████████████████████████████████████| 938/938 [00:07<00:00, 131.30it/s]\n"
     ]
    },
    {
     "name": "stdout",
     "output_type": "stream",
     "text": [
      "Accuracy: 85.10%\n"
     ]
    },
    {
     "name": "stderr",
     "output_type": "stream",
     "text": [
      "100%|████████████████████████████████████████| 938/938 [00:08<00:00, 115.85it/s]\n",
      "100%|█████████████████████████████████████████| 938/938 [00:09<00:00, 95.34it/s]\n",
      "100%|████████████████████████████████████████| 938/938 [00:09<00:00, 100.41it/s]\n",
      "100%|████████████████████████████████████████| 938/938 [00:08<00:00, 104.91it/s]\n",
      "100%|█████████████████████████████████████████| 938/938 [00:09<00:00, 94.64it/s]\n",
      "100%|█████████████████████████████████████████| 938/938 [00:09<00:00, 96.59it/s]\n",
      "100%|█████████████████████████████████████████| 938/938 [00:09<00:00, 98.81it/s]\n",
      "100%|████████████████████████████████████████| 938/938 [00:04<00:00, 194.85it/s]\n",
      "100%|█████████████████████████████████████████| 938/938 [00:09<00:00, 96.01it/s]\n",
      "100%|█████████████████████████████████████████| 938/938 [00:10<00:00, 93.29it/s]\n",
      "100%|█████████████████████████████████████████| 938/938 [00:10<00:00, 93.58it/s]\n",
      "100%|█████████████████████████████████████████| 938/938 [00:09<00:00, 94.41it/s]\n",
      "100%|█████████████████████████████████████████| 938/938 [00:09<00:00, 97.33it/s]\n",
      "100%|█████████████████████████████████████████| 938/938 [00:09<00:00, 95.24it/s]\n",
      "100%|█████████████████████████████████████████| 938/938 [00:09<00:00, 96.05it/s]\n",
      "100%|█████████████████████████████████████████| 938/938 [00:09<00:00, 94.59it/s]\n",
      "100%|█████████████████████████████████████████| 938/938 [00:09<00:00, 95.84it/s]\n",
      "100%|█████████████████████████████████████████| 938/938 [00:09<00:00, 96.03it/s]\n",
      "100%|████████████████████████████████████████| 938/938 [00:05<00:00, 164.59it/s]\n",
      "100%|████████████████████████████████████████| 938/938 [00:03<00:00, 249.36it/s]\n"
     ]
    },
    {
     "name": "stdout",
     "output_type": "stream",
     "text": [
      "Accuracy: 13.97%\n",
      "Best learning rate: 0.1\n"
     ]
    }
   ],
   "source": [
    "learning_rates = [1, 0.1, 0.01, 0.001, 0.0001]\n",
    "best_accuracy = 0\n",
    "best_lr = None\n",
    "\n",
    "for lr in learning_rates:\n",
    "    model = MLP()\n",
    "    criterion = nn.CrossEntropyLoss()\n",
    "    optimizer = optim.SGD(model.parameters(), lr=lr)\n",
    "    for epoch in range(epochs):\n",
    "        for images, labels in tqdm(train_loader):\n",
    "            images = images.view(-1, 784)\n",
    "            optimizer.zero_grad()\n",
    "            output = model(images)\n",
    "            loss = criterion(output, labels)\n",
    "            loss.backward()\n",
    "            optimizer.step()\n",
    "    correct = 0\n",
    "    total = 0\n",
    "    with torch.no_grad():\n",
    "        for images, labels in test_loader:\n",
    "            images = images.view(-1, 784)\n",
    "            outputs = model(images)\n",
    "            _, predicted = torch.max(outputs.data, 1)\n",
    "            total += labels.size(0)\n",
    "            correct += (predicted == labels).sum().item()\n",
    "\n",
    "    accuracy = 100 * correct / total\n",
    "    print(\"Accuracy: {:.2f}%\".format(accuracy))\n",
    "\n",
    "    if accuracy > best_accuracy:  # Fix typo here\n",
    "        best_accuracy = accuracy\n",
    "        best_lr = lr\n",
    "\n",
    "print(f\"Best learning rate: {best_lr}\")\n"
   ]
  },
  {
   "cell_type": "markdown",
   "metadata": {},
   "source": [
    "3. In this coding exercise, you'll have an opportunity to explore the behavior of a deep neural network trained on the CIFAR10 image dataset. Follow the steps below:\n",
    "\n",
    "* a. Construct a deep neural network (DNN) using 20 hidden layers, each comprising 100 neurons. To facilitate this exploration, employ the Swish activation function for each layer. Utilize nn.ModuleList to manage the layers effectively.\n",
    "\n",
    "* b. Load the CIFAR10 dataset for training your network. Utilize the appropriate function, such as torchvision.datasets.CIFAR10. The dataset consists of 60,000 color images, with dimensions of 32×32 pixels. It is divided into 50,000 training samples and 10,000 testing samples. With 10 classes in the dataset, ensure that your network has a softmax output layer comprising 10 neurons. When modifying the model's architecture or hyperparameters, conduct a search to identify an appropriate learning rate. Implement early stopping during training and employ the Nadam optimization algorithm.\n",
    "\n",
    "* c. Experiment by adding batch normalization to your network. Compare the learning curves obtained with and without batch normalization. Analyze whether the model converges faster with batch normalization and observe any improvements in its performance. Additionally, assess the impact of batch normalization on training speed.\n",
    "\n",
    "* d. As an additional experiment, substitute batch normalization with SELU (Scaled Exponential Linear Units). Make the necessary adjustments to ensure the network self-normalizes. This involves standardizing the input features, initializing the network's weights using LeCun normal initialization (nn.init.kaiming_normal_), and ensuring that the DNN consists solely of dense layers. Observe the effects of utilizing SELU activation and self-normalization on the network's training stability and performance."
   ]
  },
  {
   "cell_type": "code",
   "execution_count": null,
   "metadata": {},
   "outputs": [],
   "source": [
    "# TODO"
   ]
  }
 ],
 "metadata": {
  "kernelspec": {
   "display_name": "Python 3 (ipykernel)",
   "language": "python",
   "name": "python3"
  },
  "language_info": {
   "codemirror_mode": {
    "name": "ipython",
    "version": 3
   },
   "file_extension": ".py",
   "mimetype": "text/x-python",
   "name": "python",
   "nbconvert_exporter": "python",
   "pygments_lexer": "ipython3",
   "version": "3.10.12"
  }
 },
 "nbformat": 4,
 "nbformat_minor": 4
}
