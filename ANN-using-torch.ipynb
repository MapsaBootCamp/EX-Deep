{
 "cells": [
  {
   "cell_type": "markdown",
   "metadata": {},
   "source": [
    "1. You have been given a partially implemented code for a feed-forward neural network using PyTorch. Your task is to complete the missing parts of the code to make it functional."
   ]
  },
  {
   "cell_type": "code",
   "execution_count": 1,
   "metadata": {},
   "outputs": [
    {
     "name": "stdout",
     "output_type": "stream",
     "text": [
      "Using cuda device\n"
     ]
    }
   ],
   "source": [
    "import torch\n",
    "device = (\n",
    "    \"cuda\"\n",
    "    if torch.cuda.is_available()\n",
    "    else \"mps\"\n",
    "    if torch.backends.mps.is_available()\n",
    "    else \"cpu\"\n",
    ")\n",
    "print(f\"Using {device} device\")"
   ]
  },
  {
   "cell_type": "code",
   "execution_count": 2,
   "metadata": {},
   "outputs": [
    {
     "name": "stdout",
     "output_type": "stream",
     "text": [
      "Epoch: 100/1000, Loss: 1.60367751121521\n",
      "Epoch: 200/1000, Loss: 1.6002953052520752\n",
      "Epoch: 300/1000, Loss: 1.5970964431762695\n",
      "Epoch: 400/1000, Loss: 1.594032883644104\n",
      "Epoch: 500/1000, Loss: 1.5911498069763184\n",
      "Epoch: 600/1000, Loss: 1.5880122184753418\n",
      "Epoch: 700/1000, Loss: 1.5845439434051514\n",
      "Epoch: 800/1000, Loss: 1.5812548398971558\n",
      "Epoch: 900/1000, Loss: 1.5783064365386963\n",
      "Epoch: 1000/1000, Loss: 1.575341820716858\n",
      "Predictions: tensor([3, 0, 0, 2, 1, 4, 0, 4, 2, 1])\n"
     ]
    }
   ],
   "source": [
    "\n",
    "import torch.nn as nn\n",
    "import torch.optim as optim\n",
    "\n",
    "# Define the neural network architecture\n",
    "class NeuralNetwork(nn.Module):\n",
    "    def __init__(self, input_size, hidden_size, output_size):\n",
    "        super(NeuralNetwork, self).__init__()\n",
    "        self.fc1 = nn.Linear(input_size, hidden_size)\n",
    "        self.relu = nn.ReLU()\n",
    "        self.fc2 = nn.Linear(hidden_size, output_size)\n",
    "\n",
    "    def forward(self, x):\n",
    "        x = self.fc1(x)\n",
    "        x = self.relu(x)\n",
    "        x = self.fc2(x)\n",
    "        x = self.relu(x)\n",
    "        return x\n",
    "\n",
    "# Define the hyperparameters\n",
    "input_size = 10\n",
    "hidden_size = 20\n",
    "label_size = 5\n",
    "learning_rate = 0.001\n",
    "num_epochs = 1000\n",
    "\n",
    "# Create the neural network object\n",
    "model = NeuralNetwork(input_size, hidden_size, label_size)\n",
    "\n",
    "# Define the loss function and optimizer\n",
    "criterion = nn.CrossEntropyLoss()\n",
    "optimizer = optim.SGD(model.parameters(), lr=learning_rate)\n",
    "\n",
    "# Generate some dummy data for training\n",
    "train_data = torch.randn(100, input_size)\n",
    "train_labels = torch.randint(label_size, (100,))\n",
    "\n",
    "# Training loop\n",
    "for epoch in range(num_epochs):\n",
    "    # Forward pass\n",
    "    # Complete this line to pass the training data through the model and obtain the predictions\n",
    "    outputs = model.forward(train_data)\n",
    "\n",
    "    # Compute the loss\n",
    "    loss = criterion(outputs, train_labels)\n",
    "\n",
    "    # Backward and optimize\n",
    "    optimizer.zero_grad()\n",
    "    loss.backward()\n",
    "    optimizer.step()\n",
    "\n",
    "    if (epoch+1) % 100 == 0:\n",
    "        print(f'Epoch: {epoch+1}/{num_epochs}, Loss: {loss.item()}')\n",
    "\n",
    "# Test the trained model\n",
    "test_data = torch.randn(10, input_size)\n",
    "with torch.no_grad():\n",
    "    # Complete this line to pass the test data through the model and obtain the predictions\n",
    "    test_outputs = model(test_data)\n",
    "\n",
    "    # Print the predictions\n",
    "    \n",
    "    _, predicted = torch.max(test_outputs.data, 1)\n",
    "    print(\"Predictions:\", predicted)\n",
    "    "
   ]
  },
  {
   "cell_type": "markdown",
   "metadata": {},
   "source": [
    "2. In this coding exercise, you need to implement the training of a deep MLP on the MNIST dataset using PyTorch and manually tune the hyperparameters. Follow the steps below to proceed:"
   ]
  },
  {
   "cell_type": "markdown",
   "metadata": {},
   "source": [
    "* Load the MNIST dataset using torchvision.datasets.MNIST. The dataset contains handwritten digit images, and it can be easily accessed through PyTorch's torchvision module."
   ]
  },
  {
   "cell_type": "code",
   "execution_count": 3,
   "metadata": {},
   "outputs": [],
   "source": [
    "# Load the MNIST dataset\n",
    "from torchvision.datasets import MNIST\n",
    "from torchvision.transforms import ToTensor\n",
    "from torch.utils.data import DataLoader\n",
    "from tqdm import tqdm\n",
    "\n",
    "\n",
    "\n",
    "train_dataset = MNIST('./data', train=True, download=True, transform=ToTensor())\n",
    "test_dataset = MNIST('./data', train=False, transform=ToTensor())\n",
    "\n"
   ]
  },
  {
   "cell_type": "markdown",
   "metadata": {},
   "source": [
    "* Define your deep MLP model. Specify the number of hidden layers, the number of neurons in each layer, and the activation function to be used. You can use the nn.Sequential container to stack the layers."
   ]
  },
  {
   "cell_type": "code",
   "execution_count": 4,
   "metadata": {},
   "outputs": [],
   "source": [
    "class MLP(nn.Module):\n",
    "    device = device\n",
    "    def __init__(self):\n",
    "        super().__init__()\n",
    "        self.layers = nn.Sequential(\n",
    "            \n",
    "            nn.Linear(28*28,20),\n",
    "            nn.ReLU(),\n",
    "            nn.Linear(20,10)\n",
    "        )\n",
    "    \n",
    "    def forward(self, x):\n",
    "        \n",
    "        return self.layers(x)\n",
    "        \n",
    "        \n"
   ]
  },
  {
   "cell_type": "markdown",
   "metadata": {},
   "source": [
    "* Set up the training loop and the hyperparameters. You can use the CrossEntropyLoss as the loss function and the Stochastic Gradient Descent (SGD) optimizer."
   ]
  },
  {
   "cell_type": "code",
   "execution_count": 12,
   "metadata": {},
   "outputs": [
    {
     "name": "stdout",
     "output_type": "stream",
     "text": [
      "MLP(\n",
      "  (layers): Sequential(\n",
      "    (0): Linear(in_features=784, out_features=20, bias=True)\n",
      "    (1): ReLU()\n",
      "    (2): Linear(in_features=20, out_features=10, bias=True)\n",
      "  )\n",
      ")\n"
     ]
    }
   ],
   "source": [
    "# Set hyperparameters\n",
    "learning_rate = 0.01\n",
    "epochs = 100\n",
    "batch_size = 32\n",
    "# Create data loaders\n",
    "train_loader = DataLoader(dataset=train_dataset, batch_size=batch_size, shuffle=True)\n",
    "test_loader = DataLoader(dataset=test_dataset, batch_size=batch_size, shuffle=False)\n",
    "\n",
    "# Create an instance of the model\n",
    "model = MLP()\n",
    "model\n",
    "print(model)\n",
    "\n",
    "# Define the loss function and optimizer\n",
    "criterion = nn.CrossEntropyLoss()\n",
    "optimizer = optim.SGD(model.parameters(), lr=learning_rate)\n",
    "\n"
   ]
  },
  {
   "cell_type": "markdown",
   "metadata": {},
   "source": [
    "* Train the model by iterating over the training dataset for the specified number of epochs. Compute the loss, perform backpropagation, and update the model's parameters. "
   ]
  },
  {
   "cell_type": "code",
   "execution_count": 13,
   "metadata": {},
   "outputs": [
    {
     "name": "stderr",
     "output_type": "stream",
     "text": [
      "100%|██████████| 1875/1875 [00:05<00:00, 373.78it/s]\n",
      "100%|██████████| 1875/1875 [00:05<00:00, 358.74it/s]\n",
      "100%|██████████| 1875/1875 [00:04<00:00, 385.72it/s]\n",
      "100%|██████████| 1875/1875 [00:04<00:00, 420.12it/s]\n",
      "100%|██████████| 1875/1875 [00:04<00:00, 450.77it/s]\n",
      "100%|██████████| 1875/1875 [00:04<00:00, 450.47it/s]\n",
      "100%|██████████| 1875/1875 [00:04<00:00, 460.09it/s]\n",
      "100%|██████████| 1875/1875 [00:04<00:00, 452.08it/s]\n",
      "100%|██████████| 1875/1875 [00:04<00:00, 397.66it/s]\n",
      "100%|██████████| 1875/1875 [00:04<00:00, 380.36it/s]\n"
     ]
    },
    {
     "name": "stdout",
     "output_type": "stream",
     "text": [
      "Epoch: 10/100, Loss: 0.26769542694091797\n"
     ]
    },
    {
     "name": "stderr",
     "output_type": "stream",
     "text": [
      "100%|██████████| 1875/1875 [00:04<00:00, 399.23it/s]\n",
      "100%|██████████| 1875/1875 [00:04<00:00, 397.90it/s]\n",
      "100%|██████████| 1875/1875 [00:04<00:00, 392.51it/s]\n",
      "100%|██████████| 1875/1875 [00:04<00:00, 379.43it/s]\n",
      "100%|██████████| 1875/1875 [00:04<00:00, 385.68it/s]\n",
      "100%|██████████| 1875/1875 [00:04<00:00, 391.16it/s]\n",
      "100%|██████████| 1875/1875 [00:05<00:00, 345.19it/s]\n",
      "100%|██████████| 1875/1875 [00:04<00:00, 414.07it/s]\n",
      "100%|██████████| 1875/1875 [00:04<00:00, 412.74it/s]\n",
      "100%|██████████| 1875/1875 [00:04<00:00, 390.29it/s]\n"
     ]
    },
    {
     "name": "stdout",
     "output_type": "stream",
     "text": [
      "Epoch: 20/100, Loss: 0.05084151402115822\n"
     ]
    },
    {
     "name": "stderr",
     "output_type": "stream",
     "text": [
      "100%|██████████| 1875/1875 [00:04<00:00, 408.99it/s]\n",
      "100%|██████████| 1875/1875 [00:04<00:00, 420.34it/s]\n",
      "100%|██████████| 1875/1875 [00:04<00:00, 394.82it/s]\n",
      "100%|██████████| 1875/1875 [00:04<00:00, 387.57it/s]\n",
      "100%|██████████| 1875/1875 [00:04<00:00, 383.35it/s]\n",
      "100%|██████████| 1875/1875 [00:04<00:00, 386.72it/s]\n",
      "100%|██████████| 1875/1875 [00:04<00:00, 414.01it/s]\n",
      "100%|██████████| 1875/1875 [00:05<00:00, 369.14it/s]\n",
      "100%|██████████| 1875/1875 [00:04<00:00, 390.74it/s]\n",
      "100%|██████████| 1875/1875 [00:04<00:00, 401.35it/s]\n"
     ]
    },
    {
     "name": "stdout",
     "output_type": "stream",
     "text": [
      "Epoch: 30/100, Loss: 0.04214125871658325\n"
     ]
    },
    {
     "name": "stderr",
     "output_type": "stream",
     "text": [
      "100%|██████████| 1875/1875 [00:04<00:00, 401.99it/s]\n",
      "100%|██████████| 1875/1875 [00:04<00:00, 376.79it/s]\n",
      "100%|██████████| 1875/1875 [00:04<00:00, 422.24it/s]\n",
      "100%|██████████| 1875/1875 [00:04<00:00, 424.86it/s]\n",
      "100%|██████████| 1875/1875 [00:04<00:00, 454.08it/s]\n",
      "100%|██████████| 1875/1875 [00:04<00:00, 453.39it/s]\n",
      "100%|██████████| 1875/1875 [00:04<00:00, 435.30it/s]\n",
      "100%|██████████| 1875/1875 [00:04<00:00, 418.84it/s]\n",
      "100%|██████████| 1875/1875 [00:04<00:00, 430.48it/s]\n",
      "100%|██████████| 1875/1875 [00:04<00:00, 416.55it/s]\n"
     ]
    },
    {
     "name": "stdout",
     "output_type": "stream",
     "text": [
      "Epoch: 40/100, Loss: 0.11616217344999313\n"
     ]
    },
    {
     "name": "stderr",
     "output_type": "stream",
     "text": [
      "100%|██████████| 1875/1875 [00:04<00:00, 432.34it/s]\n",
      "100%|██████████| 1875/1875 [00:04<00:00, 438.28it/s]\n",
      "100%|██████████| 1875/1875 [00:04<00:00, 450.31it/s]\n",
      "100%|██████████| 1875/1875 [00:04<00:00, 426.19it/s]\n",
      "100%|██████████| 1875/1875 [00:04<00:00, 434.50it/s]\n",
      "100%|██████████| 1875/1875 [00:04<00:00, 441.60it/s]\n",
      "100%|██████████| 1875/1875 [00:04<00:00, 436.71it/s]\n",
      "100%|██████████| 1875/1875 [00:04<00:00, 433.47it/s]\n",
      "100%|██████████| 1875/1875 [00:04<00:00, 436.20it/s]\n",
      "100%|██████████| 1875/1875 [00:04<00:00, 423.63it/s]\n"
     ]
    },
    {
     "name": "stdout",
     "output_type": "stream",
     "text": [
      "Epoch: 50/100, Loss: 0.021920910105109215\n"
     ]
    },
    {
     "name": "stderr",
     "output_type": "stream",
     "text": [
      "100%|██████████| 1875/1875 [00:04<00:00, 419.79it/s]\n",
      "100%|██████████| 1875/1875 [00:04<00:00, 428.80it/s]\n",
      "100%|██████████| 1875/1875 [00:04<00:00, 451.47it/s]\n",
      "100%|██████████| 1875/1875 [00:04<00:00, 427.27it/s]\n",
      "100%|██████████| 1875/1875 [00:04<00:00, 435.87it/s]\n",
      "100%|██████████| 1875/1875 [00:04<00:00, 434.78it/s]\n",
      "100%|██████████| 1875/1875 [00:04<00:00, 378.70it/s]\n",
      "100%|██████████| 1875/1875 [00:05<00:00, 360.98it/s]\n",
      "100%|██████████| 1875/1875 [00:04<00:00, 396.21it/s]\n",
      "100%|██████████| 1875/1875 [00:04<00:00, 428.19it/s]\n"
     ]
    },
    {
     "name": "stdout",
     "output_type": "stream",
     "text": [
      "Epoch: 60/100, Loss: 0.08003880828619003\n"
     ]
    },
    {
     "name": "stderr",
     "output_type": "stream",
     "text": [
      "100%|██████████| 1875/1875 [00:04<00:00, 427.37it/s]\n",
      "100%|██████████| 1875/1875 [00:04<00:00, 438.75it/s]\n",
      "100%|██████████| 1875/1875 [00:04<00:00, 432.75it/s]\n",
      "100%|██████████| 1875/1875 [00:04<00:00, 435.78it/s]\n",
      "100%|██████████| 1875/1875 [00:04<00:00, 449.14it/s]\n",
      "100%|██████████| 1875/1875 [00:04<00:00, 451.24it/s]\n",
      "100%|██████████| 1875/1875 [00:04<00:00, 428.10it/s]\n",
      "100%|██████████| 1875/1875 [00:04<00:00, 391.72it/s]\n",
      "100%|██████████| 1875/1875 [00:04<00:00, 387.51it/s]\n",
      "100%|██████████| 1875/1875 [00:04<00:00, 385.65it/s]\n"
     ]
    },
    {
     "name": "stdout",
     "output_type": "stream",
     "text": [
      "Epoch: 70/100, Loss: 0.1568288952112198\n"
     ]
    },
    {
     "name": "stderr",
     "output_type": "stream",
     "text": [
      "100%|██████████| 1875/1875 [00:04<00:00, 422.06it/s]\n",
      "100%|██████████| 1875/1875 [00:04<00:00, 426.36it/s]\n",
      "100%|██████████| 1875/1875 [00:04<00:00, 438.06it/s]\n",
      "100%|██████████| 1875/1875 [00:04<00:00, 427.28it/s]\n",
      "100%|██████████| 1875/1875 [00:04<00:00, 441.97it/s]\n",
      "100%|██████████| 1875/1875 [00:04<00:00, 440.09it/s]\n",
      "100%|██████████| 1875/1875 [00:04<00:00, 445.43it/s]\n",
      "100%|██████████| 1875/1875 [00:04<00:00, 429.51it/s]\n",
      "100%|██████████| 1875/1875 [00:04<00:00, 435.24it/s]\n",
      "100%|██████████| 1875/1875 [00:04<00:00, 421.72it/s]\n"
     ]
    },
    {
     "name": "stdout",
     "output_type": "stream",
     "text": [
      "Epoch: 80/100, Loss: 0.0832170620560646\n"
     ]
    },
    {
     "name": "stderr",
     "output_type": "stream",
     "text": [
      "100%|██████████| 1875/1875 [00:04<00:00, 429.88it/s]\n",
      "100%|██████████| 1875/1875 [00:04<00:00, 432.24it/s]\n",
      "100%|██████████| 1875/1875 [00:04<00:00, 436.72it/s]\n",
      "100%|██████████| 1875/1875 [00:04<00:00, 438.40it/s]\n",
      "100%|██████████| 1875/1875 [00:04<00:00, 434.16it/s]\n",
      "100%|██████████| 1875/1875 [00:04<00:00, 435.30it/s]\n",
      "100%|██████████| 1875/1875 [00:04<00:00, 431.89it/s]\n",
      "100%|██████████| 1875/1875 [00:04<00:00, 443.02it/s]\n",
      "100%|██████████| 1875/1875 [00:04<00:00, 431.25it/s]\n",
      "100%|██████████| 1875/1875 [00:04<00:00, 447.30it/s]\n"
     ]
    },
    {
     "name": "stdout",
     "output_type": "stream",
     "text": [
      "Epoch: 90/100, Loss: 0.11947625875473022\n"
     ]
    },
    {
     "name": "stderr",
     "output_type": "stream",
     "text": [
      "100%|██████████| 1875/1875 [00:04<00:00, 429.09it/s]\n",
      "100%|██████████| 1875/1875 [00:04<00:00, 434.36it/s]\n",
      "100%|██████████| 1875/1875 [00:04<00:00, 427.92it/s]\n",
      "100%|██████████| 1875/1875 [00:04<00:00, 425.06it/s]\n",
      "100%|██████████| 1875/1875 [00:04<00:00, 423.59it/s]\n",
      "100%|██████████| 1875/1875 [00:04<00:00, 422.35it/s]\n",
      "100%|██████████| 1875/1875 [00:04<00:00, 432.49it/s]\n",
      "100%|██████████| 1875/1875 [00:04<00:00, 437.79it/s]\n",
      "100%|██████████| 1875/1875 [00:04<00:00, 428.92it/s]\n",
      "100%|██████████| 1875/1875 [00:04<00:00, 424.79it/s]"
     ]
    },
    {
     "name": "stdout",
     "output_type": "stream",
     "text": [
      "Epoch: 100/100, Loss: 0.026048120111227036\n"
     ]
    },
    {
     "name": "stderr",
     "output_type": "stream",
     "text": [
      "\n"
     ]
    }
   ],
   "source": [
    "# Training loop\n",
    "for epoch in range(epochs):\n",
    "    for images, labels in tqdm(train_loader):\n",
    "        # Flatten the images\n",
    "        images = images.view(-1, 784)\n",
    "        images\n",
    "        labels\n",
    "        \n",
    "\n",
    "        # Zero the gradients\n",
    "        optimizer.zero_grad()\n",
    "\n",
    "\n",
    "        # Forward pass\n",
    "        outputs = model(images)\n",
    "        loss = criterion(outputs,labels)\n",
    "        \n",
    "        # Backward pass and optimization\n",
    "        loss.backward()\n",
    "        optimizer.step()\n",
    "    if (epoch+1) % 10 == 0:\n",
    "        print(f'Epoch: {epoch+1}/{epochs}, Loss: {loss.item()}')\n",
    "        "
   ]
  },
  {
   "cell_type": "markdown",
   "metadata": {},
   "source": [
    "* Evaluate the trained model on the test dataset and calculate the accuracy (Please take a moment to consider the code below!)"
   ]
  },
  {
   "cell_type": "code",
   "execution_count": 110,
   "metadata": {},
   "outputs": [
    {
     "name": "stdout",
     "output_type": "stream",
     "text": [
      "Accuracy: 96.08%\n"
     ]
    }
   ],
   "source": [
    "# Evaluation\n",
    "correct = 0\n",
    "total = 0\n",
    "with torch.no_grad():\n",
    "    for images, labels in test_loader:\n",
    "        images = images.view(-1, 784)\n",
    "        outputs = model(images)\n",
    "        _, predicted = torch.max(outputs.data, 1)\n",
    "        total += labels.size(0)\n",
    "        correct += (predicted == labels).sum().item()\n",
    "\n",
    "accuracy = 100 * correct / total\n",
    "print(\"Accuracy: {:.2f}%\".format(accuracy))"
   ]
  },
  {
   "cell_type": "markdown",
   "metadata": {},
   "source": [
    "* Manually tune the hyperparameters, such as the learning rate, by experimenting with different values and observing the performance. You can also search for the optimal learning rate by using techniques like learning rate range test, where you gradually increase the learning rate and monitor the loss."
   ]
  },
  {
   "cell_type": "code",
   "execution_count": null,
   "metadata": {},
   "outputs": [],
   "source": []
  },
  {
   "cell_type": "markdown",
   "metadata": {},
   "source": [
    "3. In this coding exercise, you'll have an opportunity to explore the behavior of a deep neural network trained on the CIFAR10 image dataset. Follow the steps below:\n",
    "\n",
    "* a. Construct a deep neural network (DNN) using 20 hidden layers, each comprising 100 neurons. To facilitate this exploration, employ the Swish activation function for each layer. Utilize nn.ModuleList to manage the layers effectively.\n",
    "\n",
    "* b. Load the CIFAR10 dataset for training your network. Utilize the appropriate function, such as torchvision.datasets.CIFAR10. The dataset consists of 60,000 color images, with dimensions of 32×32 pixels. It is divided into 50,000 training samples and 10,000 testing samples. With 10 classes in the dataset, ensure that your network has a softmax output layer comprising 10 neurons. When modifying the model's architecture or hyperparameters, conduct a search to identify an appropriate learning rate. Implement early stopping during training and employ the Nadam optimization algorithm.\n",
    "\n",
    "* c. Experiment by adding batch normalization to your network. Compare the learning curves obtained with and without batch normalization. Analyze whether the model converges faster with batch normalization and observe any improvements in its performance. Additionally, assess the impact of batch normalization on training speed.\n",
    "\n",
    "* d. As an additional experiment, substitute batch normalization with SELU (Scaled Exponential Linear Units). Make the necessary adjustments to ensure the network self-normalizes. This involves standardizing the input features, initializing the network's weights using LeCun normal initialization (nn.init.kaiming_normal_), and ensuring that the DNN consists solely of dense layers. Observe the effects of utilizing SELU activation and self-normalization on the network's training stability and performance."
   ]
  },
  {
   "cell_type": "code",
   "execution_count": null,
   "metadata": {},
   "outputs": [],
   "source": [
    "# TODO"
   ]
  }
 ],
 "metadata": {
  "kernelspec": {
   "display_name": "Python 3 (ipykernel)",
   "language": "python",
   "name": "python3"
  },
  "language_info": {
   "codemirror_mode": {
    "name": "ipython",
    "version": 3
   },
   "file_extension": ".py",
   "mimetype": "text/x-python",
   "name": "python",
   "nbconvert_exporter": "python",
   "pygments_lexer": "ipython3",
   "version": "3.10.12"
  }
 },
 "nbformat": 4,
 "nbformat_minor": 4
}
