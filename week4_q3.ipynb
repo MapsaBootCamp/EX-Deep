{
 "cells": [
  {
   "cell_type": "markdown",
   "metadata": {},
   "source": [
    "## 3D image classification from CT scans"
   ]
  },
  {
   "cell_type": "markdown",
   "metadata": {},
   "source": [
    "### Setup"
   ]
  },
  {
   "cell_type": "code",
   "execution_count": 1,
   "metadata": {},
   "outputs": [],
   "source": [
    "import os\n",
    "import zipfile\n",
    "import glob\n",
    "import random\n",
    "import numpy as np\n",
    "import matplotlib.pyplot as plt\n",
    "import nibabel as nib\n",
    "from scipy import ndimage\n",
    "from PIL import Image\n",
    "from tqdm import tqdm\n",
    "import torch\n",
    "import torch.nn as nn\n",
    "import torch.optim as optim\n",
    "from torch.utils.data import random_split\n",
    "from torchvision import datasets,transforms\n",
    "from torch.utils.data import Dataset, DataLoader\n",
    "from torchsummary import summary"
   ]
  },
  {
   "cell_type": "code",
   "execution_count": 2,
   "metadata": {},
   "outputs": [
    {
     "data": {
      "text/plain": [
       "device(type='cpu')"
      ]
     },
     "execution_count": 2,
     "metadata": {},
     "output_type": "execute_result"
    }
   ],
   "source": [
    "device = torch.device(\"cuda\" if torch.cuda.is_available() else \"cpu\")\n",
    "device"
   ]
  },
  {
   "cell_type": "markdown",
   "metadata": {},
   "source": [
    "### Downloading the MosMedData: Chest CT Scans with COVID-19 Related Findings"
   ]
  },
  {
   "cell_type": "code",
   "execution_count": null,
   "metadata": {},
   "outputs": [],
   "source": [
    "!wget https://github.com/hasibzunair/3D-image-classification-tutorial/releases/download/v0.2/CT-0.zip "
   ]
  },
  {
   "cell_type": "code",
   "execution_count": null,
   "metadata": {},
   "outputs": [],
   "source": [
    "!wget https://github.com/hasibzunair/3D-image-classification-tutorial/releases/download/v0.2/CT-23.zip"
   ]
  },
  {
   "cell_type": "code",
   "execution_count": 14,
   "metadata": {},
   "outputs": [],
   "source": [
    "os.makedirs(\"MosMedData\")\n",
    "\n",
    "with zipfile.ZipFile(\"CT-0.zip\", \"r\") as z_fp:\n",
    "    z_fp.extractall(\"./MosMedData/\")\n",
    "\n",
    "with zipfile.ZipFile(\"CT-23.zip\", \"r\") as z_fp:\n",
    "    z_fp.extractall(\"./MosMedData/\")"
   ]
  },
  {
   "cell_type": "markdown",
   "metadata": {},
   "source": [
    "#### Loading data and preprocessing"
   ]
  },
  {
   "cell_type": "markdown",
   "metadata": {},
   "source": [
    "### Build train and validation datasets"
   ]
  },
  {
   "cell_type": "code",
   "execution_count": 3,
   "metadata": {},
   "outputs": [],
   "source": [
    "class MosMedDataDataset(Dataset):\n",
    "    def __init__(self, root, transform=None, target_transform=None, train=True):\n",
    "        self.root = root\n",
    "        self.transform = transform\n",
    "        self.target_transform = target_transform\n",
    "        self.train = train\n",
    "\n",
    "        normal_scan_paths = glob.glob(os.path.join(self.root, \"CT-0/*.nii.gz\"))\n",
    "        abnormal_scan_paths = glob.glob(os.path.join(self.root, \"CT-23/*.nii.gz\"))\n",
    "\n",
    "        normal_labels = torch.tensor([0 for _ in range(len(normal_scan_paths))])\n",
    "        abnormal_labels = torch.tensor([1 for _ in range(len(abnormal_scan_paths))])\n",
    "\n",
    "        if train:\n",
    "            self.files = abnormal_scan_paths[:70] + normal_scan_paths[:70]\n",
    "            self.labels = torch.concat((abnormal_labels[:70], normal_labels[:70]), dim=0)\n",
    "        else:\n",
    "            self.files = abnormal_scan_paths[70:] + normal_scan_paths[70:]\n",
    "            self.labels = torch.concat((abnormal_labels[70:], normal_labels[70:]), dim=0)\n",
    "        \n",
    "        self.shuffle()\n",
    "\n",
    "\n",
    "    def shuffle(self):\n",
    "        indices = list(range(len(self.files)))\n",
    "        random.seed(42)\n",
    "        random.shuffle(indices)\n",
    "        self.files = [self.files[i] for i in indices]\n",
    "        self.labels = [self.labels[i] for i in indices]\n",
    "\n",
    "    def __len__(self):\n",
    "        return len(self.files)\n",
    "\n",
    "    def __getitem__(self, index):\n",
    "        image_path = self.files[index]\n",
    "        image = nib.load(image_path).get_fdata()\n",
    "        label = self.labels[index]\n",
    "\n",
    "        if self.transform:\n",
    "            image = self.transform(image)\n",
    "        if self.target_transform:\n",
    "            label = self.target_transform(label)\n",
    "        return image, label"
   ]
  },
  {
   "cell_type": "code",
   "execution_count": 7,
   "metadata": {},
   "outputs": [],
   "source": [
    "IMG_SIZE = (64, 128, 128)\n",
    "BATCH_SIZE = 32\n",
    "data_path = \"MosMedData\"\n",
    "\n",
    "train_dataset = MosMedDataDataset(data_path, transform=transforms.ToTensor(), train=True)\n",
    "test_dataset = MosMedDataDataset(data_path, transform=transforms.ToTensor(), train=False)\n",
    "\n",
    "train_loader = DataLoader(train_dataset, batch_size=BATCH_SIZE, shuffle=True)\n",
    "test_loader = DataLoader(test_dataset, batch_size=BATCH_SIZE, shuffle=False)\n"
   ]
  },
  {
   "cell_type": "markdown",
   "metadata": {},
   "source": [
    "### Data augmentation"
   ]
  },
  {
   "cell_type": "markdown",
   "metadata": {},
   "source": [
    "#### Define a 3D convolutional neural network"
   ]
  },
  {
   "cell_type": "code",
   "execution_count": 3,
   "metadata": {},
   "outputs": [],
   "source": [
    "class CNN3D(nn.Module):\n",
    "    def __init__(self, in_channels: int, *args, **kwargs) -> None:\n",
    "        super().__init__(*args, **kwargs)\n",
    "        self.layers = nn.ModuleList()\n",
    "\n",
    "        channels = [in_channels, 64, 64, 128, 256]\n",
    "        for index, size in enumerate(channels[:-1]):\n",
    "            self.layers.append(nn.Sequential(\n",
    "                nn.Conv3d(in_channels=size,\n",
    "                          out_channels=channels[index+1], kernel_size=3),\n",
    "                nn.ReLU(),\n",
    "                nn.MaxPool3d(kernel_size=2),\n",
    "                nn.BatchNorm3d(channels[index+1])))\n",
    "\n",
    "        self.layers.append(nn.Sequential(\n",
    "            nn.AdaptiveAvgPool3d(1),\n",
    "            nn.Flatten(),\n",
    "            nn.Linear(in_features=256, out_features=512),\n",
    "            nn.ReLU(),\n",
    "            nn.Dropout1d(p=0.3),\n",
    "            nn.Linear(in_features=512, out_features=1),\n",
    "            nn.Sigmoid()))\n",
    "\n",
    "    def forward(self, x: torch.Tensor) -> torch.Tensor:\n",
    "        for layer in self.layers:\n",
    "            x = layer(x)\n",
    "        return x"
   ]
  },
  {
   "cell_type": "code",
   "execution_count": 4,
   "metadata": {},
   "outputs": [],
   "source": [
    "model = CNN3D(1)"
   ]
  },
  {
   "cell_type": "code",
   "execution_count": 5,
   "metadata": {},
   "outputs": [
    {
     "name": "stdout",
     "output_type": "stream",
     "text": [
      "----------------------------------------------------------------\n",
      "        Layer (type)               Output Shape         Param #\n",
      "================================================================\n",
      "            Conv3d-1     [-1, 64, 62, 126, 126]           1,792\n",
      "              ReLU-2     [-1, 64, 62, 126, 126]               0\n",
      "         MaxPool3d-3       [-1, 64, 31, 63, 63]               0\n",
      "       BatchNorm3d-4       [-1, 64, 31, 63, 63]             128\n",
      "            Conv3d-5       [-1, 64, 29, 61, 61]         110,656\n",
      "              ReLU-6       [-1, 64, 29, 61, 61]               0\n",
      "         MaxPool3d-7       [-1, 64, 14, 30, 30]               0\n",
      "       BatchNorm3d-8       [-1, 64, 14, 30, 30]             128\n",
      "            Conv3d-9      [-1, 128, 12, 28, 28]         221,312\n",
      "             ReLU-10      [-1, 128, 12, 28, 28]               0\n",
      "        MaxPool3d-11       [-1, 128, 6, 14, 14]               0\n",
      "      BatchNorm3d-12       [-1, 128, 6, 14, 14]             256\n",
      "           Conv3d-13       [-1, 256, 4, 12, 12]         884,992\n",
      "             ReLU-14       [-1, 256, 4, 12, 12]               0\n",
      "        MaxPool3d-15         [-1, 256, 2, 6, 6]               0\n",
      "      BatchNorm3d-16         [-1, 256, 2, 6, 6]             512\n",
      "AdaptiveAvgPool3d-17         [-1, 256, 1, 1, 1]               0\n",
      "          Flatten-18                  [-1, 256]               0\n",
      "           Linear-19                  [-1, 512]         131,584\n",
      "             ReLU-20                  [-1, 512]               0\n",
      "        Dropout1d-21                  [-1, 512]               0\n",
      "           Linear-22                    [-1, 1]             513\n",
      "          Sigmoid-23                    [-1, 1]               0\n",
      "================================================================\n",
      "Total params: 1,351,873\n",
      "Trainable params: 1,351,873\n",
      "Non-trainable params: 0\n",
      "----------------------------------------------------------------\n",
      "Input size (MB): 4.00\n",
      "Forward/backward pass size (MB): 1222.30\n",
      "Params size (MB): 5.16\n",
      "Estimated Total Size (MB): 1231.46\n",
      "----------------------------------------------------------------\n"
     ]
    }
   ],
   "source": [
    "summary(model, input_size=(1, 64, 128, 128))"
   ]
  },
  {
   "cell_type": "markdown",
   "metadata": {},
   "source": [
    "### Train model"
   ]
  },
  {
   "cell_type": "markdown",
   "metadata": {},
   "source": [
    "### Visualizing model performance"
   ]
  },
  {
   "cell_type": "markdown",
   "metadata": {},
   "source": [
    "### Make predictions on a single CT scan"
   ]
  }
 ],
 "metadata": {
  "kernelspec": {
   "display_name": "DeepLearning-venv",
   "language": "python",
   "name": "python3"
  },
  "language_info": {
   "codemirror_mode": {
    "name": "ipython",
    "version": 3
   },
   "file_extension": ".py",
   "mimetype": "text/x-python",
   "name": "python",
   "nbconvert_exporter": "python",
   "pygments_lexer": "ipython3",
   "version": "3.11.4"
  }
 },
 "nbformat": 4,
 "nbformat_minor": 2
}
