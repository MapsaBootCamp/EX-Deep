{
  "cells": [
    {
      "cell_type": "code",
      "execution_count": 1,
      "metadata": {
        "id": "KRgv1XapVK52"
      },
      "outputs": [],
      "source": [
        "import numpy as np\n",
        "import torch"
      ]
    },
    {
      "cell_type": "markdown",
      "metadata": {
        "id": "teOVfu7wVK53"
      },
      "source": [
        "1. Create two random tensors with shapes (6, 5) and (1, 5), and perform a matrix multiplication on these tensors."
      ]
    },
    {
      "cell_type": "code",
      "execution_count": 2,
      "metadata": {
        "id": "C8vDE5tTVK54"
      },
      "outputs": [],
      "source": [
        "# Set the random seed so things are predictable\n",
        "torch.manual_seed(0)\n",
        "# Create random tensor\n",
        "tensor1 =  torch.rand(6, 5)\n",
        "tensor2 =  torch.rand(1, 5)\n",
        "# Perform matrix multiplication\n",
        "mm = torch.mm(tensor1, tensor2.T)"
      ]
    },
    {
      "cell_type": "code",
      "execution_count": 3,
      "metadata": {
        "colab": {
          "base_uri": "https://localhost:8080/"
        },
        "id": "9iRZaadjVK54",
        "outputId": "ee1a18cc-04c8-46cf-d7f7-87ac97e15c9f"
      },
      "outputs": [
        {
          "output_type": "execute_result",
          "data": {
            "text/plain": [
              "tensor([[0.9649],\n",
              "        [1.0261],\n",
              "        [0.5746],\n",
              "        [1.0351],\n",
              "        [1.4298],\n",
              "        [1.1693]])"
            ]
          },
          "metadata": {},
          "execution_count": 3
        }
      ],
      "source": [
        "mm"
      ]
    },
    {
      "cell_type": "markdown",
      "metadata": {
        "id": "LW9AzE9IVK55"
      },
      "source": [
        "2. Given the provided code for generating data, create a simple Python function or class that multiplies the generated features tensor by the corresponding weights tensor and adds the bias term. Assume that the function/class takes the features, weights, and bias tensors as inputs and returns the result of the linear operation. Provide an example of using this function/class with the generated data."
      ]
    },
    {
      "cell_type": "code",
      "execution_count": 31,
      "metadata": {
        "id": "KN5L1_nnVK55"
      },
      "outputs": [],
      "source": [
        "### Generate some data\n",
        "torch.manual_seed(7) # Set the random seed so things are predictable\n",
        "# Features are 3 random normal variables\n",
        "features = torch.randn((1, 5))\n",
        "# True weights for our data, random normal variables again\n",
        "weights = torch.randn_like(features)\n",
        "# and a true bias term\n",
        "bias = torch.randn((1, 1))\n",
        "y = features * weights + bias"
      ]
    },
    {
      "cell_type": "code",
      "execution_count": 22,
      "metadata": {
        "colab": {
          "base_uri": "https://localhost:8080/"
        },
        "id": "9ctssSJcVK55",
        "outputId": "ec76c72d-5eab-4cea-dc1c-a11ac82022c0"
      },
      "outputs": [
        {
          "output_type": "execute_result",
          "data": {
            "text/plain": [
              "torch.Size([1, 5])"
            ]
          },
          "metadata": {},
          "execution_count": 22
        }
      ],
      "source": [
        "features.shape"
      ]
    },
    {
      "cell_type": "code",
      "execution_count": 23,
      "metadata": {
        "id": "rzpyZY_FVK55"
      },
      "outputs": [],
      "source": [
        "def model(w, x, b):\n",
        "    return w * x + b"
      ]
    },
    {
      "cell_type": "code",
      "execution_count": 24,
      "metadata": {
        "id": "c59wIkkhVK55"
      },
      "outputs": [],
      "source": [
        "def criterion(y_pred, y_true):\n",
        "    return torch.power(y_pred - y_true, 2).mean()"
      ]
    },
    {
      "cell_type": "code",
      "execution_count": 33,
      "metadata": {
        "id": "ulSS52BqVK55"
      },
      "outputs": [],
      "source": [
        "y_pred = model(weights, features, bias)"
      ]
    },
    {
      "cell_type": "code",
      "execution_count": 34,
      "metadata": {
        "colab": {
          "base_uri": "https://localhost:8080/"
        },
        "id": "1hEI1DkvVK56",
        "outputId": "4601f43c-8b9c-4575-c4e6-27a2a53407e4"
      },
      "outputs": [
        {
          "output_type": "execute_result",
          "data": {
            "text/plain": [
              "tensor([[ 0.4490,  0.0381,  1.4845,  0.1637, -2.5266]])"
            ]
          },
          "metadata": {},
          "execution_count": 34
        }
      ],
      "source": [
        "y_pred"
      ]
    },
    {
      "cell_type": "markdown",
      "metadata": {
        "id": "4zhuOJ-kVK56"
      },
      "source": [
        "3. Find the maximum and minimum values as well as the corresponding index values in the output of task 1."
      ]
    },
    {
      "cell_type": "code",
      "execution_count": 35,
      "metadata": {
        "colab": {
          "base_uri": "https://localhost:8080/"
        },
        "id": "W5QJp3bcVK56",
        "outputId": "ff9af021-cb60-40df-d0b3-226fade15368"
      },
      "outputs": [
        {
          "output_type": "stream",
          "name": "stdout",
          "text": [
            "max :  tensor(1.4845)\n",
            "max :  tensor(-2.5266)\n",
            "max :  tensor(2)\n",
            "max :  tensor(2)\n"
          ]
        }
      ],
      "source": [
        "# Find max\n",
        "print(\"max : \", y_pred.max())\n",
        "# Find min\n",
        "print(\"max : \", y_pred.min())\n",
        "# Find arg max\n",
        "print(\"max : \", y_pred.argmax())\n",
        "# Find arg min\n",
        "print(\"max : \", y_pred.argmax())"
      ]
    },
    {
      "cell_type": "markdown",
      "metadata": {
        "id": "gt2XTrWFVK56"
      },
      "source": [
        "4. Generate a unique tensor with dimensions (1, 1, 1, 25), and subsequently transform it into a new tensor by removing all singleton dimensions, resulting in a tensor with shape (25)."
      ]
    },
    {
      "cell_type": "code",
      "execution_count": 11,
      "metadata": {
        "colab": {
          "base_uri": "https://localhost:8080/"
        },
        "id": "i_ac8_0rVK56",
        "outputId": "83189d18-4e41-4646-c4c5-ea02a4c86470"
      },
      "outputs": [
        {
          "output_type": "stream",
          "name": "stdout",
          "text": [
            "tensor4 shape :  torch.Size([1, 1, 1, 25])\n",
            "tensor4_squeezed shape :  torch.Size([25])\n"
          ]
        }
      ],
      "source": [
        "# Initialize the random seed\n",
        "torch.manual_seed(7)\n",
        "\n",
        "# Generate a tensor with random values\n",
        "tensor4 = torch.Tensor(1, 1, 1, 25)\n",
        "# Eliminate singleton dimensions\n",
        "tensor4_squeezed = torch.squeeze(tensor4)\n",
        "# Display the tensors along with their shapes\n",
        "print(\"tensor4 shape : \", tensor4.shape)\n",
        "print(\"tensor4_squeezed shape : \", tensor4_squeezed.shape)"
      ]
    },
    {
      "cell_type": "markdown",
      "metadata": {
        "id": "13GhGaR_VK56"
      },
      "source": [
        "5. Create a 1D tensor of size 5 with value ranging from 1 to 5. Reshape the 1D tensor into a 2D tensor of shape (1, 5)"
      ]
    },
    {
      "cell_type": "code",
      "execution_count": 12,
      "metadata": {
        "colab": {
          "base_uri": "https://localhost:8080/"
        },
        "id": "uUgmNVFpVK56",
        "outputId": "6d9eee55-2bca-4651-f821-9b63e3a38b48"
      },
      "outputs": [
        {
          "output_type": "stream",
          "name": "stdout",
          "text": [
            "tensor5 :  tensor([1., 2., 3., 4., 5.])\n",
            "tensor5_reshape :  tensor([[1., 2., 3., 4., 5.]])\n",
            "tensor5_reshape :  torch.Size([1, 5])\n"
          ]
        },
        {
          "output_type": "stream",
          "name": "stderr",
          "text": [
            "<ipython-input-12-f35ff555ef5e>:1: UserWarning: torch.range is deprecated and will be removed in a future release because its behavior is inconsistent with Python's range builtin. Instead, use torch.arange, which produces values in [start, end).\n",
            "  tensor5 = torch.range(1, 5)\n"
          ]
        }
      ],
      "source": [
        "tensor5 = torch.range(1, 5)\n",
        "tensor5_reshape = tensor5.reshape(1, 5)\n",
        "\n",
        "print(\"tensor5 : \", tensor5)\n",
        "print(\"tensor5_reshape : \", tensor5_reshape)\n",
        "print(\"tensor5_reshape : \", tensor5_reshape.shape)\n"
      ]
    },
    {
      "cell_type": "markdown",
      "metadata": {
        "id": "BDp_JnqbVK56"
      },
      "source": [
        "6. Create two 2D tensors of shape (2, 3) and perform element-wise addition."
      ]
    },
    {
      "cell_type": "code",
      "execution_count": 13,
      "metadata": {
        "id": "I8wYvzn8VK57"
      },
      "outputs": [],
      "source": [
        "# Initialize the random seed\n",
        "torch.manual_seed(7)\n",
        "tensor6 = torch.randint(10, (2, 3))\n",
        "tensor6_add = 2 +  tensor6"
      ]
    },
    {
      "cell_type": "code",
      "execution_count": 14,
      "metadata": {
        "colab": {
          "base_uri": "https://localhost:8080/"
        },
        "id": "5PA5DOBXVK57",
        "outputId": "380cc407-298d-494a-c1f1-f6dc53ae5dd5"
      },
      "outputs": [
        {
          "output_type": "stream",
          "name": "stdout",
          "text": [
            "tensor6 :  tensor([[5, 2, 1],\n",
            "        [6, 3, 7]])\n",
            "added tensor6 :  tensor([[7, 4, 3],\n",
            "        [8, 5, 9]])\n"
          ]
        }
      ],
      "source": [
        "print(\"tensor6 : \", tensor6)\n",
        "print(\"added tensor6 : \", tensor6_add)"
      ]
    },
    {
      "cell_type": "markdown",
      "metadata": {
        "id": "cUSSQeSPVK57"
      },
      "source": [
        "7. Create a 2D tensor of shape (4, 4) filled with random values. Extract the first row and the last column as seperate tensors."
      ]
    },
    {
      "cell_type": "code",
      "execution_count": 15,
      "metadata": {
        "colab": {
          "base_uri": "https://localhost:8080/"
        },
        "id": "wzL-TUb9VK57",
        "outputId": "2e413bbc-ff1a-4051-ae90-03423e537d6f"
      },
      "outputs": [
        {
          "output_type": "stream",
          "name": "stdout",
          "text": [
            "torch.Size([4, 4])\n",
            "tensor([[5, 2, 1, 6],\n",
            "        [3, 7, 7, 9],\n",
            "        [8, 1, 8, 1],\n",
            "        [8, 7, 2, 0]])\n"
          ]
        }
      ],
      "source": [
        "torch.manual_seed(7)\n",
        "tensor7 = torch.randint(10, (4, 4))\n",
        "print(tensor7.shape)\n",
        "print(tensor7)"
      ]
    },
    {
      "cell_type": "code",
      "execution_count": 16,
      "metadata": {
        "colab": {
          "base_uri": "https://localhost:8080/"
        },
        "id": "mqS2W_LQVK57",
        "outputId": "31dcc7ad-16cf-41c3-fe23-92e092b02135"
      },
      "outputs": [
        {
          "output_type": "stream",
          "name": "stdout",
          "text": [
            "first_row_tensor7 :  tensor([5, 2, 1, 6])\n",
            "last_col_tensor7 :  tensor([6, 9, 1, 0])\n"
          ]
        }
      ],
      "source": [
        "last_col_tensor7 = tensor7[:, -1]\n",
        "first_row_tensor7 = tensor7[0, :]\n",
        "print('first_row_tensor7 : ', first_row_tensor7)\n",
        "print('last_col_tensor7 : ', last_col_tensor7)"
      ]
    },
    {
      "cell_type": "markdown",
      "metadata": {
        "id": "EJ7FHQvFVK57"
      },
      "source": [
        "8. Create a 2D tensor of shape (3, 3) and a 1D tensor of shape (3,). Add the 1D tensor to each row of the 2D tensor using broadcasting."
      ]
    },
    {
      "cell_type": "code",
      "execution_count": 17,
      "metadata": {
        "colab": {
          "base_uri": "https://localhost:8080/"
        },
        "id": "bJ5l-ymGVK57",
        "outputId": "7f1c0872-da43-4683-f021-02d235602e0a"
      },
      "outputs": [
        {
          "output_type": "stream",
          "name": "stdout",
          "text": [
            "broadcast_tensor8 :  tensor([[ 6, 10,  2],\n",
            "        [ 7, 11,  8],\n",
            "        [ 8, 17,  9]])\n"
          ]
        }
      ],
      "source": [
        "torch.manual_seed(7)\n",
        "tensor8_2D = torch.randint(10, (3, 3))\n",
        "tensor8_1D = torch.randint(10, (3,))\n",
        "broadcast_tensor8 = torch.add(tensor8_2D, tensor8_1D)\n",
        "print('broadcast_tensor8 : ', broadcast_tensor8)"
      ]
    },
    {
      "cell_type": "markdown",
      "metadata": {
        "id": "23KOaoE1VK57"
      },
      "source": [
        "9. Create a 2D tensor of shape (3, 4) filled with random values and compute the sum of all elements."
      ]
    },
    {
      "cell_type": "code",
      "execution_count": 18,
      "metadata": {
        "colab": {
          "base_uri": "https://localhost:8080/"
        },
        "id": "p8tVEtOfVK57",
        "outputId": "f21d7742-8c05-4042-ea7f-c21675d4f27a"
      },
      "outputs": [
        {
          "output_type": "stream",
          "name": "stdout",
          "text": [
            "tensor9 :  tensor([[5, 2, 1, 6],\n",
            "        [3, 7, 7, 9],\n",
            "        [8, 1, 8, 1]])\n",
            "sum_tensor9 :  tensor(58)\n"
          ]
        }
      ],
      "source": [
        "torch.manual_seed(7)\n",
        "tensor9 = torch.randint(10, (3, 4))\n",
        "print(\"tensor9 : \", tensor9)\n",
        "print(\"sum_tensor9 : \", tensor9.sum())"
      ]
    },
    {
      "cell_type": "markdown",
      "metadata": {
        "id": "_f1B6GBJVK57"
      },
      "source": [
        "10. Create a 2D tensor of shape (3, 4) filled with random values and compute the mean along each row."
      ]
    },
    {
      "cell_type": "code",
      "execution_count": 19,
      "metadata": {
        "colab": {
          "base_uri": "https://localhost:8080/"
        },
        "id": "-bmucmhdVK58",
        "outputId": "8f498a72-f910-4d98-e423-9148e2481a8c"
      },
      "outputs": [
        {
          "output_type": "stream",
          "name": "stdout",
          "text": [
            "tensor10 :  tensor([[5., 2., 1., 6.],\n",
            "        [3., 7., 7., 9.],\n",
            "        [8., 1., 8., 1.]])\n",
            "mean_row_tensor10 :  tensor([3.5000, 6.5000, 4.5000])\n"
          ]
        }
      ],
      "source": [
        "torch.manual_seed(7)\n",
        "tensor10 = torch.randint(10, (3, 4))\n",
        "tensor10 = tensor10.float()\n",
        "mean_row_tensor10 = torch.mean(tensor10, 1)\n",
        "\n",
        "print(\"tensor10 : \", tensor10)\n",
        "\n",
        "print(\"mean_row_tensor10 : \", mean_row_tensor10)\n"
      ]
    }
  ],
  "metadata": {
    "kernelspec": {
      "display_name": ".venv",
      "language": "python",
      "name": "python3"
    },
    "language_info": {
      "codemirror_mode": {
        "name": "ipython",
        "version": 3
      },
      "file_extension": ".py",
      "mimetype": "text/x-python",
      "name": "python",
      "nbconvert_exporter": "python",
      "pygments_lexer": "ipython3",
      "version": "3.10.12"
    },
    "colab": {
      "provenance": []
    }
  },
  "nbformat": 4,
  "nbformat_minor": 0
}