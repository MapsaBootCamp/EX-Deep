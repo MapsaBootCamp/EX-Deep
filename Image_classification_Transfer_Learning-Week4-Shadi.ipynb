{
  "cells": [
    {
      "cell_type": "markdown",
      "id": "20a2316e",
      "metadata": {
        "id": "20a2316e"
      },
      "source": [
        "## Import all dependencies"
      ]
    },
    {
      "cell_type": "code",
      "execution_count": 1,
      "id": "bb4cc996-c721-46a2-8530-333b2d9fb386",
      "metadata": {
        "id": "bb4cc996-c721-46a2-8530-333b2d9fb386"
      },
      "outputs": [],
      "source": [
        "import torch\n",
        "import torch.nn as nn\n",
        "import torchvision\n",
        "import torchvision.transforms as transforms\n",
        "import torchvision.transforms as ToTensor\n",
        "import torchvision.transforms as Lambda\n",
        "import torchvision.datasets as ImageFolder\n",
        "import torch.utils.data as DataLoader\n",
        "import torch.utils.data as Dataset\n",
        "import torch.optim as optim\n",
        "from torchvision import models\n",
        "import numpy as np\n",
        "import matplotlib.pyplot as plt\n",
        "import os\n",
        "import random\n",
        "from tqdm import tqdm\n",
        "from torchsummary import summary\n",
        "from PIL import Image"
      ]
    },
    {
      "cell_type": "markdown",
      "id": "r9DMV7X1Ik4X",
      "metadata": {
        "id": "r9DMV7X1Ik4X"
      },
      "source": []
    },
    {
      "cell_type": "markdown",
      "id": "ZPvCtEPCwUwK",
      "metadata": {
        "id": "ZPvCtEPCwUwK"
      },
      "source": [
        "## Clear Cache"
      ]
    },
    {
      "cell_type": "code",
      "execution_count": null,
      "id": "5-N2_vucwXOf",
      "metadata": {
        "id": "5-N2_vucwXOf"
      },
      "outputs": [],
      "source": [
        "torch.cuda.empty_cache()"
      ]
    },
    {
      "cell_type": "markdown",
      "id": "1lUqn9CNIkR8",
      "metadata": {
        "id": "1lUqn9CNIkR8"
      },
      "source": [
        "## Fetch Stanford dog images"
      ]
    },
    {
      "cell_type": "code",
      "execution_count": 2,
      "id": "2c2b78a3",
      "metadata": {
        "colab": {
          "base_uri": "https://localhost:8080/"
        },
        "id": "2c2b78a3",
        "outputId": "c42d75b0-38f5-47da-ec95-1f09034e658a"
      },
      "outputs": [
        {
          "name": "stdout",
          "output_type": "stream",
          "text": [
            "--2024-02-17 12:46:55--  http://vision.stanford.edu/aditya86/ImageNetDogs/images.tar\n",
            "Resolving vision.stanford.edu (vision.stanford.edu)... 171.64.68.10\n",
            "Connecting to vision.stanford.edu (vision.stanford.edu)|171.64.68.10|:80... connected.\n",
            "HTTP request sent, awaiting response... 200 OK\n",
            "Length: 793579520 (757M) [application/x-tar]\n",
            "Saving to: ‘images.tar’\n",
            "\n",
            "images.tar          100%[===================>] 756.82M  17.2MB/s    in 58s     \n",
            "\n",
            "2024-02-17 12:47:53 (13.1 MB/s) - ‘images.tar’ saved [793579520/793579520]\n",
            "\n"
          ]
        }
      ],
      "source": [
        "!wget http://vision.stanford.edu/aditya86/ImageNetDogs/images.tar"
      ]
    },
    {
      "cell_type": "markdown",
      "id": "d06eacd8",
      "metadata": {},
      "source": [
        "## Extract images folder"
      ]
    },
    {
      "cell_type": "code",
      "execution_count": 3,
      "id": "c8c556a5",
      "metadata": {
        "colab": {
          "base_uri": "https://localhost:8080/"
        },
        "id": "c8c556a5",
        "outputId": "42bb5b15-72c7-4edf-cfb4-648e3c505590"
      },
      "outputs": [
        {
          "name": "stdout",
          "output_type": "stream",
          "text": [
            "rm: cannot remove 'dataset': No such file or directory\n",
            "['n02088466-bloodhound', 'n02108551-Tibetan_mastiff', 'n02096294-Australian_terrier', 'n02110627-affenpinscher', 'n02096051-Airedale'] ...\n",
            "--2024-02-17 12:48:10--  https://raw.githubusercontent.com/HoldenCaulfieldRye/caffe/master/data/ilsvrc12/synset_words.txt\n",
            "Resolving raw.githubusercontent.com (raw.githubusercontent.com)... 185.199.110.133, 185.199.108.133, 185.199.111.133, ...\n",
            "Connecting to raw.githubusercontent.com (raw.githubusercontent.com)|185.199.110.133|:443... connected.\n",
            "HTTP request sent, awaiting response... 200 OK\n",
            "Length: 31675 (31K) [text/plain]\n",
            "Saving to: ‘synset_words.txt’\n",
            "\n",
            "synset_words.txt    100%[===================>]  30.93K  --.-KB/s    in 0s      \n",
            "\n",
            "2024-02-17 12:48:11 (117 MB/s) - ‘synset_words.txt’ saved [31675/31675]\n",
            "\n"
          ]
        }
      ],
      "source": [
        "!rm -r dataset\n",
        "!mkdir dataset\n",
        "!tar -xf images.tar -C ./dataset\n",
        "!mv ./dataset/Images ./dataset/dogs\n",
        "dog_list = os.listdir('dataset/dogs')\n",
        "print(dog_list[:5],'...')\n",
        "!wget https://raw.githubusercontent.com/HoldenCaulfieldRye/caffe/master/data/ilsvrc12/synset_words.txt"
      ]
    },
    {
      "cell_type": "markdown",
      "id": "01f02b9c",
      "metadata": {
        "id": "01f02b9c"
      },
      "source": [
        "## Setting"
      ]
    },
    {
      "cell_type": "code",
      "execution_count": 4,
      "id": "083f0fed",
      "metadata": {
        "id": "083f0fed"
      },
      "outputs": [],
      "source": [
        "# Directory path \n",
        "image_dir = \"./dataset/dogs/\"\n",
        "\n",
        "# Device\n",
        "device = torch.device(\"cuda\" if torch.cuda.is_available() else \"cpu\") # use gpu or cpu\n",
        "\n",
        "# Hyperparameters (Set some contants...)\n",
        "RANDOM_SEED = 0\n",
        "LEARNING_RATE = 0.001\n",
        "NUM_EPOCHS = 40\n",
        "NUM_EPOCHS_ft = 25\n",
        "BATCH_SIZE = 64\n",
        "IMAGE_SIZE = (224, 224)\n",
        "\n",
        "# Set random seeds for reproducibility\n",
        "torch.manual_seed(RANDOM_SEED)\n",
        "\n",
        "# Fixed Parameters\n",
        "N_CHANNELS = 3\n",
        "NUMBER_CLASSES = 120"
      ]
    },
    {
      "cell_type": "markdown",
      "id": "2a81d73a",
      "metadata": {
        "id": "2a81d73a"
      },
      "source": [
        "## Creating Custom Dataset\n",
        "Note: Passing the modification on the datasets"
      ]
    },
    {
      "cell_type": "code",
      "execution_count": 5,
      "id": "a875cdfb",
      "metadata": {
        "id": "a875cdfb"
      },
      "outputs": [],
      "source": [
        "class CustomDataset(torch.utils.data.Dataset):\n",
        "    def __init__(self, file_path, image_transform = None, label_transform = None, train: bool = True):\n",
        "        self.image_transform = image_transform\n",
        "        self.label_transform = label_transform\n",
        "        self.train = train\n",
        "        self.images, self.labels = self.creatdataset(file_path)\n",
        "        # self.class_names = {}\n",
        "\n",
        "    def creatdataset(self, file_path):\n",
        "        list_images = []\n",
        "        list_labels = []\n",
        "        num_sample_train = 12000\n",
        "        for index, subfolder in enumerate(os.listdir(image_dir)):\n",
        "            dogname = subfolder[subfolder.index('-') + 1:]\n",
        "            ID = subfolder.split('-')[0]\n",
        "            # self.class_names[index] = dogname\n",
        "            for image in os.listdir(os.path.join(file_path, subfolder)):\n",
        "                if ((Image.open(os.path.join(file_path, subfolder, image)).getbands() == (\"R\", \"G\", \"B\")) and (image.endswith('.jpg'))):\n",
        "                   list_images.append((os.path.join(file_path, subfolder, image)))\n",
        "                   list_labels.append(index)\n",
        "\n",
        "        random.seed(0)\n",
        "        indexes_train = random.sample(range(len(list_images)), num_sample_train)\n",
        "\n",
        "        if self.train:\n",
        "           list_images = [list_images[i] for i in indexes_train]\n",
        "           list_labels = [list_labels[i] for i in indexes_train]\n",
        "        else:\n",
        "            list_images = [list_images[i] for i in range(len(list_images)) if i not in indexes_train]\n",
        "            list_labels = [list_labels[i] for i in range(len(list_labels)) if i not in indexes_train]\n",
        "\n",
        "        return list_images, list_labels\n",
        "\n",
        "\n",
        "    def __len__(self):\n",
        "        return len(self.images)\n",
        "\n",
        "\n",
        "    def __getitem__(self, index):\n",
        "        image = Image.open(self.images[index])\n",
        "        label = self.labels[index]\n",
        "\n",
        "        if self.image_transform:\n",
        "            image = self.image_transform(image)\n",
        "        if self.label_transform:\n",
        "            label = self.label_transform(label)\n",
        "        return image, label"
      ]
    },
    {
      "cell_type": "markdown",
      "id": "0b650c64",
      "metadata": {
        "id": "0b650c64"
      },
      "source": [
        "## Calculate mean and std values of train dataset"
      ]
    },
    {
      "cell_type": "code",
      "execution_count": 6,
      "id": "03226dc3",
      "metadata": {
        "id": "03226dc3"
      },
      "outputs": [],
      "source": [
        "transform = transforms.Compose([transforms.Resize(IMAGE_SIZE), transforms.ToTensor()])\n",
        "train_ds = CustomDataset(image_dir, image_transform = transform, label_transform = None, train=True)\n",
        "train_ldr = torch.utils.data.DataLoader(dataset = train_ds, batch_size = BATCH_SIZE, shuffle = True)"
      ]
    },
    {
      "cell_type": "code",
      "execution_count": 7,
      "id": "414d8158",
      "metadata": {
        "colab": {
          "base_uri": "https://localhost:8080/"
        },
        "id": "414d8158",
        "outputId": "5fd03df6-4621-42f6-978f-23328f921133"
      },
      "outputs": [
        {
          "name": "stdout",
          "output_type": "stream",
          "text": [
            "mean:  tensor([0.4771, 0.4527, 0.3924]) \n",
            " std:  tensor([0.2577, 0.2523, 0.2570])\n"
          ]
        }
      ],
      "source": [
        "mean = torch.zeros(3)\n",
        "std = torch.zeros(3)\n",
        "\n",
        "for inputs, _labels in train_ldr:\n",
        "    for i in range(N_CHANNELS):\n",
        "        mean[i] += inputs[:, i, :, :].mean()\n",
        "        std[i] += inputs[:, i, :, :].std()\n",
        "mean.div_(len(train_ldr))\n",
        "std.div_(len(train_ldr))\n",
        "\n",
        "print('mean: ', mean, '\\n', 'std: ', std)"
      ]
    },
    {
      "cell_type": "markdown",
      "id": "bb830b43",
      "metadata": {
        "id": "bb830b43"
      },
      "source": [
        "## Passing the transforms to the train and test datasets\n",
        "Note: Data augmentation and normalization for training dataset and just normalization for test dataset"
      ]
    },
    {
      "cell_type": "code",
      "execution_count": 8,
      "id": "e446e533",
      "metadata": {
        "id": "e446e533"
      },
      "outputs": [],
      "source": [
        "train_transform = transforms.Compose([transforms.Resize(IMAGE_SIZE),\n",
        "                                      transforms.ToTensor(),\n",
        "                                      transforms.RandomRotation(degrees=15),\n",
        "                                      transforms.RandomHorizontalFlip(p=0.5),\n",
        "                                      transforms.RandomVerticalFlip(p=0.005),\n",
        "                                      transforms.Normalize(mean.tolist(), std.tolist())]) # train transform\n",
        "\n",
        "test_transform = transforms.Compose([\n",
        "    transforms.Resize((180, 180)), transforms.ToTensor(), transforms.Normalize(mean.tolist(), std.tolist())]) # test transform\n",
        "\n",
        "label_transform = transforms.Lambda(lambda label: torch.zeros(NUMBER_CLASSES, dtype=torch.float).scatter_(0, torch.tensor(label), value=1)) # label transform\n",
        "\n",
        "train_dataset = CustomDataset(image_dir, train_transform, label_transform, train=True)\n",
        "\n",
        "test_dataset = CustomDataset(image_dir, test_transform, label_transform, train=False)"
      ]
    },
    {
      "cell_type": "markdown",
      "id": "ab982762",
      "metadata": {
        "id": "ab982762"
      },
      "source": [
        "## Dataloaders\n",
        "Note: Combines a dataset and a sampler, and provides an iterable over the given dataset."
      ]
    },
    {
      "cell_type": "code",
      "execution_count": 9,
      "id": "bfb05881",
      "metadata": {
        "id": "bfb05881"
      },
      "outputs": [],
      "source": [
        "train_loader = torch.utils.data.DataLoader(dataset = train_dataset, batch_size = BATCH_SIZE, shuffle = True)\n",
        "test_loader = torch.utils.data.DataLoader(dataset = test_dataset, batch_size = BATCH_SIZE, shuffle = False)"
      ]
    },
    {
      "cell_type": "markdown",
      "id": "db13be57",
      "metadata": {
        "id": "db13be57"
      },
      "source": [
        "## Training a model from scratch\n",
        "### Creating an instance model"
      ]
    },
    {
      "cell_type": "code",
      "execution_count": null,
      "id": "12b612b9",
      "metadata": {
        "id": "12b612b9"
      },
      "outputs": [],
      "source": [
        "scratch_model = models.efficientnet_b0().to(device)\n",
        "scratch_model.classifier[1] = nn.Linear(in_features=1280, out_features=NUMBER_CLASSES, bias=True)\n",
        "scratch_model.to(device)"
      ]
    },
    {
      "cell_type": "markdown",
      "id": "64747e0b",
      "metadata": {
        "id": "64747e0b"
      },
      "source": [
        "## Setting the loss function and optimizer"
      ]
    },
    {
      "cell_type": "code",
      "execution_count": null,
      "id": "81449c11",
      "metadata": {
        "id": "81449c11"
      },
      "outputs": [],
      "source": [
        "optimizer = optim.Adam(params = scratch_model.parameters(), lr = LEARNING_RATE)\n",
        "criterion = nn.CrossEntropyLoss()"
      ]
    },
    {
      "cell_type": "markdown",
      "id": "f7cb136d",
      "metadata": {
        "id": "f7cb136d"
      },
      "source": [
        "## Visualizing the model\n",
        "Note: Torchview provides visualization of models in the form of visual graphs."
      ]
    },
    {
      "cell_type": "code",
      "execution_count": null,
      "id": "c4270db7",
      "metadata": {
        "id": "c4270db7"
      },
      "outputs": [],
      "source": [
        "summary(scratch_model, (3, 224, 224))"
      ]
    },
    {
      "cell_type": "markdown",
      "id": "063c3dd0",
      "metadata": {
        "id": "063c3dd0"
      },
      "source": [
        "## Training loop"
      ]
    },
    {
      "cell_type": "code",
      "execution_count": null,
      "id": "6c17ee1b",
      "metadata": {
        "colab": {
          "base_uri": "https://localhost:8080/"
        },
        "id": "6c17ee1b",
        "outputId": "ffdd9a63-0c61-4b8b-9c31-4a7872364dc6"
      },
      "outputs": [
        {
          "name": "stderr",
          "output_type": "stream",
          "text": [
            "100%|██████████| 188/188 [02:30<00:00,  1.25it/s]\n"
          ]
        },
        {
          "name": "stdout",
          "output_type": "stream",
          "text": [
            "Epoch 1: , train accuracy: 0.020445477217435837, train loss: 4.676330995052419, test_accuracy: 0.027314813807606697, test_loss: 4.60819641219245\n"
          ]
        },
        {
          "name": "stderr",
          "output_type": "stream",
          "text": [
            "100%|██████████| 188/188 [02:26<00:00,  1.29it/s]\n"
          ]
        },
        {
          "name": "stdout",
          "output_type": "stream",
          "text": [
            "Epoch 2: , train accuracy: 0.03565491735935211, train loss: 4.483422560894743, test_accuracy: 0.03850308433175087, test_loss: 4.551655682811031\n"
          ]
        },
        {
          "name": "stderr",
          "output_type": "stream",
          "text": [
            "100%|██████████| 188/188 [02:27<00:00,  1.28it/s]\n"
          ]
        },
        {
          "name": "stdout",
          "output_type": "stream",
          "text": [
            "Epoch 3: , train accuracy: 0.04554521292448044, train loss: 4.342282006081114, test_accuracy: 0.03865740820765495, test_loss: 4.392409999282272\n"
          ]
        },
        {
          "name": "stderr",
          "output_type": "stream",
          "text": [
            "100%|██████████| 188/188 [02:28<00:00,  1.26it/s]\n"
          ]
        },
        {
          "name": "stdout",
          "output_type": "stream",
          "text": [
            "Epoch 4: , train accuracy: 0.055435504764318466, train loss: 4.221462760833984, test_accuracy: 0.05393518507480621, test_loss: 4.331125840434321\n"
          ]
        },
        {
          "name": "stderr",
          "output_type": "stream",
          "text": [
            "100%|██████████| 188/188 [02:28<00:00,  1.27it/s]\n"
          ]
        },
        {
          "name": "stdout",
          "output_type": "stream",
          "text": [
            "Epoch 5: , train accuracy: 0.06407912075519562, train loss: 4.124513965971927, test_accuracy: 0.0607638880610466, test_loss: 4.182122843353836\n"
          ]
        },
        {
          "name": "stderr",
          "output_type": "stream",
          "text": [
            "100%|██████████| 188/188 [02:26<00:00,  1.28it/s]\n"
          ]
        },
        {
          "name": "stdout",
          "output_type": "stream",
          "text": [
            "Epoch 6: , train accuracy: 0.0770445466041565, train loss: 4.036007500709371, test_accuracy: 0.06643518060445786, test_loss: 4.186131083523786\n"
          ]
        },
        {
          "name": "stderr",
          "output_type": "stream",
          "text": [
            "100%|██████████| 188/188 [02:26<00:00,  1.28it/s]\n"
          ]
        },
        {
          "name": "stdout",
          "output_type": "stream",
          "text": [
            "Epoch 7: , train accuracy: 0.08518949151039124, train loss: 3.937644014967249, test_accuracy: 0.07407407462596893, test_loss: 4.106581304691456\n"
          ]
        },
        {
          "name": "stderr",
          "output_type": "stream",
          "text": [
            "100%|██████████| 188/188 [02:27<00:00,  1.27it/s]\n"
          ]
        },
        {
          "name": "stdout",
          "output_type": "stream",
          "text": [
            "Epoch 8: , train accuracy: 0.09782247245311737, train loss: 3.8578523131127054, test_accuracy: 0.08252314478158951, test_loss: 4.031946717368232\n"
          ]
        },
        {
          "name": "stderr",
          "output_type": "stream",
          "text": [
            "100%|██████████| 188/188 [02:26<00:00,  1.28it/s]\n"
          ]
        },
        {
          "name": "stdout",
          "output_type": "stream",
          "text": [
            "Epoch 9: , train accuracy: 0.10970744490623474, train loss: 3.754171991601903, test_accuracy: 0.09413579851388931, test_loss: 3.9914274674874766\n"
          ]
        },
        {
          "name": "stderr",
          "output_type": "stream",
          "text": [
            "100%|██████████| 188/188 [02:26<00:00,  1.28it/s]\n"
          ]
        },
        {
          "name": "stdout",
          "output_type": "stream",
          "text": [
            "Epoch 10: , train accuracy: 0.11785238981246948, train loss: 3.6815630501889167, test_accuracy: 0.09849537163972855, test_loss: 3.9528702841864694\n"
          ]
        },
        {
          "name": "stderr",
          "output_type": "stream",
          "text": [
            "100%|██████████| 188/188 [02:26<00:00,  1.28it/s]\n"
          ]
        },
        {
          "name": "stdout",
          "output_type": "stream",
          "text": [
            "Epoch 11: , train accuracy: 0.14212100207805634, train loss: 3.574030617450146, test_accuracy: 0.10231481492519379, test_loss: 4.083277829488119\n"
          ]
        },
        {
          "name": "stderr",
          "output_type": "stream",
          "text": [
            "100%|██████████| 188/188 [02:26<00:00,  1.28it/s]\n"
          ]
        },
        {
          "name": "stdout",
          "output_type": "stream",
          "text": [
            "Epoch 12: , train accuracy: 0.1485206037759781, train loss: 3.497931108829823, test_accuracy: 0.10902777314186096, test_loss: 3.8685682596983733\n"
          ]
        },
        {
          "name": "stderr",
          "output_type": "stream",
          "text": [
            "100%|██████████| 188/188 [02:27<00:00,  1.28it/s]\n"
          ]
        },
        {
          "name": "stdout",
          "output_type": "stream",
          "text": [
            "Epoch 13: , train accuracy: 0.16730384528636932, train loss: 3.404408374999432, test_accuracy: 0.11747685074806213, test_loss: 3.85490100118849\n"
          ]
        },
        {
          "name": "stderr",
          "output_type": "stream",
          "text": [
            "100%|██████████| 188/188 [02:27<00:00,  1.28it/s]\n"
          ]
        },
        {
          "name": "stdout",
          "output_type": "stream",
          "text": [
            "Epoch 14: , train accuracy: 0.17943815886974335, train loss: 3.3131265335894646, test_accuracy: 0.12017747014760971, test_loss: 3.860083564122518\n"
          ]
        },
        {
          "name": "stderr",
          "output_type": "stream",
          "text": [
            "100%|██████████| 188/188 [02:26<00:00,  1.28it/s]\n"
          ]
        },
        {
          "name": "stdout",
          "output_type": "stream",
          "text": [
            "Epoch 15: , train accuracy: 0.1914893537759781, train loss: 3.2553071988389846, test_accuracy: 0.12040895223617554, test_loss: 3.893286359751666\n"
          ]
        },
        {
          "name": "stderr",
          "output_type": "stream",
          "text": [
            "100%|██████████| 188/188 [02:26<00:00,  1.28it/s]\n"
          ]
        },
        {
          "name": "stdout",
          "output_type": "stream",
          "text": [
            "Epoch 16: , train accuracy: 0.2081116884946823, train loss: 3.1552004180055984, test_accuracy: 0.14205247163772583, test_loss: 3.79031023979187\n"
          ]
        },
        {
          "name": "stderr",
          "output_type": "stream",
          "text": [
            "100%|██████████| 188/188 [02:27<00:00,  1.28it/s]\n"
          ]
        },
        {
          "name": "stdout",
          "output_type": "stream",
          "text": [
            "Epoch 17: , train accuracy: 0.22082778811454773, train loss: 3.071714134926492, test_accuracy: 0.14513888955116272, test_loss: 3.7479862689971926\n"
          ]
        },
        {
          "name": "stderr",
          "output_type": "stream",
          "text": [
            "100%|██████████| 188/188 [02:25<00:00,  1.29it/s]\n"
          ]
        },
        {
          "name": "stdout",
          "output_type": "stream",
          "text": [
            "Epoch 18: , train accuracy: 0.24459773302078247, train loss: 2.980824662015793, test_accuracy: 0.1391589492559433, test_loss: 3.904863871468438\n"
          ]
        },
        {
          "name": "stderr",
          "output_type": "stream",
          "text": [
            "100%|██████████| 188/188 [02:25<00:00,  1.29it/s]\n"
          ]
        },
        {
          "name": "stdout",
          "output_type": "stream",
          "text": [
            "Epoch 19: , train accuracy: 0.24958443641662598, train loss: 2.925377017640053, test_accuracy: 0.14976851642131805, test_loss: 3.7849603246759487\n"
          ]
        },
        {
          "name": "stderr",
          "output_type": "stream",
          "text": [
            "100%|██████████| 188/188 [02:28<00:00,  1.27it/s]\n"
          ]
        },
        {
          "name": "stdout",
          "output_type": "stream",
          "text": [
            "Epoch 20: , train accuracy: 0.2657912075519562, train loss: 2.8627854585647583, test_accuracy: 0.15443673729896545, test_loss: 3.7887326779188935\n"
          ]
        },
        {
          "name": "stderr",
          "output_type": "stream",
          "text": [
            "100%|██████████| 188/188 [02:27<00:00,  1.27it/s]\n"
          ]
        },
        {
          "name": "stdout",
          "output_type": "stream",
          "text": [
            "Epoch 21: , train accuracy: 0.2813330888748169, train loss: 2.7612969837290176, test_accuracy: 0.16469907760620117, test_loss: 3.71562759258129\n"
          ]
        },
        {
          "name": "stderr",
          "output_type": "stream",
          "text": [
            "100%|██████████| 188/188 [02:27<00:00,  1.27it/s]\n"
          ]
        },
        {
          "name": "stdout",
          "output_type": "stream",
          "text": [
            "Epoch 22: , train accuracy: 0.3012799024581909, train loss: 2.6848046995223838, test_accuracy: 0.1449074000120163, test_loss: 4.061288084807219\n"
          ]
        },
        {
          "name": "stderr",
          "output_type": "stream",
          "text": [
            "100%|██████████| 188/188 [02:27<00:00,  1.27it/s]\n"
          ]
        },
        {
          "name": "stdout",
          "output_type": "stream",
          "text": [
            "Epoch 23: , train accuracy: 0.30992352962493896, train loss: 2.616419180910638, test_accuracy: 0.16631944477558136, test_loss: 3.7604524577105485\n"
          ]
        },
        {
          "name": "stderr",
          "output_type": "stream",
          "text": [
            "100%|██████████| 188/188 [02:26<00:00,  1.28it/s]\n"
          ]
        },
        {
          "name": "stdout",
          "output_type": "stream",
          "text": [
            "Epoch 24: , train accuracy: 0.33020278811454773, train loss: 2.51286218901898, test_accuracy: 0.16994598507881165, test_loss: 3.838924049448084\n"
          ]
        },
        {
          "name": "stderr",
          "output_type": "stream",
          "text": [
            "100%|██████████| 188/188 [02:27<00:00,  1.27it/s]\n"
          ]
        },
        {
          "name": "stdout",
          "output_type": "stream",
          "text": [
            "Epoch 25: , train accuracy: 0.3448304533958435, train loss: 2.4483446034979313, test_accuracy: 0.1768132597208023, test_loss: 3.840568360575923\n"
          ]
        },
        {
          "name": "stderr",
          "output_type": "stream",
          "text": [
            "100%|██████████| 188/188 [02:26<00:00,  1.28it/s]\n"
          ]
        },
        {
          "name": "stdout",
          "output_type": "stream",
          "text": [
            "Epoch 26: , train accuracy: 0.361535906791687, train loss: 2.383315068610171, test_accuracy: 0.15694443881511688, test_loss: 4.104650259017944\n"
          ]
        },
        {
          "name": "stderr",
          "output_type": "stream",
          "text": [
            "100%|██████████| 188/188 [02:26<00:00,  1.28it/s]\n"
          ]
        },
        {
          "name": "stdout",
          "output_type": "stream",
          "text": [
            "Epoch 27: , train accuracy: 0.38638630509376526, train loss: 2.2596043754131236, test_accuracy: 0.1670524775981903, test_loss: 4.153916373076262\n"
          ]
        },
        {
          "name": "stderr",
          "output_type": "stream",
          "text": [
            "100%|██████████| 188/188 [02:27<00:00,  1.27it/s]\n"
          ]
        },
        {
          "name": "stdout",
          "output_type": "stream",
          "text": [
            "Epoch 28: , train accuracy: 0.4109042286872864, train loss: 2.152829794173545, test_accuracy: 0.16207562386989594, test_loss: 4.175968344123275\n"
          ]
        },
        {
          "name": "stderr",
          "output_type": "stream",
          "text": [
            "100%|██████████| 188/188 [02:27<00:00,  1.27it/s]\n"
          ]
        },
        {
          "name": "stdout",
          "output_type": "stream",
          "text": [
            "Epoch 29: , train accuracy: 0.4213763177394867, train loss: 2.0913283203510526, test_accuracy: 0.1886959820985794, test_loss: 3.9585278166664972\n"
          ]
        },
        {
          "name": "stderr",
          "output_type": "stream",
          "text": [
            "100%|██████████| 188/188 [02:26<00:00,  1.29it/s]\n"
          ]
        },
        {
          "name": "stdout",
          "output_type": "stream",
          "text": [
            "Epoch 30: , train accuracy: 0.4460604786872864, train loss: 2.0322880859070636, test_accuracy: 0.1657407432794571, test_loss: 4.032289545624344\n"
          ]
        },
        {
          "name": "stderr",
          "output_type": "stream",
          "text": [
            "100%|██████████| 188/188 [02:26<00:00,  1.29it/s]\n"
          ]
        },
        {
          "name": "stdout",
          "output_type": "stream",
          "text": [
            "Epoch 31: , train accuracy: 0.4642619490623474, train loss: 1.8999776986051113, test_accuracy: 0.17376543581485748, test_loss: 4.181005250083076\n"
          ]
        },
        {
          "name": "stderr",
          "output_type": "stream",
          "text": [
            "100%|██████████| 188/188 [02:25<00:00,  1.29it/s]\n"
          ]
        },
        {
          "name": "stdout",
          "output_type": "stream",
          "text": [
            "Epoch 32: , train accuracy: 0.48961102962493896, train loss: 1.8240613239876768, test_accuracy: 0.18047839403152466, test_loss: 4.242429526646932\n"
          ]
        },
        {
          "name": "stderr",
          "output_type": "stream",
          "text": [
            "100%|██████████| 188/188 [02:25<00:00,  1.29it/s]\n"
          ]
        },
        {
          "name": "stdout",
          "output_type": "stream",
          "text": [
            "Epoch 33: , train accuracy: 0.5009973049163818, train loss: 1.7456599397862211, test_accuracy: 0.18919752538204193, test_loss: 4.2617226017846\n"
          ]
        },
        {
          "name": "stderr",
          "output_type": "stream",
          "text": [
            "100%|██████████| 188/188 [02:30<00:00,  1.25it/s]\n"
          ]
        },
        {
          "name": "stdout",
          "output_type": "stream",
          "text": [
            "Epoch 34: , train accuracy: 0.5231881737709045, train loss: 1.6683876711003325, test_accuracy: 0.16057099401950836, test_loss: 4.550372248225742\n"
          ]
        },
        {
          "name": "stderr",
          "output_type": "stream",
          "text": [
            "100%|██████████| 188/188 [02:28<00:00,  1.27it/s]\n"
          ]
        },
        {
          "name": "stdout",
          "output_type": "stream",
          "text": [
            "Epoch 35: , train accuracy: 0.556432843208313, train loss: 1.5640098439886214, test_accuracy: 0.19239969551563263, test_loss: 4.741019467954282\n"
          ]
        },
        {
          "name": "stderr",
          "output_type": "stream",
          "text": [
            "100%|██████████| 188/188 [02:29<00:00,  1.26it/s]\n"
          ]
        },
        {
          "name": "stdout",
          "output_type": "stream",
          "text": [
            "Epoch 36: , train accuracy: 0.5704786777496338, train loss: 1.4573641755479447, test_accuracy: 0.18850307166576385, test_loss: 4.596595916041622\n"
          ]
        },
        {
          "name": "stderr",
          "output_type": "stream",
          "text": [
            "100%|██████████| 188/188 [02:25<00:00,  1.30it/s]\n"
          ]
        },
        {
          "name": "stdout",
          "output_type": "stream",
          "text": [
            "Epoch 37: , train accuracy: 0.5909242033958435, train loss: 1.3904202209508165, test_accuracy: 0.18757715821266174, test_loss: 4.493434791211729\n"
          ]
        },
        {
          "name": "stderr",
          "output_type": "stream",
          "text": [
            "100%|██████████| 188/188 [02:26<00:00,  1.29it/s]\n"
          ]
        },
        {
          "name": "stdout",
          "output_type": "stream",
          "text": [
            "Epoch 38: , train accuracy: 0.6131981015205383, train loss: 1.3080911347840696, test_accuracy: 0.19020061194896698, test_loss: 4.680890378245601\n"
          ]
        },
        {
          "name": "stderr",
          "output_type": "stream",
          "text": [
            "100%|██████████| 188/188 [02:25<00:00,  1.30it/s]\n"
          ]
        },
        {
          "name": "stdout",
          "output_type": "stream",
          "text": [
            "Epoch 39: , train accuracy: 0.6343085169792175, train loss: 1.2306334163914336, test_accuracy: 0.18541666865348816, test_loss: 4.642702896506698\n"
          ]
        },
        {
          "name": "stderr",
          "output_type": "stream",
          "text": [
            "100%|██████████| 188/188 [02:25<00:00,  1.29it/s]\n"
          ]
        },
        {
          "name": "stdout",
          "output_type": "stream",
          "text": [
            "Epoch 40: , train accuracy: 0.6569979786872864, train loss: 1.1452549195035975, test_accuracy: 0.18649691343307495, test_loss: 5.041277756514373\n"
          ]
        }
      ],
      "source": [
        "# Training loop\n",
        "train_loss_list = []\n",
        "test_loss_list = []\n",
        "train_acc_list = []\n",
        "test_acc_list = []\n",
        "\n",
        "scratch_model.train()\n",
        "for epoch in range(NUM_EPOCHS):\n",
        "    losses = 0\n",
        "    epoch_loss = 0.0\n",
        "    epoch_accuracy = 0.0\n",
        "\n",
        "    for images, labels in tqdm(train_loader):\n",
        "        # push images and labels to device to get CPU support\n",
        "        images = images.to(device)\n",
        "        labels = labels.to(device)\n",
        "        predic_labels = scratch_model(images).to(device)\n",
        "        # Zero the gradients\n",
        "        optimizer.zero_grad()\n",
        "        # Forward pass\n",
        "        loss = criterion(predic_labels, labels)\n",
        "        # Backward pass and optimization\n",
        "        loss.backward()\n",
        "        optimizer.step()\n",
        "        losses += loss.item()\n",
        "\n",
        "        epoch_accuracy += ((predic_labels.argmax(dim=1) == labels.argmax(dim=1)).float().mean())\n",
        "    epoch_loss = losses / len(train_loader)\n",
        "\n",
        "    # Test the model\n",
        "    scratch_model.eval()\n",
        "    with torch.no_grad():\n",
        "      test_losses = 0\n",
        "      epoch_test_accuracy = 0.0\n",
        "      epoch_test_loss = 0.0\n",
        "\n",
        "      for data,label in test_loader:\n",
        "        data = data.to(device)\n",
        "        label = label.to(device)\n",
        "        predic_testlabel = scratch_model(data).to(device)\n",
        "        test_loss = criterion(predic_testlabel, label)\n",
        "        test_losses += test_loss.item()\n",
        "\n",
        "        epoch_test_accuracy += ((predic_testlabel.argmax(dim=1) == label.argmax(dim=1)).float().mean())\n",
        "    epoch_test_loss += test_losses/len(test_loader)\n",
        "    ## loss data for Plot\n",
        "    train_loss_list.append(epoch_loss)\n",
        "    test_loss_list.append(epoch_test_loss)\n",
        "    train_acc_list.append(epoch_accuracy)\n",
        "    test_acc_list.append(epoch_test_accuracy)\n",
        "\n",
        "    print('Epoch {}: , train accuracy: {}, train loss: {}, test_accuracy: {}, test_loss: {}'.format(epoch+1, epoch_accuracy / len(train_loader), epoch_loss, epoch_test_accuracy / len(test_loader), epoch_test_loss))\n"
      ]
    },
    {
      "cell_type": "markdown",
      "id": "GAhncrOyVmis",
      "metadata": {
        "id": "GAhncrOyVmis"
      },
      "source": [
        "## Plot Losses of train and test data"
      ]
    },
    {
      "cell_type": "code",
      "execution_count": null,
      "id": "0zvy-ooqVytb",
      "metadata": {
        "colab": {
          "base_uri": "https://localhost:8080/",
          "height": 487
        },
        "id": "0zvy-ooqVytb",
        "outputId": "6bb86630-1e9d-44b1-e21f-6a8064449347"
      },
      "outputs": [
        {
          "data": {
            "image/png": "[encoded data removed]",
            "text/plain": [
              "<Figure size 1000x500 with 1 Axes>"
            ]
          },
          "metadata": {},
          "output_type": "display_data"
        }
      ],
      "source": [
        "plt.figure(figsize=(10,5))\n",
        "plt.title(\"Training and test Loss\")\n",
        "plt.plot(test_loss_list, label=\"Test\")\n",
        "plt.plot(train_loss_list, label=\"Train\")\n",
        "plt.xlabel(\"Epoch\")\n",
        "plt.ylabel(\"Loss\")\n",
        "plt.legend()\n",
        "plt.show()"
      ]
    },
    {
      "cell_type": "markdown",
      "id": "Jj8DW_rEVCto",
      "metadata": {
        "id": "Jj8DW_rEVCto"
      },
      "source": [
        "## Transfer learning from pre-trained weights"
      ]
    },
    {
      "cell_type": "code",
      "execution_count": 10,
      "id": "dbJb8w-kAkD2",
      "metadata": {
        "colab": {
          "base_uri": "https://localhost:8080/"
        },
        "id": "dbJb8w-kAkD2",
        "outputId": "53dac5e4-c599-48a2-b069-64d28f04d05b"
      },
      "outputs": [
        {
          "name": "stdout",
          "output_type": "stream",
          "text": [
            "Collecting efficientnet_pytorch\n",
            "  Downloading efficientnet_pytorch-0.7.1.tar.gz (21 kB)\n",
            "  Preparing metadata (setup.py) ... \u001b[?25l\u001b[?25hdone\n",
            "Requirement already satisfied: torch in /usr/local/lib/python3.10/dist-packages (from efficientnet_pytorch) (2.1.0+cu121)\n",
            "Requirement already satisfied: filelock in /usr/local/lib/python3.10/dist-packages (from torch->efficientnet_pytorch) (3.13.1)\n",
            "Requirement already satisfied: typing-extensions in /usr/local/lib/python3.10/dist-packages (from torch->efficientnet_pytorch) (4.9.0)\n",
            "Requirement already satisfied: sympy in /usr/local/lib/python3.10/dist-packages (from torch->efficientnet_pytorch) (1.12)\n",
            "Requirement already satisfied: networkx in /usr/local/lib/python3.10/dist-packages (from torch->efficientnet_pytorch) (3.2.1)\n",
            "Requirement already satisfied: jinja2 in /usr/local/lib/python3.10/dist-packages (from torch->efficientnet_pytorch) (3.1.3)\n",
            "Requirement already satisfied: fsspec in /usr/local/lib/python3.10/dist-packages (from torch->efficientnet_pytorch) (2023.6.0)\n",
            "Requirement already satisfied: triton==2.1.0 in /usr/local/lib/python3.10/dist-packages (from torch->efficientnet_pytorch) (2.1.0)\n",
            "Requirement already satisfied: MarkupSafe>=2.0 in /usr/local/lib/python3.10/dist-packages (from jinja2->torch->efficientnet_pytorch) (2.1.5)\n",
            "Requirement already satisfied: mpmath>=0.19 in /usr/local/lib/python3.10/dist-packages (from sympy->torch->efficientnet_pytorch) (1.3.0)\n",
            "Building wheels for collected packages: efficientnet_pytorch\n",
            "  Building wheel for efficientnet_pytorch (setup.py) ... \u001b[?25l\u001b[?25hdone\n",
            "  Created wheel for efficientnet_pytorch: filename=efficientnet_pytorch-0.7.1-py3-none-any.whl size=16428 sha256=09acca417de1a2e278f7fd508292ce7870411b1c8706a5be54e5638ae93ff82c\n",
            "  Stored in directory: /root/.cache/pip/wheels/03/3f/e9/911b1bc46869644912bda90a56bcf7b960f20b5187feea3baf\n",
            "Successfully built efficientnet_pytorch\n",
            "Installing collected packages: efficientnet_pytorch\n",
            "Successfully installed efficientnet_pytorch-0.7.1\n"
          ]
        }
      ],
      "source": [
        "pip install efficientnet_pytorch"
      ]
    },
    {
      "cell_type": "markdown",
      "id": "0VLrs-k-USCl",
      "metadata": {
        "id": "0VLrs-k-USCl"
      },
      "source": [
        "## Import dependency for EfficientNet model"
      ]
    },
    {
      "cell_type": "code",
      "execution_count": 11,
      "id": "G45ctZIyAbqh",
      "metadata": {
        "id": "G45ctZIyAbqh"
      },
      "outputs": [],
      "source": [
        "from efficientnet_pytorch import EfficientNet"
      ]
    },
    {
      "cell_type": "markdown",
      "id": "PJbXDTCvhNqQ",
      "metadata": {
        "id": "PJbXDTCvhNqQ"
      },
      "source": [
        "## Declare model\n",
        "Note: The first step to transfer learning is to freeze all layers and later unfreeze the desired blocks (Only desired blocks will train)."
      ]
    },
    {
      "cell_type": "code",
      "execution_count": 12,
      "id": "JEWINRMNLUnv",
      "metadata": {
        "id": "JEWINRMNLUnv"
      },
      "outputs": [],
      "source": [
        "#using efficientnet model based transfer learning\n",
        "class Classifier(nn.Module):\n",
        "    def __init__(self):\n",
        "        super(Classifier, self).__init__()\n",
        "        self.efficientnet =  EfficientNet.from_pretrained('efficientnet-b0')\n",
        "        # freeze all layers\n",
        "        for p in self.efficientnet.parameters():\n",
        "          p.requires_grad = False\n",
        "        # Unfreeze last layer\n",
        "        for param in self.efficientnet._fc.parameters():\n",
        "          param.requires_grad = True\n",
        "        for param in self.efficientnet._dropout.parameters():\n",
        "          param.requires_grad = True\n",
        "\n",
        "        self.efficientnet._dropout = nn.Sequential(nn.BatchNorm1d(1280), nn.Dropout(p=0.2, inplace=True))\n",
        "        self.efficientnet._fc = nn.Linear(in_features=1280, out_features=120, bias=True)\n",
        "        self.efficientnet._swish = nn.Identity()\n",
        "    def forward(self, x):\n",
        "        x = self.efficientnet(x)\n",
        "        return x"
      ]
    },
    {
      "cell_type": "markdown",
      "id": "klGteAmfhIrC",
      "metadata": {
        "id": "klGteAmfhIrC"
      },
      "source": [
        "## Creating an instance model"
      ]
    },
    {
      "cell_type": "code",
      "execution_count": 13,
      "id": "jPBKAFLCOWz0",
      "metadata": {
        "colab": {
          "base_uri": "https://localhost:8080/"
        },
        "id": "jPBKAFLCOWz0",
        "outputId": "7bcd63c7-c943-42e3-8ddd-07d7a4791455"
      },
      "outputs": [
        {
          "name": "stderr",
          "output_type": "stream",
          "text": [
            "Downloading: \"https://github.com/lukemelas/EfficientNet-PyTorch/releases/download/1.0/efficientnet-b0-355c32eb.pth\" to /root/.cache/torch/hub/checkpoints/efficientnet-b0-355c32eb.pth\n",
            "100%|██████████| 20.4M/20.4M [00:00<00:00, 164MB/s]\n"
          ]
        },
        {
          "name": "stdout",
          "output_type": "stream",
          "text": [
            "Loaded pretrained weights for efficientnet-b0\n"
          ]
        }
      ],
      "source": [
        "efficientnet_model = Classifier().to(device)"
      ]
    },
    {
      "cell_type": "code",
      "execution_count": 14,
      "id": "MmiYRFQnOg82",
      "metadata": {
        "colab": {
          "base_uri": "https://localhost:8080/"
        },
        "id": "MmiYRFQnOg82",
        "outputId": "9fdf01c8-3d2f-4494-89e1-7ca8af70015a"
      },
      "outputs": [
        {
          "name": "stdout",
          "output_type": "stream",
          "text": [
            "Classifier(\n",
            "  (efficientnet): EfficientNet(\n",
            "    (_conv_stem): Conv2dStaticSamePadding(\n",
            "      3, 32, kernel_size=(3, 3), stride=(2, 2), bias=False\n",
            "      (static_padding): ZeroPad2d((0, 1, 0, 1))\n",
            "    )\n",
            "    (_bn0): BatchNorm2d(32, eps=0.001, momentum=0.010000000000000009, affine=True, track_running_stats=True)\n",
            "    (_blocks): ModuleList(\n",
            "      (0): MBConvBlock(\n",
            "        (_depthwise_conv): Conv2dStaticSamePadding(\n",
            "          32, 32, kernel_size=(3, 3), stride=[1, 1], groups=32, bias=False\n",
            "          (static_padding): ZeroPad2d((1, 1, 1, 1))\n",
            "        )\n",
            "        (_bn1): BatchNorm2d(32, eps=0.001, momentum=0.010000000000000009, affine=True, track_running_stats=True)\n",
            "        (_se_reduce): Conv2dStaticSamePadding(\n",
            "          32, 8, kernel_size=(1, 1), stride=(1, 1)\n",
            "          (static_padding): Identity()\n",
            "        )\n",
            "        (_se_expand): Conv2dStaticSamePadding(\n",
            "          8, 32, kernel_size=(1, 1), stride=(1, 1)\n",
            "          (static_padding): Identity()\n",
            "        )\n",
            "        (_project_conv): Conv2dStaticSamePadding(\n",
            "          32, 16, kernel_size=(1, 1), stride=(1, 1), bias=False\n",
            "          (static_padding): Identity()\n",
            "        )\n",
            "        (_bn2): BatchNorm2d(16, eps=0.001, momentum=0.010000000000000009, affine=True, track_running_stats=True)\n",
            "        (_swish): MemoryEfficientSwish()\n",
            "      )\n",
            "      (1): MBConvBlock(\n",
            "        (_expand_conv): Conv2dStaticSamePadding(\n",
            "          16, 96, kernel_size=(1, 1), stride=(1, 1), bias=False\n",
            "          (static_padding): Identity()\n",
            "        )\n",
            "        (_bn0): BatchNorm2d(96, eps=0.001, momentum=0.010000000000000009, affine=True, track_running_stats=True)\n",
            "        (_depthwise_conv): Conv2dStaticSamePadding(\n",
            "          96, 96, kernel_size=(3, 3), stride=[2, 2], groups=96, bias=False\n",
            "          (static_padding): ZeroPad2d((0, 1, 0, 1))\n",
            "        )\n",
            "        (_bn1): BatchNorm2d(96, eps=0.001, momentum=0.010000000000000009, affine=True, track_running_stats=True)\n",
            "        (_se_reduce): Conv2dStaticSamePadding(\n",
            "          96, 4, kernel_size=(1, 1), stride=(1, 1)\n",
            "          (static_padding): Identity()\n",
            "        )\n",
            "        (_se_expand): Conv2dStaticSamePadding(\n",
            "          4, 96, kernel_size=(1, 1), stride=(1, 1)\n",
            "          (static_padding): Identity()\n",
            "        )\n",
            "        (_project_conv): Conv2dStaticSamePadding(\n",
            "          96, 24, kernel_size=(1, 1), stride=(1, 1), bias=False\n",
            "          (static_padding): Identity()\n",
            "        )\n",
            "        (_bn2): BatchNorm2d(24, eps=0.001, momentum=0.010000000000000009, affine=True, track_running_stats=True)\n",
            "        (_swish): MemoryEfficientSwish()\n",
            "      )\n",
            "      (2): MBConvBlock(\n",
            "        (_expand_conv): Conv2dStaticSamePadding(\n",
            "          24, 144, kernel_size=(1, 1), stride=(1, 1), bias=False\n",
            "          (static_padding): Identity()\n",
            "        )\n",
            "        (_bn0): BatchNorm2d(144, eps=0.001, momentum=0.010000000000000009, affine=True, track_running_stats=True)\n",
            "        (_depthwise_conv): Conv2dStaticSamePadding(\n",
            "          144, 144, kernel_size=(3, 3), stride=(1, 1), groups=144, bias=False\n",
            "          (static_padding): ZeroPad2d((1, 1, 1, 1))\n",
            "        )\n",
            "        (_bn1): BatchNorm2d(144, eps=0.001, momentum=0.010000000000000009, affine=True, track_running_stats=True)\n",
            "        (_se_reduce): Conv2dStaticSamePadding(\n",
            "          144, 6, kernel_size=(1, 1), stride=(1, 1)\n",
            "          (static_padding): Identity()\n",
            "        )\n",
            "        (_se_expand): Conv2dStaticSamePadding(\n",
            "          6, 144, kernel_size=(1, 1), stride=(1, 1)\n",
            "          (static_padding): Identity()\n",
            "        )\n",
            "        (_project_conv): Conv2dStaticSamePadding(\n",
            "          144, 24, kernel_size=(1, 1), stride=(1, 1), bias=False\n",
            "          (static_padding): Identity()\n",
            "        )\n",
            "        (_bn2): BatchNorm2d(24, eps=0.001, momentum=0.010000000000000009, affine=True, track_running_stats=True)\n",
            "        (_swish): MemoryEfficientSwish()\n",
            "      )\n",
            "      (3): MBConvBlock(\n",
            "        (_expand_conv): Conv2dStaticSamePadding(\n",
            "          24, 144, kernel_size=(1, 1), stride=(1, 1), bias=False\n",
            "          (static_padding): Identity()\n",
            "        )\n",
            "        (_bn0): BatchNorm2d(144, eps=0.001, momentum=0.010000000000000009, affine=True, track_running_stats=True)\n",
            "        (_depthwise_conv): Conv2dStaticSamePadding(\n",
            "          144, 144, kernel_size=(5, 5), stride=[2, 2], groups=144, bias=False\n",
            "          (static_padding): ZeroPad2d((1, 2, 1, 2))\n",
            "        )\n",
            "        (_bn1): BatchNorm2d(144, eps=0.001, momentum=0.010000000000000009, affine=True, track_running_stats=True)\n",
            "        (_se_reduce): Conv2dStaticSamePadding(\n",
            "          144, 6, kernel_size=(1, 1), stride=(1, 1)\n",
            "          (static_padding): Identity()\n",
            "        )\n",
            "        (_se_expand): Conv2dStaticSamePadding(\n",
            "          6, 144, kernel_size=(1, 1), stride=(1, 1)\n",
            "          (static_padding): Identity()\n",
            "        )\n",
            "        (_project_conv): Conv2dStaticSamePadding(\n",
            "          144, 40, kernel_size=(1, 1), stride=(1, 1), bias=False\n",
            "          (static_padding): Identity()\n",
            "        )\n",
            "        (_bn2): BatchNorm2d(40, eps=0.001, momentum=0.010000000000000009, affine=True, track_running_stats=True)\n",
            "        (_swish): MemoryEfficientSwish()\n",
            "      )\n",
            "      (4): MBConvBlock(\n",
            "        (_expand_conv): Conv2dStaticSamePadding(\n",
            "          40, 240, kernel_size=(1, 1), stride=(1, 1), bias=False\n",
            "          (static_padding): Identity()\n",
            "        )\n",
            "        (_bn0): BatchNorm2d(240, eps=0.001, momentum=0.010000000000000009, affine=True, track_running_stats=True)\n",
            "        (_depthwise_conv): Conv2dStaticSamePadding(\n",
            "          240, 240, kernel_size=(5, 5), stride=(1, 1), groups=240, bias=False\n",
            "          (static_padding): ZeroPad2d((2, 2, 2, 2))\n",
            "        )\n",
            "        (_bn1): BatchNorm2d(240, eps=0.001, momentum=0.010000000000000009, affine=True, track_running_stats=True)\n",
            "        (_se_reduce): Conv2dStaticSamePadding(\n",
            "          240, 10, kernel_size=(1, 1), stride=(1, 1)\n",
            "          (static_padding): Identity()\n",
            "        )\n",
            "        (_se_expand): Conv2dStaticSamePadding(\n",
            "          10, 240, kernel_size=(1, 1), stride=(1, 1)\n",
            "          (static_padding): Identity()\n",
            "        )\n",
            "        (_project_conv): Conv2dStaticSamePadding(\n",
            "          240, 40, kernel_size=(1, 1), stride=(1, 1), bias=False\n",
            "          (static_padding): Identity()\n",
            "        )\n",
            "        (_bn2): BatchNorm2d(40, eps=0.001, momentum=0.010000000000000009, affine=True, track_running_stats=True)\n",
            "        (_swish): MemoryEfficientSwish()\n",
            "      )\n",
            "      (5): MBConvBlock(\n",
            "        (_expand_conv): Conv2dStaticSamePadding(\n",
            "          40, 240, kernel_size=(1, 1), stride=(1, 1), bias=False\n",
            "          (static_padding): Identity()\n",
            "        )\n",
            "        (_bn0): BatchNorm2d(240, eps=0.001, momentum=0.010000000000000009, affine=True, track_running_stats=True)\n",
            "        (_depthwise_conv): Conv2dStaticSamePadding(\n",
            "          240, 240, kernel_size=(3, 3), stride=[2, 2], groups=240, bias=False\n",
            "          (static_padding): ZeroPad2d((0, 1, 0, 1))\n",
            "        )\n",
            "        (_bn1): BatchNorm2d(240, eps=0.001, momentum=0.010000000000000009, affine=True, track_running_stats=True)\n",
            "        (_se_reduce): Conv2dStaticSamePadding(\n",
            "          240, 10, kernel_size=(1, 1), stride=(1, 1)\n",
            "          (static_padding): Identity()\n",
            "        )\n",
            "        (_se_expand): Conv2dStaticSamePadding(\n",
            "          10, 240, kernel_size=(1, 1), stride=(1, 1)\n",
            "          (static_padding): Identity()\n",
            "        )\n",
            "        (_project_conv): Conv2dStaticSamePadding(\n",
            "          240, 80, kernel_size=(1, 1), stride=(1, 1), bias=False\n",
            "          (static_padding): Identity()\n",
            "        )\n",
            "        (_bn2): BatchNorm2d(80, eps=0.001, momentum=0.010000000000000009, affine=True, track_running_stats=True)\n",
            "        (_swish): MemoryEfficientSwish()\n",
            "      )\n",
            "      (6-7): 2 x MBConvBlock(\n",
            "        (_expand_conv): Conv2dStaticSamePadding(\n",
            "          80, 480, kernel_size=(1, 1), stride=(1, 1), bias=False\n",
            "          (static_padding): Identity()\n",
            "        )\n",
            "        (_bn0): BatchNorm2d(480, eps=0.001, momentum=0.010000000000000009, affine=True, track_running_stats=True)\n",
            "        (_depthwise_conv): Conv2dStaticSamePadding(\n",
            "          480, 480, kernel_size=(3, 3), stride=(1, 1), groups=480, bias=False\n",
            "          (static_padding): ZeroPad2d((1, 1, 1, 1))\n",
            "        )\n",
            "        (_bn1): BatchNorm2d(480, eps=0.001, momentum=0.010000000000000009, affine=True, track_running_stats=True)\n",
            "        (_se_reduce): Conv2dStaticSamePadding(\n",
            "          480, 20, kernel_size=(1, 1), stride=(1, 1)\n",
            "          (static_padding): Identity()\n",
            "        )\n",
            "        (_se_expand): Conv2dStaticSamePadding(\n",
            "          20, 480, kernel_size=(1, 1), stride=(1, 1)\n",
            "          (static_padding): Identity()\n",
            "        )\n",
            "        (_project_conv): Conv2dStaticSamePadding(\n",
            "          480, 80, kernel_size=(1, 1), stride=(1, 1), bias=False\n",
            "          (static_padding): Identity()\n",
            "        )\n",
            "        (_bn2): BatchNorm2d(80, eps=0.001, momentum=0.010000000000000009, affine=True, track_running_stats=True)\n",
            "        (_swish): MemoryEfficientSwish()\n",
            "      )\n",
            "      (8): MBConvBlock(\n",
            "        (_expand_conv): Conv2dStaticSamePadding(\n",
            "          80, 480, kernel_size=(1, 1), stride=(1, 1), bias=False\n",
            "          (static_padding): Identity()\n",
            "        )\n",
            "        (_bn0): BatchNorm2d(480, eps=0.001, momentum=0.010000000000000009, affine=True, track_running_stats=True)\n",
            "        (_depthwise_conv): Conv2dStaticSamePadding(\n",
            "          480, 480, kernel_size=(5, 5), stride=[1, 1], groups=480, bias=False\n",
            "          (static_padding): ZeroPad2d((2, 2, 2, 2))\n",
            "        )\n",
            "        (_bn1): BatchNorm2d(480, eps=0.001, momentum=0.010000000000000009, affine=True, track_running_stats=True)\n",
            "        (_se_reduce): Conv2dStaticSamePadding(\n",
            "          480, 20, kernel_size=(1, 1), stride=(1, 1)\n",
            "          (static_padding): Identity()\n",
            "        )\n",
            "        (_se_expand): Conv2dStaticSamePadding(\n",
            "          20, 480, kernel_size=(1, 1), stride=(1, 1)\n",
            "          (static_padding): Identity()\n",
            "        )\n",
            "        (_project_conv): Conv2dStaticSamePadding(\n",
            "          480, 112, kernel_size=(1, 1), stride=(1, 1), bias=False\n",
            "          (static_padding): Identity()\n",
            "        )\n",
            "        (_bn2): BatchNorm2d(112, eps=0.001, momentum=0.010000000000000009, affine=True, track_running_stats=True)\n",
            "        (_swish): MemoryEfficientSwish()\n",
            "      )\n",
            "      (9-10): 2 x MBConvBlock(\n",
            "        (_expand_conv): Conv2dStaticSamePadding(\n",
            "          112, 672, kernel_size=(1, 1), stride=(1, 1), bias=False\n",
            "          (static_padding): Identity()\n",
            "        )\n",
            "        (_bn0): BatchNorm2d(672, eps=0.001, momentum=0.010000000000000009, affine=True, track_running_stats=True)\n",
            "        (_depthwise_conv): Conv2dStaticSamePadding(\n",
            "          672, 672, kernel_size=(5, 5), stride=(1, 1), groups=672, bias=False\n",
            "          (static_padding): ZeroPad2d((2, 2, 2, 2))\n",
            "        )\n",
            "        (_bn1): BatchNorm2d(672, eps=0.001, momentum=0.010000000000000009, affine=True, track_running_stats=True)\n",
            "        (_se_reduce): Conv2dStaticSamePadding(\n",
            "          672, 28, kernel_size=(1, 1), stride=(1, 1)\n",
            "          (static_padding): Identity()\n",
            "        )\n",
            "        (_se_expand): Conv2dStaticSamePadding(\n",
            "          28, 672, kernel_size=(1, 1), stride=(1, 1)\n",
            "          (static_padding): Identity()\n",
            "        )\n",
            "        (_project_conv): Conv2dStaticSamePadding(\n",
            "          672, 112, kernel_size=(1, 1), stride=(1, 1), bias=False\n",
            "          (static_padding): Identity()\n",
            "        )\n",
            "        (_bn2): BatchNorm2d(112, eps=0.001, momentum=0.010000000000000009, affine=True, track_running_stats=True)\n",
            "        (_swish): MemoryEfficientSwish()\n",
            "      )\n",
            "      (11): MBConvBlock(\n",
            "        (_expand_conv): Conv2dStaticSamePadding(\n",
            "          112, 672, kernel_size=(1, 1), stride=(1, 1), bias=False\n",
            "          (static_padding): Identity()\n",
            "        )\n",
            "        (_bn0): BatchNorm2d(672, eps=0.001, momentum=0.010000000000000009, affine=True, track_running_stats=True)\n",
            "        (_depthwise_conv): Conv2dStaticSamePadding(\n",
            "          672, 672, kernel_size=(5, 5), stride=[2, 2], groups=672, bias=False\n",
            "          (static_padding): ZeroPad2d((1, 2, 1, 2))\n",
            "        )\n",
            "        (_bn1): BatchNorm2d(672, eps=0.001, momentum=0.010000000000000009, affine=True, track_running_stats=True)\n",
            "        (_se_reduce): Conv2dStaticSamePadding(\n",
            "          672, 28, kernel_size=(1, 1), stride=(1, 1)\n",
            "          (static_padding): Identity()\n",
            "        )\n",
            "        (_se_expand): Conv2dStaticSamePadding(\n",
            "          28, 672, kernel_size=(1, 1), stride=(1, 1)\n",
            "          (static_padding): Identity()\n",
            "        )\n",
            "        (_project_conv): Conv2dStaticSamePadding(\n",
            "          672, 192, kernel_size=(1, 1), stride=(1, 1), bias=False\n",
            "          (static_padding): Identity()\n",
            "        )\n",
            "        (_bn2): BatchNorm2d(192, eps=0.001, momentum=0.010000000000000009, affine=True, track_running_stats=True)\n",
            "        (_swish): MemoryEfficientSwish()\n",
            "      )\n",
            "      (12-14): 3 x MBConvBlock(\n",
            "        (_expand_conv): Conv2dStaticSamePadding(\n",
            "          192, 1152, kernel_size=(1, 1), stride=(1, 1), bias=False\n",
            "          (static_padding): Identity()\n",
            "        )\n",
            "        (_bn0): BatchNorm2d(1152, eps=0.001, momentum=0.010000000000000009, affine=True, track_running_stats=True)\n",
            "        (_depthwise_conv): Conv2dStaticSamePadding(\n",
            "          1152, 1152, kernel_size=(5, 5), stride=(1, 1), groups=1152, bias=False\n",
            "          (static_padding): ZeroPad2d((2, 2, 2, 2))\n",
            "        )\n",
            "        (_bn1): BatchNorm2d(1152, eps=0.001, momentum=0.010000000000000009, affine=True, track_running_stats=True)\n",
            "        (_se_reduce): Conv2dStaticSamePadding(\n",
            "          1152, 48, kernel_size=(1, 1), stride=(1, 1)\n",
            "          (static_padding): Identity()\n",
            "        )\n",
            "        (_se_expand): Conv2dStaticSamePadding(\n",
            "          48, 1152, kernel_size=(1, 1), stride=(1, 1)\n",
            "          (static_padding): Identity()\n",
            "        )\n",
            "        (_project_conv): Conv2dStaticSamePadding(\n",
            "          1152, 192, kernel_size=(1, 1), stride=(1, 1), bias=False\n",
            "          (static_padding): Identity()\n",
            "        )\n",
            "        (_bn2): BatchNorm2d(192, eps=0.001, momentum=0.010000000000000009, affine=True, track_running_stats=True)\n",
            "        (_swish): MemoryEfficientSwish()\n",
            "      )\n",
            "      (15): MBConvBlock(\n",
            "        (_expand_conv): Conv2dStaticSamePadding(\n",
            "          192, 1152, kernel_size=(1, 1), stride=(1, 1), bias=False\n",
            "          (static_padding): Identity()\n",
            "        )\n",
            "        (_bn0): BatchNorm2d(1152, eps=0.001, momentum=0.010000000000000009, affine=True, track_running_stats=True)\n",
            "        (_depthwise_conv): Conv2dStaticSamePadding(\n",
            "          1152, 1152, kernel_size=(3, 3), stride=[1, 1], groups=1152, bias=False\n",
            "          (static_padding): ZeroPad2d((1, 1, 1, 1))\n",
            "        )\n",
            "        (_bn1): BatchNorm2d(1152, eps=0.001, momentum=0.010000000000000009, affine=True, track_running_stats=True)\n",
            "        (_se_reduce): Conv2dStaticSamePadding(\n",
            "          1152, 48, kernel_size=(1, 1), stride=(1, 1)\n",
            "          (static_padding): Identity()\n",
            "        )\n",
            "        (_se_expand): Conv2dStaticSamePadding(\n",
            "          48, 1152, kernel_size=(1, 1), stride=(1, 1)\n",
            "          (static_padding): Identity()\n",
            "        )\n",
            "        (_project_conv): Conv2dStaticSamePadding(\n",
            "          1152, 320, kernel_size=(1, 1), stride=(1, 1), bias=False\n",
            "          (static_padding): Identity()\n",
            "        )\n",
            "        (_bn2): BatchNorm2d(320, eps=0.001, momentum=0.010000000000000009, affine=True, track_running_stats=True)\n",
            "        (_swish): MemoryEfficientSwish()\n",
            "      )\n",
            "    )\n",
            "    (_conv_head): Conv2dStaticSamePadding(\n",
            "      320, 1280, kernel_size=(1, 1), stride=(1, 1), bias=False\n",
            "      (static_padding): Identity()\n",
            "    )\n",
            "    (_bn1): BatchNorm2d(1280, eps=0.001, momentum=0.010000000000000009, affine=True, track_running_stats=True)\n",
            "    (_avg_pooling): AdaptiveAvgPool2d(output_size=1)\n",
            "    (_dropout): Sequential(\n",
            "      (0): BatchNorm1d(1280, eps=1e-05, momentum=0.1, affine=True, track_running_stats=True)\n",
            "      (1): Dropout(p=0.2, inplace=True)\n",
            "    )\n",
            "    (_fc): Linear(in_features=1280, out_features=120, bias=True)\n",
            "    (_swish): Identity()\n",
            "  )\n",
            ")\n"
          ]
        }
      ],
      "source": [
        "print(efficientnet_model)"
      ]
    },
    {
      "cell_type": "markdown",
      "id": "5uRNzqmzxvIa",
      "metadata": {
        "id": "5uRNzqmzxvIa"
      },
      "source": [
        "## Setting the loss function and optimizer"
      ]
    },
    {
      "cell_type": "code",
      "execution_count": 16,
      "id": "4gOIeZZ5XlTE",
      "metadata": {
        "id": "4gOIeZZ5XlTE"
      },
      "outputs": [],
      "source": [
        "_optimizer = optim.Adam(params = efficientnet_model.parameters(), lr = LEARNING_RATE)\n",
        "_criterion = nn.CrossEntropyLoss()"
      ]
    },
    {
      "cell_type": "markdown",
      "id": "9uh2mqgHXDhK",
      "metadata": {
        "id": "9uh2mqgHXDhK"
      },
      "source": [
        "## Training Loop"
      ]
    },
    {
      "cell_type": "code",
      "execution_count": 17,
      "id": "n2Fug4GKhcpl",
      "metadata": {
        "colab": {
          "base_uri": "https://localhost:8080/"
        },
        "id": "n2Fug4GKhcpl",
        "outputId": "34eed6de-5cec-4b14-940d-0be4a264e717"
      },
      "outputs": [
        {
          "name": "stderr",
          "output_type": "stream",
          "text": [
            "100%|██████████| 188/188 [01:52<00:00,  1.67it/s]\n"
          ]
        },
        {
          "name": "stdout",
          "output_type": "stream",
          "text": [
            "Epoch 1: , train accuracy: 0.3986037075519562, train loss: 2.480304993847583, test_accuracy: 0.5865354537963867, test_loss: 1.5036077274216546\n"
          ]
        },
        {
          "name": "stderr",
          "output_type": "stream",
          "text": [
            "100%|██████████| 188/188 [01:48<00:00,  1.73it/s]\n"
          ]
        },
        {
          "name": "stdout",
          "output_type": "stream",
          "text": [
            "Epoch 2: , train accuracy: 0.7015458345413208, train loss: 1.0430532069282328, test_accuracy: 0.6066743731498718, test_loss: 1.4346429802753307\n"
          ]
        },
        {
          "name": "stderr",
          "output_type": "stream",
          "text": [
            "100%|██████████| 188/188 [01:47<00:00,  1.74it/s]\n"
          ]
        },
        {
          "name": "stdout",
          "output_type": "stream",
          "text": [
            "Epoch 3: , train accuracy: 0.7598071694374084, train loss: 0.8219104559814676, test_accuracy: 0.6162808537483215, test_loss: 1.4690369323447898\n"
          ]
        },
        {
          "name": "stderr",
          "output_type": "stream",
          "text": [
            "100%|██████████| 188/188 [01:47<00:00,  1.75it/s]\n"
          ]
        },
        {
          "name": "stdout",
          "output_type": "stream",
          "text": [
            "Epoch 4: , train accuracy: 0.7914727330207825, train loss: 0.6992977467623163, test_accuracy: 0.6074845194816589, test_loss: 1.5301940229203965\n"
          ]
        },
        {
          "name": "stderr",
          "output_type": "stream",
          "text": [
            "100%|██████████| 188/188 [01:47<00:00,  1.76it/s]\n"
          ]
        },
        {
          "name": "stdout",
          "output_type": "stream",
          "text": [
            "Epoch 5: , train accuracy: 0.814245343208313, train loss: 0.6186631345685493, test_accuracy: 0.6076002717018127, test_loss: 1.6160850959795492\n"
          ]
        },
        {
          "name": "stderr",
          "output_type": "stream",
          "text": [
            "100%|██████████| 188/188 [01:47<00:00,  1.75it/s]\n"
          ]
        },
        {
          "name": "stdout",
          "output_type": "stream",
          "text": [
            "Epoch 6: , train accuracy: 0.8260471820831299, train loss: 0.5661960201377564, test_accuracy: 0.6084104776382446, test_loss: 1.649569895532396\n"
          ]
        },
        {
          "name": "stderr",
          "output_type": "stream",
          "text": [
            "100%|██████████| 188/188 [01:48<00:00,  1.74it/s]\n"
          ]
        },
        {
          "name": "stdout",
          "output_type": "stream",
          "text": [
            "Epoch 7: , train accuracy: 0.8457446694374084, train loss: 0.5085583215064191, test_accuracy: 0.599614143371582, test_loss: 1.7494077892215163\n"
          ]
        },
        {
          "name": "stderr",
          "output_type": "stream",
          "text": [
            "100%|██████████| 188/188 [01:47<00:00,  1.74it/s]\n"
          ]
        },
        {
          "name": "stdout",
          "output_type": "stream",
          "text": [
            "Epoch 8: , train accuracy: 0.8478224277496338, train loss: 0.4875461735782471, test_accuracy: 0.6002314686775208, test_loss: 1.8101855441376016\n"
          ]
        },
        {
          "name": "stderr",
          "output_type": "stream",
          "text": [
            "100%|██████████| 188/188 [01:48<00:00,  1.74it/s]\n"
          ]
        },
        {
          "name": "stdout",
          "output_type": "stream",
          "text": [
            "Epoch 9: , train accuracy: 0.8572971820831299, train loss: 0.45662253936554525, test_accuracy: 0.6027777791023254, test_loss: 1.8517767177687752\n"
          ]
        },
        {
          "name": "stderr",
          "output_type": "stream",
          "text": [
            "100%|██████████| 188/188 [01:47<00:00,  1.74it/s]\n"
          ]
        },
        {
          "name": "stdout",
          "output_type": "stream",
          "text": [
            "Epoch 10: , train accuracy: 0.8636967539787292, train loss: 0.4345610129864926, test_accuracy: 0.6012345552444458, test_loss: 1.9074832028812831\n"
          ]
        },
        {
          "name": "stderr",
          "output_type": "stream",
          "text": [
            "100%|██████████| 188/188 [01:48<00:00,  1.74it/s]\n"
          ]
        },
        {
          "name": "stdout",
          "output_type": "stream",
          "text": [
            "Epoch 11: , train accuracy: 0.8666887879371643, train loss: 0.41599088843832627, test_accuracy: 0.5978780388832092, test_loss: 1.9852554153513025\n"
          ]
        },
        {
          "name": "stderr",
          "output_type": "stream",
          "text": [
            "100%|██████████| 188/188 [01:47<00:00,  1.75it/s]\n"
          ]
        },
        {
          "name": "stdout",
          "output_type": "stream",
          "text": [
            "Epoch 12: , train accuracy: 0.8676030039787292, train loss: 0.39764464717913184, test_accuracy: 0.5966048836708069, test_loss: 2.0322459245169604\n"
          ]
        },
        {
          "name": "stderr",
          "output_type": "stream",
          "text": [
            "100%|██████████| 188/188 [01:46<00:00,  1.76it/s]\n"
          ]
        },
        {
          "name": "stdout",
          "output_type": "stream",
          "text": [
            "Epoch 13: , train accuracy: 0.8809840083122253, train loss: 0.3699115828630772, test_accuracy: 0.595678985118866, test_loss: 2.070581743452284\n"
          ]
        },
        {
          "name": "stderr",
          "output_type": "stream",
          "text": [
            "100%|██████████| 188/188 [01:49<00:00,  1.72it/s]\n"
          ]
        },
        {
          "name": "stdout",
          "output_type": "stream",
          "text": [
            "Epoch 14: , train accuracy: 0.8846409320831299, train loss: 0.36106712902162935, test_accuracy: 0.5905863642692566, test_loss: 2.155991448296441\n"
          ]
        },
        {
          "name": "stderr",
          "output_type": "stream",
          "text": [
            "100%|██████████| 188/188 [01:47<00:00,  1.75it/s]\n"
          ]
        },
        {
          "name": "stdout",
          "output_type": "stream",
          "text": [
            "Epoch 15: , train accuracy: 0.8873836398124695, train loss: 0.3571955558863726, test_accuracy: 0.5903549194335938, test_loss: 2.2285730997721354\n"
          ]
        },
        {
          "name": "stderr",
          "output_type": "stream",
          "text": [
            "100%|██████████| 188/188 [01:47<00:00,  1.75it/s]\n"
          ]
        },
        {
          "name": "stdout",
          "output_type": "stream",
          "text": [
            "Epoch 16: , train accuracy: 0.8889627456665039, train loss: 0.34479894029333236, test_accuracy: 0.5897762179374695, test_loss: 2.2429686992256728\n"
          ]
        },
        {
          "name": "stderr",
          "output_type": "stream",
          "text": [
            "100%|██████████| 188/188 [01:48<00:00,  1.73it/s]\n"
          ]
        },
        {
          "name": "stdout",
          "output_type": "stream",
          "text": [
            "Epoch 17: , train accuracy: 0.8907911777496338, train loss: 0.3344802796602883, test_accuracy: 0.5901234149932861, test_loss: 2.2926176397888747\n"
          ]
        },
        {
          "name": "stderr",
          "output_type": "stream",
          "text": [
            "100%|██████████| 188/188 [01:48<00:00,  1.74it/s]\n"
          ]
        },
        {
          "name": "stdout",
          "output_type": "stream",
          "text": [
            "Epoch 18: , train accuracy: 0.8927027583122253, train loss: 0.32305624070478245, test_accuracy: 0.5932870507240295, test_loss: 2.3305397625322697\n"
          ]
        },
        {
          "name": "stderr",
          "output_type": "stream",
          "text": [
            "100%|██████████| 188/188 [01:47<00:00,  1.74it/s]\n"
          ]
        },
        {
          "name": "stdout",
          "output_type": "stream",
          "text": [
            "Epoch 19: , train accuracy: 0.897606372833252, train loss: 0.31496623372460936, test_accuracy: 0.5939428806304932, test_loss: 2.3800311821478384\n"
          ]
        },
        {
          "name": "stderr",
          "output_type": "stream",
          "text": [
            "100%|██████████| 188/188 [01:48<00:00,  1.73it/s]\n"
          ]
        },
        {
          "name": "stdout",
          "output_type": "stream",
          "text": [
            "Epoch 20: , train accuracy: 0.900182843208313, train loss: 0.30523595194074704, test_accuracy: 0.589313268661499, test_loss: 2.4146900362438624\n"
          ]
        },
        {
          "name": "stderr",
          "output_type": "stream",
          "text": [
            "100%|██████████| 188/188 [01:48<00:00,  1.73it/s]\n"
          ]
        },
        {
          "name": "stdout",
          "output_type": "stream",
          "text": [
            "Epoch 21: , train accuracy: 0.8961934447288513, train loss: 0.3105987289801557, test_accuracy: 0.5946758985519409, test_loss: 2.4276942168120983\n"
          ]
        },
        {
          "name": "stderr",
          "output_type": "stream",
          "text": [
            "100%|██████████| 188/188 [01:48<00:00,  1.73it/s]\n"
          ]
        },
        {
          "name": "stdout",
          "output_type": "stream",
          "text": [
            "Epoch 22: , train accuracy: 0.9007645845413208, train loss: 0.3089819483934565, test_accuracy: 0.5918595194816589, test_loss: 2.506521001568547\n"
          ]
        },
        {
          "name": "stderr",
          "output_type": "stream",
          "text": [
            "100%|██████████| 188/188 [01:47<00:00,  1.75it/s]\n"
          ]
        },
        {
          "name": "stdout",
          "output_type": "stream",
          "text": [
            "Epoch 23: , train accuracy: 0.9038397073745728, train loss: 0.28949543960551, test_accuracy: 0.5901234149932861, test_loss: 2.5511877550019157\n"
          ]
        },
        {
          "name": "stderr",
          "output_type": "stream",
          "text": [
            "100%|██████████| 188/188 [01:47<00:00,  1.75it/s]\n"
          ]
        },
        {
          "name": "stdout",
          "output_type": "stream",
          "text": [
            "Epoch 24: , train accuracy: 0.9060006141662598, train loss: 0.2816934517010095, test_accuracy: 0.5880401134490967, test_loss: 2.5840593108424432\n"
          ]
        },
        {
          "name": "stderr",
          "output_type": "stream",
          "text": [
            "100%|██████████| 188/188 [01:46<00:00,  1.77it/s]\n"
          ]
        },
        {
          "name": "stdout",
          "output_type": "stream",
          "text": [
            "Epoch 25: , train accuracy: 0.9069979786872864, train loss: 0.2912866368572763, test_accuracy: 0.5845678448677063, test_loss: 2.592592206707707\n"
          ]
        }
      ],
      "source": [
        "# Training loop\n",
        "train_loss_list_ft = []\n",
        "test_loss_list_ft = []\n",
        "train_acc_list_ft = []\n",
        "test_acc_list_ft = []\n",
        "\n",
        "NUM_EPOCHS_ft = 25\n",
        "efficientnet_model.train()\n",
        "for epoch in range(NUM_EPOCHS_ft):\n",
        "    losses = 0\n",
        "    epoch_loss = 0.0\n",
        "    epoch_accuracy = 0.0\n",
        "\n",
        "    for images, labels in tqdm(train_loader):\n",
        "        # push images and labels to device to get CPU support\n",
        "        images = images.to(device)\n",
        "        labels = labels.to(device)\n",
        "        predic_labels = efficientnet_model(images).to(device)\n",
        "        # Zero the gradients\n",
        "        _optimizer.zero_grad()\n",
        "        # Forward pass\n",
        "        loss = _criterion(predic_labels, labels)\n",
        "        # Backward pass and optimization\n",
        "        loss.backward()\n",
        "        _optimizer.step()\n",
        "        losses += loss.item()\n",
        "\n",
        "        epoch_accuracy += ((predic_labels.argmax(dim=1) == labels.argmax(dim=1)).float().mean())\n",
        "    epoch_loss = losses / len(train_loader)\n",
        "\n",
        "    # Test the model\n",
        "    efficientnet_model.eval()\n",
        "    with torch.no_grad():\n",
        "      test_losses = 0\n",
        "      epoch_test_accuracy = 0.0\n",
        "      epoch_test_loss = 0.0\n",
        "\n",
        "      for data,label in test_loader:\n",
        "        data = data.to(device)\n",
        "        label = label.to(device)\n",
        "        predic_testlabel = efficientnet_model(data).to(device)\n",
        "        test_loss = _criterion(predic_testlabel, label)\n",
        "        test_losses += test_loss.item()\n",
        "\n",
        "        epoch_test_accuracy += ((predic_testlabel.argmax(dim=1) == label.argmax(dim=1)).float().mean())\n",
        "    epoch_test_loss += test_losses/len(test_loader)\n",
        "    ## loss data for Plot\n",
        "    train_loss_list_ft.append(epoch_loss)\n",
        "    test_loss_list_ft.append(epoch_test_loss)\n",
        "    train_acc_list_ft.append(epoch_accuracy)\n",
        "    test_acc_list_ft.append(epoch_test_accuracy)\n",
        "\n",
        "    print('Epoch {}: , train accuracy: {}, train loss: {}, test_accuracy: {}, test_loss: {}'.format(epoch+1, epoch_accuracy / len(train_loader), epoch_loss, epoch_test_accuracy / len(test_loader), epoch_test_loss))\n"
      ]
    },
    {
      "cell_type": "markdown",
      "id": "oQZgxrPKS0Ef",
      "metadata": {
        "id": "oQZgxrPKS0Ef"
      },
      "source": [
        "## Plot Loss of train and test data\n",
        "Note: The test accuracy and loss will usually be better than training accuracy. This is because the regularization is strong, which only suppresses training-time metrics.\n"
      ]
    },
    {
      "cell_type": "code",
      "execution_count": 18,
      "id": "dFoEg1Tzh5iw",
      "metadata": {
        "colab": {
          "base_uri": "https://localhost:8080/",
          "height": 487
        },
        "id": "dFoEg1Tzh5iw",
        "outputId": "c0193d3b-6f75-41f0-ac6e-4bbfbaf2dc4c"
      },
      "outputs": [
        {
          "data": {
            "image/png": "[encoded data removed]",
            "text/plain": [
              "<Figure size 1000x500 with 1 Axes>"
            ]
          },
          "metadata": {},
          "output_type": "display_data"
        }
      ],
      "source": [
        "plt.figure(figsize=(10,5))\n",
        "plt.title(\"Training and test Loss\")\n",
        "plt.plot(test_loss_list_ft, label=\"Test\")\n",
        "plt.plot(train_loss_list_ft, label=\"Train\")\n",
        "plt.xlabel(\"Epoch\")\n",
        "plt.ylabel(\"Loss\")\n",
        "plt.legend()\n",
        "plt.show()"
      ]
    },
    {
      "cell_type": "code",
      "execution_count": null,
      "id": "HDo7Blq0XMG0",
      "metadata": {
        "id": "HDo7Blq0XMG0"
      },
      "outputs": [],
      "source": []
    }
  ],
  "metadata": {
    "accelerator": "GPU",
    "colab": {
      "gpuType": "T4",
      "provenance": []
    },
    "kernelspec": {
      "display_name": "Python 3",
      "name": "python3"
    },
    "language_info": {
      "codemirror_mode": {
        "name": "ipython",
        "version": 3
      },
      "file_extension": ".py",
      "mimetype": "text/x-python",
      "name": "python",
      "nbconvert_exporter": "python",
      "pygments_lexer": "ipython3",
      "version": "3.10.12"
    }
  },
  "nbformat": 4,
  "nbformat_minor": 5
}
